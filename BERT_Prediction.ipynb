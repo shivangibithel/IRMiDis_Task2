{
  "nbformat": 4,
  "nbformat_minor": 0,
  "metadata": {
    "colab": {
      "name": "BERT.ipynb",
      "provenance": [],
      "collapsed_sections": [],
      "include_colab_link": true
    },
    "kernelspec": {
      "name": "python3",
      "display_name": "Python 3"
    },
    "accelerator": "GPU",
    "widgets": {
      "application/vnd.jupyter.widget-state+json": {
        "5360080619a54288b1c944bdeff63ed8": {
          "model_module": "@jupyter-widgets/controls",
          "model_name": "HBoxModel",
          "state": {
            "_view_name": "HBoxView",
            "_dom_classes": [],
            "_model_name": "HBoxModel",
            "_view_module": "@jupyter-widgets/controls",
            "_model_module_version": "1.5.0",
            "_view_count": null,
            "_view_module_version": "1.5.0",
            "box_style": "",
            "layout": "IPY_MODEL_12cba3acb72c4241932490311a3db9b7",
            "_model_module": "@jupyter-widgets/controls",
            "children": [
              "IPY_MODEL_545f8142e13a416797d7bc4447eec9b3",
              "IPY_MODEL_240e3928c7b0429b840bb295344096d8"
            ]
          }
        },
        "12cba3acb72c4241932490311a3db9b7": {
          "model_module": "@jupyter-widgets/base",
          "model_name": "LayoutModel",
          "state": {
            "_view_name": "LayoutView",
            "grid_template_rows": null,
            "right": null,
            "justify_content": null,
            "_view_module": "@jupyter-widgets/base",
            "overflow": null,
            "_model_module_version": "1.2.0",
            "_view_count": null,
            "flex_flow": null,
            "width": null,
            "min_width": null,
            "border": null,
            "align_items": null,
            "bottom": null,
            "_model_module": "@jupyter-widgets/base",
            "top": null,
            "grid_column": null,
            "overflow_y": null,
            "overflow_x": null,
            "grid_auto_flow": null,
            "grid_area": null,
            "grid_template_columns": null,
            "flex": null,
            "_model_name": "LayoutModel",
            "justify_items": null,
            "grid_row": null,
            "max_height": null,
            "align_content": null,
            "visibility": null,
            "align_self": null,
            "height": null,
            "min_height": null,
            "padding": null,
            "grid_auto_rows": null,
            "grid_gap": null,
            "max_width": null,
            "order": null,
            "_view_module_version": "1.2.0",
            "grid_template_areas": null,
            "object_position": null,
            "object_fit": null,
            "grid_auto_columns": null,
            "margin": null,
            "display": null,
            "left": null
          }
        },
        "545f8142e13a416797d7bc4447eec9b3": {
          "model_module": "@jupyter-widgets/controls",
          "model_name": "FloatProgressModel",
          "state": {
            "_view_name": "ProgressView",
            "style": "IPY_MODEL_ef8bb469b2bd41e0a0542e13511cb41d",
            "_dom_classes": [],
            "description": "Downloading: 100%",
            "_model_name": "FloatProgressModel",
            "bar_style": "success",
            "max": 231508,
            "_view_module": "@jupyter-widgets/controls",
            "_model_module_version": "1.5.0",
            "value": 231508,
            "_view_count": null,
            "_view_module_version": "1.5.0",
            "orientation": "horizontal",
            "min": 0,
            "description_tooltip": null,
            "_model_module": "@jupyter-widgets/controls",
            "layout": "IPY_MODEL_05594b7d82d74adcbd29779e61456fdc"
          }
        },
        "240e3928c7b0429b840bb295344096d8": {
          "model_module": "@jupyter-widgets/controls",
          "model_name": "HTMLModel",
          "state": {
            "_view_name": "HTMLView",
            "style": "IPY_MODEL_047433edb2294ed6a5d09485461dafaf",
            "_dom_classes": [],
            "description": "",
            "_model_name": "HTMLModel",
            "placeholder": "​",
            "_view_module": "@jupyter-widgets/controls",
            "_model_module_version": "1.5.0",
            "value": " 232k/232k [00:00&lt;00:00, 1.80MB/s]",
            "_view_count": null,
            "_view_module_version": "1.5.0",
            "description_tooltip": null,
            "_model_module": "@jupyter-widgets/controls",
            "layout": "IPY_MODEL_8199b5e19de740aaaf0914965592da67"
          }
        },
        "ef8bb469b2bd41e0a0542e13511cb41d": {
          "model_module": "@jupyter-widgets/controls",
          "model_name": "ProgressStyleModel",
          "state": {
            "_view_name": "StyleView",
            "_model_name": "ProgressStyleModel",
            "description_width": "initial",
            "_view_module": "@jupyter-widgets/base",
            "_model_module_version": "1.5.0",
            "_view_count": null,
            "_view_module_version": "1.2.0",
            "bar_color": null,
            "_model_module": "@jupyter-widgets/controls"
          }
        },
        "05594b7d82d74adcbd29779e61456fdc": {
          "model_module": "@jupyter-widgets/base",
          "model_name": "LayoutModel",
          "state": {
            "_view_name": "LayoutView",
            "grid_template_rows": null,
            "right": null,
            "justify_content": null,
            "_view_module": "@jupyter-widgets/base",
            "overflow": null,
            "_model_module_version": "1.2.0",
            "_view_count": null,
            "flex_flow": null,
            "width": null,
            "min_width": null,
            "border": null,
            "align_items": null,
            "bottom": null,
            "_model_module": "@jupyter-widgets/base",
            "top": null,
            "grid_column": null,
            "overflow_y": null,
            "overflow_x": null,
            "grid_auto_flow": null,
            "grid_area": null,
            "grid_template_columns": null,
            "flex": null,
            "_model_name": "LayoutModel",
            "justify_items": null,
            "grid_row": null,
            "max_height": null,
            "align_content": null,
            "visibility": null,
            "align_self": null,
            "height": null,
            "min_height": null,
            "padding": null,
            "grid_auto_rows": null,
            "grid_gap": null,
            "max_width": null,
            "order": null,
            "_view_module_version": "1.2.0",
            "grid_template_areas": null,
            "object_position": null,
            "object_fit": null,
            "grid_auto_columns": null,
            "margin": null,
            "display": null,
            "left": null
          }
        },
        "047433edb2294ed6a5d09485461dafaf": {
          "model_module": "@jupyter-widgets/controls",
          "model_name": "DescriptionStyleModel",
          "state": {
            "_view_name": "StyleView",
            "_model_name": "DescriptionStyleModel",
            "description_width": "",
            "_view_module": "@jupyter-widgets/base",
            "_model_module_version": "1.5.0",
            "_view_count": null,
            "_view_module_version": "1.2.0",
            "_model_module": "@jupyter-widgets/controls"
          }
        },
        "8199b5e19de740aaaf0914965592da67": {
          "model_module": "@jupyter-widgets/base",
          "model_name": "LayoutModel",
          "state": {
            "_view_name": "LayoutView",
            "grid_template_rows": null,
            "right": null,
            "justify_content": null,
            "_view_module": "@jupyter-widgets/base",
            "overflow": null,
            "_model_module_version": "1.2.0",
            "_view_count": null,
            "flex_flow": null,
            "width": null,
            "min_width": null,
            "border": null,
            "align_items": null,
            "bottom": null,
            "_model_module": "@jupyter-widgets/base",
            "top": null,
            "grid_column": null,
            "overflow_y": null,
            "overflow_x": null,
            "grid_auto_flow": null,
            "grid_area": null,
            "grid_template_columns": null,
            "flex": null,
            "_model_name": "LayoutModel",
            "justify_items": null,
            "grid_row": null,
            "max_height": null,
            "align_content": null,
            "visibility": null,
            "align_self": null,
            "height": null,
            "min_height": null,
            "padding": null,
            "grid_auto_rows": null,
            "grid_gap": null,
            "max_width": null,
            "order": null,
            "_view_module_version": "1.2.0",
            "grid_template_areas": null,
            "object_position": null,
            "object_fit": null,
            "grid_auto_columns": null,
            "margin": null,
            "display": null,
            "left": null
          }
        },
        "5b36de7b57514e6d856b0c28e9fdda89": {
          "model_module": "@jupyter-widgets/controls",
          "model_name": "HBoxModel",
          "state": {
            "_view_name": "HBoxView",
            "_dom_classes": [],
            "_model_name": "HBoxModel",
            "_view_module": "@jupyter-widgets/controls",
            "_model_module_version": "1.5.0",
            "_view_count": null,
            "_view_module_version": "1.5.0",
            "box_style": "",
            "layout": "IPY_MODEL_39f380c5ce5d4b28b7ee38f8443de392",
            "_model_module": "@jupyter-widgets/controls",
            "children": [
              "IPY_MODEL_9654d2e9944441cb8f47c4cef976a56d",
              "IPY_MODEL_f761fda51efb470d86985f2c9a6a615b"
            ]
          }
        },
        "39f380c5ce5d4b28b7ee38f8443de392": {
          "model_module": "@jupyter-widgets/base",
          "model_name": "LayoutModel",
          "state": {
            "_view_name": "LayoutView",
            "grid_template_rows": null,
            "right": null,
            "justify_content": null,
            "_view_module": "@jupyter-widgets/base",
            "overflow": null,
            "_model_module_version": "1.2.0",
            "_view_count": null,
            "flex_flow": null,
            "width": null,
            "min_width": null,
            "border": null,
            "align_items": null,
            "bottom": null,
            "_model_module": "@jupyter-widgets/base",
            "top": null,
            "grid_column": null,
            "overflow_y": null,
            "overflow_x": null,
            "grid_auto_flow": null,
            "grid_area": null,
            "grid_template_columns": null,
            "flex": null,
            "_model_name": "LayoutModel",
            "justify_items": null,
            "grid_row": null,
            "max_height": null,
            "align_content": null,
            "visibility": null,
            "align_self": null,
            "height": null,
            "min_height": null,
            "padding": null,
            "grid_auto_rows": null,
            "grid_gap": null,
            "max_width": null,
            "order": null,
            "_view_module_version": "1.2.0",
            "grid_template_areas": null,
            "object_position": null,
            "object_fit": null,
            "grid_auto_columns": null,
            "margin": null,
            "display": null,
            "left": null
          }
        },
        "9654d2e9944441cb8f47c4cef976a56d": {
          "model_module": "@jupyter-widgets/controls",
          "model_name": "FloatProgressModel",
          "state": {
            "_view_name": "ProgressView",
            "style": "IPY_MODEL_91c603866e604cde9081ffeb231b96ff",
            "_dom_classes": [],
            "description": "Downloading: 100%",
            "_model_name": "FloatProgressModel",
            "bar_style": "success",
            "max": 466062,
            "_view_module": "@jupyter-widgets/controls",
            "_model_module_version": "1.5.0",
            "value": 466062,
            "_view_count": null,
            "_view_module_version": "1.5.0",
            "orientation": "horizontal",
            "min": 0,
            "description_tooltip": null,
            "_model_module": "@jupyter-widgets/controls",
            "layout": "IPY_MODEL_caa5ff43ddef4b74bbcc2ce9e36a100b"
          }
        },
        "f761fda51efb470d86985f2c9a6a615b": {
          "model_module": "@jupyter-widgets/controls",
          "model_name": "HTMLModel",
          "state": {
            "_view_name": "HTMLView",
            "style": "IPY_MODEL_ad0d79bd1fd847b38e7ce1a67266bb21",
            "_dom_classes": [],
            "description": "",
            "_model_name": "HTMLModel",
            "placeholder": "​",
            "_view_module": "@jupyter-widgets/controls",
            "_model_module_version": "1.5.0",
            "value": " 466k/466k [00:29&lt;00:00, 15.5kB/s]",
            "_view_count": null,
            "_view_module_version": "1.5.0",
            "description_tooltip": null,
            "_model_module": "@jupyter-widgets/controls",
            "layout": "IPY_MODEL_b860f7e56c9c43b1b8088b41c18ac974"
          }
        },
        "91c603866e604cde9081ffeb231b96ff": {
          "model_module": "@jupyter-widgets/controls",
          "model_name": "ProgressStyleModel",
          "state": {
            "_view_name": "StyleView",
            "_model_name": "ProgressStyleModel",
            "description_width": "initial",
            "_view_module": "@jupyter-widgets/base",
            "_model_module_version": "1.5.0",
            "_view_count": null,
            "_view_module_version": "1.2.0",
            "bar_color": null,
            "_model_module": "@jupyter-widgets/controls"
          }
        },
        "caa5ff43ddef4b74bbcc2ce9e36a100b": {
          "model_module": "@jupyter-widgets/base",
          "model_name": "LayoutModel",
          "state": {
            "_view_name": "LayoutView",
            "grid_template_rows": null,
            "right": null,
            "justify_content": null,
            "_view_module": "@jupyter-widgets/base",
            "overflow": null,
            "_model_module_version": "1.2.0",
            "_view_count": null,
            "flex_flow": null,
            "width": null,
            "min_width": null,
            "border": null,
            "align_items": null,
            "bottom": null,
            "_model_module": "@jupyter-widgets/base",
            "top": null,
            "grid_column": null,
            "overflow_y": null,
            "overflow_x": null,
            "grid_auto_flow": null,
            "grid_area": null,
            "grid_template_columns": null,
            "flex": null,
            "_model_name": "LayoutModel",
            "justify_items": null,
            "grid_row": null,
            "max_height": null,
            "align_content": null,
            "visibility": null,
            "align_self": null,
            "height": null,
            "min_height": null,
            "padding": null,
            "grid_auto_rows": null,
            "grid_gap": null,
            "max_width": null,
            "order": null,
            "_view_module_version": "1.2.0",
            "grid_template_areas": null,
            "object_position": null,
            "object_fit": null,
            "grid_auto_columns": null,
            "margin": null,
            "display": null,
            "left": null
          }
        },
        "ad0d79bd1fd847b38e7ce1a67266bb21": {
          "model_module": "@jupyter-widgets/controls",
          "model_name": "DescriptionStyleModel",
          "state": {
            "_view_name": "StyleView",
            "_model_name": "DescriptionStyleModel",
            "description_width": "",
            "_view_module": "@jupyter-widgets/base",
            "_model_module_version": "1.5.0",
            "_view_count": null,
            "_view_module_version": "1.2.0",
            "_model_module": "@jupyter-widgets/controls"
          }
        },
        "b860f7e56c9c43b1b8088b41c18ac974": {
          "model_module": "@jupyter-widgets/base",
          "model_name": "LayoutModel",
          "state": {
            "_view_name": "LayoutView",
            "grid_template_rows": null,
            "right": null,
            "justify_content": null,
            "_view_module": "@jupyter-widgets/base",
            "overflow": null,
            "_model_module_version": "1.2.0",
            "_view_count": null,
            "flex_flow": null,
            "width": null,
            "min_width": null,
            "border": null,
            "align_items": null,
            "bottom": null,
            "_model_module": "@jupyter-widgets/base",
            "top": null,
            "grid_column": null,
            "overflow_y": null,
            "overflow_x": null,
            "grid_auto_flow": null,
            "grid_area": null,
            "grid_template_columns": null,
            "flex": null,
            "_model_name": "LayoutModel",
            "justify_items": null,
            "grid_row": null,
            "max_height": null,
            "align_content": null,
            "visibility": null,
            "align_self": null,
            "height": null,
            "min_height": null,
            "padding": null,
            "grid_auto_rows": null,
            "grid_gap": null,
            "max_width": null,
            "order": null,
            "_view_module_version": "1.2.0",
            "grid_template_areas": null,
            "object_position": null,
            "object_fit": null,
            "grid_auto_columns": null,
            "margin": null,
            "display": null,
            "left": null
          }
        },
        "7d4f84f81fc543e19708199e8f0635c5": {
          "model_module": "@jupyter-widgets/controls",
          "model_name": "HBoxModel",
          "state": {
            "_view_name": "HBoxView",
            "_dom_classes": [],
            "_model_name": "HBoxModel",
            "_view_module": "@jupyter-widgets/controls",
            "_model_module_version": "1.5.0",
            "_view_count": null,
            "_view_module_version": "1.5.0",
            "box_style": "",
            "layout": "IPY_MODEL_b0f4d5c64f76419fa11802b3fe8d5f07",
            "_model_module": "@jupyter-widgets/controls",
            "children": [
              "IPY_MODEL_8db0301f01a94d28bc76a1e3e675eb4d",
              "IPY_MODEL_6566e64742254d31881c08655ff5eb14"
            ]
          }
        },
        "b0f4d5c64f76419fa11802b3fe8d5f07": {
          "model_module": "@jupyter-widgets/base",
          "model_name": "LayoutModel",
          "state": {
            "_view_name": "LayoutView",
            "grid_template_rows": null,
            "right": null,
            "justify_content": null,
            "_view_module": "@jupyter-widgets/base",
            "overflow": null,
            "_model_module_version": "1.2.0",
            "_view_count": null,
            "flex_flow": null,
            "width": null,
            "min_width": null,
            "border": null,
            "align_items": null,
            "bottom": null,
            "_model_module": "@jupyter-widgets/base",
            "top": null,
            "grid_column": null,
            "overflow_y": null,
            "overflow_x": null,
            "grid_auto_flow": null,
            "grid_area": null,
            "grid_template_columns": null,
            "flex": null,
            "_model_name": "LayoutModel",
            "justify_items": null,
            "grid_row": null,
            "max_height": null,
            "align_content": null,
            "visibility": null,
            "align_self": null,
            "height": null,
            "min_height": null,
            "padding": null,
            "grid_auto_rows": null,
            "grid_gap": null,
            "max_width": null,
            "order": null,
            "_view_module_version": "1.2.0",
            "grid_template_areas": null,
            "object_position": null,
            "object_fit": null,
            "grid_auto_columns": null,
            "margin": null,
            "display": null,
            "left": null
          }
        },
        "8db0301f01a94d28bc76a1e3e675eb4d": {
          "model_module": "@jupyter-widgets/controls",
          "model_name": "FloatProgressModel",
          "state": {
            "_view_name": "ProgressView",
            "style": "IPY_MODEL_9adbcf2684204b3abdb55f132751aceb",
            "_dom_classes": [],
            "description": "Downloading: 100%",
            "_model_name": "FloatProgressModel",
            "bar_style": "success",
            "max": 28,
            "_view_module": "@jupyter-widgets/controls",
            "_model_module_version": "1.5.0",
            "value": 28,
            "_view_count": null,
            "_view_module_version": "1.5.0",
            "orientation": "horizontal",
            "min": 0,
            "description_tooltip": null,
            "_model_module": "@jupyter-widgets/controls",
            "layout": "IPY_MODEL_46fcc097a774471d9d5b0da462d0adee"
          }
        },
        "6566e64742254d31881c08655ff5eb14": {
          "model_module": "@jupyter-widgets/controls",
          "model_name": "HTMLModel",
          "state": {
            "_view_name": "HTMLView",
            "style": "IPY_MODEL_331ba15225904739948ee6b85eab1681",
            "_dom_classes": [],
            "description": "",
            "_model_name": "HTMLModel",
            "placeholder": "​",
            "_view_module": "@jupyter-widgets/controls",
            "_model_module_version": "1.5.0",
            "value": " 28.0/28.0 [00:15&lt;00:00, 1.85B/s]",
            "_view_count": null,
            "_view_module_version": "1.5.0",
            "description_tooltip": null,
            "_model_module": "@jupyter-widgets/controls",
            "layout": "IPY_MODEL_d4caac91813642d5b4c099f6e378cc43"
          }
        },
        "9adbcf2684204b3abdb55f132751aceb": {
          "model_module": "@jupyter-widgets/controls",
          "model_name": "ProgressStyleModel",
          "state": {
            "_view_name": "StyleView",
            "_model_name": "ProgressStyleModel",
            "description_width": "initial",
            "_view_module": "@jupyter-widgets/base",
            "_model_module_version": "1.5.0",
            "_view_count": null,
            "_view_module_version": "1.2.0",
            "bar_color": null,
            "_model_module": "@jupyter-widgets/controls"
          }
        },
        "46fcc097a774471d9d5b0da462d0adee": {
          "model_module": "@jupyter-widgets/base",
          "model_name": "LayoutModel",
          "state": {
            "_view_name": "LayoutView",
            "grid_template_rows": null,
            "right": null,
            "justify_content": null,
            "_view_module": "@jupyter-widgets/base",
            "overflow": null,
            "_model_module_version": "1.2.0",
            "_view_count": null,
            "flex_flow": null,
            "width": null,
            "min_width": null,
            "border": null,
            "align_items": null,
            "bottom": null,
            "_model_module": "@jupyter-widgets/base",
            "top": null,
            "grid_column": null,
            "overflow_y": null,
            "overflow_x": null,
            "grid_auto_flow": null,
            "grid_area": null,
            "grid_template_columns": null,
            "flex": null,
            "_model_name": "LayoutModel",
            "justify_items": null,
            "grid_row": null,
            "max_height": null,
            "align_content": null,
            "visibility": null,
            "align_self": null,
            "height": null,
            "min_height": null,
            "padding": null,
            "grid_auto_rows": null,
            "grid_gap": null,
            "max_width": null,
            "order": null,
            "_view_module_version": "1.2.0",
            "grid_template_areas": null,
            "object_position": null,
            "object_fit": null,
            "grid_auto_columns": null,
            "margin": null,
            "display": null,
            "left": null
          }
        },
        "331ba15225904739948ee6b85eab1681": {
          "model_module": "@jupyter-widgets/controls",
          "model_name": "DescriptionStyleModel",
          "state": {
            "_view_name": "StyleView",
            "_model_name": "DescriptionStyleModel",
            "description_width": "",
            "_view_module": "@jupyter-widgets/base",
            "_model_module_version": "1.5.0",
            "_view_count": null,
            "_view_module_version": "1.2.0",
            "_model_module": "@jupyter-widgets/controls"
          }
        },
        "d4caac91813642d5b4c099f6e378cc43": {
          "model_module": "@jupyter-widgets/base",
          "model_name": "LayoutModel",
          "state": {
            "_view_name": "LayoutView",
            "grid_template_rows": null,
            "right": null,
            "justify_content": null,
            "_view_module": "@jupyter-widgets/base",
            "overflow": null,
            "_model_module_version": "1.2.0",
            "_view_count": null,
            "flex_flow": null,
            "width": null,
            "min_width": null,
            "border": null,
            "align_items": null,
            "bottom": null,
            "_model_module": "@jupyter-widgets/base",
            "top": null,
            "grid_column": null,
            "overflow_y": null,
            "overflow_x": null,
            "grid_auto_flow": null,
            "grid_area": null,
            "grid_template_columns": null,
            "flex": null,
            "_model_name": "LayoutModel",
            "justify_items": null,
            "grid_row": null,
            "max_height": null,
            "align_content": null,
            "visibility": null,
            "align_self": null,
            "height": null,
            "min_height": null,
            "padding": null,
            "grid_auto_rows": null,
            "grid_gap": null,
            "max_width": null,
            "order": null,
            "_view_module_version": "1.2.0",
            "grid_template_areas": null,
            "object_position": null,
            "object_fit": null,
            "grid_auto_columns": null,
            "margin": null,
            "display": null,
            "left": null
          }
        }
      }
    }
  },
  "cells": [
    {
      "cell_type": "markdown",
      "metadata": {
        "id": "view-in-github",
        "colab_type": "text"
      },
      "source": [
        "<a href=\"https://colab.research.google.com/github/shivangibithel/IRMiDis_Task2/blob/main/BERT_Prediction.ipynb\" target=\"_parent\"><img src=\"https://colab.research.google.com/assets/colab-badge.svg\" alt=\"Open In Colab\"/></a>"
      ]
    },
    {
      "cell_type": "markdown",
      "metadata": {
        "id": "NpnXFnMkfld3"
      },
      "source": [
        "# Installing Transformer and imports"
      ]
    },
    {
      "cell_type": "code",
      "metadata": {
        "id": "8KM9EjsHZ7jX"
      },
      "source": [
        "pip install transformers"
      ],
      "execution_count": null,
      "outputs": []
    },
    {
      "cell_type": "code",
      "metadata": {
        "id": "h78UkLjkaBbM"
      },
      "source": [
        "import os\n",
        "import random\n",
        "import numpy as np\n",
        "import pandas as pd\n",
        "import matplotlib.pyplot as plt\n",
        "import seaborn as sns\n",
        "import cv2\n",
        "import os\n",
        "import math\n",
        "import seaborn as sn\n",
        "import tensorflow as tf\n",
        "import tensorflow_datasets as tfds\n",
        "from bs4 import BeautifulSoup\n",
        "from sklearn import metrics as sk_metrics\n",
        "import nltk\n",
        "import re\n",
        "from sklearn.utils import shuffle"
      ],
      "execution_count": 4,
      "outputs": []
    },
    {
      "cell_type": "code",
      "metadata": {
        "id": "LqrLQyTUaCRE"
      },
      "source": [
        "# from google.colab import drive\n",
        "# drive.mount('/content/gdrive/')"
      ],
      "execution_count": null,
      "outputs": []
    },
    {
      "cell_type": "markdown",
      "metadata": {
        "id": "4gQPIXoSfsSU"
      },
      "source": [
        "# Data read and split...for some accuracy numbers"
      ]
    },
    {
      "cell_type": "code",
      "metadata": {
        "id": "yYQB6za1Wup4"
      },
      "source": [
        "col_list = [\"id\", \"tweet\", \"label\"]\n",
        "our_data = pd.read_csv(\"irmidis-2021-task2-train.csv\",usecols=col_list)\n",
        "df_test = pd.read_csv(\"irmidis-2021-task2-test.csv\")\n",
        "y_map = {\n",
        "    'ProVax': 0, \n",
        "    'AntiVax': 1, \n",
        "    'Neutral': 2\n",
        "}\n",
        "\n",
        "our_data['Sentiment_Cat'] = our_data['label'].map(y_map)"
      ],
      "execution_count": 86,
      "outputs": []
    },
    {
      "cell_type": "code",
      "metadata": {
        "id": "WDZCx7D5i7b1",
        "colab": {
          "base_uri": "https://localhost:8080/",
          "height": 415
        },
        "outputId": "ae9196ef-692d-4bfa-81c6-e162519e26c0"
      },
      "source": [
        "our_data"
      ],
      "execution_count": 87,
      "outputs": [
        {
          "output_type": "execute_result",
          "data": {
            "text/html": [
              "<div>\n",
              "<style scoped>\n",
              "    .dataframe tbody tr th:only-of-type {\n",
              "        vertical-align: middle;\n",
              "    }\n",
              "\n",
              "    .dataframe tbody tr th {\n",
              "        vertical-align: top;\n",
              "    }\n",
              "\n",
              "    .dataframe thead th {\n",
              "        text-align: right;\n",
              "    }\n",
              "</style>\n",
              "<table border=\"1\" class=\"dataframe\">\n",
              "  <thead>\n",
              "    <tr style=\"text-align: right;\">\n",
              "      <th></th>\n",
              "      <th>id</th>\n",
              "      <th>tweet</th>\n",
              "      <th>label</th>\n",
              "      <th>Sentiment_Cat</th>\n",
              "    </tr>\n",
              "  </thead>\n",
              "  <tbody>\n",
              "    <tr>\n",
              "      <th>0</th>\n",
              "      <td>1325682517148569600</td>\n",
              "      <td>Coronavirus: Some Canadians hesitant to take a...</td>\n",
              "      <td>AntiVax</td>\n",
              "      <td>1</td>\n",
              "    </tr>\n",
              "    <tr>\n",
              "      <th>1</th>\n",
              "      <td>1325684180483600384</td>\n",
              "      <td>Moderna on track to report late-stage COVID-19...</td>\n",
              "      <td>Neutral</td>\n",
              "      <td>2</td>\n",
              "    </tr>\n",
              "    <tr>\n",
              "      <th>2</th>\n",
              "      <td>1325689685943996416</td>\n",
              "      <td>The Philippine government is in talks with Ang...</td>\n",
              "      <td>Neutral</td>\n",
              "      <td>2</td>\n",
              "    </tr>\n",
              "    <tr>\n",
              "      <th>3</th>\n",
              "      <td>1325690517724782593</td>\n",
              "      <td>Care homes to be FIRST to receive coronavirus ...</td>\n",
              "      <td>Neutral</td>\n",
              "      <td>2</td>\n",
              "    </tr>\n",
              "    <tr>\n",
              "      <th>4</th>\n",
              "      <td>1325697646909132800</td>\n",
              "      <td>This is why thinking that a vaccine is a panac...</td>\n",
              "      <td>AntiVax</td>\n",
              "      <td>1</td>\n",
              "    </tr>\n",
              "    <tr>\n",
              "      <th>...</th>\n",
              "      <td>...</td>\n",
              "      <td>...</td>\n",
              "      <td>...</td>\n",
              "      <td>...</td>\n",
              "    </tr>\n",
              "    <tr>\n",
              "      <th>2787</th>\n",
              "      <td>1325972470336278530</td>\n",
              "      <td>If a COVID-19 vaccine is effective it will be ...</td>\n",
              "      <td>Neutral</td>\n",
              "      <td>2</td>\n",
              "    </tr>\n",
              "    <tr>\n",
              "      <th>2788</th>\n",
              "      <td>1325770248382001152</td>\n",
              "      <td>Pfizer claims coronavirus vaccine success, pla...</td>\n",
              "      <td>Neutral</td>\n",
              "      <td>2</td>\n",
              "    </tr>\n",
              "    <tr>\n",
              "      <th>2789</th>\n",
              "      <td>1325784714062409728</td>\n",
              "      <td>pump dat #COVID19 vaccine 💪😷🔥 https://t.co/Dna...</td>\n",
              "      <td>ProVax</td>\n",
              "      <td>0</td>\n",
              "    </tr>\n",
              "    <tr>\n",
              "      <th>2790</th>\n",
              "      <td>1325992175218417665</td>\n",
              "      <td>LOL, not a chance I would get any vaccine let ...</td>\n",
              "      <td>AntiVax</td>\n",
              "      <td>1</td>\n",
              "    </tr>\n",
              "    <tr>\n",
              "      <th>2791</th>\n",
              "      <td>1333154694198398978</td>\n",
              "      <td>@michellemalkin https://t.co/v38d5EkSQC articl...</td>\n",
              "      <td>AntiVax</td>\n",
              "      <td>1</td>\n",
              "    </tr>\n",
              "  </tbody>\n",
              "</table>\n",
              "<p>2792 rows × 4 columns</p>\n",
              "</div>"
            ],
            "text/plain": [
              "                       id  ... Sentiment_Cat\n",
              "0     1325682517148569600  ...             1\n",
              "1     1325684180483600384  ...             2\n",
              "2     1325689685943996416  ...             2\n",
              "3     1325690517724782593  ...             2\n",
              "4     1325697646909132800  ...             1\n",
              "...                   ...  ...           ...\n",
              "2787  1325972470336278530  ...             2\n",
              "2788  1325770248382001152  ...             2\n",
              "2789  1325784714062409728  ...             0\n",
              "2790  1325992175218417665  ...             1\n",
              "2791  1333154694198398978  ...             1\n",
              "\n",
              "[2792 rows x 4 columns]"
            ]
          },
          "metadata": {
            "tags": []
          },
          "execution_count": 87
        }
      ]
    },
    {
      "cell_type": "code",
      "metadata": {
        "colab": {
          "base_uri": "https://localhost:8080/",
          "height": 415
        },
        "id": "2XQVp8-Z-3Bn",
        "outputId": "758faeb5-6c3f-4414-8f3b-fe889ff2efd4"
      },
      "source": [
        "df_test"
      ],
      "execution_count": 88,
      "outputs": [
        {
          "output_type": "execute_result",
          "data": {
            "text/html": [
              "<div>\n",
              "<style scoped>\n",
              "    .dataframe tbody tr th:only-of-type {\n",
              "        vertical-align: middle;\n",
              "    }\n",
              "\n",
              "    .dataframe tbody tr th {\n",
              "        vertical-align: top;\n",
              "    }\n",
              "\n",
              "    .dataframe thead th {\n",
              "        text-align: right;\n",
              "    }\n",
              "</style>\n",
              "<table border=\"1\" class=\"dataframe\">\n",
              "  <thead>\n",
              "    <tr style=\"text-align: right;\">\n",
              "      <th></th>\n",
              "      <th>id</th>\n",
              "      <th>tweet</th>\n",
              "    </tr>\n",
              "  </thead>\n",
              "  <tbody>\n",
              "    <tr>\n",
              "      <th>0</th>\n",
              "      <td>1259097719341297664</td>\n",
              "      <td>Polls Say Millions of Americans Will Refuse CO...</td>\n",
              "    </tr>\n",
              "    <tr>\n",
              "      <th>1</th>\n",
              "      <td>1307596484251062273</td>\n",
              "      <td>You are right. One should also remember that t...</td>\n",
              "    </tr>\n",
              "    <tr>\n",
              "      <th>2</th>\n",
              "      <td>1296241188823953409</td>\n",
              "      <td>So.... I should have got the keys to my new ho...</td>\n",
              "    </tr>\n",
              "    <tr>\n",
              "      <th>3</th>\n",
              "      <td>1294639481216045056</td>\n",
              "      <td>CDC - July 2020 ACIP Meeting - Overview of COV...</td>\n",
              "    </tr>\n",
              "    <tr>\n",
              "      <th>4</th>\n",
              "      <td>1319741954721239041</td>\n",
              "      <td>Notably absent is a vaccine for the nightmare ...</td>\n",
              "    </tr>\n",
              "    <tr>\n",
              "      <th>...</th>\n",
              "      <td>...</td>\n",
              "      <td>...</td>\n",
              "    </tr>\n",
              "    <tr>\n",
              "      <th>1595</th>\n",
              "      <td>1275394676594540547</td>\n",
              "      <td>🔓😷💉#VIDACov19: The ZOOM link for the Virual Me...</td>\n",
              "    </tr>\n",
              "    <tr>\n",
              "      <th>1596</th>\n",
              "      <td>1339072387363508224</td>\n",
              "      <td>@aakobel @EthanHovermale @dolmenlord @strictly...</td>\n",
              "    </tr>\n",
              "    <tr>\n",
              "      <th>1597</th>\n",
              "      <td>1328165880660955142</td>\n",
              "      <td>@charliekirk11 It's been 9 months since Covid ...</td>\n",
              "    </tr>\n",
              "    <tr>\n",
              "      <th>1598</th>\n",
              "      <td>1337209455986020353</td>\n",
              "      <td>Apparently the Covid 19 Vaccine caused bell’s ...</td>\n",
              "    </tr>\n",
              "    <tr>\n",
              "      <th>1599</th>\n",
              "      <td>1338143437921533954</td>\n",
              "      <td>@R14ScoRae @dirtroadliving1 So Pfizer doesn’t ...</td>\n",
              "    </tr>\n",
              "  </tbody>\n",
              "</table>\n",
              "<p>1600 rows × 2 columns</p>\n",
              "</div>"
            ],
            "text/plain": [
              "                       id                                              tweet\n",
              "0     1259097719341297664  Polls Say Millions of Americans Will Refuse CO...\n",
              "1     1307596484251062273  You are right. One should also remember that t...\n",
              "2     1296241188823953409  So.... I should have got the keys to my new ho...\n",
              "3     1294639481216045056  CDC - July 2020 ACIP Meeting - Overview of COV...\n",
              "4     1319741954721239041  Notably absent is a vaccine for the nightmare ...\n",
              "...                   ...                                                ...\n",
              "1595  1275394676594540547  🔓😷💉#VIDACov19: The ZOOM link for the Virual Me...\n",
              "1596  1339072387363508224  @aakobel @EthanHovermale @dolmenlord @strictly...\n",
              "1597  1328165880660955142  @charliekirk11 It's been 9 months since Covid ...\n",
              "1598  1337209455986020353  Apparently the Covid 19 Vaccine caused bell’s ...\n",
              "1599  1338143437921533954  @R14ScoRae @dirtroadliving1 So Pfizer doesn’t ...\n",
              "\n",
              "[1600 rows x 2 columns]"
            ]
          },
          "metadata": {
            "tags": []
          },
          "execution_count": 88
        }
      ]
    },
    {
      "cell_type": "markdown",
      "metadata": {
        "id": "q4oExSPG-alJ"
      },
      "source": [
        "Uncomment if want testing results"
      ]
    },
    {
      "cell_type": "code",
      "metadata": {
        "id": "xcT7GhhQkAib",
        "colab": {
          "base_uri": "https://localhost:8080/"
        },
        "outputId": "dba114b0-773c-45c3-c2c1-f0f6c7144c1a"
      },
      "source": [
        "# from sklearn.model_selection import StratifiedShuffleSplit\n",
        "# df = our_data\n",
        "# split = StratifiedShuffleSplit(n_splits=1, test_size=0.2, random_state=42)\n",
        "# for train_index, test_valid_index in split.split(df, df.Sentiment_Cat):\n",
        "#     train_set = df.iloc[train_index]\n",
        "#     test_valid_set = df.iloc[test_valid_index]\n",
        "\n",
        "# split2 = StratifiedShuffleSplit(n_splits=1, test_size=0.5, random_state=42)\n",
        "# for test_index, valid_index in split2.split(test_valid_set, test_valid_set.Sentiment_Cat):\n",
        "#     test_set = test_valid_set.iloc[test_index]\n",
        "#     valid_set = test_valid_set.iloc[valid_index]\n",
        "\n",
        "# print(train_set.shape)\n",
        "# print(test_valid_set.shape)\n",
        "# print(test_set.shape)\n",
        "# print(valid_set.shape)\n",
        "\n",
        "# df_train = train_set\n",
        "# df_test = test_set\n",
        "# df_valid = valid_set"
      ],
      "execution_count": 60,
      "outputs": [
        {
          "output_type": "stream",
          "text": [
            "(2233, 4)\n",
            "(559, 4)\n",
            "(279, 4)\n",
            "(280, 4)\n"
          ],
          "name": "stdout"
        }
      ]
    },
    {
      "cell_type": "code",
      "metadata": {
        "id": "EoZJHGrrOP2e",
        "outputId": "10c9c3bd-d3a9-4235-c4cd-45c68b3160da",
        "colab": {
          "base_uri": "https://localhost:8080/"
        }
      },
      "source": [
        "from sklearn.model_selection import StratifiedShuffleSplit\n",
        "df = our_data\n",
        "split = StratifiedShuffleSplit(n_splits=1, test_size=0.2, random_state=42)\n",
        "for train_index, test_valid_index in split.split(df, df.Sentiment_Cat):\n",
        "    train_set = df.iloc[train_index]\n",
        "    test_valid_set = df.iloc[test_valid_index]\n",
        "\n",
        "# split2 = StratifiedShuffleSplit(n_splits=1, test_size=0.5, random_state=42)\n",
        "# for test_index, valid_index in split2.split(test_valid_set, test_valid_set.Sentiment_Cat):\n",
        "#     test_set = test_valid_set.iloc[test_index]\n",
        "#     valid_set = test_valid_set.iloc[valid_index]\n",
        "\n",
        "print(train_set.shape)\n",
        "print(test_valid_set.shape)\n",
        "# print(test_set.shape)\n",
        "# print(valid_set.shape)\n",
        "\n",
        "df_train = train_set\n",
        "# df_test = test_set\n",
        "df_valid = test_valid_set"
      ],
      "execution_count": 89,
      "outputs": [
        {
          "output_type": "stream",
          "text": [
            "(2233, 4)\n",
            "(559, 4)\n"
          ],
          "name": "stdout"
        }
      ]
    },
    {
      "cell_type": "code",
      "metadata": {
        "id": "pklk6KusbGf9"
      },
      "source": [
        "df_train.info()"
      ],
      "execution_count": null,
      "outputs": []
    },
    {
      "cell_type": "code",
      "metadata": {
        "id": "BI96posMLkQ7"
      },
      "source": [
        "df_train.Sentiment_Cat.value_counts()"
      ],
      "execution_count": null,
      "outputs": []
    },
    {
      "cell_type": "code",
      "metadata": {
        "id": "hxH0PYoLL0rF"
      },
      "source": [
        "df_test.Sentiment_Cat.value_counts()"
      ],
      "execution_count": null,
      "outputs": []
    },
    {
      "cell_type": "code",
      "metadata": {
        "id": "xhF9mMVKbnBN"
      },
      "source": [
        "df_train.head()"
      ],
      "execution_count": null,
      "outputs": []
    },
    {
      "cell_type": "code",
      "metadata": {
        "id": "1UXvi9kQve9y",
        "colab": {
          "base_uri": "https://localhost:8080/",
          "height": 68
        },
        "outputId": "b50ac92a-d826-49ca-d2db-128cb00e289b"
      },
      "source": [
        "df_train['tweet'].iloc[0]"
      ],
      "execution_count": 84,
      "outputs": [
        {
          "output_type": "execute_result",
          "data": {
            "application/vnd.google.colaboratory.intrinsic+json": {
              "type": "string"
            },
            "text/plain": [
              "'It’s hard not to feel emotional. \\n\\nThis moment is a triumph for science, for human ingenuity, for Margaret, for our NHS workers, for the scared, and for hope. We are winning against #COVID19 with vaccines.\\n\\nThe end is in sight. https://t.co/c89R1qDQA8'"
            ]
          },
          "metadata": {
            "tags": []
          },
          "execution_count": 84
        }
      ]
    },
    {
      "cell_type": "code",
      "metadata": {
        "id": "LbVsoiYsbuYF"
      },
      "source": [
        "# y_map = {\n",
        "#     'ProVax': 0, \n",
        "#     'AntiVax': 1, \n",
        "#     'Neutral': 2\n",
        "# }\n",
        "\n",
        "# df_train['Sentiment_Cat'] = df_train['label'].map(y_map)\n",
        "# df_test['Sentiment_Cat'] = df_test['label'].map(y_map)"
      ],
      "execution_count": null,
      "outputs": []
    },
    {
      "cell_type": "markdown",
      "metadata": {
        "id": "2DzTRCQFf21N"
      },
      "source": [
        "# Pre-processing"
      ]
    },
    {
      "cell_type": "code",
      "metadata": {
        "colab": {
          "base_uri": "https://localhost:8080/"
        },
        "id": "Vwhr9am41KrZ",
        "outputId": "83b8e0a3-82aa-4349-97fc-26c77b6f0d3a"
      },
      "source": [
        "import sys\n",
        "import re\n",
        "!pip install emoji --quiet\n",
        "import emoji\n",
        "!pip install contractions --quiet\n",
        "import contractions\n",
        "import nltk\n",
        "from nltk.corpus import stopwords\n",
        "nltk.download('stopwords')\n",
        "import unicodedata"
      ],
      "execution_count": 14,
      "outputs": [
        {
          "output_type": "stream",
          "text": [
            "\u001b[K     |████████████████████████████████| 133kB 25.0MB/s \n",
            "\u001b[K     |████████████████████████████████| 327kB 35.3MB/s \n",
            "\u001b[K     |████████████████████████████████| 286kB 49.5MB/s \n",
            "\u001b[?25h  Building wheel for pyahocorasick (setup.py) ... \u001b[?25l\u001b[?25hdone\n",
            "[nltk_data] Downloading package stopwords to /root/nltk_data...\n",
            "[nltk_data]   Unzipping corpora/stopwords.zip.\n"
          ],
          "name": "stdout"
        }
      ]
    },
    {
      "cell_type": "code",
      "metadata": {
        "id": "n9qKs19_0pZ9"
      },
      "source": [
        "def cleaning(text):\n",
        "  text= text.lower()\n",
        "  text= emoji.demojize(text)\n",
        "  text=contractions.fix(text)\n",
        "  text=text.strip()\n",
        "  text=text.replace('[^\\w\\s]','')\n",
        "  text=re.sub(r'http\\S+', '', text)\n",
        "  REPLACE_BY_SPACE_RE = re.compile('[/(){}\\[\\]\\|@,;]')\n",
        "  BAD_SYMBOLS_RE = re.compile('[^0-9a-z +]')\n",
        "  text = REPLACE_BY_SPACE_RE.sub(' ' , text)\n",
        "  text = BAD_SYMBOLS_RE.sub(' ',text)\n",
        "  \n",
        "  return text\n",
        "df_train['tweet_cleaned'] = df_train['tweet'].apply(cleaning)\n",
        "df_test['tweet_cleaned'] = df_test['tweet'].apply(cleaning)\n",
        "df_valid['tweet_cleaned'] = df_valid['tweet'].apply(cleaning)\n",
        "df_train['tweet_cleaned'].iloc[0]"
      ],
      "execution_count": null,
      "outputs": []
    },
    {
      "cell_type": "code",
      "metadata": {
        "id": "cK-bzBuaVECS"
      },
      "source": [
        "x_train, y_train = df_train['tweet_cleaned'].values, np.array(df_train['Sentiment_Cat'], dtype=np.int64)\n",
        "x_test = df_test['tweet_cleaned'].values\n",
        "x_valid, y_valid = df_valid['tweet_cleaned'].values, np.array(df_valid['Sentiment_Cat'], dtype=np.int64)"
      ],
      "execution_count": 92,
      "outputs": []
    },
    {
      "cell_type": "code",
      "metadata": {
        "id": "UzhyEzc2dIsv"
      },
      "source": [
        "# x_train, y_train = df_train['tweet_cleaned'].values, np.array(df_train['Sentiment_Cat'], dtype=np.int64)\n",
        "# x_test, y_test = df_test['tweet_cleaned'].values, np.array(df_test['Sentiment_Cat'], dtype=np.int64)\n",
        "# x_valid, y_valid = df_valid['tweet_cleaned'].values, np.array(df_valid['Sentiment_Cat'], dtype=np.int64)"
      ],
      "execution_count": 64,
      "outputs": []
    },
    {
      "cell_type": "markdown",
      "metadata": {
        "id": "PT_1dcod_bHJ"
      },
      "source": [
        "# Data Exploration"
      ]
    },
    {
      "cell_type": "code",
      "metadata": {
        "id": "BtfsgOX5YoAg"
      },
      "source": [
        "data = df_train\n",
        "Neutral_data = data[data['Sentiment_Cat'] == 2]\n",
        "Antivax_data = data[data['Sentiment_Cat'] == 1]\n",
        "Provax_data = data[data['Sentiment_Cat'] == 0]"
      ],
      "execution_count": 66,
      "outputs": []
    },
    {
      "cell_type": "code",
      "metadata": {
        "id": "auW5p-QfYaQc",
        "colab": {
          "base_uri": "https://localhost:8080/"
        },
        "outputId": "1d6509d3-fd2b-45b6-ba0c-9e3f46053dc5"
      },
      "source": [
        "# df = Antivax_data\n",
        "a=[]\n",
        "for i in range(len(Antivax_data)):\n",
        "  a.append(len(Antivax_data['tweet_cleaned'].iloc[i].split()))\n",
        "print(max(a))\n",
        "# df = Provax_data\n",
        "b=[]\n",
        "for i in range(len(Provax_data)):\n",
        "  b.append(len(Provax_data['tweet_cleaned'].iloc[i].split()))\n",
        "print(max(b))\n",
        "# df = Neutral_data\n",
        "c=[]\n",
        "for i in range(len(Neutral_data)):\n",
        "  c.append(len(Neutral_data['tweet_cleaned'].iloc[i].split()))\n",
        "print(max(c))\n",
        "print(len(Neutral_data), len(Antivax_data), len(Provax_data))"
      ],
      "execution_count": 67,
      "outputs": [
        {
          "output_type": "stream",
          "text": [
            "90\n",
            "63\n",
            "61\n",
            "808 633 792\n"
          ],
          "name": "stdout"
        }
      ]
    },
    {
      "cell_type": "code",
      "metadata": {
        "id": "EjmubgzJYTWN",
        "colab": {
          "base_uri": "https://localhost:8080/",
          "height": 851
        },
        "outputId": "4cd36a3c-96ba-4287-da95-20cdd8fd6aa1"
      },
      "source": [
        "import numpy as np\n",
        "import matplotlib.pyplot as plt\n",
        "from numpy import *\n",
        "plt.hist(a,bins= 80, label = \"AntiVax\")\n",
        "plt.legend()\n",
        "plt.xlabel('Length')\n",
        "plt.ylabel('Frequecy')\n",
        "plt.title('Length Histogram')\n",
        "plt.show()\n",
        "plt.hist(b,bins= 60, label = \"ProVax\")\n",
        "plt.legend()\n",
        "plt.xlabel('Length')\n",
        "plt.ylabel('Frequecy')\n",
        "plt.title('Length Histogram')\n",
        "plt.show()\n",
        "plt.hist(c, bins= 60, label = \"Neutral\")\n",
        "plt.legend()\n",
        "plt.xlabel('Length')\n",
        "plt.ylabel('Frequecy')\n",
        "plt.title('Length Histogram')\n",
        "plt.show()"
      ],
      "execution_count": 68,
      "outputs": [
        {
          "output_type": "display_data",
          "data": {
            "image/png": "[encoded data removed]",
            "text/plain": [
              "<Figure size 432x288 with 1 Axes>"
            ]
          },
          "metadata": {
            "tags": [],
            "needs_background": "light"
          }
        },
        {
          "output_type": "display_data",
          "data": {
            "image/png": "[encoded data removed]",
            "text/plain": [
              "<Figure size 432x288 with 1 Axes>"
            ]
          },
          "metadata": {
            "tags": [],
            "needs_background": "light"
          }
        },
        {
          "output_type": "display_data",
          "data": {
            "image/png": "[encoded data removed]",
            "text/plain": [
              "<Figure size 432x288 with 1 Axes>"
            ]
          },
          "metadata": {
            "tags": [],
            "needs_background": "light"
          }
        }
      ]
    },
    {
      "cell_type": "markdown",
      "metadata": {
        "id": "WBm7fSLdjNsK"
      },
      "source": [
        "# BERT"
      ]
    },
    {
      "cell_type": "code",
      "metadata": {
        "id": "UfVEmb5Idiv5"
      },
      "source": [
        "from tokenizers import BertWordPieceTokenizer\n",
        "import transformers"
      ],
      "execution_count": 19,
      "outputs": []
    },
    {
      "cell_type": "code",
      "metadata": {
        "id": "8o7uh0Gbdlmf",
        "colab": {
          "base_uri": "https://localhost:8080/",
          "height": 200,
          "referenced_widgets": [
            "5360080619a54288b1c944bdeff63ed8",
            "12cba3acb72c4241932490311a3db9b7",
            "545f8142e13a416797d7bc4447eec9b3",
            "240e3928c7b0429b840bb295344096d8",
            "ef8bb469b2bd41e0a0542e13511cb41d",
            "05594b7d82d74adcbd29779e61456fdc",
            "047433edb2294ed6a5d09485461dafaf",
            "8199b5e19de740aaaf0914965592da67",
            "5b36de7b57514e6d856b0c28e9fdda89",
            "39f380c5ce5d4b28b7ee38f8443de392",
            "9654d2e9944441cb8f47c4cef976a56d",
            "f761fda51efb470d86985f2c9a6a615b",
            "91c603866e604cde9081ffeb231b96ff",
            "caa5ff43ddef4b74bbcc2ce9e36a100b",
            "ad0d79bd1fd847b38e7ce1a67266bb21",
            "b860f7e56c9c43b1b8088b41c18ac974",
            "7d4f84f81fc543e19708199e8f0635c5",
            "b0f4d5c64f76419fa11802b3fe8d5f07",
            "8db0301f01a94d28bc76a1e3e675eb4d",
            "6566e64742254d31881c08655ff5eb14",
            "9adbcf2684204b3abdb55f132751aceb",
            "46fcc097a774471d9d5b0da462d0adee",
            "331ba15225904739948ee6b85eab1681",
            "d4caac91813642d5b4c099f6e378cc43"
          ]
        },
        "outputId": "cb04027b-5e8a-494a-bc0a-b2cc7297e366"
      },
      "source": [
        "# First load the real tokenizer\n",
        "tokenizer = transformers.BertTokenizerFast.from_pretrained('bert-base-uncased', lower=True)\n",
        "\n",
        "# Save the loaded tokenizer locally\n",
        "tokenizer.save_pretrained('.')\n",
        "\n",
        "# Reload it with the huggingface tokenizers library\n",
        "fast_tokenizer = BertWordPieceTokenizer('vocab.txt', lowercase=True)\n",
        "fast_tokenizer"
      ],
      "execution_count": 20,
      "outputs": [
        {
          "output_type": "display_data",
          "data": {
            "application/vnd.jupyter.widget-view+json": {
              "model_id": "5360080619a54288b1c944bdeff63ed8",
              "version_minor": 0,
              "version_major": 2
            },
            "text/plain": [
              "HBox(children=(FloatProgress(value=0.0, description='Downloading', max=231508.0, style=ProgressStyle(descripti…"
            ]
          },
          "metadata": {
            "tags": []
          }
        },
        {
          "output_type": "stream",
          "text": [
            "\n"
          ],
          "name": "stdout"
        },
        {
          "output_type": "display_data",
          "data": {
            "application/vnd.jupyter.widget-view+json": {
              "model_id": "5b36de7b57514e6d856b0c28e9fdda89",
              "version_minor": 0,
              "version_major": 2
            },
            "text/plain": [
              "HBox(children=(FloatProgress(value=0.0, description='Downloading', max=466062.0, style=ProgressStyle(descripti…"
            ]
          },
          "metadata": {
            "tags": []
          }
        },
        {
          "output_type": "stream",
          "text": [
            "\n"
          ],
          "name": "stdout"
        },
        {
          "output_type": "display_data",
          "data": {
            "application/vnd.jupyter.widget-view+json": {
              "model_id": "7d4f84f81fc543e19708199e8f0635c5",
              "version_minor": 0,
              "version_major": 2
            },
            "text/plain": [
              "HBox(children=(FloatProgress(value=0.0, description='Downloading', max=28.0, style=ProgressStyle(description_w…"
            ]
          },
          "metadata": {
            "tags": []
          }
        },
        {
          "output_type": "stream",
          "text": [
            "\n"
          ],
          "name": "stdout"
        },
        {
          "output_type": "execute_result",
          "data": {
            "text/plain": [
              "Tokenizer(vocabulary_size=30522, model=BertWordPiece, unk_token=[UNK], sep_token=[SEP], cls_token=[CLS], pad_token=[PAD], mask_token=[MASK], clean_text=True, handle_chinese_chars=True, strip_accents=None, lowercase=True, wordpieces_prefix=##)"
            ]
          },
          "metadata": {
            "tags": []
          },
          "execution_count": 20
        }
      ]
    },
    {
      "cell_type": "code",
      "metadata": {
        "id": "Vvy3OyJddodD"
      },
      "source": [
        "def fast_encode(texts, tokenizer, chunk_size=256, maxlen=200):\n",
        "    tokenizer.enable_truncation(max_length=maxlen)\n",
        "    tokenizer.enable_padding(length=maxlen)\n",
        "    all_ids = []\n",
        "    \n",
        "    for i in range(0, len(texts), chunk_size):\n",
        "        text_chunk = texts[i:i+chunk_size].tolist()\n",
        "        encs = tokenizer.encode_batch(text_chunk)\n",
        "        all_ids.extend([enc.ids for enc in encs])\n",
        "    \n",
        "    return np.array(all_ids)"
      ],
      "execution_count": 21,
      "outputs": []
    },
    {
      "cell_type": "code",
      "metadata": {
        "id": "Q9LJvgi0d5i-"
      },
      "source": [
        "max_len=70\n",
        "x_train_enc = fast_encode(x_train, fast_tokenizer, maxlen=max_len)\n",
        "x_valid_enc = fast_encode(x_valid, fast_tokenizer, maxlen=max_len)\n",
        "x_test_enc = fast_encode(x_test, fast_tokenizer, maxlen=max_len)"
      ],
      "execution_count": 93,
      "outputs": []
    },
    {
      "cell_type": "code",
      "metadata": {
        "id": "pcBnfPChd9PO"
      },
      "source": [
        "NUM_CLASSES = df_train['Sentiment_Cat'].nunique()\n",
        "\n",
        "# bert_transformer = transformers.TFDistilBertModel.from_pretrained('distilbert-base-uncased')\n",
        "# bert_transformer = transformers.TFBertForSequenceClassification.from_pretrained('bert-base-uncased', num_labels=NUM_CLASSES)\n",
        "bert_transformer = transformers.TFBertForSequenceClassification.from_pretrained('digitalepidemiologylab/covid-twitter-bert-v2', num_labels=NUM_CLASSES)\n",
        "input = tf.keras.layers.Input(shape=(max_len,), dtype=tf.int32)\n",
        "sequence_output = bert_transformer(input)[0]\n",
        "# cls_token = sequence_output[:, 0, :]\n",
        "# output = tf.keras.layers.Dense(NUM_CLASSES, activation='softmax')(cls_token)\n",
        "\n",
        "model = tf.keras.Model(inputs=input, outputs=sequence_output)\n",
        "model.compile(optimizer=tf.keras.optimizers.Adam(1e-5), loss=tf.keras.losses.SparseCategoricalCrossentropy(from_logits=True), metrics=['accuracy'])"
      ],
      "execution_count": null,
      "outputs": []
    },
    {
      "cell_type": "code",
      "metadata": {
        "id": "0bliWbCjeRLV",
        "colab": {
          "base_uri": "https://localhost:8080/"
        },
        "outputId": "7121a462-75e8-47a2-922f-6a237a256dd5"
      },
      "source": [
        "model.summary()"
      ],
      "execution_count": 96,
      "outputs": [
        {
          "output_type": "stream",
          "text": [
            "Model: \"model_2\"\n",
            "_________________________________________________________________\n",
            "Layer (type)                 Output Shape              Param #   \n",
            "=================================================================\n",
            "input_3 (InputLayer)         [(None, 70)]              0         \n",
            "_________________________________________________________________\n",
            "tf_bert_for_sequence_classif TFSequenceClassifierOutpu 335144963 \n",
            "=================================================================\n",
            "Total params: 335,144,963\n",
            "Trainable params: 335,144,963\n",
            "Non-trainable params: 0\n",
            "_________________________________________________________________\n"
          ],
          "name": "stdout"
        }
      ]
    },
    {
      "cell_type": "code",
      "metadata": {
        "id": "WRLoFJv0lTip",
        "colab": {
          "base_uri": "https://localhost:8080/"
        },
        "outputId": "1e9bf638-7ac0-423b-fd0d-5d1eee9cf9bc"
      },
      "source": [
        "# call backs\n",
        "early_stop_callback = tf.keras.callbacks.EarlyStopping(\n",
        "    monitor='val_loss', \n",
        "    patience=3, \n",
        "    restore_best_weights=True\n",
        ")\n",
        "\n",
        "history = model.fit(\n",
        "    x_train_enc,\n",
        "    y_train,\n",
        "    batch_size=16,\n",
        "    validation_data=(x_valid_enc, y_valid),\n",
        "    epochs=50,\n",
        "    callbacks=[early_stop_callback])"
      ],
      "execution_count": 71,
      "outputs": [
        {
          "output_type": "stream",
          "text": [
            "Epoch 1/50\n",
            "WARNING:tensorflow:The parameters `output_attentions`, `output_hidden_states` and `use_cache` cannot be updated when calling a model.They have to be set to True/False in the config object (i.e.: `config=XConfig.from_pretrained('name', output_attentions=True)`).\n",
            "WARNING:tensorflow:The parameter `return_dict` cannot be set in graph mode and will always be set to `True`.\n",
            "WARNING:tensorflow:The parameters `output_attentions`, `output_hidden_states` and `use_cache` cannot be updated when calling a model.They have to be set to True/False in the config object (i.e.: `config=XConfig.from_pretrained('name', output_attentions=True)`).\n",
            "WARNING:tensorflow:The parameter `return_dict` cannot be set in graph mode and will always be set to `True`.\n",
            "140/140 [==============================] - ETA: 0s - loss: 0.8932 - accuracy: 0.5629WARNING:tensorflow:The parameters `output_attentions`, `output_hidden_states` and `use_cache` cannot be updated when calling a model.They have to be set to True/False in the config object (i.e.: `config=XConfig.from_pretrained('name', output_attentions=True)`).\n",
            "WARNING:tensorflow:The parameter `return_dict` cannot be set in graph mode and will always be set to `True`.\n",
            "140/140 [==============================] - 138s 790ms/step - loss: 0.8932 - accuracy: 0.5629 - val_loss: 0.6166 - val_accuracy: 0.7786\n",
            "Epoch 2/50\n",
            "140/140 [==============================] - 110s 786ms/step - loss: 0.5341 - accuracy: 0.8039 - val_loss: 0.4237 - val_accuracy: 0.8429\n",
            "Epoch 3/50\n",
            "140/140 [==============================] - 111s 795ms/step - loss: 0.3347 - accuracy: 0.8858 - val_loss: 0.4442 - val_accuracy: 0.8536\n",
            "Epoch 4/50\n",
            "140/140 [==============================] - 111s 794ms/step - loss: 0.2389 - accuracy: 0.9203 - val_loss: 0.3716 - val_accuracy: 0.8786\n",
            "Epoch 5/50\n",
            "140/140 [==============================] - 111s 795ms/step - loss: 0.1514 - accuracy: 0.9566 - val_loss: 0.3425 - val_accuracy: 0.8821\n",
            "Epoch 6/50\n",
            "140/140 [==============================] - 111s 796ms/step - loss: 0.0904 - accuracy: 0.9745 - val_loss: 0.4345 - val_accuracy: 0.8643\n",
            "Epoch 7/50\n",
            "140/140 [==============================] - 111s 793ms/step - loss: 0.0658 - accuracy: 0.9830 - val_loss: 0.4265 - val_accuracy: 0.8714\n",
            "Epoch 8/50\n",
            "140/140 [==============================] - 111s 793ms/step - loss: 0.0634 - accuracy: 0.9848 - val_loss: 0.5087 - val_accuracy: 0.8750\n"
          ],
          "name": "stdout"
        }
      ]
    },
    {
      "cell_type": "code",
      "metadata": {
        "id": "jNYr-df5WgZs",
        "outputId": "2322a0fe-766a-444a-fe12-24e36c581ff3",
        "colab": {
          "base_uri": "https://localhost:8080/"
        }
      },
      "source": [
        "# call backs\n",
        "early_stop_callback = tf.keras.callbacks.EarlyStopping(\n",
        "    monitor='val_loss', \n",
        "    patience=3, \n",
        "    restore_best_weights=True\n",
        ")\n",
        "\n",
        "history = model.fit(\n",
        "    x_train_enc,\n",
        "    y_train,\n",
        "    batch_size=16,\n",
        "    validation_data=(x_valid_enc, y_valid),\n",
        "    epochs=50,\n",
        "    callbacks=[early_stop_callback])"
      ],
      "execution_count": 98,
      "outputs": [
        {
          "output_type": "stream",
          "text": [
            "Epoch 1/50\n",
            "WARNING:tensorflow:The parameters `output_attentions`, `output_hidden_states` and `use_cache` cannot be updated when calling a model.They have to be set to True/False in the config object (i.e.: `config=XConfig.from_pretrained('name', output_attentions=True)`).\n",
            "WARNING:tensorflow:The parameter `return_dict` cannot be set in graph mode and will always be set to `True`.\n",
            "WARNING:tensorflow:The parameters `output_attentions`, `output_hidden_states` and `use_cache` cannot be updated when calling a model.They have to be set to True/False in the config object (i.e.: `config=XConfig.from_pretrained('name', output_attentions=True)`).\n",
            "WARNING:tensorflow:The parameter `return_dict` cannot be set in graph mode and will always be set to `True`.\n",
            "140/140 [==============================] - ETA: 0s - loss: 0.9373 - accuracy: 0.5683WARNING:tensorflow:The parameters `output_attentions`, `output_hidden_states` and `use_cache` cannot be updated when calling a model.They have to be set to True/False in the config object (i.e.: `config=XConfig.from_pretrained('name', output_attentions=True)`).\n",
            "WARNING:tensorflow:The parameter `return_dict` cannot be set in graph mode and will always be set to `True`.\n",
            "140/140 [==============================] - 142s 820ms/step - loss: 0.9373 - accuracy: 0.5683 - val_loss: 0.7558 - val_accuracy: 0.7531\n",
            "Epoch 2/50\n",
            "140/140 [==============================] - 114s 815ms/step - loss: 0.5693 - accuracy: 0.7985 - val_loss: 0.4557 - val_accuracy: 0.8479\n",
            "Epoch 3/50\n",
            "140/140 [==============================] - 116s 826ms/step - loss: 0.3508 - accuracy: 0.8907 - val_loss: 0.4039 - val_accuracy: 0.8551\n",
            "Epoch 4/50\n",
            "140/140 [==============================] - 116s 826ms/step - loss: 0.2085 - accuracy: 0.9400 - val_loss: 0.4158 - val_accuracy: 0.8426\n",
            "Epoch 5/50\n",
            "140/140 [==============================] - 116s 827ms/step - loss: 0.1344 - accuracy: 0.9606 - val_loss: 0.4264 - val_accuracy: 0.8605\n",
            "Epoch 6/50\n",
            "140/140 [==============================] - 116s 826ms/step - loss: 0.0965 - accuracy: 0.9745 - val_loss: 0.4541 - val_accuracy: 0.8569\n"
          ],
          "name": "stdout"
        }
      ]
    },
    {
      "cell_type": "markdown",
      "metadata": {
        "id": "sPB9-wqXjSRo"
      },
      "source": [
        "# Prediction "
      ]
    },
    {
      "cell_type": "code",
      "metadata": {
        "id": "zY9uNgVAe0MP",
        "colab": {
          "base_uri": "https://localhost:8080/"
        },
        "outputId": "2a01960b-e776-43f3-b092-cda3137a63fe"
      },
      "source": [
        "ypred = model.predict(x_test_enc)\n",
        "ypred\n",
        "# df_test['ypred'] = np.argmax(ypred, axis=1)\n",
        "# df_test['ypred_cat'] = np.where(df_test['ypred']>=0.5, 1, 0)\n",
        "# df_test['ypred_cat'] = np.argmax(ypred, axis=1)\n",
        "# df_test"
      ],
      "execution_count": 99,
      "outputs": [
        {
          "output_type": "stream",
          "text": [
            "WARNING:tensorflow:The parameters `output_attentions`, `output_hidden_states` and `use_cache` cannot be updated when calling a model.They have to be set to True/False in the config object (i.e.: `config=XConfig.from_pretrained('name', output_attentions=True)`).\n",
            "WARNING:tensorflow:The parameter `return_dict` cannot be set in graph mode and will always be set to `True`.\n"
          ],
          "name": "stdout"
        },
        {
          "output_type": "execute_result",
          "data": {
            "text/plain": [
              "array([[-1.7475204 ,  1.6996115 ,  0.31891292],\n",
              "       [-0.62214386,  0.3461689 , -0.24314342],\n",
              "       [ 1.1222192 , -1.3773897 , -0.07170814],\n",
              "       ...,\n",
              "       [ 0.9196962 , -1.060609  ,  0.4670077 ],\n",
              "       [-1.3545557 ,  2.883578  , -1.0198541 ],\n",
              "       [-1.3275756 ,  2.3823183 , -0.19916762]], dtype=float32)"
            ]
          },
          "metadata": {
            "tags": []
          },
          "execution_count": 99
        }
      ]
    },
    {
      "cell_type": "code",
      "metadata": {
        "id": "5ZxKEI6KIt19",
        "colab": {
          "base_uri": "https://localhost:8080/"
        },
        "outputId": "025746dc-2604-4fff-a37b-2cb299e5c419"
      },
      "source": [
        "print(np.argmax(ypred, axis=1))"
      ],
      "execution_count": 100,
      "outputs": [
        {
          "output_type": "stream",
          "text": [
            "[1 1 0 ... 0 1 1]\n"
          ],
          "name": "stdout"
        }
      ]
    },
    {
      "cell_type": "code",
      "metadata": {
        "colab": {
          "base_uri": "https://localhost:8080/",
          "height": 415
        },
        "id": "nXW9PMzVGmSF",
        "outputId": "92168cae-6415-418d-8efe-731e96cf4ecc"
      },
      "source": [
        "df_test['ypred'] = np.argmax(ypred, axis=1)\n",
        "df_test"
      ],
      "execution_count": 101,
      "outputs": [
        {
          "output_type": "execute_result",
          "data": {
            "text/html": [
              "<div>\n",
              "<style scoped>\n",
              "    .dataframe tbody tr th:only-of-type {\n",
              "        vertical-align: middle;\n",
              "    }\n",
              "\n",
              "    .dataframe tbody tr th {\n",
              "        vertical-align: top;\n",
              "    }\n",
              "\n",
              "    .dataframe thead th {\n",
              "        text-align: right;\n",
              "    }\n",
              "</style>\n",
              "<table border=\"1\" class=\"dataframe\">\n",
              "  <thead>\n",
              "    <tr style=\"text-align: right;\">\n",
              "      <th></th>\n",
              "      <th>id</th>\n",
              "      <th>tweet</th>\n",
              "      <th>tweet_cleaned</th>\n",
              "      <th>ypred</th>\n",
              "    </tr>\n",
              "  </thead>\n",
              "  <tbody>\n",
              "    <tr>\n",
              "      <th>0</th>\n",
              "      <td>1259097719341297664</td>\n",
              "      <td>Polls Say Millions of Americans Will Refuse CO...</td>\n",
              "      <td>polls say millions of americans will refuse co...</td>\n",
              "      <td>1</td>\n",
              "    </tr>\n",
              "    <tr>\n",
              "      <th>1</th>\n",
              "      <td>1307596484251062273</td>\n",
              "      <td>You are right. One should also remember that t...</td>\n",
              "      <td>you are right  one should also remember that t...</td>\n",
              "      <td>1</td>\n",
              "    </tr>\n",
              "    <tr>\n",
              "      <th>2</th>\n",
              "      <td>1296241188823953409</td>\n",
              "      <td>So.... I should have got the keys to my new ho...</td>\n",
              "      <td>so     i should have got the keys to my new ho...</td>\n",
              "      <td>0</td>\n",
              "    </tr>\n",
              "    <tr>\n",
              "      <th>3</th>\n",
              "      <td>1294639481216045056</td>\n",
              "      <td>CDC - July 2020 ACIP Meeting - Overview of COV...</td>\n",
              "      <td>cdc   july 2020 acip meeting   overview of cov...</td>\n",
              "      <td>2</td>\n",
              "    </tr>\n",
              "    <tr>\n",
              "      <th>4</th>\n",
              "      <td>1319741954721239041</td>\n",
              "      <td>Notably absent is a vaccine for the nightmare ...</td>\n",
              "      <td>notably absent is a vaccine for the nightmare ...</td>\n",
              "      <td>2</td>\n",
              "    </tr>\n",
              "    <tr>\n",
              "      <th>...</th>\n",
              "      <td>...</td>\n",
              "      <td>...</td>\n",
              "      <td>...</td>\n",
              "      <td>...</td>\n",
              "    </tr>\n",
              "    <tr>\n",
              "      <th>1595</th>\n",
              "      <td>1275394676594540547</td>\n",
              "      <td>🔓😷💉#VIDACov19: The ZOOM link for the Virual Me...</td>\n",
              "      <td>unlocked  face with medical mask  syringe  vi...</td>\n",
              "      <td>2</td>\n",
              "    </tr>\n",
              "    <tr>\n",
              "      <th>1596</th>\n",
              "      <td>1339072387363508224</td>\n",
              "      <td>@aakobel @EthanHovermale @dolmenlord @strictly...</td>\n",
              "      <td>aakobel  ethanhovermale  dolmenlord  strictly...</td>\n",
              "      <td>2</td>\n",
              "    </tr>\n",
              "    <tr>\n",
              "      <th>1597</th>\n",
              "      <td>1328165880660955142</td>\n",
              "      <td>@charliekirk11 It's been 9 months since Covid ...</td>\n",
              "      <td>charliekirk11 it is been 9 months since covid...</td>\n",
              "      <td>0</td>\n",
              "    </tr>\n",
              "    <tr>\n",
              "      <th>1598</th>\n",
              "      <td>1337209455986020353</td>\n",
              "      <td>Apparently the Covid 19 Vaccine caused bell’s ...</td>\n",
              "      <td>apparently the covid 19 vaccine caused bell s ...</td>\n",
              "      <td>1</td>\n",
              "    </tr>\n",
              "    <tr>\n",
              "      <th>1599</th>\n",
              "      <td>1338143437921533954</td>\n",
              "      <td>@R14ScoRae @dirtroadliving1 So Pfizer doesn’t ...</td>\n",
              "      <td>r14scorae  dirtroadliving1 so pfizer does not...</td>\n",
              "      <td>1</td>\n",
              "    </tr>\n",
              "  </tbody>\n",
              "</table>\n",
              "<p>1600 rows × 4 columns</p>\n",
              "</div>"
            ],
            "text/plain": [
              "                       id  ... ypred\n",
              "0     1259097719341297664  ...     1\n",
              "1     1307596484251062273  ...     1\n",
              "2     1296241188823953409  ...     0\n",
              "3     1294639481216045056  ...     2\n",
              "4     1319741954721239041  ...     2\n",
              "...                   ...  ...   ...\n",
              "1595  1275394676594540547  ...     2\n",
              "1596  1339072387363508224  ...     2\n",
              "1597  1328165880660955142  ...     0\n",
              "1598  1337209455986020353  ...     1\n",
              "1599  1338143437921533954  ...     1\n",
              "\n",
              "[1600 rows x 4 columns]"
            ]
          },
          "metadata": {
            "tags": []
          },
          "execution_count": 101
        }
      ]
    },
    {
      "cell_type": "code",
      "metadata": {
        "id": "hOK5NaCfd2c0",
        "outputId": "8b7d58a1-fc25-4a60-daa2-3c4e255172aa",
        "colab": {
          "base_uri": "https://localhost:8080/",
          "height": 516
        }
      },
      "source": [
        "y_map_inv = {\n",
        "    0: 'ProVax',\n",
        "    1: 'AntiVax',\n",
        "    2: 'Neutral'\n",
        "}\n",
        "\n",
        "# df_train['Sentiment_Cat'] = df_train['label'].map(y_map)\n",
        "df_test['label'] = df_test['ypred'].map(y_map_inv)\n",
        "df_test"
      ],
      "execution_count": 102,
      "outputs": [
        {
          "output_type": "execute_result",
          "data": {
            "text/html": [
              "<div>\n",
              "<style scoped>\n",
              "    .dataframe tbody tr th:only-of-type {\n",
              "        vertical-align: middle;\n",
              "    }\n",
              "\n",
              "    .dataframe tbody tr th {\n",
              "        vertical-align: top;\n",
              "    }\n",
              "\n",
              "    .dataframe thead th {\n",
              "        text-align: right;\n",
              "    }\n",
              "</style>\n",
              "<table border=\"1\" class=\"dataframe\">\n",
              "  <thead>\n",
              "    <tr style=\"text-align: right;\">\n",
              "      <th></th>\n",
              "      <th>id</th>\n",
              "      <th>tweet</th>\n",
              "      <th>tweet_cleaned</th>\n",
              "      <th>ypred</th>\n",
              "      <th>label</th>\n",
              "    </tr>\n",
              "  </thead>\n",
              "  <tbody>\n",
              "    <tr>\n",
              "      <th>0</th>\n",
              "      <td>1259097719341297664</td>\n",
              "      <td>Polls Say Millions of Americans Will Refuse CO...</td>\n",
              "      <td>polls say millions of americans will refuse co...</td>\n",
              "      <td>1</td>\n",
              "      <td>AntiVax</td>\n",
              "    </tr>\n",
              "    <tr>\n",
              "      <th>1</th>\n",
              "      <td>1307596484251062273</td>\n",
              "      <td>You are right. One should also remember that t...</td>\n",
              "      <td>you are right  one should also remember that t...</td>\n",
              "      <td>1</td>\n",
              "      <td>AntiVax</td>\n",
              "    </tr>\n",
              "    <tr>\n",
              "      <th>2</th>\n",
              "      <td>1296241188823953409</td>\n",
              "      <td>So.... I should have got the keys to my new ho...</td>\n",
              "      <td>so     i should have got the keys to my new ho...</td>\n",
              "      <td>0</td>\n",
              "      <td>ProVax</td>\n",
              "    </tr>\n",
              "    <tr>\n",
              "      <th>3</th>\n",
              "      <td>1294639481216045056</td>\n",
              "      <td>CDC - July 2020 ACIP Meeting - Overview of COV...</td>\n",
              "      <td>cdc   july 2020 acip meeting   overview of cov...</td>\n",
              "      <td>2</td>\n",
              "      <td>Neutral</td>\n",
              "    </tr>\n",
              "    <tr>\n",
              "      <th>4</th>\n",
              "      <td>1319741954721239041</td>\n",
              "      <td>Notably absent is a vaccine for the nightmare ...</td>\n",
              "      <td>notably absent is a vaccine for the nightmare ...</td>\n",
              "      <td>2</td>\n",
              "      <td>Neutral</td>\n",
              "    </tr>\n",
              "    <tr>\n",
              "      <th>...</th>\n",
              "      <td>...</td>\n",
              "      <td>...</td>\n",
              "      <td>...</td>\n",
              "      <td>...</td>\n",
              "      <td>...</td>\n",
              "    </tr>\n",
              "    <tr>\n",
              "      <th>1595</th>\n",
              "      <td>1275394676594540547</td>\n",
              "      <td>🔓😷💉#VIDACov19: The ZOOM link for the Virual Me...</td>\n",
              "      <td>unlocked  face with medical mask  syringe  vi...</td>\n",
              "      <td>2</td>\n",
              "      <td>Neutral</td>\n",
              "    </tr>\n",
              "    <tr>\n",
              "      <th>1596</th>\n",
              "      <td>1339072387363508224</td>\n",
              "      <td>@aakobel @EthanHovermale @dolmenlord @strictly...</td>\n",
              "      <td>aakobel  ethanhovermale  dolmenlord  strictly...</td>\n",
              "      <td>2</td>\n",
              "      <td>Neutral</td>\n",
              "    </tr>\n",
              "    <tr>\n",
              "      <th>1597</th>\n",
              "      <td>1328165880660955142</td>\n",
              "      <td>@charliekirk11 It's been 9 months since Covid ...</td>\n",
              "      <td>charliekirk11 it is been 9 months since covid...</td>\n",
              "      <td>0</td>\n",
              "      <td>ProVax</td>\n",
              "    </tr>\n",
              "    <tr>\n",
              "      <th>1598</th>\n",
              "      <td>1337209455986020353</td>\n",
              "      <td>Apparently the Covid 19 Vaccine caused bell’s ...</td>\n",
              "      <td>apparently the covid 19 vaccine caused bell s ...</td>\n",
              "      <td>1</td>\n",
              "      <td>AntiVax</td>\n",
              "    </tr>\n",
              "    <tr>\n",
              "      <th>1599</th>\n",
              "      <td>1338143437921533954</td>\n",
              "      <td>@R14ScoRae @dirtroadliving1 So Pfizer doesn’t ...</td>\n",
              "      <td>r14scorae  dirtroadliving1 so pfizer does not...</td>\n",
              "      <td>1</td>\n",
              "      <td>AntiVax</td>\n",
              "    </tr>\n",
              "  </tbody>\n",
              "</table>\n",
              "<p>1600 rows × 5 columns</p>\n",
              "</div>"
            ],
            "text/plain": [
              "                       id  ...    label\n",
              "0     1259097719341297664  ...  AntiVax\n",
              "1     1307596484251062273  ...  AntiVax\n",
              "2     1296241188823953409  ...   ProVax\n",
              "3     1294639481216045056  ...  Neutral\n",
              "4     1319741954721239041  ...  Neutral\n",
              "...                   ...  ...      ...\n",
              "1595  1275394676594540547  ...  Neutral\n",
              "1596  1339072387363508224  ...  Neutral\n",
              "1597  1328165880660955142  ...   ProVax\n",
              "1598  1337209455986020353  ...  AntiVax\n",
              "1599  1338143437921533954  ...  AntiVax\n",
              "\n",
              "[1600 rows x 5 columns]"
            ]
          },
          "metadata": {
            "tags": []
          },
          "execution_count": 102
        }
      ]
    },
    {
      "cell_type": "code",
      "metadata": {
        "id": "etVfesBTgSy6"
      },
      "source": [
        "df_test.to_csv(\"prediction.csv\")"
      ],
      "execution_count": 103,
      "outputs": []
    },
    {
      "cell_type": "code",
      "metadata": {
        "id": "3XLO099856Xm",
        "colab": {
          "base_uri": "https://localhost:8080/",
          "height": 295
        },
        "outputId": "48dc564b-bb94-45f5-9c2c-97b0b0c4582e"
      },
      "source": [
        "y_map_inv = {\n",
        "    0: 'ProVax',\n",
        "    1: 'AntiVax',\n",
        "    2: 'Neutral'\n",
        "}\n",
        "\n",
        "# y_map = {\n",
        "#     'ProVax': 0, \n",
        "#     'AntiVax': 1, \n",
        "#     'Neutral': 2\n",
        "# }\n",
        "\n",
        "sns.heatmap(\n",
        "    pd.crosstab(df_test['ypred'].map(y_map_inv), df_test['Sentiment_Cat'].map(y_map_inv)),\n",
        "    annot=True,\n",
        "    fmt='0.0f',\n",
        "    cbar=False,\n",
        "    linewidth=2,\n",
        "    cmap='coolwarm'     \n",
        ")\n",
        "\n",
        "plt.xlabel('True')\n",
        "plt.ylabel('Predicted')\n",
        "plt.title('Confusion Matrix');"
      ],
      "execution_count": 77,
      "outputs": [
        {
          "output_type": "display_data",
          "data": {
            "image/png": "[encoded data removed]",
            "text/plain": [
              "<Figure size 432x288 with 1 Axes>"
            ]
          },
          "metadata": {
            "tags": [],
            "needs_background": "light"
          }
        }
      ]
    },
    {
      "cell_type": "code",
      "metadata": {
        "id": "emwFinxTloyj",
        "colab": {
          "base_uri": "https://localhost:8080/"
        },
        "outputId": "a0506108-9c50-413d-eea5-93cb6f6711ea"
      },
      "source": [
        "y_test = df_test['Sentiment_Cat'].map(y_map_inv)\n",
        "y_pred = df_test['ypred'].map(y_map_inv)\n",
        "#importing confusion matrix\n",
        "from sklearn.metrics import confusion_matrix\n",
        "confusion = confusion_matrix(y_test, y_pred)\n",
        "print('Confusion Matrix\\n')\n",
        "print(confusion)\n",
        "\n",
        "#importing accuracy_score, precision_score, recall_score, f1_score\n",
        "from sklearn.metrics import accuracy_score, precision_score, recall_score, f1_score\n",
        "print('\\nAccuracy: {:.2f}\\n'.format(accuracy_score(y_test, y_pred)))\n",
        "\n",
        "print('Micro Precision: {:.2f}'.format(precision_score(y_test, y_pred, average='micro')))\n",
        "print('Micro Recall: {:.2f}'.format(recall_score(y_test, y_pred, average='micro')))\n",
        "print('Micro F1-score: {:.2f}\\n'.format(f1_score(y_test, y_pred, average='micro')))\n",
        "\n",
        "print('Macro Precision: {:.2f}'.format(precision_score(y_test, y_pred, average='macro')))\n",
        "print('Macro Recall: {:.2f}'.format(recall_score(y_test, y_pred, average='macro')))\n",
        "print('Macro F1-score: {:.2f}\\n'.format(f1_score(y_test, y_pred, average='macro')))\n",
        "\n",
        "print('Weighted Precision: {:.2f}'.format(precision_score(y_test, y_pred, average='weighted')))\n",
        "print('Weighted Recall: {:.2f}'.format(recall_score(y_test, y_pred, average='weighted')))\n",
        "print('Weighted F1-score: {:.2f}'.format(f1_score(y_test, y_pred, average='weighted')))\n",
        "\n",
        "from sklearn.metrics import classification_report\n",
        "print('\\nClassification Report\\n')\n",
        "print(classification_report(y_test, y_pred, target_names=['Class 1', 'Class 2', 'Class 3']))\n"
      ],
      "execution_count": 78,
      "outputs": [
        {
          "output_type": "stream",
          "text": [
            "Confusion Matrix\n",
            "\n",
            "[[72  4  3]\n",
            " [ 6 87  8]\n",
            " [ 6  9 84]]\n",
            "\n",
            "Accuracy: 0.87\n",
            "\n",
            "Micro Precision: 0.87\n",
            "Micro Recall: 0.87\n",
            "Micro F1-score: 0.87\n",
            "\n",
            "Macro Precision: 0.87\n",
            "Macro Recall: 0.87\n",
            "Macro F1-score: 0.87\n",
            "\n",
            "Weighted Precision: 0.87\n",
            "Weighted Recall: 0.87\n",
            "Weighted F1-score: 0.87\n",
            "\n",
            "Classification Report\n",
            "\n",
            "              precision    recall  f1-score   support\n",
            "\n",
            "     Class 1       0.86      0.91      0.88        79\n",
            "     Class 2       0.87      0.86      0.87       101\n",
            "     Class 3       0.88      0.85      0.87        99\n",
            "\n",
            "    accuracy                           0.87       279\n",
            "   macro avg       0.87      0.87      0.87       279\n",
            "weighted avg       0.87      0.87      0.87       279\n",
            "\n"
          ],
          "name": "stdout"
        }
      ]
    }
  ]
}