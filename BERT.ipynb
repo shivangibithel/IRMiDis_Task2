{
  "nbformat": 4,
  "nbformat_minor": 0,
  "metadata": {
    "colab": {
      "name": "BERT.ipynb",
      "provenance": [],
      "collapsed_sections": [],
      "include_colab_link": true
    },
    "kernelspec": {
      "name": "python3",
      "display_name": "Python 3"
    },
    "accelerator": "GPU",
    "widgets": {
      "application/vnd.jupyter.widget-state+json": {
        "0e3ca1974efa4e1ba290a8cba7cd668f": {
          "model_module": "@jupyter-widgets/controls",
          "model_name": "HBoxModel",
          "state": {
            "_view_name": "HBoxView",
            "_dom_classes": [],
            "_model_name": "HBoxModel",
            "_view_module": "@jupyter-widgets/controls",
            "_model_module_version": "1.5.0",
            "_view_count": null,
            "_view_module_version": "1.5.0",
            "box_style": "",
            "layout": "IPY_MODEL_9e1790da07a04503acf6090660058115",
            "_model_module": "@jupyter-widgets/controls",
            "children": [
              "IPY_MODEL_a5093e45dcfe4077836633819bc132c4",
              "IPY_MODEL_9d63fba7f70f4fec9592583758b7fdd8"
            ]
          }
        },
        "9e1790da07a04503acf6090660058115": {
          "model_module": "@jupyter-widgets/base",
          "model_name": "LayoutModel",
          "state": {
            "_view_name": "LayoutView",
            "grid_template_rows": null,
            "right": null,
            "justify_content": null,
            "_view_module": "@jupyter-widgets/base",
            "overflow": null,
            "_model_module_version": "1.2.0",
            "_view_count": null,
            "flex_flow": null,
            "width": null,
            "min_width": null,
            "border": null,
            "align_items": null,
            "bottom": null,
            "_model_module": "@jupyter-widgets/base",
            "top": null,
            "grid_column": null,
            "overflow_y": null,
            "overflow_x": null,
            "grid_auto_flow": null,
            "grid_area": null,
            "grid_template_columns": null,
            "flex": null,
            "_model_name": "LayoutModel",
            "justify_items": null,
            "grid_row": null,
            "max_height": null,
            "align_content": null,
            "visibility": null,
            "align_self": null,
            "height": null,
            "min_height": null,
            "padding": null,
            "grid_auto_rows": null,
            "grid_gap": null,
            "max_width": null,
            "order": null,
            "_view_module_version": "1.2.0",
            "grid_template_areas": null,
            "object_position": null,
            "object_fit": null,
            "grid_auto_columns": null,
            "margin": null,
            "display": null,
            "left": null
          }
        },
        "a5093e45dcfe4077836633819bc132c4": {
          "model_module": "@jupyter-widgets/controls",
          "model_name": "FloatProgressModel",
          "state": {
            "_view_name": "ProgressView",
            "style": "IPY_MODEL_f1b6f269ce8448c6b57588790f857712",
            "_dom_classes": [],
            "description": "Downloading: 100%",
            "_model_name": "FloatProgressModel",
            "bar_style": "success",
            "max": 231508,
            "_view_module": "@jupyter-widgets/controls",
            "_model_module_version": "1.5.0",
            "value": 231508,
            "_view_count": null,
            "_view_module_version": "1.5.0",
            "orientation": "horizontal",
            "min": 0,
            "description_tooltip": null,
            "_model_module": "@jupyter-widgets/controls",
            "layout": "IPY_MODEL_dc99b1aca579480286c9aa7565b1f726"
          }
        },
        "9d63fba7f70f4fec9592583758b7fdd8": {
          "model_module": "@jupyter-widgets/controls",
          "model_name": "HTMLModel",
          "state": {
            "_view_name": "HTMLView",
            "style": "IPY_MODEL_c8cfa2c4d797488a9710a6c7fa30f277",
            "_dom_classes": [],
            "description": "",
            "_model_name": "HTMLModel",
            "placeholder": "​",
            "_view_module": "@jupyter-widgets/controls",
            "_model_module_version": "1.5.0",
            "value": " 232k/232k [01:00&lt;00:00, 3.81kB/s]",
            "_view_count": null,
            "_view_module_version": "1.5.0",
            "description_tooltip": null,
            "_model_module": "@jupyter-widgets/controls",
            "layout": "IPY_MODEL_e87dfe0d9eb346218e66d81569caa675"
          }
        },
        "f1b6f269ce8448c6b57588790f857712": {
          "model_module": "@jupyter-widgets/controls",
          "model_name": "ProgressStyleModel",
          "state": {
            "_view_name": "StyleView",
            "_model_name": "ProgressStyleModel",
            "description_width": "initial",
            "_view_module": "@jupyter-widgets/base",
            "_model_module_version": "1.5.0",
            "_view_count": null,
            "_view_module_version": "1.2.0",
            "bar_color": null,
            "_model_module": "@jupyter-widgets/controls"
          }
        },
        "dc99b1aca579480286c9aa7565b1f726": {
          "model_module": "@jupyter-widgets/base",
          "model_name": "LayoutModel",
          "state": {
            "_view_name": "LayoutView",
            "grid_template_rows": null,
            "right": null,
            "justify_content": null,
            "_view_module": "@jupyter-widgets/base",
            "overflow": null,
            "_model_module_version": "1.2.0",
            "_view_count": null,
            "flex_flow": null,
            "width": null,
            "min_width": null,
            "border": null,
            "align_items": null,
            "bottom": null,
            "_model_module": "@jupyter-widgets/base",
            "top": null,
            "grid_column": null,
            "overflow_y": null,
            "overflow_x": null,
            "grid_auto_flow": null,
            "grid_area": null,
            "grid_template_columns": null,
            "flex": null,
            "_model_name": "LayoutModel",
            "justify_items": null,
            "grid_row": null,
            "max_height": null,
            "align_content": null,
            "visibility": null,
            "align_self": null,
            "height": null,
            "min_height": null,
            "padding": null,
            "grid_auto_rows": null,
            "grid_gap": null,
            "max_width": null,
            "order": null,
            "_view_module_version": "1.2.0",
            "grid_template_areas": null,
            "object_position": null,
            "object_fit": null,
            "grid_auto_columns": null,
            "margin": null,
            "display": null,
            "left": null
          }
        },
        "c8cfa2c4d797488a9710a6c7fa30f277": {
          "model_module": "@jupyter-widgets/controls",
          "model_name": "DescriptionStyleModel",
          "state": {
            "_view_name": "StyleView",
            "_model_name": "DescriptionStyleModel",
            "description_width": "",
            "_view_module": "@jupyter-widgets/base",
            "_model_module_version": "1.5.0",
            "_view_count": null,
            "_view_module_version": "1.2.0",
            "_model_module": "@jupyter-widgets/controls"
          }
        },
        "e87dfe0d9eb346218e66d81569caa675": {
          "model_module": "@jupyter-widgets/base",
          "model_name": "LayoutModel",
          "state": {
            "_view_name": "LayoutView",
            "grid_template_rows": null,
            "right": null,
            "justify_content": null,
            "_view_module": "@jupyter-widgets/base",
            "overflow": null,
            "_model_module_version": "1.2.0",
            "_view_count": null,
            "flex_flow": null,
            "width": null,
            "min_width": null,
            "border": null,
            "align_items": null,
            "bottom": null,
            "_model_module": "@jupyter-widgets/base",
            "top": null,
            "grid_column": null,
            "overflow_y": null,
            "overflow_x": null,
            "grid_auto_flow": null,
            "grid_area": null,
            "grid_template_columns": null,
            "flex": null,
            "_model_name": "LayoutModel",
            "justify_items": null,
            "grid_row": null,
            "max_height": null,
            "align_content": null,
            "visibility": null,
            "align_self": null,
            "height": null,
            "min_height": null,
            "padding": null,
            "grid_auto_rows": null,
            "grid_gap": null,
            "max_width": null,
            "order": null,
            "_view_module_version": "1.2.0",
            "grid_template_areas": null,
            "object_position": null,
            "object_fit": null,
            "grid_auto_columns": null,
            "margin": null,
            "display": null,
            "left": null
          }
        },
        "441b34706cbc4b8b8bce68ab2d033d77": {
          "model_module": "@jupyter-widgets/controls",
          "model_name": "HBoxModel",
          "state": {
            "_view_name": "HBoxView",
            "_dom_classes": [],
            "_model_name": "HBoxModel",
            "_view_module": "@jupyter-widgets/controls",
            "_model_module_version": "1.5.0",
            "_view_count": null,
            "_view_module_version": "1.5.0",
            "box_style": "",
            "layout": "IPY_MODEL_75015b43a1b14d18ac33e6065ea3b254",
            "_model_module": "@jupyter-widgets/controls",
            "children": [
              "IPY_MODEL_653966a6131e49a09261a34cbf8b3328",
              "IPY_MODEL_651e4a23ac34408eae49af0dea23cef4"
            ]
          }
        },
        "75015b43a1b14d18ac33e6065ea3b254": {
          "model_module": "@jupyter-widgets/base",
          "model_name": "LayoutModel",
          "state": {
            "_view_name": "LayoutView",
            "grid_template_rows": null,
            "right": null,
            "justify_content": null,
            "_view_module": "@jupyter-widgets/base",
            "overflow": null,
            "_model_module_version": "1.2.0",
            "_view_count": null,
            "flex_flow": null,
            "width": null,
            "min_width": null,
            "border": null,
            "align_items": null,
            "bottom": null,
            "_model_module": "@jupyter-widgets/base",
            "top": null,
            "grid_column": null,
            "overflow_y": null,
            "overflow_x": null,
            "grid_auto_flow": null,
            "grid_area": null,
            "grid_template_columns": null,
            "flex": null,
            "_model_name": "LayoutModel",
            "justify_items": null,
            "grid_row": null,
            "max_height": null,
            "align_content": null,
            "visibility": null,
            "align_self": null,
            "height": null,
            "min_height": null,
            "padding": null,
            "grid_auto_rows": null,
            "grid_gap": null,
            "max_width": null,
            "order": null,
            "_view_module_version": "1.2.0",
            "grid_template_areas": null,
            "object_position": null,
            "object_fit": null,
            "grid_auto_columns": null,
            "margin": null,
            "display": null,
            "left": null
          }
        },
        "653966a6131e49a09261a34cbf8b3328": {
          "model_module": "@jupyter-widgets/controls",
          "model_name": "FloatProgressModel",
          "state": {
            "_view_name": "ProgressView",
            "style": "IPY_MODEL_ed0bd3e3d9fa4dd58113aa255b173892",
            "_dom_classes": [],
            "description": "Downloading: 100%",
            "_model_name": "FloatProgressModel",
            "bar_style": "success",
            "max": 466062,
            "_view_module": "@jupyter-widgets/controls",
            "_model_module_version": "1.5.0",
            "value": 466062,
            "_view_count": null,
            "_view_module_version": "1.5.0",
            "orientation": "horizontal",
            "min": 0,
            "description_tooltip": null,
            "_model_module": "@jupyter-widgets/controls",
            "layout": "IPY_MODEL_68a760fb11414541bef7bab8edc9aed9"
          }
        },
        "651e4a23ac34408eae49af0dea23cef4": {
          "model_module": "@jupyter-widgets/controls",
          "model_name": "HTMLModel",
          "state": {
            "_view_name": "HTMLView",
            "style": "IPY_MODEL_43624a67ec084c8db1f82720c66e562a",
            "_dom_classes": [],
            "description": "",
            "_model_name": "HTMLModel",
            "placeholder": "​",
            "_view_module": "@jupyter-widgets/controls",
            "_model_module_version": "1.5.0",
            "value": " 466k/466k [00:59&lt;00:00, 7.79kB/s]",
            "_view_count": null,
            "_view_module_version": "1.5.0",
            "description_tooltip": null,
            "_model_module": "@jupyter-widgets/controls",
            "layout": "IPY_MODEL_d3ffa264220e4b06be362859b456a6dd"
          }
        },
        "ed0bd3e3d9fa4dd58113aa255b173892": {
          "model_module": "@jupyter-widgets/controls",
          "model_name": "ProgressStyleModel",
          "state": {
            "_view_name": "StyleView",
            "_model_name": "ProgressStyleModel",
            "description_width": "initial",
            "_view_module": "@jupyter-widgets/base",
            "_model_module_version": "1.5.0",
            "_view_count": null,
            "_view_module_version": "1.2.0",
            "bar_color": null,
            "_model_module": "@jupyter-widgets/controls"
          }
        },
        "68a760fb11414541bef7bab8edc9aed9": {
          "model_module": "@jupyter-widgets/base",
          "model_name": "LayoutModel",
          "state": {
            "_view_name": "LayoutView",
            "grid_template_rows": null,
            "right": null,
            "justify_content": null,
            "_view_module": "@jupyter-widgets/base",
            "overflow": null,
            "_model_module_version": "1.2.0",
            "_view_count": null,
            "flex_flow": null,
            "width": null,
            "min_width": null,
            "border": null,
            "align_items": null,
            "bottom": null,
            "_model_module": "@jupyter-widgets/base",
            "top": null,
            "grid_column": null,
            "overflow_y": null,
            "overflow_x": null,
            "grid_auto_flow": null,
            "grid_area": null,
            "grid_template_columns": null,
            "flex": null,
            "_model_name": "LayoutModel",
            "justify_items": null,
            "grid_row": null,
            "max_height": null,
            "align_content": null,
            "visibility": null,
            "align_self": null,
            "height": null,
            "min_height": null,
            "padding": null,
            "grid_auto_rows": null,
            "grid_gap": null,
            "max_width": null,
            "order": null,
            "_view_module_version": "1.2.0",
            "grid_template_areas": null,
            "object_position": null,
            "object_fit": null,
            "grid_auto_columns": null,
            "margin": null,
            "display": null,
            "left": null
          }
        },
        "43624a67ec084c8db1f82720c66e562a": {
          "model_module": "@jupyter-widgets/controls",
          "model_name": "DescriptionStyleModel",
          "state": {
            "_view_name": "StyleView",
            "_model_name": "DescriptionStyleModel",
            "description_width": "",
            "_view_module": "@jupyter-widgets/base",
            "_model_module_version": "1.5.0",
            "_view_count": null,
            "_view_module_version": "1.2.0",
            "_model_module": "@jupyter-widgets/controls"
          }
        },
        "d3ffa264220e4b06be362859b456a6dd": {
          "model_module": "@jupyter-widgets/base",
          "model_name": "LayoutModel",
          "state": {
            "_view_name": "LayoutView",
            "grid_template_rows": null,
            "right": null,
            "justify_content": null,
            "_view_module": "@jupyter-widgets/base",
            "overflow": null,
            "_model_module_version": "1.2.0",
            "_view_count": null,
            "flex_flow": null,
            "width": null,
            "min_width": null,
            "border": null,
            "align_items": null,
            "bottom": null,
            "_model_module": "@jupyter-widgets/base",
            "top": null,
            "grid_column": null,
            "overflow_y": null,
            "overflow_x": null,
            "grid_auto_flow": null,
            "grid_area": null,
            "grid_template_columns": null,
            "flex": null,
            "_model_name": "LayoutModel",
            "justify_items": null,
            "grid_row": null,
            "max_height": null,
            "align_content": null,
            "visibility": null,
            "align_self": null,
            "height": null,
            "min_height": null,
            "padding": null,
            "grid_auto_rows": null,
            "grid_gap": null,
            "max_width": null,
            "order": null,
            "_view_module_version": "1.2.0",
            "grid_template_areas": null,
            "object_position": null,
            "object_fit": null,
            "grid_auto_columns": null,
            "margin": null,
            "display": null,
            "left": null
          }
        },
        "a9688765c10f4355964da97eb7cdc43e": {
          "model_module": "@jupyter-widgets/controls",
          "model_name": "HBoxModel",
          "state": {
            "_view_name": "HBoxView",
            "_dom_classes": [],
            "_model_name": "HBoxModel",
            "_view_module": "@jupyter-widgets/controls",
            "_model_module_version": "1.5.0",
            "_view_count": null,
            "_view_module_version": "1.5.0",
            "box_style": "",
            "layout": "IPY_MODEL_79b65f8616b344058fe498cbfb72d14f",
            "_model_module": "@jupyter-widgets/controls",
            "children": [
              "IPY_MODEL_f0868418ef5748d0acee7bcc2d0173c5",
              "IPY_MODEL_dd9add8cde3b4275ae859bcbd8e787a1"
            ]
          }
        },
        "79b65f8616b344058fe498cbfb72d14f": {
          "model_module": "@jupyter-widgets/base",
          "model_name": "LayoutModel",
          "state": {
            "_view_name": "LayoutView",
            "grid_template_rows": null,
            "right": null,
            "justify_content": null,
            "_view_module": "@jupyter-widgets/base",
            "overflow": null,
            "_model_module_version": "1.2.0",
            "_view_count": null,
            "flex_flow": null,
            "width": null,
            "min_width": null,
            "border": null,
            "align_items": null,
            "bottom": null,
            "_model_module": "@jupyter-widgets/base",
            "top": null,
            "grid_column": null,
            "overflow_y": null,
            "overflow_x": null,
            "grid_auto_flow": null,
            "grid_area": null,
            "grid_template_columns": null,
            "flex": null,
            "_model_name": "LayoutModel",
            "justify_items": null,
            "grid_row": null,
            "max_height": null,
            "align_content": null,
            "visibility": null,
            "align_self": null,
            "height": null,
            "min_height": null,
            "padding": null,
            "grid_auto_rows": null,
            "grid_gap": null,
            "max_width": null,
            "order": null,
            "_view_module_version": "1.2.0",
            "grid_template_areas": null,
            "object_position": null,
            "object_fit": null,
            "grid_auto_columns": null,
            "margin": null,
            "display": null,
            "left": null
          }
        },
        "f0868418ef5748d0acee7bcc2d0173c5": {
          "model_module": "@jupyter-widgets/controls",
          "model_name": "FloatProgressModel",
          "state": {
            "_view_name": "ProgressView",
            "style": "IPY_MODEL_e6527ad0f08442ee965d0d64a7d752ea",
            "_dom_classes": [],
            "description": "Downloading: 100%",
            "_model_name": "FloatProgressModel",
            "bar_style": "success",
            "max": 28,
            "_view_module": "@jupyter-widgets/controls",
            "_model_module_version": "1.5.0",
            "value": 28,
            "_view_count": null,
            "_view_module_version": "1.5.0",
            "orientation": "horizontal",
            "min": 0,
            "description_tooltip": null,
            "_model_module": "@jupyter-widgets/controls",
            "layout": "IPY_MODEL_d03b15c9155241cb88bd33b8540beb5b"
          }
        },
        "dd9add8cde3b4275ae859bcbd8e787a1": {
          "model_module": "@jupyter-widgets/controls",
          "model_name": "HTMLModel",
          "state": {
            "_view_name": "HTMLView",
            "style": "IPY_MODEL_7f7b1bd2ef2745a3b84b0d36127fc636",
            "_dom_classes": [],
            "description": "",
            "_model_name": "HTMLModel",
            "placeholder": "​",
            "_view_module": "@jupyter-widgets/controls",
            "_model_module_version": "1.5.0",
            "value": " 28.0/28.0 [00:44&lt;00:00, 1.61s/B]",
            "_view_count": null,
            "_view_module_version": "1.5.0",
            "description_tooltip": null,
            "_model_module": "@jupyter-widgets/controls",
            "layout": "IPY_MODEL_d47b300ef5b54ca7a3ed4136d532fe7a"
          }
        },
        "e6527ad0f08442ee965d0d64a7d752ea": {
          "model_module": "@jupyter-widgets/controls",
          "model_name": "ProgressStyleModel",
          "state": {
            "_view_name": "StyleView",
            "_model_name": "ProgressStyleModel",
            "description_width": "initial",
            "_view_module": "@jupyter-widgets/base",
            "_model_module_version": "1.5.0",
            "_view_count": null,
            "_view_module_version": "1.2.0",
            "bar_color": null,
            "_model_module": "@jupyter-widgets/controls"
          }
        },
        "d03b15c9155241cb88bd33b8540beb5b": {
          "model_module": "@jupyter-widgets/base",
          "model_name": "LayoutModel",
          "state": {
            "_view_name": "LayoutView",
            "grid_template_rows": null,
            "right": null,
            "justify_content": null,
            "_view_module": "@jupyter-widgets/base",
            "overflow": null,
            "_model_module_version": "1.2.0",
            "_view_count": null,
            "flex_flow": null,
            "width": null,
            "min_width": null,
            "border": null,
            "align_items": null,
            "bottom": null,
            "_model_module": "@jupyter-widgets/base",
            "top": null,
            "grid_column": null,
            "overflow_y": null,
            "overflow_x": null,
            "grid_auto_flow": null,
            "grid_area": null,
            "grid_template_columns": null,
            "flex": null,
            "_model_name": "LayoutModel",
            "justify_items": null,
            "grid_row": null,
            "max_height": null,
            "align_content": null,
            "visibility": null,
            "align_self": null,
            "height": null,
            "min_height": null,
            "padding": null,
            "grid_auto_rows": null,
            "grid_gap": null,
            "max_width": null,
            "order": null,
            "_view_module_version": "1.2.0",
            "grid_template_areas": null,
            "object_position": null,
            "object_fit": null,
            "grid_auto_columns": null,
            "margin": null,
            "display": null,
            "left": null
          }
        },
        "7f7b1bd2ef2745a3b84b0d36127fc636": {
          "model_module": "@jupyter-widgets/controls",
          "model_name": "DescriptionStyleModel",
          "state": {
            "_view_name": "StyleView",
            "_model_name": "DescriptionStyleModel",
            "description_width": "",
            "_view_module": "@jupyter-widgets/base",
            "_model_module_version": "1.5.0",
            "_view_count": null,
            "_view_module_version": "1.2.0",
            "_model_module": "@jupyter-widgets/controls"
          }
        },
        "d47b300ef5b54ca7a3ed4136d532fe7a": {
          "model_module": "@jupyter-widgets/base",
          "model_name": "LayoutModel",
          "state": {
            "_view_name": "LayoutView",
            "grid_template_rows": null,
            "right": null,
            "justify_content": null,
            "_view_module": "@jupyter-widgets/base",
            "overflow": null,
            "_model_module_version": "1.2.0",
            "_view_count": null,
            "flex_flow": null,
            "width": null,
            "min_width": null,
            "border": null,
            "align_items": null,
            "bottom": null,
            "_model_module": "@jupyter-widgets/base",
            "top": null,
            "grid_column": null,
            "overflow_y": null,
            "overflow_x": null,
            "grid_auto_flow": null,
            "grid_area": null,
            "grid_template_columns": null,
            "flex": null,
            "_model_name": "LayoutModel",
            "justify_items": null,
            "grid_row": null,
            "max_height": null,
            "align_content": null,
            "visibility": null,
            "align_self": null,
            "height": null,
            "min_height": null,
            "padding": null,
            "grid_auto_rows": null,
            "grid_gap": null,
            "max_width": null,
            "order": null,
            "_view_module_version": "1.2.0",
            "grid_template_areas": null,
            "object_position": null,
            "object_fit": null,
            "grid_auto_columns": null,
            "margin": null,
            "display": null,
            "left": null
          }
        }
      }
    }
  },
  "cells": [
    {
      "cell_type": "markdown",
      "metadata": {
        "id": "view-in-github",
        "colab_type": "text"
      },
      "source": [
        "<a href=\"https://colab.research.google.com/github/shivangibithel/IRMiDis_Task2/blob/main/BERT.ipynb\" target=\"_parent\"><img src=\"https://colab.research.google.com/assets/colab-badge.svg\" alt=\"Open In Colab\"/></a>"
      ]
    },
    {
      "cell_type": "markdown",
      "metadata": {
        "id": "NpnXFnMkfld3"
      },
      "source": [
        "# Installing Transformer and imports"
      ]
    },
    {
      "cell_type": "code",
      "metadata": {
        "id": "8KM9EjsHZ7jX"
      },
      "source": [
        "pip install transformers"
      ],
      "execution_count": null,
      "outputs": []
    },
    {
      "cell_type": "code",
      "metadata": {
        "id": "h78UkLjkaBbM"
      },
      "source": [
        "import os\n",
        "import random\n",
        "import numpy as np\n",
        "import pandas as pd\n",
        "import matplotlib.pyplot as plt\n",
        "import seaborn as sns\n",
        "import cv2\n",
        "import os\n",
        "import math\n",
        "import seaborn as sn\n",
        "import tensorflow as tf\n",
        "import tensorflow_datasets as tfds\n",
        "from bs4 import BeautifulSoup\n",
        "from sklearn import metrics as sk_metrics\n",
        "import nltk\n",
        "import re"
      ],
      "execution_count": 2,
      "outputs": []
    },
    {
      "cell_type": "code",
      "metadata": {
        "id": "LqrLQyTUaCRE"
      },
      "source": [
        "# from google.colab import drive\n",
        "# drive.mount('/content/gdrive/')"
      ],
      "execution_count": null,
      "outputs": []
    },
    {
      "cell_type": "code",
      "metadata": {
        "id": "u0ddrG6EaDON"
      },
      "source": [
        "# folder = '/content/gdrive/My Drive/corona-tweet-sent'\n",
        "# train_f = 'Corona_NLP_train.csv'\n",
        "# test_f = 'Corona_NLP_test.csv'\n",
        "\n",
        "# df_train = pd.read_csv(os.path.join(folder, train_f), engine='python')\n",
        "# df_test = pd.read_csv(os.path.join(folder, test_f), engine='python')"
      ],
      "execution_count": null,
      "outputs": []
    },
    {
      "cell_type": "markdown",
      "metadata": {
        "id": "4gQPIXoSfsSU"
      },
      "source": [
        "# Data read and split...for some accuracy numbers"
      ]
    },
    {
      "cell_type": "code",
      "metadata": {
        "id": "yYQB6za1Wup4"
      },
      "source": [
        "our_data = pd.read_csv(\"irmidis-2021-task2-train.csv\")\n",
        "from sklearn.utils import shuffle\n",
        "our_data = shuffle(our_data)\n",
        "# df_train = pd.read_csv(\"irmidis-2021-task2-train.csv\")\n",
        "# df_test = pd.read_csv(\"irmidis-2021-task2-test.csv\")\n",
        "# df_train = our_data[:2233]\n",
        "# df_test = our_data[2234:]"
      ],
      "execution_count": 3,
      "outputs": []
    },
    {
      "cell_type": "code",
      "metadata": {
        "id": "DIYXYF8z28ap"
      },
      "source": [
        "from sklearn.model_selection import StratifiedShuffleSplit\n",
        "df = our_data\n",
        "split = StratifiedShuffleSplit(n_splits=1, test_size=0.2, random_state=42)\n",
        "for train_index, test_valid_index in split.split(df, df.label):\n",
        "    df_train = df.iloc[train_index]\n",
        "    df_test = df.iloc[test_valid_index]"
      ],
      "execution_count": 5,
      "outputs": []
    },
    {
      "cell_type": "code",
      "metadata": {
        "id": "eqLJiW1YBWnc"
      },
      "source": [
        "# col_list = [\"id\", \"tweet\", \"label\"]\n",
        "# our_data = pd.read_csv(\"resampled_data.csv\", usecols=col_list)\n",
        "# from sklearn.utils import shuffle\n",
        "# # our_data = shuffle(our_data)\n",
        "# # df_train = pd.read_csv(\"irmidis-2021-task2-train.csv\")\n",
        "# # df_test = pd.read_csv(\"irmidis-2021-task2-test.csv\")\n",
        "# df_train = our_data\n",
        "# df_test = our_data"
      ],
      "execution_count": null,
      "outputs": []
    },
    {
      "cell_type": "code",
      "metadata": {
        "id": "pklk6KusbGf9",
        "colab": {
          "base_uri": "https://localhost:8080/"
        },
        "outputId": "7ecc5563-52e9-4f63-ce5d-e09323153308"
      },
      "source": [
        "df_train.info()"
      ],
      "execution_count": 6,
      "outputs": [
        {
          "output_type": "stream",
          "text": [
            "<class 'pandas.core.frame.DataFrame'>\n",
            "Int64Index: 2233 entries, 2634 to 2114\n",
            "Data columns (total 3 columns):\n",
            " #   Column  Non-Null Count  Dtype \n",
            "---  ------  --------------  ----- \n",
            " 0   id      2233 non-null   int64 \n",
            " 1   tweet   2233 non-null   object\n",
            " 2   label   2233 non-null   object\n",
            "dtypes: int64(1), object(2)\n",
            "memory usage: 69.8+ KB\n"
          ],
          "name": "stdout"
        }
      ]
    },
    {
      "cell_type": "code",
      "metadata": {
        "colab": {
          "base_uri": "https://localhost:8080/"
        },
        "id": "BI96posMLkQ7",
        "outputId": "e829513b-914e-4bef-ea4b-8a5d17008e90"
      },
      "source": [
        "df_train.label.value_counts()"
      ],
      "execution_count": 7,
      "outputs": [
        {
          "output_type": "execute_result",
          "data": {
            "text/plain": [
              "Neutral    808\n",
              "ProVax     792\n",
              "AntiVax    633\n",
              "Name: label, dtype: int64"
            ]
          },
          "metadata": {
            "tags": []
          },
          "execution_count": 7
        }
      ]
    },
    {
      "cell_type": "code",
      "metadata": {
        "colab": {
          "base_uri": "https://localhost:8080/"
        },
        "id": "hxH0PYoLL0rF",
        "outputId": "c3aed4cb-4f66-42f7-8e6f-750d8b865c8c"
      },
      "source": [
        "our_data.label.value_counts()"
      ],
      "execution_count": 8,
      "outputs": [
        {
          "output_type": "execute_result",
          "data": {
            "text/plain": [
              "Neutral    1010\n",
              "ProVax      991\n",
              "AntiVax     791\n",
              "Name: label, dtype: int64"
            ]
          },
          "metadata": {
            "tags": []
          },
          "execution_count": 8
        }
      ]
    },
    {
      "cell_type": "code",
      "metadata": {
        "id": "xhF9mMVKbnBN",
        "colab": {
          "base_uri": "https://localhost:8080/",
          "height": 202
        },
        "outputId": "b60567e2-269f-495f-fb3b-8d242e2ca993"
      },
      "source": [
        "df_train.head()"
      ],
      "execution_count": 9,
      "outputs": [
        {
          "output_type": "execute_result",
          "data": {
            "text/html": [
              "<div>\n",
              "<style scoped>\n",
              "    .dataframe tbody tr th:only-of-type {\n",
              "        vertical-align: middle;\n",
              "    }\n",
              "\n",
              "    .dataframe tbody tr th {\n",
              "        vertical-align: top;\n",
              "    }\n",
              "\n",
              "    .dataframe thead th {\n",
              "        text-align: right;\n",
              "    }\n",
              "</style>\n",
              "<table border=\"1\" class=\"dataframe\">\n",
              "  <thead>\n",
              "    <tr style=\"text-align: right;\">\n",
              "      <th></th>\n",
              "      <th>id</th>\n",
              "      <th>tweet</th>\n",
              "      <th>label</th>\n",
              "    </tr>\n",
              "  </thead>\n",
              "  <tbody>\n",
              "    <tr>\n",
              "      <th>2634</th>\n",
              "      <td>1327378919838916610</td>\n",
              "      <td>Trump says coronavirus vaccine won't be delive...</td>\n",
              "      <td>Neutral</td>\n",
              "    </tr>\n",
              "    <tr>\n",
              "      <th>241</th>\n",
              "      <td>1334524947809579009</td>\n",
              "      <td>Clinton, Bush, Obama volunteer to publicly rec...</td>\n",
              "      <td>Neutral</td>\n",
              "    </tr>\n",
              "    <tr>\n",
              "      <th>438</th>\n",
              "      <td>1325770346868338688</td>\n",
              "      <td>Pfizer, BioNTech say their COVID-19 vaccine is...</td>\n",
              "      <td>Neutral</td>\n",
              "    </tr>\n",
              "    <tr>\n",
              "      <th>91</th>\n",
              "      <td>1325770359090647040</td>\n",
              "      <td>Pfizer says early analysis shows its Covid-19 ...</td>\n",
              "      <td>Neutral</td>\n",
              "    </tr>\n",
              "    <tr>\n",
              "      <th>2670</th>\n",
              "      <td>1325770338517606400</td>\n",
              "      <td>Covid vaccine: First vaccine offers 90% protec...</td>\n",
              "      <td>Neutral</td>\n",
              "    </tr>\n",
              "  </tbody>\n",
              "</table>\n",
              "</div>"
            ],
            "text/plain": [
              "                       id  ...    label\n",
              "2634  1327378919838916610  ...  Neutral\n",
              "241   1334524947809579009  ...  Neutral\n",
              "438   1325770346868338688  ...  Neutral\n",
              "91    1325770359090647040  ...  Neutral\n",
              "2670  1325770338517606400  ...  Neutral\n",
              "\n",
              "[5 rows x 3 columns]"
            ]
          },
          "metadata": {
            "tags": []
          },
          "execution_count": 9
        }
      ]
    },
    {
      "cell_type": "code",
      "metadata": {
        "id": "1UXvi9kQve9y",
        "colab": {
          "base_uri": "https://localhost:8080/",
          "height": 52
        },
        "outputId": "e37d3287-4fdd-49e2-ca57-ccc39fbedb91"
      },
      "source": [
        "df_train['tweet'].iloc[0]"
      ],
      "execution_count": 10,
      "outputs": [
        {
          "output_type": "execute_result",
          "data": {
            "application/vnd.google.colaboratory.intrinsic+json": {
              "type": "string"
            },
            "text/plain": [
              "\"Trump says coronavirus vaccine won't be delivered to New York “until we have authorization [from Cuomo] to do so”.\\n\\nShameless liars here👇 https://t.co/Fin7CVzQWh\""
            ]
          },
          "metadata": {
            "tags": []
          },
          "execution_count": 10
        }
      ]
    },
    {
      "cell_type": "code",
      "metadata": {
        "id": "LbVsoiYsbuYF",
        "colab": {
          "base_uri": "https://localhost:8080/"
        },
        "outputId": "e70dc248-43db-4dfc-bc02-69cbd4dffd4a"
      },
      "source": [
        "y_map = {\n",
        "    'ProVax': 0, \n",
        "    'AntiVax': 1, \n",
        "    'Neutral': 2\n",
        "}\n",
        "\n",
        "df_train['Sentiment_Cat'] = df_train['label'].map(y_map)\n",
        "df_test['Sentiment_Cat'] = df_test['label'].map(y_map)"
      ],
      "execution_count": 11,
      "outputs": [
        {
          "output_type": "stream",
          "text": [
            "/usr/local/lib/python3.7/dist-packages/ipykernel_launcher.py:7: SettingWithCopyWarning: \n",
            "A value is trying to be set on a copy of a slice from a DataFrame.\n",
            "Try using .loc[row_indexer,col_indexer] = value instead\n",
            "\n",
            "See the caveats in the documentation: https://pandas.pydata.org/pandas-docs/stable/user_guide/indexing.html#returning-a-view-versus-a-copy\n",
            "  import sys\n",
            "/usr/local/lib/python3.7/dist-packages/ipykernel_launcher.py:8: SettingWithCopyWarning: \n",
            "A value is trying to be set on a copy of a slice from a DataFrame.\n",
            "Try using .loc[row_indexer,col_indexer] = value instead\n",
            "\n",
            "See the caveats in the documentation: https://pandas.pydata.org/pandas-docs/stable/user_guide/indexing.html#returning-a-view-versus-a-copy\n",
            "  \n"
          ],
          "name": "stderr"
        }
      ]
    },
    {
      "cell_type": "markdown",
      "metadata": {
        "id": "2DzTRCQFf21N"
      },
      "source": [
        "# Pre-processing"
      ]
    },
    {
      "cell_type": "code",
      "metadata": {
        "id": "-mUdhBwNbwmn",
        "colab": {
          "base_uri": "https://localhost:8080/"
        },
        "outputId": "b167d1b6-ea2c-472f-8b39-ea62f118e154"
      },
      "source": [
        "# nltk.download('stopwords')\n",
        "# stop_words = nltk.corpus.stopwords.words('english')\n",
        "\n",
        "# def clean_text(data):\n",
        "#     data = data.lower()\n",
        "#     data = re.sub(r'https?:\\/\\/(www\\.)?[-a-zA-Z0-9@:%._\\+~#=]{1,256}\\.[a-zA-Z0-9()]{1,6}\\b([-a-zA-Z0-9()@:%_\\+.~#?&//=]*)', '', data)\n",
        "#     data = re.sub(r'([^a-zA-Z\\s])', '', data)\n",
        "#     data = data.split()\n",
        "#     temp = []\n",
        "#     for i in data:\n",
        "#         if i not in stop_words:\n",
        "#             temp.append(i)\n",
        "#     data = ' '.join(temp)\n",
        "#     return data\n",
        "\n",
        "# df_train['tweet_cleaned'] = df_train['tweet'].apply(clean_text)\n",
        "# df_test['tweet_cleaned'] = df_test['tweet'].apply(clean_text)"
      ],
      "execution_count": null,
      "outputs": [
        {
          "output_type": "stream",
          "text": [
            "[nltk_data] Downloading package stopwords to /root/nltk_data...\n",
            "[nltk_data]   Package stopwords is already up-to-date!\n"
          ],
          "name": "stdout"
        }
      ]
    },
    {
      "cell_type": "code",
      "metadata": {
        "id": "J5XfBOwfQ4WT",
        "outputId": "272475f0-af48-4081-e251-e45f32d1c5d2",
        "colab": {
          "base_uri": "https://localhost:8080/"
        }
      },
      "source": [
        "from sklearn.feature_extraction import stop_words\n",
        "stopwords = stop_words.ENGLISH_STOP_WORDS\n",
        "def clean(doc): #doc is a string of text\n",
        "    # doc = doc.replace(\"@\", \" \")\n",
        "    # doc = doc.replace(\" \", \" \")\n",
        "    doc = \"\".join([char for char in doc if char not in string.punctuation and not char.isdigit()])\n",
        "    # doc = \" \".join([token for token in doc.split() if token not in stopwords])\n",
        "    #remove punctuation and numbers\n",
        "    return doc"
      ],
      "execution_count": 12,
      "outputs": [
        {
          "output_type": "stream",
          "text": [
            "/usr/local/lib/python3.7/dist-packages/sklearn/utils/deprecation.py:144: FutureWarning: The sklearn.feature_extraction.stop_words module is  deprecated in version 0.22 and will be removed in version 0.24. The corresponding classes / functions should instead be imported from sklearn.feature_extraction.text. Anything that cannot be imported from sklearn.feature_extraction.text is now part of the private API.\n",
            "  warnings.warn(message, FutureWarning)\n"
          ],
          "name": "stderr"
        }
      ]
    },
    {
      "cell_type": "code",
      "metadata": {
        "id": "_zib2ymDRAl-"
      },
      "source": [
        "import string\n",
        "import re\n",
        "def remove_emojis(data):\n",
        "    emoj = re.compile(\"[\"\n",
        "        u\"\\U0001F600-\\U0001F64F\"  # emoticons\n",
        "        u\"\\U0001F300-\\U0001F5FF\"  # symbols & pictographs\n",
        "        u\"\\U0001F680-\\U0001F6FF\"  # transport & map symbols\n",
        "        u\"\\U0001F1E0-\\U0001F1FF\"  # flags (iOS)\n",
        "        u\"\\U00002500-\\U00002BEF\"  # chinese char\n",
        "        u\"\\U00002702-\\U000027B0\"\n",
        "        u\"\\U00002702-\\U000027B0\"\n",
        "        u\"\\U000024C2-\\U0001F251\"\n",
        "        u\"\\U0001f926-\\U0001f937\"\n",
        "        u\"\\U00010000-\\U0010ffff\"\n",
        "        u\"\\u2640-\\u2642\" \n",
        "        u\"\\u2600-\\u2B55\"\n",
        "        u\"\\u200d\"\n",
        "        u\"\\u23cf\"\n",
        "        u\"\\u23e9\"\n",
        "        u\"\\u231a\"\n",
        "        u\"\\ufe0f\"  # dingbats\n",
        "        u\"\\u3030\"\n",
        "                      \"]+\", re.UNICODE)\n",
        "    return re.sub(emoj, '', data)\n",
        "\n",
        "def remove_url(data):\n",
        "  url = re.compile(\"http[s]?\\:\\/\\/.[a-zA-Z0-9\\.\\/\\_?=%&#\\-\\+!]+\", re.UNICODE)\n",
        "  return re.sub(url, '', data)"
      ],
      "execution_count": 13,
      "outputs": []
    },
    {
      "cell_type": "code",
      "metadata": {
        "id": "0w_JUhoiRNc-"
      },
      "source": [
        "def clean_text():\n",
        "  df_train['tweet_cleaned'] = df_train['tweet'].apply(remove_url)\n",
        "  df_train['tweet_cleaned'] = df_train['tweet_cleaned'].apply(clean)\n",
        "  df_train['tweet_cleaned'] = df_train['tweet_cleaned'].apply(remove_emojis)\n",
        "  df_test['tweet_cleaned'] = df_test['tweet'].apply(remove_url)\n",
        "  df_test['tweet_cleaned'] = df_test['tweet_cleaned'].apply(clean)\n",
        "  df_test['tweet_cleaned'] = df_test['tweet_cleaned'].apply(remove_emojis)\n",
        "\n",
        "clean_text()\n",
        "# df_train['tweet_cleaned'] = df_train['tweet'].apply(remove_url,clean,remove_emojis)\n",
        "# df_test['tweet_cleaned'] = df_test['tweet'].apply(remove_url,clean,remove_emojis)\n",
        "# for i in range(len(our_data)):\n",
        "#   our_data.tweet.iloc[i] = remove_url(our_data.tweet.iloc[i])\n",
        "#   our_data.tweet.iloc[i] = clean(our_data.tweet.iloc[i])\n",
        "#   our_data.tweet.iloc[i] = remove_emojis(our_data.tweet.iloc[i])"
      ],
      "execution_count": null,
      "outputs": []
    },
    {
      "cell_type": "code",
      "metadata": {
        "id": "z7zqsSVo3ZzV",
        "outputId": "1d26f4c3-0c59-4ec1-f63f-ec35ef2bdf9b",
        "colab": {
          "base_uri": "https://localhost:8080/",
          "height": 52
        }
      },
      "source": [
        "df_train['tweet_cleaned'].iloc[0]"
      ],
      "execution_count": 15,
      "outputs": [
        {
          "output_type": "execute_result",
          "data": {
            "application/vnd.google.colaboratory.intrinsic+json": {
              "type": "string"
            },
            "text/plain": [
              "'Trump says coronavirus vaccine wont be delivered to New York “until we have authorization from Cuomo to do so”\\n\\nShameless liars here '"
            ]
          },
          "metadata": {
            "tags": []
          },
          "execution_count": 15
        }
      ]
    },
    {
      "cell_type": "code",
      "metadata": {
        "id": "UzhyEzc2dIsv"
      },
      "source": [
        "x_train, y_train = df_train['tweet_cleaned'].values, np.array(df_train['Sentiment_Cat'], dtype=np.int64)\n",
        "x_test, y_test = df_test['tweet_cleaned'].values, np.array(df_test['Sentiment_Cat'], dtype=np.int64)"
      ],
      "execution_count": 16,
      "outputs": []
    },
    {
      "cell_type": "markdown",
      "metadata": {
        "id": "WBm7fSLdjNsK"
      },
      "source": [
        "# BERT"
      ]
    },
    {
      "cell_type": "code",
      "metadata": {
        "id": "UfVEmb5Idiv5"
      },
      "source": [
        "from tokenizers import BertWordPieceTokenizer\n",
        "import transformers"
      ],
      "execution_count": 17,
      "outputs": []
    },
    {
      "cell_type": "code",
      "metadata": {
        "id": "61MeqJ8CZoZP"
      },
      "source": [
        "# trying to incorporate covid-twitter-bert here\n",
        "# from transformers import (\n",
        "#    AutoConfig,\n",
        "#    AutoTokenizer,\n",
        "#    TFAutoModelForSequenceClassification,\n",
        "#    AdamW,\n",
        "#    glue_convert_examples_to_features\n",
        "# )\n",
        "# from transformers import AutoConfig, AutoModel\n",
        "# import tensorflow as tf\n",
        "# import tensorflow_datasets as tfds\n",
        "# import json\n",
        "# tokenizer = AutoTokenizer.from_pretrained(\"digitalepidemiologylab/covid-twitter-bert\")\n",
        "# model = AutoModel.from_pretrained(\"digitalepidemiologylab/covid-twitter-bert\")"
      ],
      "execution_count": null,
      "outputs": []
    },
    {
      "cell_type": "code",
      "metadata": {
        "id": "8o7uh0Gbdlmf",
        "colab": {
          "base_uri": "https://localhost:8080/",
          "height": 200,
          "referenced_widgets": [
            "0e3ca1974efa4e1ba290a8cba7cd668f",
            "9e1790da07a04503acf6090660058115",
            "a5093e45dcfe4077836633819bc132c4",
            "9d63fba7f70f4fec9592583758b7fdd8",
            "f1b6f269ce8448c6b57588790f857712",
            "dc99b1aca579480286c9aa7565b1f726",
            "c8cfa2c4d797488a9710a6c7fa30f277",
            "e87dfe0d9eb346218e66d81569caa675",
            "441b34706cbc4b8b8bce68ab2d033d77",
            "75015b43a1b14d18ac33e6065ea3b254",
            "653966a6131e49a09261a34cbf8b3328",
            "651e4a23ac34408eae49af0dea23cef4",
            "ed0bd3e3d9fa4dd58113aa255b173892",
            "68a760fb11414541bef7bab8edc9aed9",
            "43624a67ec084c8db1f82720c66e562a",
            "d3ffa264220e4b06be362859b456a6dd",
            "a9688765c10f4355964da97eb7cdc43e",
            "79b65f8616b344058fe498cbfb72d14f",
            "f0868418ef5748d0acee7bcc2d0173c5",
            "dd9add8cde3b4275ae859bcbd8e787a1",
            "e6527ad0f08442ee965d0d64a7d752ea",
            "d03b15c9155241cb88bd33b8540beb5b",
            "7f7b1bd2ef2745a3b84b0d36127fc636",
            "d47b300ef5b54ca7a3ed4136d532fe7a"
          ]
        },
        "outputId": "2b2ddbc1-bab0-48fa-ad50-635d8c257f38"
      },
      "source": [
        "# First load the real tokenizer\n",
        "# tokenizer = transformers.DistilBertTokenizer.from_pretrained('distilbert-base-uncased' , lower=True)\n",
        "tokenizer = transformers.BertTokenizerFast.from_pretrained('bert-base-uncased', lower=True)\n",
        "\n",
        "# Save the loaded tokenizer locally\n",
        "tokenizer.save_pretrained('.')\n",
        "\n",
        "# Reload it with the huggingface tokenizers library\n",
        "fast_tokenizer = BertWordPieceTokenizer('vocab.txt', lowercase=True)\n",
        "fast_tokenizer"
      ],
      "execution_count": 18,
      "outputs": [
        {
          "output_type": "display_data",
          "data": {
            "application/vnd.jupyter.widget-view+json": {
              "model_id": "0e3ca1974efa4e1ba290a8cba7cd668f",
              "version_minor": 0,
              "version_major": 2
            },
            "text/plain": [
              "HBox(children=(FloatProgress(value=0.0, description='Downloading', max=231508.0, style=ProgressStyle(descripti…"
            ]
          },
          "metadata": {
            "tags": []
          }
        },
        {
          "output_type": "stream",
          "text": [
            "\n"
          ],
          "name": "stdout"
        },
        {
          "output_type": "display_data",
          "data": {
            "application/vnd.jupyter.widget-view+json": {
              "model_id": "441b34706cbc4b8b8bce68ab2d033d77",
              "version_minor": 0,
              "version_major": 2
            },
            "text/plain": [
              "HBox(children=(FloatProgress(value=0.0, description='Downloading', max=466062.0, style=ProgressStyle(descripti…"
            ]
          },
          "metadata": {
            "tags": []
          }
        },
        {
          "output_type": "stream",
          "text": [
            "\n"
          ],
          "name": "stdout"
        },
        {
          "output_type": "display_data",
          "data": {
            "application/vnd.jupyter.widget-view+json": {
              "model_id": "a9688765c10f4355964da97eb7cdc43e",
              "version_minor": 0,
              "version_major": 2
            },
            "text/plain": [
              "HBox(children=(FloatProgress(value=0.0, description='Downloading', max=28.0, style=ProgressStyle(description_w…"
            ]
          },
          "metadata": {
            "tags": []
          }
        },
        {
          "output_type": "stream",
          "text": [
            "\n"
          ],
          "name": "stdout"
        },
        {
          "output_type": "execute_result",
          "data": {
            "text/plain": [
              "Tokenizer(vocabulary_size=30522, model=BertWordPiece, unk_token=[UNK], sep_token=[SEP], cls_token=[CLS], pad_token=[PAD], mask_token=[MASK], clean_text=True, handle_chinese_chars=True, strip_accents=None, lowercase=True, wordpieces_prefix=##)"
            ]
          },
          "metadata": {
            "tags": []
          },
          "execution_count": 18
        }
      ]
    },
    {
      "cell_type": "code",
      "metadata": {
        "id": "Vvy3OyJddodD"
      },
      "source": [
        "def fast_encode(texts, tokenizer, chunk_size=256, maxlen=200):\n",
        "    tokenizer.enable_truncation(max_length=maxlen)\n",
        "    tokenizer.enable_padding(length=maxlen)\n",
        "    all_ids = []\n",
        "    \n",
        "    for i in range(0, len(texts), chunk_size):\n",
        "        text_chunk = texts[i:i+chunk_size].tolist()\n",
        "        encs = tokenizer.encode_batch(text_chunk)\n",
        "        all_ids.extend([enc.ids for enc in encs])\n",
        "    \n",
        "    return np.array(all_ids)"
      ],
      "execution_count": 19,
      "outputs": []
    },
    {
      "cell_type": "code",
      "metadata": {
        "id": "RIy-VgTV3qQz",
        "outputId": "bef36a19-de22-49a8-9429-f54d9f5b8c53",
        "colab": {
          "base_uri": "https://localhost:8080/"
        }
      },
      "source": [
        "data = df_train\n",
        "Neutral_data = data[data['Sentiment_Cat'] == 2]\n",
        "Antivax_data = data[data['Sentiment_Cat'] == 1]\n",
        "Provax_data = data[data['Sentiment_Cat'] == 0]\n",
        "# df = Antivax_data\n",
        "a=[]\n",
        "for i in range(len(Antivax_data)):\n",
        "  a.append(len(Antivax_data['tweet_cleaned'].iloc[i].split()))\n",
        "print(max(a))\n",
        "# df = Provax_data\n",
        "b=[]\n",
        "for i in range(len(Provax_data)):\n",
        "  b.append(len(Provax_data['tweet_cleaned'].iloc[i].split()))\n",
        "print(max(b))\n",
        "# df = Neutral_data\n",
        "c=[]\n",
        "for i in range(len(Neutral_data)):\n",
        "  c.append(len(Neutral_data['tweet_cleaned'].iloc[i].split()))\n",
        "print(max(c))"
      ],
      "execution_count": 20,
      "outputs": [
        {
          "output_type": "stream",
          "text": [
            "58\n",
            "57\n",
            "51\n"
          ],
          "name": "stdout"
        }
      ]
    },
    {
      "cell_type": "code",
      "metadata": {
        "id": "Q9LJvgi0d5i-"
      },
      "source": [
        "max_len=60\n",
        "\n",
        "x_train_enc = fast_encode(x_train, fast_tokenizer, maxlen=max_len)\n",
        "x_test_enc = fast_encode(x_test, fast_tokenizer, maxlen=max_len)"
      ],
      "execution_count": 21,
      "outputs": []
    },
    {
      "cell_type": "code",
      "metadata": {
        "id": "pcBnfPChd9PO"
      },
      "source": [
        "NUM_CLASSES = df_train['Sentiment_Cat'].nunique()\n",
        "\n",
        "# bert_transformer = transformers.TFDistilBertModel.from_pretrained('distilbert-base-uncased')\n",
        "# bert_transformer = transformers.TFBertForSequenceClassification.from_pretrained('bert-base-uncased', num_labels=NUM_CLASSES)\n",
        "bert_transformer = transformers.TFBertForSequenceClassification.from_pretrained('digitalepidemiologylab/covid-twitter-bert-v2', num_labels=NUM_CLASSES)\n",
        "input = tf.keras.layers.Input(shape=(max_len,), dtype=tf.int32)\n",
        "sequence_output = bert_transformer(input)[0]\n",
        "# cls_token = sequence_output[:, 0, :]\n",
        "# output = tf.keras.layers.Dense(NUM_CLASSES, activation='softmax')(cls_token)\n",
        "\n",
        "model = tf.keras.Model(inputs=input, outputs=sequence_output)\n",
        "model.compile(optimizer=tf.keras.optimizers.Adam(1e-5), loss=tf.keras.losses.SparseCategoricalCrossentropy(from_logits=True), metrics=['accuracy'])"
      ],
      "execution_count": null,
      "outputs": []
    },
    {
      "cell_type": "code",
      "metadata": {
        "id": "0bliWbCjeRLV",
        "colab": {
          "base_uri": "https://localhost:8080/"
        },
        "outputId": "531b04e4-54d3-4e96-8aa0-1df54f0a865e"
      },
      "source": [
        "model.summary()"
      ],
      "execution_count": 23,
      "outputs": [
        {
          "output_type": "stream",
          "text": [
            "Model: \"model\"\n",
            "_________________________________________________________________\n",
            "Layer (type)                 Output Shape              Param #   \n",
            "=================================================================\n",
            "input_1 (InputLayer)         [(None, 60)]              0         \n",
            "_________________________________________________________________\n",
            "tf_bert_for_sequence_classif TFSequenceClassifierOutpu 335144963 \n",
            "=================================================================\n",
            "Total params: 335,144,963\n",
            "Trainable params: 335,144,963\n",
            "Non-trainable params: 0\n",
            "_________________________________________________________________\n"
          ],
          "name": "stdout"
        }
      ]
    },
    {
      "cell_type": "code",
      "metadata": {
        "id": "gQej7ueK4MWV",
        "outputId": "b32ba2bb-d5f6-4548-fef0-521d538cb3b9",
        "colab": {
          "base_uri": "https://localhost:8080/"
        }
      },
      "source": [
        "# call backs\n",
        "early_stop_callback = tf.keras.callbacks.EarlyStopping(\n",
        "    monitor='val_loss', \n",
        "    patience=3, \n",
        "    restore_best_weights=True\n",
        ")\n",
        "\n",
        "history = model.fit(\n",
        "    x_train_enc,\n",
        "    y_train,\n",
        "    batch_size=16,\n",
        "    validation_data=(x_test_enc, y_test),\n",
        "    epochs=50,\n",
        "    callbacks=[early_stop_callback])"
      ],
      "execution_count": 24,
      "outputs": [
        {
          "output_type": "stream",
          "text": [
            "Epoch 1/50\n",
            "WARNING:tensorflow:The parameters `output_attentions`, `output_hidden_states` and `use_cache` cannot be updated when calling a model.They have to be set to True/False in the config object (i.e.: `config=XConfig.from_pretrained('name', output_attentions=True)`).\n",
            "WARNING:tensorflow:The parameter `return_dict` cannot be set in graph mode and will always be set to `True`.\n",
            "WARNING:tensorflow:The parameters `output_attentions`, `output_hidden_states` and `use_cache` cannot be updated when calling a model.They have to be set to True/False in the config object (i.e.: `config=XConfig.from_pretrained('name', output_attentions=True)`).\n",
            "WARNING:tensorflow:The parameter `return_dict` cannot be set in graph mode and will always be set to `True`.\n",
            "140/140 [==============================] - ETA: 0s - loss: 1.0660 - accuracy: 0.4169WARNING:tensorflow:The parameters `output_attentions`, `output_hidden_states` and `use_cache` cannot be updated when calling a model.They have to be set to True/False in the config object (i.e.: `config=XConfig.from_pretrained('name', output_attentions=True)`).\n",
            "WARNING:tensorflow:The parameter `return_dict` cannot be set in graph mode and will always be set to `True`.\n",
            "140/140 [==============================] - 232s 1s/step - loss: 1.0660 - accuracy: 0.4169 - val_loss: 0.8803 - val_accuracy: 0.6208\n",
            "Epoch 2/50\n",
            "140/140 [==============================] - 188s 1s/step - loss: 0.6694 - accuracy: 0.7358 - val_loss: 0.4573 - val_accuracy: 0.8318\n",
            "Epoch 3/50\n",
            "140/140 [==============================] - 188s 1s/step - loss: 0.3775 - accuracy: 0.8742 - val_loss: 0.3906 - val_accuracy: 0.8640\n",
            "Epoch 4/50\n",
            "140/140 [==============================] - 188s 1s/step - loss: 0.2577 - accuracy: 0.9122 - val_loss: 0.4104 - val_accuracy: 0.8694\n",
            "Epoch 5/50\n",
            "140/140 [==============================] - 188s 1s/step - loss: 0.1737 - accuracy: 0.9481 - val_loss: 0.4115 - val_accuracy: 0.8676\n",
            "Epoch 6/50\n",
            "140/140 [==============================] - 188s 1s/step - loss: 0.1055 - accuracy: 0.9713 - val_loss: 0.4406 - val_accuracy: 0.8712\n"
          ],
          "name": "stdout"
        }
      ]
    },
    {
      "cell_type": "code",
      "metadata": {
        "id": "AJRsiDYFevgr",
        "colab": {
          "base_uri": "https://localhost:8080/"
        },
        "outputId": "7574eaff-a0f6-4483-9cd8-e5656c0c4c2c"
      },
      "source": [
        "# call backs\n",
        "early_stop_callback = tf.keras.callbacks.EarlyStopping(\n",
        "    monitor='val_loss', \n",
        "    patience=3, \n",
        "    restore_best_weights=True\n",
        ")\n",
        "\n",
        "history = model.fit(\n",
        "    x_train_enc,\n",
        "    y_train,\n",
        "    batch_size=16,\n",
        "    validation_data=(x_test_enc, y_test),\n",
        "    epochs=50,\n",
        "    callbacks=[early_stop_callback])"
      ],
      "execution_count": null,
      "outputs": [
        {
          "output_type": "stream",
          "text": [
            "Epoch 1/50\n",
            "WARNING:tensorflow:The parameters `output_attentions`, `output_hidden_states` and `use_cache` cannot be updated when calling a model.They have to be set to True/False in the config object (i.e.: `config=XConfig.from_pretrained('name', output_attentions=True)`).\n",
            "WARNING:tensorflow:The parameter `return_dict` cannot be set in graph mode and will always be set to `True`.\n",
            "WARNING:tensorflow:The parameters `output_attentions`, `output_hidden_states` and `use_cache` cannot be updated when calling a model.They have to be set to True/False in the config object (i.e.: `config=XConfig.from_pretrained('name', output_attentions=True)`).\n",
            "WARNING:tensorflow:The parameter `return_dict` cannot be set in graph mode and will always be set to `True`.\n",
            "140/140 [==============================] - ETA: 0s - loss: 0.9717 - accuracy: 0.5016WARNING:tensorflow:The parameters `output_attentions`, `output_hidden_states` and `use_cache` cannot be updated when calling a model.They have to be set to True/False in the config object (i.e.: `config=XConfig.from_pretrained('name', output_attentions=True)`).\n",
            "WARNING:tensorflow:The parameter `return_dict` cannot be set in graph mode and will always be set to `True`.\n",
            "140/140 [==============================] - 153s 899ms/step - loss: 0.9717 - accuracy: 0.5016 - val_loss: 0.7530 - val_accuracy: 0.7097\n",
            "Epoch 2/50\n",
            "140/140 [==============================] - 122s 875ms/step - loss: 0.7204 - accuracy: 0.7197 - val_loss: 0.5340 - val_accuracy: 0.8405\n",
            "Epoch 3/50\n",
            "140/140 [==============================] - 122s 875ms/step - loss: 0.4787 - accuracy: 0.8486 - val_loss: 0.4793 - val_accuracy: 0.8405\n",
            "Epoch 4/50\n",
            "140/140 [==============================] - 122s 873ms/step - loss: 0.3327 - accuracy: 0.8948 - val_loss: 0.4384 - val_accuracy: 0.8405\n",
            "Epoch 5/50\n",
            "140/140 [==============================] - 122s 874ms/step - loss: 0.2181 - accuracy: 0.9346 - val_loss: 0.3756 - val_accuracy: 0.8781\n",
            "Epoch 6/50\n",
            "140/140 [==============================] - 122s 874ms/step - loss: 0.1476 - accuracy: 0.9579 - val_loss: 0.4153 - val_accuracy: 0.8620\n",
            "Epoch 7/50\n",
            "140/140 [==============================] - 122s 874ms/step - loss: 0.0963 - accuracy: 0.9745 - val_loss: 0.3745 - val_accuracy: 0.8835\n",
            "Epoch 8/50\n",
            "140/140 [==============================] - 122s 872ms/step - loss: 0.0785 - accuracy: 0.9812 - val_loss: 0.3987 - val_accuracy: 0.8835\n",
            "Epoch 9/50\n",
            "140/140 [==============================] - 122s 873ms/step - loss: 0.1175 - accuracy: 0.9660 - val_loss: 0.4855 - val_accuracy: 0.8566\n",
            "Epoch 10/50\n",
            "140/140 [==============================] - 122s 875ms/step - loss: 0.0874 - accuracy: 0.9772 - val_loss: 0.3781 - val_accuracy: 0.8871\n"
          ],
          "name": "stdout"
        }
      ]
    },
    {
      "cell_type": "markdown",
      "metadata": {
        "id": "sPB9-wqXjSRo"
      },
      "source": [
        "# Prediction "
      ]
    },
    {
      "cell_type": "code",
      "metadata": {
        "id": "zY9uNgVAe0MP",
        "colab": {
          "base_uri": "https://localhost:8080/"
        },
        "outputId": "effcb11e-d099-4263-b421-ce0ec824cdb2"
      },
      "source": [
        "ypred = model.predict(x_test_enc)\n",
        "# df_test['ypred'] = ypred\n",
        "# df_test['ypred_cat'] = np.where(df_test['ypred']>=0.5, 1, 0)\n",
        "df_test['ypred_cat'] = np.argmax(ypred, axis=1)"
      ],
      "execution_count": 25,
      "outputs": [
        {
          "output_type": "stream",
          "text": [
            "WARNING:tensorflow:The parameters `output_attentions`, `output_hidden_states` and `use_cache` cannot be updated when calling a model.They have to be set to True/False in the config object (i.e.: `config=XConfig.from_pretrained('name', output_attentions=True)`).\n",
            "WARNING:tensorflow:The parameter `return_dict` cannot be set in graph mode and will always be set to `True`.\n"
          ],
          "name": "stdout"
        },
        {
          "output_type": "stream",
          "text": [
            "/usr/local/lib/python3.7/dist-packages/ipykernel_launcher.py:4: SettingWithCopyWarning: \n",
            "A value is trying to be set on a copy of a slice from a DataFrame.\n",
            "Try using .loc[row_indexer,col_indexer] = value instead\n",
            "\n",
            "See the caveats in the documentation: https://pandas.pydata.org/pandas-docs/stable/user_guide/indexing.html#returning-a-view-versus-a-copy\n",
            "  after removing the cwd from sys.path.\n"
          ],
          "name": "stderr"
        }
      ]
    },
    {
      "cell_type": "code",
      "metadata": {
        "id": "5ZxKEI6KIt19",
        "colab": {
          "base_uri": "https://localhost:8080/"
        },
        "outputId": "9d18f66d-5251-445c-fd88-9316391323b9"
      },
      "source": [
        "np.argmax(ypred, axis=1)"
      ],
      "execution_count": 26,
      "outputs": [
        {
          "output_type": "execute_result",
          "data": {
            "text/plain": [
              "array([2, 1, 1, 0, 0, 0, 0, 0, 0, 2, 2, 2, 2, 0, 1, 2, 1, 1, 2, 1, 1, 0,\n",
              "       1, 1, 1, 0, 2, 0, 1, 1, 0, 1, 2, 1, 0, 2, 1, 0, 2, 0, 2, 1, 0, 1,\n",
              "       2, 1, 1, 1, 0, 0, 1, 2, 2, 2, 1, 1, 0, 0, 0, 0, 2, 1, 0, 0, 1, 1,\n",
              "       0, 0, 2, 1, 1, 0, 2, 2, 1, 0, 1, 2, 2, 2, 2, 2, 1, 0, 1, 1, 0, 0,\n",
              "       2, 2, 1, 0, 1, 2, 1, 0, 1, 1, 1, 2, 0, 0, 1, 0, 2, 1, 0, 2, 2, 2,\n",
              "       2, 2, 0, 2, 0, 0, 2, 0, 2, 0, 2, 2, 2, 1, 1, 2, 0, 2, 1, 2, 2, 0,\n",
              "       0, 0, 0, 0, 0, 2, 1, 0, 0, 1, 1, 1, 0, 0, 1, 2, 2, 0, 0, 2, 1, 1,\n",
              "       0, 2, 2, 2, 0, 2, 1, 1, 2, 2, 1, 1, 2, 0, 1, 0, 0, 1, 2, 0, 2, 2,\n",
              "       1, 1, 2, 2, 1, 2, 1, 2, 2, 0, 0, 1, 2, 0, 1, 1, 1, 1, 2, 2, 1, 0,\n",
              "       0, 2, 2, 2, 1, 2, 2, 0, 2, 0, 2, 0, 2, 2, 0, 2, 0, 1, 0, 0, 1, 2,\n",
              "       1, 0, 1, 2, 0, 0, 0, 0, 1, 2, 2, 1, 1, 0, 2, 0, 0, 1, 0, 2, 0, 1,\n",
              "       0, 0, 0, 1, 1, 0, 2, 2, 2, 0, 0, 1, 2, 2, 2, 2, 1, 0, 2, 2, 0, 0,\n",
              "       0, 2, 2, 0, 2, 0, 2, 0, 2, 1, 0, 2, 1, 2, 1, 1, 2, 1, 0, 0, 0, 2,\n",
              "       0, 1, 2, 1, 2, 0, 2, 2, 0, 1, 0, 2, 0, 1, 1, 0, 0, 0, 0, 2, 0, 1,\n",
              "       2, 2, 0, 1, 2, 1, 2, 2, 2, 2, 1, 0, 2, 0, 0, 1, 2, 1, 0, 0, 0, 1,\n",
              "       2, 0, 0, 1, 2, 1, 0, 1, 0, 0, 2, 1, 1, 2, 1, 0, 1, 2, 0, 2, 0, 0,\n",
              "       2, 2, 0, 1, 0, 0, 1, 1, 1, 2, 1, 2, 2, 1, 1, 0, 2, 0, 2, 2, 0, 0,\n",
              "       2, 0, 2, 0, 1, 2, 0, 1, 1, 2, 0, 1, 0, 0, 1, 0, 2, 1, 2, 1, 0, 1,\n",
              "       0, 0, 1, 0, 0, 0, 0, 0, 0, 1, 1, 2, 0, 2, 0, 2, 0, 2, 1, 2, 2, 2,\n",
              "       1, 2, 2, 0, 1, 0, 0, 0, 0, 0, 2, 2, 0, 2, 2, 1, 2, 0, 2, 1, 1, 2,\n",
              "       2, 1, 1, 0, 0, 2, 2, 1, 1, 0, 1, 1, 0, 2, 0, 2, 2, 0, 2, 2, 2, 2,\n",
              "       0, 1, 0, 2, 0, 1, 2, 0, 2, 2, 2, 2, 0, 2, 0, 2, 1, 0, 0, 1, 2, 1,\n",
              "       2, 0, 0, 1, 0, 1, 2, 0, 2, 0, 1, 2, 0, 2, 2, 2, 2, 2, 2, 1, 0, 2,\n",
              "       1, 0, 2, 0, 0, 0, 0, 0, 0, 2, 2, 2, 1, 0, 1, 2, 1, 2, 2, 1, 2, 0,\n",
              "       1, 2, 1, 1, 2, 2, 1, 0, 2, 0, 2, 1, 0, 2, 2, 0, 1, 0, 2, 0, 0, 1,\n",
              "       0, 0, 2, 1, 2, 2, 2, 2, 2])"
            ]
          },
          "metadata": {
            "tags": []
          },
          "execution_count": 26
        }
      ]
    },
    {
      "cell_type": "code",
      "metadata": {
        "id": "3XLO099856Xm",
        "colab": {
          "base_uri": "https://localhost:8080/",
          "height": 295
        },
        "outputId": "9b48d556-7079-4816-a992-f3d9ff3a31db"
      },
      "source": [
        "y_map_inv = {\n",
        "    0: 'ProVax',\n",
        "    1: 'AntiVax',\n",
        "    2: 'Neutral'\n",
        "}\n",
        "\n",
        "\n",
        "sns.heatmap(\n",
        "    pd.crosstab(df_test['ypred_cat'].map(y_map_inv), df_test['Sentiment_Cat'].map(y_map_inv)),\n",
        "    annot=True,\n",
        "    fmt='0.0f',\n",
        "    cbar=False,\n",
        "    linewidth=2,\n",
        "    cmap='coolwarm'     \n",
        ")\n",
        "\n",
        "plt.xlabel('True')\n",
        "plt.ylabel('Predicted')\n",
        "plt.title('Confusion Matrix');"
      ],
      "execution_count": 27,
      "outputs": [
        {
          "output_type": "display_data",
          "data": {
            "image/png": "[encoded data removed]",
            "text/plain": [
              "<Figure size 432x288 with 1 Axes>"
            ]
          },
          "metadata": {
            "tags": [],
            "needs_background": "light"
          }
        }
      ]
    },
    {
      "cell_type": "code",
      "metadata": {
        "id": "uT_rhB1ahcAJ",
        "colab": {
          "base_uri": "https://localhost:8080/"
        },
        "outputId": "3c3f61a3-f663-4225-80ff-2b94e8a336a6"
      },
      "source": [
        "y_test = df_test['Sentiment_Cat'].map(y_map_inv)\n",
        "y_pred = df_test['ypred_cat'].map(y_map_inv)\n",
        "#importing confusion matrix\n",
        "from sklearn.metrics import confusion_matrix\n",
        "confusion = confusion_matrix(y_test, y_pred)\n",
        "print('Confusion Matrix\\n')\n",
        "print(confusion)\n",
        "\n",
        "#importing accuracy_score, precision_score, recall_score, f1_score\n",
        "from sklearn.metrics import accuracy_score, precision_score, recall_score, f1_score\n",
        "print('\\nAccuracy: {:.2f}\\n'.format(accuracy_score(y_test, y_pred)))\n",
        "\n",
        "print('Micro Precision: {:.2f}'.format(precision_score(y_test, y_pred, average='micro')))\n",
        "print('Micro Recall: {:.2f}'.format(recall_score(y_test, y_pred, average='micro')))\n",
        "print('Micro F1-score: {:.2f}\\n'.format(f1_score(y_test, y_pred, average='micro')))\n",
        "\n",
        "print('Macro Precision: {:.2f}'.format(precision_score(y_test, y_pred, average='macro')))\n",
        "print('Macro Recall: {:.2f}'.format(recall_score(y_test, y_pred, average='macro')))\n",
        "print('Macro F1-score: {:.2f}\\n'.format(f1_score(y_test, y_pred, average='macro')))\n",
        "\n",
        "print('Weighted Precision: {:.2f}'.format(precision_score(y_test, y_pred, average='weighted')))\n",
        "print('Weighted Recall: {:.2f}'.format(recall_score(y_test, y_pred, average='weighted')))\n",
        "print('Weighted F1-score: {:.2f}'.format(f1_score(y_test, y_pred, average='weighted')))\n",
        "\n",
        "from sklearn.metrics import classification_report\n",
        "print('\\nClassification Report\\n')\n",
        "print(classification_report(y_test, y_pred, target_names=['Class 1', 'Class 2', 'Class 3']))\n"
      ],
      "execution_count": 28,
      "outputs": [
        {
          "output_type": "stream",
          "text": [
            "Confusion Matrix\n",
            "\n",
            "[[141  10   7]\n",
            " [  7 173  22]\n",
            " [  9  21 169]]\n",
            "\n",
            "Accuracy: 0.86\n",
            "\n",
            "Micro Precision: 0.86\n",
            "Micro Recall: 0.86\n",
            "Micro F1-score: 0.86\n",
            "\n",
            "Macro Precision: 0.87\n",
            "Macro Recall: 0.87\n",
            "Macro F1-score: 0.87\n",
            "\n",
            "Weighted Precision: 0.86\n",
            "Weighted Recall: 0.86\n",
            "Weighted F1-score: 0.86\n",
            "\n",
            "Classification Report\n",
            "\n",
            "              precision    recall  f1-score   support\n",
            "\n",
            "     Class 1       0.90      0.89      0.90       158\n",
            "     Class 2       0.85      0.86      0.85       202\n",
            "     Class 3       0.85      0.85      0.85       199\n",
            "\n",
            "    accuracy                           0.86       559\n",
            "   macro avg       0.87      0.87      0.87       559\n",
            "weighted avg       0.86      0.86      0.86       559\n",
            "\n"
          ],
          "name": "stdout"
        }
      ]
    },
    {
      "cell_type": "markdown",
      "metadata": {
        "id": "VI8omMur4VZ6"
      },
      "source": [
        "# Test Prediction"
      ]
    },
    {
      "cell_type": "code",
      "metadata": {
        "id": "bmY7fccv401s"
      },
      "source": [
        "test_data = pd.read_csv(\"irmidis-2021-task2-test.csv\")\n",
        "from sklearn.utils import shuffle\n",
        "test_data = shuffle(test_data)"
      ],
      "execution_count": 41,
      "outputs": []
    },
    {
      "cell_type": "code",
      "metadata": {
        "id": "rsEM1KYK5GTV",
        "outputId": "ed7685de-e742-40bb-dc0d-64a398a9de05",
        "colab": {
          "base_uri": "https://localhost:8080/"
        }
      },
      "source": [
        "test_data.info()"
      ],
      "execution_count": 42,
      "outputs": [
        {
          "output_type": "stream",
          "text": [
            "<class 'pandas.core.frame.DataFrame'>\n",
            "Int64Index: 1600 entries, 1004 to 1312\n",
            "Data columns (total 2 columns):\n",
            " #   Column  Non-Null Count  Dtype \n",
            "---  ------  --------------  ----- \n",
            " 0   id      1600 non-null   int64 \n",
            " 1   tweet   1600 non-null   object\n",
            "dtypes: int64(1), object(1)\n",
            "memory usage: 37.5+ KB\n"
          ],
          "name": "stdout"
        }
      ]
    },
    {
      "cell_type": "code",
      "metadata": {
        "id": "TE0HXjok5hif"
      },
      "source": [
        "test_data['tweet_cleaned'] = test_data['tweet'].apply(remove_url)\n",
        "test_data['tweet_cleaned'] = test_data['tweet_cleaned'].apply(clean)\n",
        "test_data['tweet_cleaned'] = test_data['tweet_cleaned'].apply(remove_emojis)\n",
        "x_test = test_data['tweet_cleaned'].values"
      ],
      "execution_count": 43,
      "outputs": []
    },
    {
      "cell_type": "code",
      "metadata": {
        "id": "0DG0Aajc56iq"
      },
      "source": [
        "x_test_data_enc = fast_encode(x_test, fast_tokenizer, maxlen=max_len)"
      ],
      "execution_count": 44,
      "outputs": []
    },
    {
      "cell_type": "code",
      "metadata": {
        "id": "zkGETvk56TPR"
      },
      "source": [
        "ypred = model.predict(x_test_data_enc)\n",
        "# df_test['ypred'] = ypred\n",
        "# df_test['ypred_cat'] = np.where(df_test['ypred']>=0.5, 1, 0)\n",
        "test_data['ypred_cat'] = np.argmax(ypred, axis=1)"
      ],
      "execution_count": 45,
      "outputs": []
    },
    {
      "cell_type": "code",
      "metadata": {
        "id": "BrimzDKM99Co",
        "outputId": "601704db-7cb2-4580-f6f6-80be29feec06",
        "colab": {
          "base_uri": "https://localhost:8080/",
          "height": 516
        }
      },
      "source": [
        "test_data"
      ],
      "execution_count": 46,
      "outputs": [
        {
          "output_type": "execute_result",
          "data": {
            "text/html": [
              "<div>\n",
              "<style scoped>\n",
              "    .dataframe tbody tr th:only-of-type {\n",
              "        vertical-align: middle;\n",
              "    }\n",
              "\n",
              "    .dataframe tbody tr th {\n",
              "        vertical-align: top;\n",
              "    }\n",
              "\n",
              "    .dataframe thead th {\n",
              "        text-align: right;\n",
              "    }\n",
              "</style>\n",
              "<table border=\"1\" class=\"dataframe\">\n",
              "  <thead>\n",
              "    <tr style=\"text-align: right;\">\n",
              "      <th></th>\n",
              "      <th>id</th>\n",
              "      <th>tweet</th>\n",
              "      <th>tweet_cleaned</th>\n",
              "      <th>ypred_cat</th>\n",
              "    </tr>\n",
              "  </thead>\n",
              "  <tbody>\n",
              "    <tr>\n",
              "      <th>1004</th>\n",
              "      <td>1344699749639868423</td>\n",
              "      <td>The first people in the #faroeislands have bee...</td>\n",
              "      <td>The first people in the faroeislands have been...</td>\n",
              "      <td>2</td>\n",
              "    </tr>\n",
              "    <tr>\n",
              "      <th>887</th>\n",
              "      <td>1326302044521525248</td>\n",
              "      <td>@IvankaTrump Once again? He had absolutely NOT...</td>\n",
              "      <td>IvankaTrump Once again He had absolutely NOTHI...</td>\n",
              "      <td>2</td>\n",
              "    </tr>\n",
              "    <tr>\n",
              "      <th>171</th>\n",
              "      <td>1330189336579543041</td>\n",
              "      <td>@g20org @ksaembassyCHINA Saudi people are prou...</td>\n",
              "      <td>gorg ksaembassyCHINA Saudi people are proud of...</td>\n",
              "      <td>0</td>\n",
              "    </tr>\n",
              "    <tr>\n",
              "      <th>1495</th>\n",
              "      <td>1249177862227230720</td>\n",
              "      <td>@ashutosh2704 @SUDBIJALWAN Virus named 'bhakt'...</td>\n",
              "      <td>ashutosh SUDBIJALWAN Virus named bhakt is more...</td>\n",
              "      <td>0</td>\n",
              "    </tr>\n",
              "    <tr>\n",
              "      <th>939</th>\n",
              "      <td>1327401042359824389</td>\n",
              "      <td>@Magooe @PattyArquette @senatemajldr Everyone ...</td>\n",
              "      <td>Magooe PattyArquette senatemajldr Everyone kno...</td>\n",
              "      <td>2</td>\n",
              "    </tr>\n",
              "    <tr>\n",
              "      <th>...</th>\n",
              "      <td>...</td>\n",
              "      <td>...</td>\n",
              "      <td>...</td>\n",
              "      <td>...</td>\n",
              "    </tr>\n",
              "    <tr>\n",
              "      <th>1090</th>\n",
              "      <td>1319963181477933056</td>\n",
              "      <td>Dewine?   Why are people so mad at you.  You a...</td>\n",
              "      <td>Dewine   Why are people so mad at you  You are...</td>\n",
              "      <td>1</td>\n",
              "    </tr>\n",
              "    <tr>\n",
              "      <th>697</th>\n",
              "      <td>1293792005932421120</td>\n",
              "      <td>\"FG denies placing 9rder for Russian vaccine\" ...</td>\n",
              "      <td>FG denies placing rder for Russian vaccine Gua...</td>\n",
              "      <td>2</td>\n",
              "    </tr>\n",
              "    <tr>\n",
              "      <th>323</th>\n",
              "      <td>1344489868450172930</td>\n",
              "      <td>@menakadoshi @ShekharGupta and gang as usual w...</td>\n",
              "      <td>menakadoshi ShekharGupta and gang as usual wil...</td>\n",
              "      <td>2</td>\n",
              "    </tr>\n",
              "    <tr>\n",
              "      <th>808</th>\n",
              "      <td>1280763211629957120</td>\n",
              "      <td>@MoneylineMark What do you think about NVAX?? ...</td>\n",
              "      <td>MoneylineMark What do you think about NVAX The...</td>\n",
              "      <td>2</td>\n",
              "    </tr>\n",
              "    <tr>\n",
              "      <th>1312</th>\n",
              "      <td>1254108285252382722</td>\n",
              "      <td>Now, i really wanna see who patents the Covid ...</td>\n",
              "      <td>Now i really wanna see who patents the Covid s...</td>\n",
              "      <td>1</td>\n",
              "    </tr>\n",
              "  </tbody>\n",
              "</table>\n",
              "<p>1600 rows × 4 columns</p>\n",
              "</div>"
            ],
            "text/plain": [
              "                       id  ... ypred_cat\n",
              "1004  1344699749639868423  ...         2\n",
              "887   1326302044521525248  ...         2\n",
              "171   1330189336579543041  ...         0\n",
              "1495  1249177862227230720  ...         0\n",
              "939   1327401042359824389  ...         2\n",
              "...                   ...  ...       ...\n",
              "1090  1319963181477933056  ...         1\n",
              "697   1293792005932421120  ...         2\n",
              "323   1344489868450172930  ...         2\n",
              "808   1280763211629957120  ...         2\n",
              "1312  1254108285252382722  ...         1\n",
              "\n",
              "[1600 rows x 4 columns]"
            ]
          },
          "metadata": {
            "tags": []
          },
          "execution_count": 46
        }
      ]
    },
    {
      "cell_type": "code",
      "metadata": {
        "id": "5vFSSpLyDSDr"
      },
      "source": [
        "test_data['label'] = test_data['ypred_cat'].map(y_map_inv)"
      ],
      "execution_count": 47,
      "outputs": []
    },
    {
      "cell_type": "code",
      "metadata": {
        "id": "n6BCQhXtDdP4",
        "outputId": "2460a2e5-7757-4fd2-c61d-936ce358cd9e",
        "colab": {
          "base_uri": "https://localhost:8080/",
          "height": 582
        }
      },
      "source": [
        "test_data"
      ],
      "execution_count": 48,
      "outputs": [
        {
          "output_type": "execute_result",
          "data": {
            "text/html": [
              "<div>\n",
              "<style scoped>\n",
              "    .dataframe tbody tr th:only-of-type {\n",
              "        vertical-align: middle;\n",
              "    }\n",
              "\n",
              "    .dataframe tbody tr th {\n",
              "        vertical-align: top;\n",
              "    }\n",
              "\n",
              "    .dataframe thead th {\n",
              "        text-align: right;\n",
              "    }\n",
              "</style>\n",
              "<table border=\"1\" class=\"dataframe\">\n",
              "  <thead>\n",
              "    <tr style=\"text-align: right;\">\n",
              "      <th></th>\n",
              "      <th>id</th>\n",
              "      <th>tweet</th>\n",
              "      <th>tweet_cleaned</th>\n",
              "      <th>ypred_cat</th>\n",
              "      <th>label</th>\n",
              "    </tr>\n",
              "  </thead>\n",
              "  <tbody>\n",
              "    <tr>\n",
              "      <th>1004</th>\n",
              "      <td>1344699749639868423</td>\n",
              "      <td>The first people in the #faroeislands have bee...</td>\n",
              "      <td>The first people in the faroeislands have been...</td>\n",
              "      <td>2</td>\n",
              "      <td>Neutral</td>\n",
              "    </tr>\n",
              "    <tr>\n",
              "      <th>887</th>\n",
              "      <td>1326302044521525248</td>\n",
              "      <td>@IvankaTrump Once again? He had absolutely NOT...</td>\n",
              "      <td>IvankaTrump Once again He had absolutely NOTHI...</td>\n",
              "      <td>2</td>\n",
              "      <td>Neutral</td>\n",
              "    </tr>\n",
              "    <tr>\n",
              "      <th>171</th>\n",
              "      <td>1330189336579543041</td>\n",
              "      <td>@g20org @ksaembassyCHINA Saudi people are prou...</td>\n",
              "      <td>gorg ksaembassyCHINA Saudi people are proud of...</td>\n",
              "      <td>0</td>\n",
              "      <td>ProVax</td>\n",
              "    </tr>\n",
              "    <tr>\n",
              "      <th>1495</th>\n",
              "      <td>1249177862227230720</td>\n",
              "      <td>@ashutosh2704 @SUDBIJALWAN Virus named 'bhakt'...</td>\n",
              "      <td>ashutosh SUDBIJALWAN Virus named bhakt is more...</td>\n",
              "      <td>0</td>\n",
              "      <td>ProVax</td>\n",
              "    </tr>\n",
              "    <tr>\n",
              "      <th>939</th>\n",
              "      <td>1327401042359824389</td>\n",
              "      <td>@Magooe @PattyArquette @senatemajldr Everyone ...</td>\n",
              "      <td>Magooe PattyArquette senatemajldr Everyone kno...</td>\n",
              "      <td>2</td>\n",
              "      <td>Neutral</td>\n",
              "    </tr>\n",
              "    <tr>\n",
              "      <th>...</th>\n",
              "      <td>...</td>\n",
              "      <td>...</td>\n",
              "      <td>...</td>\n",
              "      <td>...</td>\n",
              "      <td>...</td>\n",
              "    </tr>\n",
              "    <tr>\n",
              "      <th>1090</th>\n",
              "      <td>1319963181477933056</td>\n",
              "      <td>Dewine?   Why are people so mad at you.  You a...</td>\n",
              "      <td>Dewine   Why are people so mad at you  You are...</td>\n",
              "      <td>1</td>\n",
              "      <td>AntiVax</td>\n",
              "    </tr>\n",
              "    <tr>\n",
              "      <th>697</th>\n",
              "      <td>1293792005932421120</td>\n",
              "      <td>\"FG denies placing 9rder for Russian vaccine\" ...</td>\n",
              "      <td>FG denies placing rder for Russian vaccine Gua...</td>\n",
              "      <td>2</td>\n",
              "      <td>Neutral</td>\n",
              "    </tr>\n",
              "    <tr>\n",
              "      <th>323</th>\n",
              "      <td>1344489868450172930</td>\n",
              "      <td>@menakadoshi @ShekharGupta and gang as usual w...</td>\n",
              "      <td>menakadoshi ShekharGupta and gang as usual wil...</td>\n",
              "      <td>2</td>\n",
              "      <td>Neutral</td>\n",
              "    </tr>\n",
              "    <tr>\n",
              "      <th>808</th>\n",
              "      <td>1280763211629957120</td>\n",
              "      <td>@MoneylineMark What do you think about NVAX?? ...</td>\n",
              "      <td>MoneylineMark What do you think about NVAX The...</td>\n",
              "      <td>2</td>\n",
              "      <td>Neutral</td>\n",
              "    </tr>\n",
              "    <tr>\n",
              "      <th>1312</th>\n",
              "      <td>1254108285252382722</td>\n",
              "      <td>Now, i really wanna see who patents the Covid ...</td>\n",
              "      <td>Now i really wanna see who patents the Covid s...</td>\n",
              "      <td>1</td>\n",
              "      <td>AntiVax</td>\n",
              "    </tr>\n",
              "  </tbody>\n",
              "</table>\n",
              "<p>1600 rows × 5 columns</p>\n",
              "</div>"
            ],
            "text/plain": [
              "                       id  ...    label\n",
              "1004  1344699749639868423  ...  Neutral\n",
              "887   1326302044521525248  ...  Neutral\n",
              "171   1330189336579543041  ...   ProVax\n",
              "1495  1249177862227230720  ...   ProVax\n",
              "939   1327401042359824389  ...  Neutral\n",
              "...                   ...  ...      ...\n",
              "1090  1319963181477933056  ...  AntiVax\n",
              "697   1293792005932421120  ...  Neutral\n",
              "323   1344489868450172930  ...  Neutral\n",
              "808   1280763211629957120  ...  Neutral\n",
              "1312  1254108285252382722  ...  AntiVax\n",
              "\n",
              "[1600 rows x 5 columns]"
            ]
          },
          "metadata": {
            "tags": []
          },
          "execution_count": 48
        }
      ]
    },
    {
      "cell_type": "code",
      "metadata": {
        "id": "KrhqC0j6-NBU"
      },
      "source": [
        "test_data.to_csv('test_data_prediction.csv', index = False)"
      ],
      "execution_count": 49,
      "outputs": []
    }
  ]
}