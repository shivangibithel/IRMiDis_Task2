{
  "nbformat": 4,
  "nbformat_minor": 0,
  "metadata": {
    "colab": {
      "name": "BERT.ipynb",
      "provenance": [],
      "collapsed_sections": [],
      "include_colab_link": true
    },
    "kernelspec": {
      "name": "python3",
      "display_name": "Python 3"
    },
    "accelerator": "GPU"
  },
  "cells": [
    {
      "cell_type": "markdown",
      "metadata": {
        "id": "view-in-github",
        "colab_type": "text"
      },
      "source": [
        "<a href=\"https://colab.research.google.com/github/shivangibithel/IRMiDis_Task2/blob/main/BERT_Final.ipynb\" target=\"_parent\"><img src=\"https://colab.research.google.com/assets/colab-badge.svg\" alt=\"Open In Colab\"/></a>"
      ]
    },
    {
      "cell_type": "markdown",
      "metadata": {
        "id": "NpnXFnMkfld3"
      },
      "source": [
        "# Installing Transformer and imports"
      ]
    },
    {
      "cell_type": "code",
      "metadata": {
        "id": "8KM9EjsHZ7jX"
      },
      "source": [
        "pip install transformers"
      ],
      "execution_count": null,
      "outputs": []
    },
    {
      "cell_type": "code",
      "metadata": {
        "id": "h78UkLjkaBbM"
      },
      "source": [
        "import os\n",
        "import random\n",
        "import numpy as np\n",
        "import pandas as pd\n",
        "import matplotlib.pyplot as plt\n",
        "import seaborn as sns\n",
        "import cv2\n",
        "import os\n",
        "import math\n",
        "import seaborn as sn\n",
        "import tensorflow as tf\n",
        "import tensorflow_datasets as tfds\n",
        "from bs4 import BeautifulSoup\n",
        "from sklearn import metrics as sk_metrics\n",
        "import nltk\n",
        "import re\n",
        "from sklearn.utils import shuffle"
      ],
      "execution_count": 2,
      "outputs": []
    },
    {
      "cell_type": "code",
      "metadata": {
        "id": "LqrLQyTUaCRE"
      },
      "source": [
        "# from google.colab import drive\n",
        "# drive.mount('/content/gdrive/')"
      ],
      "execution_count": null,
      "outputs": []
    },
    {
      "cell_type": "code",
      "metadata": {
        "id": "u0ddrG6EaDON"
      },
      "source": [
        "# folder = '/content/gdrive/My Drive/corona-tweet-sent'\n",
        "# train_f = 'Corona_NLP_train.csv'\n",
        "# test_f = 'Corona_NLP_test.csv'\n",
        "\n",
        "# df_train = pd.read_csv(os.path.join(folder, train_f), engine='python')\n",
        "# df_test = pd.read_csv(os.path.join(folder, test_f), engine='python')"
      ],
      "execution_count": null,
      "outputs": []
    },
    {
      "cell_type": "markdown",
      "metadata": {
        "id": "4gQPIXoSfsSU"
      },
      "source": [
        "# Data read and split...for some accuracy numbers"
      ]
    },
    {
      "cell_type": "code",
      "metadata": {
        "id": "yYQB6za1Wup4"
      },
      "source": [
        "# col_list = [\"id\", \"tweet\", \"label\"]\n",
        "# our_data = pd.read_csv(\"irmidis-2021-task2-train.csv\",usecols=col_list)\n",
        "# muller_data = pd.read_csv(\"Muller_dataset.csv\",usecols=col_list)\n",
        "\n",
        "# y_map = {\n",
        "#     'ProVax': 0, \n",
        "#     'AntiVax': 1, \n",
        "#     'Neutral': 2\n",
        "# }\n",
        "\n",
        "# our_data['Sentiment_Cat'] = our_data['label'].map(y_map)\n",
        "\n",
        "# y_map = {\n",
        "#      0: 2, \n",
        "#     -1: 1, \n",
        "#      1: 0\n",
        "# }\n",
        "# muller_data['Sentiment_Cat'] = muller_data['label'].map(y_map)\n",
        "\n",
        "# frames = [our_data, muller_data]\n",
        "# df = pd.concat(frames)\n",
        "# df = shuffle(df)\n",
        "# df.to_csv('Final_dataset.csv',index=False)\n",
        "\n",
        "# df_train = pd.read_csv(\"irmidis-2021-task2-train.csv\")\n",
        "# df_test = pd.read_csv(\"irmidis-2021-task2-test.csv\")\n",
        "# df_train = our_data[:2233]\n",
        "# df_test = our_data[2234:]"
      ],
      "execution_count": null,
      "outputs": []
    },
    {
      "cell_type": "code",
      "metadata": {
        "id": "WDZCx7D5i7b1",
        "colab": {
          "base_uri": "https://localhost:8080/",
          "height": 415
        },
        "outputId": "29686e2d-e452-45e8-f43f-8d42d10588f5"
      },
      "source": [
        "# df"
      ],
      "execution_count": null,
      "outputs": [
        {
          "output_type": "execute_result",
          "data": {
            "text/html": [
              "<div>\n",
              "<style scoped>\n",
              "    .dataframe tbody tr th:only-of-type {\n",
              "        vertical-align: middle;\n",
              "    }\n",
              "\n",
              "    .dataframe tbody tr th {\n",
              "        vertical-align: top;\n",
              "    }\n",
              "\n",
              "    .dataframe thead th {\n",
              "        text-align: right;\n",
              "    }\n",
              "</style>\n",
              "<table border=\"1\" class=\"dataframe\">\n",
              "  <thead>\n",
              "    <tr style=\"text-align: right;\">\n",
              "      <th></th>\n",
              "      <th>id</th>\n",
              "      <th>tweet</th>\n",
              "      <th>label</th>\n",
              "      <th>Sentiment_Cat</th>\n",
              "    </tr>\n",
              "  </thead>\n",
              "  <tbody>\n",
              "    <tr>\n",
              "      <th>2526</th>\n",
              "      <td>3.370560e+17</td>\n",
              "      <td>Nevada ranks well behind most of the nation fo...</td>\n",
              "      <td>1</td>\n",
              "      <td>0</td>\n",
              "    </tr>\n",
              "    <tr>\n",
              "      <th>562</th>\n",
              "      <td>5.608710e+17</td>\n",
              "      <td>@RepKristiNoem #GOP STOP blaming #Immigrants f...</td>\n",
              "      <td>0</td>\n",
              "      <td>2</td>\n",
              "    </tr>\n",
              "    <tr>\n",
              "      <th>2350</th>\n",
              "      <td>5.628020e+17</td>\n",
              "      <td>Also this is a thing and my sister refuses to ...</td>\n",
              "      <td>-1</td>\n",
              "      <td>1</td>\n",
              "    </tr>\n",
              "    <tr>\n",
              "      <th>2937</th>\n",
              "      <td>4.080060e+17</td>\n",
              "      <td>Why you should  and shouldn't</td>\n",
              "      <td>0</td>\n",
              "      <td>2</td>\n",
              "    </tr>\n",
              "    <tr>\n",
              "      <th>4622</th>\n",
              "      <td>4.546540e+17</td>\n",
              "      <td>UPDATE: Elk Rapids board has voted to request ...</td>\n",
              "      <td>1</td>\n",
              "      <td>0</td>\n",
              "    </tr>\n",
              "    <tr>\n",
              "      <th>...</th>\n",
              "      <td>...</td>\n",
              "      <td>...</td>\n",
              "      <td>...</td>\n",
              "      <td>...</td>\n",
              "    </tr>\n",
              "    <tr>\n",
              "      <th>1044</th>\n",
              "      <td>1.325781e+18</td>\n",
              "      <td>I guess the stock market got this news!!!\\n\\n#...</td>\n",
              "      <td>Neutral</td>\n",
              "      <td>2</td>\n",
              "    </tr>\n",
              "    <tr>\n",
              "      <th>2063</th>\n",
              "      <td>5.104640e+17</td>\n",
              "      <td>US measles count rises to 121; most linked to ...</td>\n",
              "      <td>1</td>\n",
              "      <td>0</td>\n",
              "    </tr>\n",
              "    <tr>\n",
              "      <th>1981</th>\n",
              "      <td>1.336314e+18</td>\n",
              "      <td>90-year grandmother first to receive Pfizer CO...</td>\n",
              "      <td>Neutral</td>\n",
              "      <td>2</td>\n",
              "    </tr>\n",
              "    <tr>\n",
              "      <th>2206</th>\n",
              "      <td>1.785860e+17</td>\n",
              "      <td>Nina In New York: This Town Ain’t Big Enough F...</td>\n",
              "      <td>0</td>\n",
              "      <td>2</td>\n",
              "    </tr>\n",
              "    <tr>\n",
              "      <th>940</th>\n",
              "      <td>3.855030e+17</td>\n",
              "      <td>What a humanitarian @AC360: It’s not my respon...</td>\n",
              "      <td>-1</td>\n",
              "      <td>1</td>\n",
              "    </tr>\n",
              "  </tbody>\n",
              "</table>\n",
              "<p>7748 rows × 4 columns</p>\n",
              "</div>"
            ],
            "text/plain": [
              "                id  ... Sentiment_Cat\n",
              "2526  3.370560e+17  ...             0\n",
              "562   5.608710e+17  ...             2\n",
              "2350  5.628020e+17  ...             1\n",
              "2937  4.080060e+17  ...             2\n",
              "4622  4.546540e+17  ...             0\n",
              "...            ...  ...           ...\n",
              "1044  1.325781e+18  ...             2\n",
              "2063  5.104640e+17  ...             0\n",
              "1981  1.336314e+18  ...             2\n",
              "2206  1.785860e+17  ...             2\n",
              "940   3.855030e+17  ...             1\n",
              "\n",
              "[7748 rows x 4 columns]"
            ]
          },
          "metadata": {
            "tags": []
          },
          "execution_count": 12
        }
      ]
    },
    {
      "cell_type": "code",
      "metadata": {
        "id": "eqLJiW1YBWnc"
      },
      "source": [
        "col_list = [\"id\", \"tweet\", \"Sentiment_Cat\"]\n",
        "data = pd.read_csv(\"Final_dataset.csv\", usecols=col_list)\n",
        "from sklearn.utils import shuffle\n",
        "data = shuffle(data)"
      ],
      "execution_count": 41,
      "outputs": []
    },
    {
      "cell_type": "code",
      "metadata": {
        "id": "xcT7GhhQkAib",
        "colab": {
          "base_uri": "https://localhost:8080/"
        },
        "outputId": "62195e4b-7785-4768-f56e-4eadbe1cc490"
      },
      "source": [
        "from sklearn.model_selection import StratifiedShuffleSplit\n",
        "df = data\n",
        "split = StratifiedShuffleSplit(n_splits=1, test_size=0.2, random_state=42)\n",
        "for train_index, test_valid_index in split.split(df, df.Sentiment_Cat):\n",
        "    train_set = df.iloc[train_index]\n",
        "    test_valid_set = df.iloc[test_valid_index]\n",
        "\n",
        "# split2 = StratifiedShuffleSplit(n_splits=1, test_size=0.5, random_state=42)\n",
        "# for test_index, valid_index in split2.split(test_valid_set, test_valid_set.Sentiment_Cat):\n",
        "#     test_set = test_valid_set.iloc[test_index]\n",
        "#     valid_set = test_valid_set.iloc[valid_index]\n",
        "\n",
        "print(train_set.shape)\n",
        "print(test_valid_set.shape)\n",
        "# valid_set.shape\n",
        "df_train = train_set\n",
        "df_test = test_valid_set"
      ],
      "execution_count": 42,
      "outputs": [
        {
          "output_type": "stream",
          "text": [
            "(6198, 3)\n",
            "(1550, 3)\n"
          ],
          "name": "stdout"
        }
      ]
    },
    {
      "cell_type": "code",
      "metadata": {
        "id": "pklk6KusbGf9",
        "colab": {
          "base_uri": "https://localhost:8080/"
        },
        "outputId": "8a2b563b-d275-4ec2-b4e9-e93364fba879"
      },
      "source": [
        "df_train.info()"
      ],
      "execution_count": null,
      "outputs": [
        {
          "output_type": "stream",
          "text": [
            "<class 'pandas.core.frame.DataFrame'>\n",
            "Int64Index: 4648 entries, 4565 to 2006\n",
            "Data columns (total 3 columns):\n",
            " #   Column         Non-Null Count  Dtype  \n",
            "---  ------         --------------  -----  \n",
            " 0   id             4648 non-null   float64\n",
            " 1   tweet          4648 non-null   object \n",
            " 2   Sentiment_Cat  4648 non-null   int64  \n",
            "dtypes: float64(1), int64(1), object(1)\n",
            "memory usage: 145.2+ KB\n"
          ],
          "name": "stdout"
        }
      ]
    },
    {
      "cell_type": "code",
      "metadata": {
        "colab": {
          "base_uri": "https://localhost:8080/"
        },
        "id": "BI96posMLkQ7",
        "outputId": "f863340f-f6f1-4e88-a09d-f6b3b50e5f78"
      },
      "source": [
        "df_train.Sentiment_Cat.value_counts()"
      ],
      "execution_count": 5,
      "outputs": [
        {
          "output_type": "execute_result",
          "data": {
            "text/plain": [
              "2    1597\n",
              "0    1585\n",
              "1    1466\n",
              "Name: Sentiment_Cat, dtype: int64"
            ]
          },
          "metadata": {
            "tags": []
          },
          "execution_count": 5
        }
      ]
    },
    {
      "cell_type": "code",
      "metadata": {
        "colab": {
          "base_uri": "https://localhost:8080/"
        },
        "id": "hxH0PYoLL0rF",
        "outputId": "23e5dd9d-68fe-49cb-b704-74be5f57cd02"
      },
      "source": [
        "df_test.Sentiment_Cat.value_counts()"
      ],
      "execution_count": 6,
      "outputs": [
        {
          "output_type": "execute_result",
          "data": {
            "text/plain": [
              "2    1065\n",
              "0    1058\n",
              "1     977\n",
              "Name: Sentiment_Cat, dtype: int64"
            ]
          },
          "metadata": {
            "tags": []
          },
          "execution_count": 6
        }
      ]
    },
    {
      "cell_type": "code",
      "metadata": {
        "id": "xhF9mMVKbnBN",
        "colab": {
          "base_uri": "https://localhost:8080/",
          "height": 202
        },
        "outputId": "ab56e69a-2ed6-4e62-f771-f2092e6fe69e"
      },
      "source": [
        "df_train.head()"
      ],
      "execution_count": 7,
      "outputs": [
        {
          "output_type": "execute_result",
          "data": {
            "text/html": [
              "<div>\n",
              "<style scoped>\n",
              "    .dataframe tbody tr th:only-of-type {\n",
              "        vertical-align: middle;\n",
              "    }\n",
              "\n",
              "    .dataframe tbody tr th {\n",
              "        vertical-align: top;\n",
              "    }\n",
              "\n",
              "    .dataframe thead th {\n",
              "        text-align: right;\n",
              "    }\n",
              "</style>\n",
              "<table border=\"1\" class=\"dataframe\">\n",
              "  <thead>\n",
              "    <tr style=\"text-align: right;\">\n",
              "      <th></th>\n",
              "      <th>id</th>\n",
              "      <th>tweet</th>\n",
              "      <th>Sentiment_Cat</th>\n",
              "    </tr>\n",
              "  </thead>\n",
              "  <tbody>\n",
              "    <tr>\n",
              "      <th>438</th>\n",
              "      <td>1.325860e+18</td>\n",
              "      <td>Do not take the covid vaccine! It will not onl...</td>\n",
              "      <td>1</td>\n",
              "    </tr>\n",
              "    <tr>\n",
              "      <th>3702</th>\n",
              "      <td>5.910040e+17</td>\n",
              "      <td>My math teacher goes from talking about a sewi...</td>\n",
              "      <td>0</td>\n",
              "    </tr>\n",
              "    <tr>\n",
              "      <th>4319</th>\n",
              "      <td>1.331604e+18</td>\n",
              "      <td>@JustinWelby I agree. How awful to hit the poo...</td>\n",
              "      <td>0</td>\n",
              "    </tr>\n",
              "    <tr>\n",
              "      <th>3711</th>\n",
              "      <td>1.334598e+18</td>\n",
              "      <td>Presidents Obama, Bush &amp;amp; Clinton are volun...</td>\n",
              "      <td>2</td>\n",
              "    </tr>\n",
              "    <tr>\n",
              "      <th>5856</th>\n",
              "      <td>5.787670e+17</td>\n",
              "      <td>Expert Q&amp;amp;A: Childhood Vaccine Safety: WebM...</td>\n",
              "      <td>2</td>\n",
              "    </tr>\n",
              "  </tbody>\n",
              "</table>\n",
              "</div>"
            ],
            "text/plain": [
              "                id  ... Sentiment_Cat\n",
              "438   1.325860e+18  ...             1\n",
              "3702  5.910040e+17  ...             0\n",
              "4319  1.331604e+18  ...             0\n",
              "3711  1.334598e+18  ...             2\n",
              "5856  5.787670e+17  ...             2\n",
              "\n",
              "[5 rows x 3 columns]"
            ]
          },
          "metadata": {
            "tags": []
          },
          "execution_count": 7
        }
      ]
    },
    {
      "cell_type": "code",
      "metadata": {
        "id": "1UXvi9kQve9y",
        "colab": {
          "base_uri": "https://localhost:8080/",
          "height": 52
        },
        "outputId": "22c0a095-fcd0-49e8-9020-9d204ce09880"
      },
      "source": [
        "df_train['tweet'].iloc[0]"
      ],
      "execution_count": 8,
      "outputs": [
        {
          "output_type": "execute_result",
          "data": {
            "application/vnd.google.colaboratory.intrinsic+json": {
              "type": "string"
            },
            "text/plain": [
              "'Do not take the covid vaccine! It will not only change your DNA but it will also make you unredeemable to God! https://t.co/mRazOZkfSg'"
            ]
          },
          "metadata": {
            "tags": []
          },
          "execution_count": 8
        }
      ]
    },
    {
      "cell_type": "code",
      "metadata": {
        "id": "LbVsoiYsbuYF",
        "colab": {
          "base_uri": "https://localhost:8080/"
        },
        "outputId": "c32066e4-3152-4cb8-82c5-67562efb7483"
      },
      "source": [
        "# y_map = {\n",
        "#     'ProVax': 0, \n",
        "#     'AntiVax': 1, \n",
        "#     'Neutral': 2\n",
        "# }\n",
        "\n",
        "# df_train['Sentiment_Cat'] = df_train['label'].map(y_map)\n",
        "# df_test['Sentiment_Cat'] = df_test['label'].map(y_map)"
      ],
      "execution_count": null,
      "outputs": [
        {
          "output_type": "stream",
          "text": [
            "/usr/local/lib/python3.7/dist-packages/ipykernel_launcher.py:7: SettingWithCopyWarning: \n",
            "A value is trying to be set on a copy of a slice from a DataFrame.\n",
            "Try using .loc[row_indexer,col_indexer] = value instead\n",
            "\n",
            "See the caveats in the documentation: https://pandas.pydata.org/pandas-docs/stable/user_guide/indexing.html#returning-a-view-versus-a-copy\n",
            "  import sys\n",
            "/usr/local/lib/python3.7/dist-packages/ipykernel_launcher.py:8: SettingWithCopyWarning: \n",
            "A value is trying to be set on a copy of a slice from a DataFrame.\n",
            "Try using .loc[row_indexer,col_indexer] = value instead\n",
            "\n",
            "See the caveats in the documentation: https://pandas.pydata.org/pandas-docs/stable/user_guide/indexing.html#returning-a-view-versus-a-copy\n",
            "  \n"
          ],
          "name": "stderr"
        }
      ]
    },
    {
      "cell_type": "markdown",
      "metadata": {
        "id": "2DzTRCQFf21N"
      },
      "source": [
        "# Pre-processing"
      ]
    },
    {
      "cell_type": "code",
      "metadata": {
        "id": "-mUdhBwNbwmn",
        "colab": {
          "base_uri": "https://localhost:8080/"
        },
        "outputId": "b167d1b6-ea2c-472f-8b39-ea62f118e154"
      },
      "source": [
        "# nltk.download('stopwords')\n",
        "# stop_words = nltk.corpus.stopwords.words('english')\n",
        "\n",
        "# def clean_text(data):\n",
        "#     data = data.lower()\n",
        "#     data = re.sub(r'https?:\\/\\/(www\\.)?[-a-zA-Z0-9@:%._\\+~#=]{1,256}\\.[a-zA-Z0-9()]{1,6}\\b([-a-zA-Z0-9()@:%_\\+.~#?&//=]*)', '', data)\n",
        "#     data = re.sub(r'([^a-zA-Z\\s])', '', data)\n",
        "#     data = data.split()\n",
        "#     temp = []\n",
        "#     for i in data:\n",
        "#         if i not in stop_words:\n",
        "#             temp.append(i)\n",
        "#     data = ' '.join(temp)\n",
        "#     return data\n",
        "\n",
        "# df_train['tweet_cleaned'] = df_train['tweet'].apply(clean_text)\n",
        "# df_test['tweet_cleaned'] = df_test['tweet'].apply(clean_text)"
      ],
      "execution_count": null,
      "outputs": [
        {
          "output_type": "stream",
          "text": [
            "[nltk_data] Downloading package stopwords to /root/nltk_data...\n",
            "[nltk_data]   Package stopwords is already up-to-date!\n"
          ],
          "name": "stdout"
        }
      ]
    },
    {
      "cell_type": "code",
      "metadata": {
        "id": "J5XfBOwfQ4WT",
        "colab": {
          "base_uri": "https://localhost:8080/"
        },
        "outputId": "92b5d71c-dc31-4906-fb2a-e1d344b16c0b"
      },
      "source": [
        "from sklearn.feature_extraction import stop_words\n",
        "stopwords = stop_words.ENGLISH_STOP_WORDS\n",
        "def clean(doc): #doc is a string of text\n",
        "    # doc = doc.replace(\"@\", \" \")\n",
        "    # doc = doc.replace(\" \", \" \")\n",
        "    doc = \"\".join([char for char in doc if char not in string.punctuation and not char.isdigit()])\n",
        "    # doc = \" \".join([token for token in doc.split() if token not in stopwords])\n",
        "    #remove punctuation and numbers\n",
        "    return doc"
      ],
      "execution_count": 9,
      "outputs": [
        {
          "output_type": "stream",
          "text": [
            "/usr/local/lib/python3.7/dist-packages/sklearn/utils/deprecation.py:144: FutureWarning: The sklearn.feature_extraction.stop_words module is  deprecated in version 0.22 and will be removed in version 0.24. The corresponding classes / functions should instead be imported from sklearn.feature_extraction.text. Anything that cannot be imported from sklearn.feature_extraction.text is now part of the private API.\n",
            "  warnings.warn(message, FutureWarning)\n"
          ],
          "name": "stderr"
        }
      ]
    },
    {
      "cell_type": "code",
      "metadata": {
        "id": "_zib2ymDRAl-"
      },
      "source": [
        "import string\n",
        "import re\n",
        "def remove_emojis(data):\n",
        "    emoj = re.compile(\"[\"\n",
        "        u\"\\U0001F600-\\U0001F64F\"  # emoticons\n",
        "        u\"\\U0001F300-\\U0001F5FF\"  # symbols & pictographs\n",
        "        u\"\\U0001F680-\\U0001F6FF\"  # transport & map symbols\n",
        "        u\"\\U0001F1E0-\\U0001F1FF\"  # flags (iOS)\n",
        "        u\"\\U00002500-\\U00002BEF\"  # chinese char\n",
        "        u\"\\U00002702-\\U000027B0\"\n",
        "        u\"\\U00002702-\\U000027B0\"\n",
        "        u\"\\U000024C2-\\U0001F251\"\n",
        "        u\"\\U0001f926-\\U0001f937\"\n",
        "        u\"\\U00010000-\\U0010ffff\"\n",
        "        u\"\\u2640-\\u2642\" \n",
        "        u\"\\u2600-\\u2B55\"\n",
        "        u\"\\u200d\"\n",
        "        u\"\\u23cf\"\n",
        "        u\"\\u23e9\"\n",
        "        u\"\\u231a\"\n",
        "        u\"\\ufe0f\"  # dingbats\n",
        "        u\"\\u3030\"\n",
        "                      \"]+\", re.UNICODE)\n",
        "    return re.sub(emoj, '', data)\n",
        "\n",
        "def remove_url(data):\n",
        "  url = re.compile(\"http[s]?\\:\\/\\/.[a-zA-Z0-9\\.\\/\\_?=%&#\\-\\+!]+\", re.UNICODE)\n",
        "  return re.sub(url, '', data)"
      ],
      "execution_count": 10,
      "outputs": []
    },
    {
      "cell_type": "code",
      "metadata": {
        "id": "0w_JUhoiRNc-",
        "outputId": "57af2f04-20eb-4b1a-cfec-ec2d3d3caa94",
        "colab": {
          "base_uri": "https://localhost:8080/"
        }
      },
      "source": [
        "def clean_text():\n",
        "  df_train['tweet_cleaned'] = df_train['tweet'].apply(remove_url)\n",
        "  df_train['tweet_cleaned'] = df_train['tweet_cleaned'].apply(clean)\n",
        "  df_train['tweet_cleaned'] = df_train['tweet_cleaned'].apply(remove_emojis)\n",
        "  df_test['tweet_cleaned'] = df_test['tweet'].apply(remove_url)\n",
        "  df_test['tweet_cleaned'] = df_test['tweet_cleaned'].apply(clean)\n",
        "  df_test['tweet_cleaned'] = df_test['tweet_cleaned'].apply(remove_emojis)\n",
        "\n",
        "clean_text()\n",
        "# df_train['tweet_cleaned'] = df_train['tweet'].apply(remove_url,clean,remove_emojis)\n",
        "# df_test['tweet_cleaned'] = df_test['tweet'].apply(remove_url,clean,remove_emojis)\n",
        "# for i in range(len(our_data)):\n",
        "#   our_data.tweet.iloc[i] = remove_url(our_data.tweet.iloc[i])\n",
        "#   our_data.tweet.iloc[i] = clean(our_data.tweet.iloc[i])\n",
        "#   our_data.tweet.iloc[i] = remove_emojis(our_data.tweet.iloc[i])"
      ],
      "execution_count": 43,
      "outputs": [
        {
          "output_type": "stream",
          "text": [
            "/usr/local/lib/python3.7/dist-packages/ipykernel_launcher.py:2: SettingWithCopyWarning: \n",
            "A value is trying to be set on a copy of a slice from a DataFrame.\n",
            "Try using .loc[row_indexer,col_indexer] = value instead\n",
            "\n",
            "See the caveats in the documentation: https://pandas.pydata.org/pandas-docs/stable/user_guide/indexing.html#returning-a-view-versus-a-copy\n",
            "  \n",
            "/usr/local/lib/python3.7/dist-packages/ipykernel_launcher.py:3: SettingWithCopyWarning: \n",
            "A value is trying to be set on a copy of a slice from a DataFrame.\n",
            "Try using .loc[row_indexer,col_indexer] = value instead\n",
            "\n",
            "See the caveats in the documentation: https://pandas.pydata.org/pandas-docs/stable/user_guide/indexing.html#returning-a-view-versus-a-copy\n",
            "  This is separate from the ipykernel package so we can avoid doing imports until\n",
            "/usr/local/lib/python3.7/dist-packages/ipykernel_launcher.py:4: SettingWithCopyWarning: \n",
            "A value is trying to be set on a copy of a slice from a DataFrame.\n",
            "Try using .loc[row_indexer,col_indexer] = value instead\n",
            "\n",
            "See the caveats in the documentation: https://pandas.pydata.org/pandas-docs/stable/user_guide/indexing.html#returning-a-view-versus-a-copy\n",
            "  after removing the cwd from sys.path.\n",
            "/usr/local/lib/python3.7/dist-packages/ipykernel_launcher.py:5: SettingWithCopyWarning: \n",
            "A value is trying to be set on a copy of a slice from a DataFrame.\n",
            "Try using .loc[row_indexer,col_indexer] = value instead\n",
            "\n",
            "See the caveats in the documentation: https://pandas.pydata.org/pandas-docs/stable/user_guide/indexing.html#returning-a-view-versus-a-copy\n",
            "  \"\"\"\n",
            "/usr/local/lib/python3.7/dist-packages/ipykernel_launcher.py:6: SettingWithCopyWarning: \n",
            "A value is trying to be set on a copy of a slice from a DataFrame.\n",
            "Try using .loc[row_indexer,col_indexer] = value instead\n",
            "\n",
            "See the caveats in the documentation: https://pandas.pydata.org/pandas-docs/stable/user_guide/indexing.html#returning-a-view-versus-a-copy\n",
            "  \n",
            "/usr/local/lib/python3.7/dist-packages/ipykernel_launcher.py:7: SettingWithCopyWarning: \n",
            "A value is trying to be set on a copy of a slice from a DataFrame.\n",
            "Try using .loc[row_indexer,col_indexer] = value instead\n",
            "\n",
            "See the caveats in the documentation: https://pandas.pydata.org/pandas-docs/stable/user_guide/indexing.html#returning-a-view-versus-a-copy\n",
            "  import sys\n"
          ],
          "name": "stderr"
        }
      ]
    },
    {
      "cell_type": "code",
      "metadata": {
        "id": "oqiBJJsTVyCS",
        "outputId": "12c8aff9-5c8a-4712-9df3-725430bba17c",
        "colab": {
          "base_uri": "https://localhost:8080/",
          "height": 35
        }
      },
      "source": [
        "df_train['tweet_cleaned'].iloc[0]"
      ],
      "execution_count": 44,
      "outputs": [
        {
          "output_type": "execute_result",
          "data": {
            "application/vnd.google.colaboratory.intrinsic+json": {
              "type": "string"
            },
            "text/plain": [
              "'Well FUCK YOU Measles and deflated footballs       '"
            ]
          },
          "metadata": {
            "tags": []
          },
          "execution_count": 44
        }
      ]
    },
    {
      "cell_type": "code",
      "metadata": {
        "id": "UzhyEzc2dIsv"
      },
      "source": [
        "x_train, y_train = df_train['tweet_cleaned'].values, np.array(df_train['Sentiment_Cat'], dtype=np.int64)\n",
        "x_test, y_test = df_test['tweet_cleaned'].values, np.array(df_test['Sentiment_Cat'], dtype=np.int64)"
      ],
      "execution_count": 45,
      "outputs": []
    },
    {
      "cell_type": "markdown",
      "metadata": {
        "id": "WBm7fSLdjNsK"
      },
      "source": [
        "# BERT"
      ]
    },
    {
      "cell_type": "code",
      "metadata": {
        "id": "UfVEmb5Idiv5"
      },
      "source": [
        "from tokenizers import BertWordPieceTokenizer\n",
        "import transformers"
      ],
      "execution_count": 15,
      "outputs": []
    },
    {
      "cell_type": "code",
      "metadata": {
        "id": "61MeqJ8CZoZP"
      },
      "source": [
        "# trying to incorporate covid-twitter-bert here\n",
        "# from transformers import (\n",
        "#    AutoConfig,\n",
        "#    AutoTokenizer,\n",
        "#    TFAutoModelForSequenceClassification,\n",
        "#    AdamW,\n",
        "#    glue_convert_examples_to_features\n",
        "# )\n",
        "# from transformers import AutoConfig, AutoModel\n",
        "# import tensorflow as tf\n",
        "# import tensorflow_datasets as tfds\n",
        "# import json\n",
        "# tokenizer = AutoTokenizer.from_pretrained(\"digitalepidemiologylab/covid-twitter-bert\")\n",
        "# model = AutoModel.from_pretrained(\"digitalepidemiologylab/covid-twitter-bert\")"
      ],
      "execution_count": null,
      "outputs": []
    },
    {
      "cell_type": "code",
      "metadata": {
        "id": "8o7uh0Gbdlmf",
        "colab": {
          "base_uri": "https://localhost:8080/"
        },
        "outputId": "e04d086d-e139-4703-9647-57d88ec7f1d9"
      },
      "source": [
        "# First load the real tokenizer\n",
        "# tokenizer = transformers.DistilBertTokenizer.from_pretrained('distilbert-base-uncased' , lower=True)\n",
        "tokenizer = transformers.BertTokenizerFast.from_pretrained('bert-large-uncased', lower=True)\n",
        "\n",
        "# Save the loaded tokenizer locally\n",
        "tokenizer.save_pretrained('.')\n",
        "\n",
        "# Reload it with the huggingface tokenizers library\n",
        "fast_tokenizer = BertWordPieceTokenizer('vocab.txt', lowercase=True)\n",
        "fast_tokenizer"
      ],
      "execution_count": 46,
      "outputs": [
        {
          "output_type": "execute_result",
          "data": {
            "text/plain": [
              "Tokenizer(vocabulary_size=30522, model=BertWordPiece, unk_token=[UNK], sep_token=[SEP], cls_token=[CLS], pad_token=[PAD], mask_token=[MASK], clean_text=True, handle_chinese_chars=True, strip_accents=None, lowercase=True, wordpieces_prefix=##)"
            ]
          },
          "metadata": {
            "tags": []
          },
          "execution_count": 46
        }
      ]
    },
    {
      "cell_type": "code",
      "metadata": {
        "id": "Vvy3OyJddodD"
      },
      "source": [
        "def fast_encode(texts, tokenizer, chunk_size=256, maxlen=200):\n",
        "    tokenizer.enable_truncation(max_length=maxlen)\n",
        "    tokenizer.enable_padding(length=maxlen)\n",
        "    all_ids = []\n",
        "    \n",
        "    for i in range(0, len(texts), chunk_size):\n",
        "        text_chunk = texts[i:i+chunk_size].tolist()\n",
        "        encs = tokenizer.encode_batch(text_chunk)\n",
        "        all_ids.extend([enc.ids for enc in encs])\n",
        "    \n",
        "    return np.array(all_ids)"
      ],
      "execution_count": 47,
      "outputs": []
    },
    {
      "cell_type": "code",
      "metadata": {
        "id": "Q9LJvgi0d5i-"
      },
      "source": [
        "max_len=60\n",
        "x_train_enc = fast_encode(x_train, fast_tokenizer, maxlen=max_len)\n",
        "x_test_enc = fast_encode(x_test, fast_tokenizer, maxlen=max_len)"
      ],
      "execution_count": 48,
      "outputs": []
    },
    {
      "cell_type": "code",
      "metadata": {
        "id": "pcBnfPChd9PO",
        "colab": {
          "base_uri": "https://localhost:8080/"
        },
        "outputId": "0bdf4c25-2b96-4f4c-8537-3129986428c8"
      },
      "source": [
        "NUM_CLASSES = df_train['Sentiment_Cat'].nunique()\n",
        "\n",
        "# bert_transformer = transformers.TFDistilBertModel.from_pretrained('distilbert-base-uncased')\n",
        "# bert_transformer = transformers.TFBertForSequenceClassification.from_pretrained('bert-base-uncased', num_labels=NUM_CLASSES)\n",
        "bert_transformer = transformers.TFBertForSequenceClassification.from_pretrained('digitalepidemiologylab/covid-twitter-bert-v2', num_labels=NUM_CLASSES)\n",
        "input = tf.keras.layers.Input(shape=(max_len,), dtype=tf.int32)\n",
        "sequence_output = bert_transformer(input)[0]\n",
        "# cls_token = sequence_output[:, 0, :]\n",
        "# output = tf.keras.layers.Dense(NUM_CLASSES, activation='softmax')(cls_token)\n",
        "\n",
        "model = tf.keras.Model(inputs=input, outputs=sequence_output)\n",
        "model.compile(optimizer=tf.keras.optimizers.Adam(1e-5), loss=tf.keras.losses.SparseCategoricalCrossentropy(from_logits=True), metrics=['accuracy'])"
      ],
      "execution_count": 49,
      "outputs": [
        {
          "output_type": "stream",
          "text": [
            "All model checkpoint layers were used when initializing TFBertForSequenceClassification.\n",
            "\n",
            "Some layers of TFBertForSequenceClassification were not initialized from the model checkpoint at digitalepidemiologylab/covid-twitter-bert-v2 and are newly initialized: ['classifier']\n",
            "You should probably TRAIN this model on a down-stream task to be able to use it for predictions and inference.\n"
          ],
          "name": "stderr"
        },
        {
          "output_type": "stream",
          "text": [
            "WARNING:tensorflow:The parameters `output_attentions`, `output_hidden_states` and `use_cache` cannot be updated when calling a model.They have to be set to True/False in the config object (i.e.: `config=XConfig.from_pretrained('name', output_attentions=True)`).\n",
            "WARNING:tensorflow:The parameter `return_dict` cannot be set in graph mode and will always be set to `True`.\n"
          ],
          "name": "stdout"
        }
      ]
    },
    {
      "cell_type": "code",
      "metadata": {
        "id": "0bliWbCjeRLV",
        "colab": {
          "base_uri": "https://localhost:8080/"
        },
        "outputId": "7a08c311-d5b6-4825-f472-078c2ffacbd6"
      },
      "source": [
        "model.summary()"
      ],
      "execution_count": 50,
      "outputs": [
        {
          "output_type": "stream",
          "text": [
            "Model: \"model_2\"\n",
            "_________________________________________________________________\n",
            "Layer (type)                 Output Shape              Param #   \n",
            "=================================================================\n",
            "input_3 (InputLayer)         [(None, 60)]              0         \n",
            "_________________________________________________________________\n",
            "tf_bert_for_sequence_classif TFSequenceClassifierOutpu 335144963 \n",
            "=================================================================\n",
            "Total params: 335,144,963\n",
            "Trainable params: 335,144,963\n",
            "Non-trainable params: 0\n",
            "_________________________________________________________________\n"
          ],
          "name": "stdout"
        }
      ]
    },
    {
      "cell_type": "code",
      "metadata": {
        "id": "BtfsgOX5YoAg"
      },
      "source": [
        "data = df_train\n",
        "Neutral_data = data[data['Sentiment_Cat'] == 2]\n",
        "Antivax_data = data[data['Sentiment_Cat'] == 1]\n",
        "Provax_data = data[data['Sentiment_Cat'] == 0]"
      ],
      "execution_count": 51,
      "outputs": []
    },
    {
      "cell_type": "code",
      "metadata": {
        "id": "auW5p-QfYaQc",
        "outputId": "67c44ffd-f726-48db-eccf-93d6d301889a",
        "colab": {
          "base_uri": "https://localhost:8080/"
        }
      },
      "source": [
        "# df = Antivax_data\n",
        "a=[]\n",
        "for i in range(len(Antivax_data)):\n",
        "  a.append(len(Antivax_data['tweet_cleaned'].iloc[i].split()))\n",
        "print(max(a))\n",
        "# df = Provax_data\n",
        "b=[]\n",
        "for i in range(len(Provax_data)):\n",
        "  b.append(len(Provax_data['tweet_cleaned'].iloc[i].split()))\n",
        "print(max(b))\n",
        "# df = Neutral_data\n",
        "c=[]\n",
        "for i in range(len(Neutral_data)):\n",
        "  c.append(len(Neutral_data['tweet_cleaned'].iloc[i].split()))\n",
        "print(max(c))"
      ],
      "execution_count": 52,
      "outputs": [
        {
          "output_type": "stream",
          "text": [
            "58\n",
            "59\n",
            "51\n"
          ],
          "name": "stdout"
        }
      ]
    },
    {
      "cell_type": "code",
      "metadata": {
        "id": "Tm7MYJKzp6kM",
        "outputId": "1be0ab7c-303a-438f-a219-12b5b267fe62",
        "colab": {
          "base_uri": "https://localhost:8080/"
        }
      },
      "source": [
        "print(len(Neutral_data), len(Antivax_data), len(Provax_data))"
      ],
      "execution_count": 53,
      "outputs": [
        {
          "output_type": "stream",
          "text": [
            "2130 1954 2114\n"
          ],
          "name": "stdout"
        }
      ]
    },
    {
      "cell_type": "code",
      "metadata": {
        "id": "EjmubgzJYTWN",
        "outputId": "e1eaa5a9-b489-4c78-8c19-c2a91bc651cf",
        "colab": {
          "base_uri": "https://localhost:8080/",
          "height": 851
        }
      },
      "source": [
        "import numpy as np\n",
        "import matplotlib.pyplot as plt\n",
        "from numpy import *\n",
        "plt.hist(a,bins= 60, label = \"AntiVax\")\n",
        "plt.legend()\n",
        "plt.xlabel('Length')\n",
        "plt.ylabel('Frequecy')\n",
        "plt.title('Length Histogram')\n",
        "plt.show()\n",
        "plt.hist(b,bins= 60, label = \"ProVax\")\n",
        "plt.legend()\n",
        "plt.xlabel('Length')\n",
        "plt.ylabel('Frequecy')\n",
        "plt.title('Length Histogram')\n",
        "plt.show()\n",
        "plt.hist(c, bins= 60, label = \"Neutral\")\n",
        "plt.legend()\n",
        "plt.xlabel('Length')\n",
        "plt.ylabel('Frequecy')\n",
        "plt.title('Length Histogram')\n",
        "plt.show()"
      ],
      "execution_count": 55,
      "outputs": [
        {
          "output_type": "display_data",
          "data": {
            "image/png": "[encoded data removed]",
            "text/plain": [
              "<Figure size 432x288 with 1 Axes>"
            ]
          },
          "metadata": {
            "tags": [],
            "needs_background": "light"
          }
        },
        {
          "output_type": "display_data",
          "data": {
            "image/png": "[encoded data removed]",
            "text/plain": [
              "<Figure size 432x288 with 1 Axes>"
            ]
          },
          "metadata": {
            "tags": [],
            "needs_background": "light"
          }
        },
        {
          "output_type": "display_data",
          "data": {
            "image/png": "[encoded data removed]",
            "text/plain": [
              "<Figure size 432x288 with 1 Axes>"
            ]
          },
          "metadata": {
            "tags": [],
            "needs_background": "light"
          }
        }
      ]
    },
    {
      "cell_type": "code",
      "metadata": {
        "id": "WRLoFJv0lTip",
        "colab": {
          "base_uri": "https://localhost:8080/"
        },
        "outputId": "5a64867b-9872-40ce-d31e-76d06e52e9a1"
      },
      "source": [
        "# call backs\n",
        "early_stop_callback = tf.keras.callbacks.EarlyStopping(\n",
        "    monitor='val_loss', \n",
        "    patience=3, \n",
        "    restore_best_weights=True\n",
        ")\n",
        "\n",
        "history = model.fit(\n",
        "    x_train_enc,\n",
        "    y_train,\n",
        "    batch_size=16,\n",
        "    validation_data=(x_test_enc, y_test),\n",
        "    epochs=50,\n",
        "    callbacks=[early_stop_callback])"
      ],
      "execution_count": 56,
      "outputs": [
        {
          "output_type": "stream",
          "text": [
            "Epoch 1/50\n",
            "WARNING:tensorflow:The parameters `output_attentions`, `output_hidden_states` and `use_cache` cannot be updated when calling a model.They have to be set to True/False in the config object (i.e.: `config=XConfig.from_pretrained('name', output_attentions=True)`).\n",
            "WARNING:tensorflow:The parameter `return_dict` cannot be set in graph mode and will always be set to `True`.\n",
            "WARNING:tensorflow:The parameters `output_attentions`, `output_hidden_states` and `use_cache` cannot be updated when calling a model.They have to be set to True/False in the config object (i.e.: `config=XConfig.from_pretrained('name', output_attentions=True)`).\n",
            "WARNING:tensorflow:The parameter `return_dict` cannot be set in graph mode and will always be set to `True`.\n",
            "388/388 [==============================] - ETA: 0s - loss: 1.1111 - accuracy: 0.3411WARNING:tensorflow:The parameters `output_attentions`, `output_hidden_states` and `use_cache` cannot be updated when calling a model.They have to be set to True/False in the config object (i.e.: `config=XConfig.from_pretrained('name', output_attentions=True)`).\n",
            "WARNING:tensorflow:The parameter `return_dict` cannot be set in graph mode and will always be set to `True`.\n",
            "388/388 [==============================] - 595s 1s/step - loss: 1.1111 - accuracy: 0.3411 - val_loss: 1.0912 - val_accuracy: 0.3613\n",
            "Epoch 2/50\n",
            "388/388 [==============================] - 550s 1s/step - loss: 1.1155 - accuracy: 0.3312 - val_loss: 1.1007 - val_accuracy: 0.3413\n",
            "Epoch 3/50\n",
            "388/388 [==============================] - 550s 1s/step - loss: 1.1127 - accuracy: 0.3372 - val_loss: 1.1055 - val_accuracy: 0.3413\n",
            "Epoch 4/50\n",
            "388/388 [==============================] - 551s 1s/step - loss: 1.1094 - accuracy: 0.3404 - val_loss: 1.0987 - val_accuracy: 0.3413\n"
          ],
          "name": "stdout"
        }
      ]
    },
    {
      "cell_type": "code",
      "metadata": {
        "id": "AJRsiDYFevgr",
        "colab": {
          "base_uri": "https://localhost:8080/"
        },
        "outputId": "7574eaff-a0f6-4483-9cd8-e5656c0c4c2c"
      },
      "source": [
        "# call backs\n",
        "early_stop_callback = tf.keras.callbacks.EarlyStopping(\n",
        "    monitor='val_loss', \n",
        "    patience=3, \n",
        "    restore_best_weights=True\n",
        ")\n",
        "\n",
        "history = model.fit(\n",
        "    x_train_enc,\n",
        "    y_train,\n",
        "    batch_size=16,\n",
        "    validation_data=(x_test_enc, y_test),\n",
        "    epochs=50,\n",
        "    callbacks=[early_stop_callback])"
      ],
      "execution_count": null,
      "outputs": [
        {
          "output_type": "stream",
          "text": [
            "Epoch 1/50\n",
            "WARNING:tensorflow:The parameters `output_attentions`, `output_hidden_states` and `use_cache` cannot be updated when calling a model.They have to be set to True/False in the config object (i.e.: `config=XConfig.from_pretrained('name', output_attentions=True)`).\n",
            "WARNING:tensorflow:The parameter `return_dict` cannot be set in graph mode and will always be set to `True`.\n",
            "WARNING:tensorflow:The parameters `output_attentions`, `output_hidden_states` and `use_cache` cannot be updated when calling a model.They have to be set to True/False in the config object (i.e.: `config=XConfig.from_pretrained('name', output_attentions=True)`).\n",
            "WARNING:tensorflow:The parameter `return_dict` cannot be set in graph mode and will always be set to `True`.\n",
            "140/140 [==============================] - ETA: 0s - loss: 0.9717 - accuracy: 0.5016WARNING:tensorflow:The parameters `output_attentions`, `output_hidden_states` and `use_cache` cannot be updated when calling a model.They have to be set to True/False in the config object (i.e.: `config=XConfig.from_pretrained('name', output_attentions=True)`).\n",
            "WARNING:tensorflow:The parameter `return_dict` cannot be set in graph mode and will always be set to `True`.\n",
            "140/140 [==============================] - 153s 899ms/step - loss: 0.9717 - accuracy: 0.5016 - val_loss: 0.7530 - val_accuracy: 0.7097\n",
            "Epoch 2/50\n",
            "140/140 [==============================] - 122s 875ms/step - loss: 0.7204 - accuracy: 0.7197 - val_loss: 0.5340 - val_accuracy: 0.8405\n",
            "Epoch 3/50\n",
            "140/140 [==============================] - 122s 875ms/step - loss: 0.4787 - accuracy: 0.8486 - val_loss: 0.4793 - val_accuracy: 0.8405\n",
            "Epoch 4/50\n",
            "140/140 [==============================] - 122s 873ms/step - loss: 0.3327 - accuracy: 0.8948 - val_loss: 0.4384 - val_accuracy: 0.8405\n",
            "Epoch 5/50\n",
            "140/140 [==============================] - 122s 874ms/step - loss: 0.2181 - accuracy: 0.9346 - val_loss: 0.3756 - val_accuracy: 0.8781\n",
            "Epoch 6/50\n",
            "140/140 [==============================] - 122s 874ms/step - loss: 0.1476 - accuracy: 0.9579 - val_loss: 0.4153 - val_accuracy: 0.8620\n",
            "Epoch 7/50\n",
            "140/140 [==============================] - 122s 874ms/step - loss: 0.0963 - accuracy: 0.9745 - val_loss: 0.3745 - val_accuracy: 0.8835\n",
            "Epoch 8/50\n",
            "140/140 [==============================] - 122s 872ms/step - loss: 0.0785 - accuracy: 0.9812 - val_loss: 0.3987 - val_accuracy: 0.8835\n",
            "Epoch 9/50\n",
            "140/140 [==============================] - 122s 873ms/step - loss: 0.1175 - accuracy: 0.9660 - val_loss: 0.4855 - val_accuracy: 0.8566\n",
            "Epoch 10/50\n",
            "140/140 [==============================] - 122s 875ms/step - loss: 0.0874 - accuracy: 0.9772 - val_loss: 0.3781 - val_accuracy: 0.8871\n"
          ],
          "name": "stdout"
        }
      ]
    },
    {
      "cell_type": "markdown",
      "metadata": {
        "id": "sPB9-wqXjSRo"
      },
      "source": [
        "# Prediction "
      ]
    },
    {
      "cell_type": "code",
      "metadata": {
        "id": "zY9uNgVAe0MP",
        "colab": {
          "base_uri": "https://localhost:8080/"
        },
        "outputId": "3af5ec09-6675-43de-c4b3-56033c0caa26"
      },
      "source": [
        "ypred = model.predict(x_test_enc)\n",
        "# df_test['ypred'] = ypred\n",
        "# df_test['ypred_cat'] = np.where(df_test['ypred']>=0.5, 1, 0)\n",
        "df_test['ypred_cat'] = np.argmax(ypred, axis=1)"
      ],
      "execution_count": 57,
      "outputs": [
        {
          "output_type": "stream",
          "text": [
            "WARNING:tensorflow:The parameters `output_attentions`, `output_hidden_states` and `use_cache` cannot be updated when calling a model.They have to be set to True/False in the config object (i.e.: `config=XConfig.from_pretrained('name', output_attentions=True)`).\n",
            "WARNING:tensorflow:The parameter `return_dict` cannot be set in graph mode and will always be set to `True`.\n"
          ],
          "name": "stdout"
        },
        {
          "output_type": "stream",
          "text": [
            "/usr/local/lib/python3.7/dist-packages/ipykernel_launcher.py:4: SettingWithCopyWarning: \n",
            "A value is trying to be set on a copy of a slice from a DataFrame.\n",
            "Try using .loc[row_indexer,col_indexer] = value instead\n",
            "\n",
            "See the caveats in the documentation: https://pandas.pydata.org/pandas-docs/stable/user_guide/indexing.html#returning-a-view-versus-a-copy\n",
            "  after removing the cwd from sys.path.\n"
          ],
          "name": "stderr"
        }
      ]
    },
    {
      "cell_type": "code",
      "metadata": {
        "id": "5ZxKEI6KIt19",
        "colab": {
          "base_uri": "https://localhost:8080/"
        },
        "outputId": "29e1fd32-550f-4983-8119-152fd4d38d96"
      },
      "source": [
        "print(np.argmax(ypred, axis=1))"
      ],
      "execution_count": 58,
      "outputs": [
        {
          "output_type": "stream",
          "text": [
            "[2 2 2 ... 2 2 2]\n"
          ],
          "name": "stdout"
        }
      ]
    },
    {
      "cell_type": "code",
      "metadata": {
        "id": "3XLO099856Xm",
        "colab": {
          "base_uri": "https://localhost:8080/",
          "height": 295
        },
        "outputId": "886299c7-6158-4c6f-b7ca-7aa7367d40ba"
      },
      "source": [
        "y_map_inv = {\n",
        "    0: 'ProVax',\n",
        "    1: 'AntiVax',\n",
        "    2: 'Neutral'\n",
        "}\n",
        "\n",
        "# y_map = {\n",
        "#     'ProVax': 0, \n",
        "#     'AntiVax': 1, \n",
        "#     'Neutral': 2\n",
        "# }\n",
        "\n",
        "sns.heatmap(\n",
        "    pd.crosstab(df_test['ypred_cat'].map(y_map_inv), df_test['Sentiment_Cat'].map(y_map_inv)),\n",
        "    annot=True,\n",
        "    fmt='0.0f',\n",
        "    cbar=False,\n",
        "    linewidth=2,\n",
        "    cmap='coolwarm'     \n",
        ")\n",
        "\n",
        "plt.xlabel('True')\n",
        "plt.ylabel('Predicted')\n",
        "plt.title('Confusion Matrix');"
      ],
      "execution_count": 59,
      "outputs": [
        {
          "output_type": "display_data",
          "data": {
            "image/png": "[encoded data removed]",
            "text/plain": [
              "<Figure size 432x288 with 1 Axes>"
            ]
          },
          "metadata": {
            "tags": [],
            "needs_background": "light"
          }
        }
      ]
    },
    {
      "cell_type": "code",
      "metadata": {
        "id": "emwFinxTloyj",
        "colab": {
          "base_uri": "https://localhost:8080/"
        },
        "outputId": "533914c9-473d-43db-dc80-1f6b22e7bd4b"
      },
      "source": [
        "y_test = df_test['Sentiment_Cat'].map(y_map_inv)\n",
        "y_pred = df_test['ypred_cat'].map(y_map_inv)\n",
        "#importing confusion matrix\n",
        "from sklearn.metrics import confusion_matrix\n",
        "confusion = confusion_matrix(y_test, y_pred)\n",
        "print('Confusion Matrix\\n')\n",
        "print(confusion)\n",
        "\n",
        "#importing accuracy_score, precision_score, recall_score, f1_score\n",
        "from sklearn.metrics import accuracy_score, precision_score, recall_score, f1_score\n",
        "print('\\nAccuracy: {:.2f}\\n'.format(accuracy_score(y_test, y_pred)))\n",
        "\n",
        "print('Micro Precision: {:.2f}'.format(precision_score(y_test, y_pred, average='micro')))\n",
        "print('Micro Recall: {:.2f}'.format(recall_score(y_test, y_pred, average='micro')))\n",
        "print('Micro F1-score: {:.2f}\\n'.format(f1_score(y_test, y_pred, average='micro')))\n",
        "\n",
        "print('Macro Precision: {:.2f}'.format(precision_score(y_test, y_pred, average='macro')))\n",
        "print('Macro Recall: {:.2f}'.format(recall_score(y_test, y_pred, average='macro')))\n",
        "print('Macro F1-score: {:.2f}\\n'.format(f1_score(y_test, y_pred, average='macro')))\n",
        "\n",
        "print('Weighted Precision: {:.2f}'.format(precision_score(y_test, y_pred, average='weighted')))\n",
        "print('Weighted Recall: {:.2f}'.format(recall_score(y_test, y_pred, average='weighted')))\n",
        "print('Weighted F1-score: {:.2f}'.format(f1_score(y_test, y_pred, average='weighted')))\n",
        "\n",
        "from sklearn.metrics import classification_report\n",
        "print('\\nClassification Report\\n')\n",
        "print(classification_report(y_test, y_pred, target_names=['Class 1', 'Class 2', 'Class 3']))\n"
      ],
      "execution_count": 60,
      "outputs": [
        {
          "output_type": "stream",
          "text": [
            "Confusion Matrix\n",
            "\n",
            "[[ 26 441  22]\n",
            " [  9 514   9]\n",
            " [ 19 490  20]]\n",
            "\n",
            "Accuracy: 0.36\n",
            "\n",
            "Micro Precision: 0.36\n",
            "Micro Recall: 0.36\n",
            "Micro F1-score: 0.36\n",
            "\n",
            "Macro Precision: 0.41\n",
            "Macro Recall: 0.35\n",
            "Macro F1-score: 0.23\n",
            "\n",
            "Weighted Precision: 0.41\n",
            "Weighted Recall: 0.36\n",
            "Weighted F1-score: 0.23\n",
            "\n",
            "Classification Report\n",
            "\n",
            "              precision    recall  f1-score   support\n",
            "\n",
            "     Class 1       0.48      0.05      0.10       489\n",
            "     Class 2       0.36      0.97      0.52       532\n",
            "     Class 3       0.39      0.04      0.07       529\n",
            "\n",
            "    accuracy                           0.36      1550\n",
            "   macro avg       0.41      0.35      0.23      1550\n",
            "weighted avg       0.41      0.36      0.23      1550\n",
            "\n"
          ],
          "name": "stdout"
        }
      ]
    },
    {
      "cell_type": "code",
      "metadata": {
        "id": "uT_rhB1ahcAJ",
        "colab": {
          "base_uri": "https://localhost:8080/"
        },
        "outputId": "83ea8844-599b-4c4d-b612-5f3661680c79"
      },
      "source": [
        "y_test = df_test['Sentiment_Cat'].map(y_map_inv)\n",
        "y_pred = df_test['ypred_cat'].map(y_map_inv)\n",
        "#importing confusion matrix\n",
        "from sklearn.metrics import confusion_matrix\n",
        "confusion = confusion_matrix(y_test, y_pred)\n",
        "print('Confusion Matrix\\n')\n",
        "print(confusion)\n",
        "\n",
        "#importing accuracy_score, precision_score, recall_score, f1_score\n",
        "from sklearn.metrics import accuracy_score, precision_score, recall_score, f1_score\n",
        "print('\\nAccuracy: {:.2f}\\n'.format(accuracy_score(y_test, y_pred)))\n",
        "\n",
        "print('Micro Precision: {:.2f}'.format(precision_score(y_test, y_pred, average='micro')))\n",
        "print('Micro Recall: {:.2f}'.format(recall_score(y_test, y_pred, average='micro')))\n",
        "print('Micro F1-score: {:.2f}\\n'.format(f1_score(y_test, y_pred, average='micro')))\n",
        "\n",
        "print('Macro Precision: {:.2f}'.format(precision_score(y_test, y_pred, average='macro')))\n",
        "print('Macro Recall: {:.2f}'.format(recall_score(y_test, y_pred, average='macro')))\n",
        "print('Macro F1-score: {:.2f}\\n'.format(f1_score(y_test, y_pred, average='macro')))\n",
        "\n",
        "print('Weighted Precision: {:.2f}'.format(precision_score(y_test, y_pred, average='weighted')))\n",
        "print('Weighted Recall: {:.2f}'.format(recall_score(y_test, y_pred, average='weighted')))\n",
        "print('Weighted F1-score: {:.2f}'.format(f1_score(y_test, y_pred, average='weighted')))\n",
        "\n",
        "from sklearn.metrics import classification_report\n",
        "print('\\nClassification Report\\n')\n",
        "print(classification_report(y_test, y_pred, target_names=['Class 1', 'Class 2', 'Class 3']))\n"
      ],
      "execution_count": null,
      "outputs": [
        {
          "output_type": "stream",
          "text": [
            "Confusion Matrix\n",
            "\n",
            "[[130   9  12]\n",
            " [ 12 167  14]\n",
            " [  8  11 195]]\n",
            "\n",
            "Accuracy: 0.88\n",
            "\n",
            "Micro Precision: 0.88\n",
            "Micro Recall: 0.88\n",
            "Micro F1-score: 0.88\n",
            "\n",
            "Macro Precision: 0.88\n",
            "Macro Recall: 0.88\n",
            "Macro F1-score: 0.88\n",
            "\n",
            "Weighted Precision: 0.88\n",
            "Weighted Recall: 0.88\n",
            "Weighted F1-score: 0.88\n",
            "\n",
            "Classification Report\n",
            "\n",
            "              precision    recall  f1-score   support\n",
            "\n",
            "     Class 1       0.87      0.86      0.86       151\n",
            "     Class 2       0.89      0.87      0.88       193\n",
            "     Class 3       0.88      0.91      0.90       214\n",
            "\n",
            "    accuracy                           0.88       558\n",
            "   macro avg       0.88      0.88      0.88       558\n",
            "weighted avg       0.88      0.88      0.88       558\n",
            "\n"
          ],
          "name": "stdout"
        }
      ]
    }
  ]
}