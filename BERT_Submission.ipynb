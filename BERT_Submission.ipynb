{
  "nbformat": 4,
  "nbformat_minor": 0,
  "metadata": {
    "colab": {
      "name": "BERT.ipynb",
      "provenance": [],
      "collapsed_sections": [],
      "toc_visible": true,
      "include_colab_link": true
    },
    "kernelspec": {
      "name": "python3",
      "display_name": "Python 3"
    },
    "accelerator": "GPU",
    "widgets": {
      "application/vnd.jupyter.widget-state+json": {
        "5360080619a54288b1c944bdeff63ed8": {
          "model_module": "@jupyter-widgets/controls",
          "model_name": "HBoxModel",
          "state": {
            "_view_name": "HBoxView",
            "_dom_classes": [],
            "_model_name": "HBoxModel",
            "_view_module": "@jupyter-widgets/controls",
            "_model_module_version": "1.5.0",
            "_view_count": null,
            "_view_module_version": "1.5.0",
            "box_style": "",
            "layout": "IPY_MODEL_12cba3acb72c4241932490311a3db9b7",
            "_model_module": "@jupyter-widgets/controls",
            "children": [
              "IPY_MODEL_545f8142e13a416797d7bc4447eec9b3",
              "IPY_MODEL_240e3928c7b0429b840bb295344096d8"
            ]
          }
        },
        "12cba3acb72c4241932490311a3db9b7": {
          "model_module": "@jupyter-widgets/base",
          "model_name": "LayoutModel",
          "state": {
            "_view_name": "LayoutView",
            "grid_template_rows": null,
            "right": null,
            "justify_content": null,
            "_view_module": "@jupyter-widgets/base",
            "overflow": null,
            "_model_module_version": "1.2.0",
            "_view_count": null,
            "flex_flow": null,
            "width": null,
            "min_width": null,
            "border": null,
            "align_items": null,
            "bottom": null,
            "_model_module": "@jupyter-widgets/base",
            "top": null,
            "grid_column": null,
            "overflow_y": null,
            "overflow_x": null,
            "grid_auto_flow": null,
            "grid_area": null,
            "grid_template_columns": null,
            "flex": null,
            "_model_name": "LayoutModel",
            "justify_items": null,
            "grid_row": null,
            "max_height": null,
            "align_content": null,
            "visibility": null,
            "align_self": null,
            "height": null,
            "min_height": null,
            "padding": null,
            "grid_auto_rows": null,
            "grid_gap": null,
            "max_width": null,
            "order": null,
            "_view_module_version": "1.2.0",
            "grid_template_areas": null,
            "object_position": null,
            "object_fit": null,
            "grid_auto_columns": null,
            "margin": null,
            "display": null,
            "left": null
          }
        },
        "545f8142e13a416797d7bc4447eec9b3": {
          "model_module": "@jupyter-widgets/controls",
          "model_name": "FloatProgressModel",
          "state": {
            "_view_name": "ProgressView",
            "style": "IPY_MODEL_ef8bb469b2bd41e0a0542e13511cb41d",
            "_dom_classes": [],
            "description": "Downloading: 100%",
            "_model_name": "FloatProgressModel",
            "bar_style": "success",
            "max": 231508,
            "_view_module": "@jupyter-widgets/controls",
            "_model_module_version": "1.5.0",
            "value": 231508,
            "_view_count": null,
            "_view_module_version": "1.5.0",
            "orientation": "horizontal",
            "min": 0,
            "description_tooltip": null,
            "_model_module": "@jupyter-widgets/controls",
            "layout": "IPY_MODEL_05594b7d82d74adcbd29779e61456fdc"
          }
        },
        "240e3928c7b0429b840bb295344096d8": {
          "model_module": "@jupyter-widgets/controls",
          "model_name": "HTMLModel",
          "state": {
            "_view_name": "HTMLView",
            "style": "IPY_MODEL_047433edb2294ed6a5d09485461dafaf",
            "_dom_classes": [],
            "description": "",
            "_model_name": "HTMLModel",
            "placeholder": "​",
            "_view_module": "@jupyter-widgets/controls",
            "_model_module_version": "1.5.0",
            "value": " 232k/232k [00:00&lt;00:00, 1.80MB/s]",
            "_view_count": null,
            "_view_module_version": "1.5.0",
            "description_tooltip": null,
            "_model_module": "@jupyter-widgets/controls",
            "layout": "IPY_MODEL_8199b5e19de740aaaf0914965592da67"
          }
        },
        "ef8bb469b2bd41e0a0542e13511cb41d": {
          "model_module": "@jupyter-widgets/controls",
          "model_name": "ProgressStyleModel",
          "state": {
            "_view_name": "StyleView",
            "_model_name": "ProgressStyleModel",
            "description_width": "initial",
            "_view_module": "@jupyter-widgets/base",
            "_model_module_version": "1.5.0",
            "_view_count": null,
            "_view_module_version": "1.2.0",
            "bar_color": null,
            "_model_module": "@jupyter-widgets/controls"
          }
        },
        "05594b7d82d74adcbd29779e61456fdc": {
          "model_module": "@jupyter-widgets/base",
          "model_name": "LayoutModel",
          "state": {
            "_view_name": "LayoutView",
            "grid_template_rows": null,
            "right": null,
            "justify_content": null,
            "_view_module": "@jupyter-widgets/base",
            "overflow": null,
            "_model_module_version": "1.2.0",
            "_view_count": null,
            "flex_flow": null,
            "width": null,
            "min_width": null,
            "border": null,
            "align_items": null,
            "bottom": null,
            "_model_module": "@jupyter-widgets/base",
            "top": null,
            "grid_column": null,
            "overflow_y": null,
            "overflow_x": null,
            "grid_auto_flow": null,
            "grid_area": null,
            "grid_template_columns": null,
            "flex": null,
            "_model_name": "LayoutModel",
            "justify_items": null,
            "grid_row": null,
            "max_height": null,
            "align_content": null,
            "visibility": null,
            "align_self": null,
            "height": null,
            "min_height": null,
            "padding": null,
            "grid_auto_rows": null,
            "grid_gap": null,
            "max_width": null,
            "order": null,
            "_view_module_version": "1.2.0",
            "grid_template_areas": null,
            "object_position": null,
            "object_fit": null,
            "grid_auto_columns": null,
            "margin": null,
            "display": null,
            "left": null
          }
        },
        "047433edb2294ed6a5d09485461dafaf": {
          "model_module": "@jupyter-widgets/controls",
          "model_name": "DescriptionStyleModel",
          "state": {
            "_view_name": "StyleView",
            "_model_name": "DescriptionStyleModel",
            "description_width": "",
            "_view_module": "@jupyter-widgets/base",
            "_model_module_version": "1.5.0",
            "_view_count": null,
            "_view_module_version": "1.2.0",
            "_model_module": "@jupyter-widgets/controls"
          }
        },
        "8199b5e19de740aaaf0914965592da67": {
          "model_module": "@jupyter-widgets/base",
          "model_name": "LayoutModel",
          "state": {
            "_view_name": "LayoutView",
            "grid_template_rows": null,
            "right": null,
            "justify_content": null,
            "_view_module": "@jupyter-widgets/base",
            "overflow": null,
            "_model_module_version": "1.2.0",
            "_view_count": null,
            "flex_flow": null,
            "width": null,
            "min_width": null,
            "border": null,
            "align_items": null,
            "bottom": null,
            "_model_module": "@jupyter-widgets/base",
            "top": null,
            "grid_column": null,
            "overflow_y": null,
            "overflow_x": null,
            "grid_auto_flow": null,
            "grid_area": null,
            "grid_template_columns": null,
            "flex": null,
            "_model_name": "LayoutModel",
            "justify_items": null,
            "grid_row": null,
            "max_height": null,
            "align_content": null,
            "visibility": null,
            "align_self": null,
            "height": null,
            "min_height": null,
            "padding": null,
            "grid_auto_rows": null,
            "grid_gap": null,
            "max_width": null,
            "order": null,
            "_view_module_version": "1.2.0",
            "grid_template_areas": null,
            "object_position": null,
            "object_fit": null,
            "grid_auto_columns": null,
            "margin": null,
            "display": null,
            "left": null
          }
        },
        "5b36de7b57514e6d856b0c28e9fdda89": {
          "model_module": "@jupyter-widgets/controls",
          "model_name": "HBoxModel",
          "state": {
            "_view_name": "HBoxView",
            "_dom_classes": [],
            "_model_name": "HBoxModel",
            "_view_module": "@jupyter-widgets/controls",
            "_model_module_version": "1.5.0",
            "_view_count": null,
            "_view_module_version": "1.5.0",
            "box_style": "",
            "layout": "IPY_MODEL_39f380c5ce5d4b28b7ee38f8443de392",
            "_model_module": "@jupyter-widgets/controls",
            "children": [
              "IPY_MODEL_9654d2e9944441cb8f47c4cef976a56d",
              "IPY_MODEL_f761fda51efb470d86985f2c9a6a615b"
            ]
          }
        },
        "39f380c5ce5d4b28b7ee38f8443de392": {
          "model_module": "@jupyter-widgets/base",
          "model_name": "LayoutModel",
          "state": {
            "_view_name": "LayoutView",
            "grid_template_rows": null,
            "right": null,
            "justify_content": null,
            "_view_module": "@jupyter-widgets/base",
            "overflow": null,
            "_model_module_version": "1.2.0",
            "_view_count": null,
            "flex_flow": null,
            "width": null,
            "min_width": null,
            "border": null,
            "align_items": null,
            "bottom": null,
            "_model_module": "@jupyter-widgets/base",
            "top": null,
            "grid_column": null,
            "overflow_y": null,
            "overflow_x": null,
            "grid_auto_flow": null,
            "grid_area": null,
            "grid_template_columns": null,
            "flex": null,
            "_model_name": "LayoutModel",
            "justify_items": null,
            "grid_row": null,
            "max_height": null,
            "align_content": null,
            "visibility": null,
            "align_self": null,
            "height": null,
            "min_height": null,
            "padding": null,
            "grid_auto_rows": null,
            "grid_gap": null,
            "max_width": null,
            "order": null,
            "_view_module_version": "1.2.0",
            "grid_template_areas": null,
            "object_position": null,
            "object_fit": null,
            "grid_auto_columns": null,
            "margin": null,
            "display": null,
            "left": null
          }
        },
        "9654d2e9944441cb8f47c4cef976a56d": {
          "model_module": "@jupyter-widgets/controls",
          "model_name": "FloatProgressModel",
          "state": {
            "_view_name": "ProgressView",
            "style": "IPY_MODEL_91c603866e604cde9081ffeb231b96ff",
            "_dom_classes": [],
            "description": "Downloading: 100%",
            "_model_name": "FloatProgressModel",
            "bar_style": "success",
            "max": 466062,
            "_view_module": "@jupyter-widgets/controls",
            "_model_module_version": "1.5.0",
            "value": 466062,
            "_view_count": null,
            "_view_module_version": "1.5.0",
            "orientation": "horizontal",
            "min": 0,
            "description_tooltip": null,
            "_model_module": "@jupyter-widgets/controls",
            "layout": "IPY_MODEL_caa5ff43ddef4b74bbcc2ce9e36a100b"
          }
        },
        "f761fda51efb470d86985f2c9a6a615b": {
          "model_module": "@jupyter-widgets/controls",
          "model_name": "HTMLModel",
          "state": {
            "_view_name": "HTMLView",
            "style": "IPY_MODEL_ad0d79bd1fd847b38e7ce1a67266bb21",
            "_dom_classes": [],
            "description": "",
            "_model_name": "HTMLModel",
            "placeholder": "​",
            "_view_module": "@jupyter-widgets/controls",
            "_model_module_version": "1.5.0",
            "value": " 466k/466k [00:29&lt;00:00, 15.5kB/s]",
            "_view_count": null,
            "_view_module_version": "1.5.0",
            "description_tooltip": null,
            "_model_module": "@jupyter-widgets/controls",
            "layout": "IPY_MODEL_b860f7e56c9c43b1b8088b41c18ac974"
          }
        },
        "91c603866e604cde9081ffeb231b96ff": {
          "model_module": "@jupyter-widgets/controls",
          "model_name": "ProgressStyleModel",
          "state": {
            "_view_name": "StyleView",
            "_model_name": "ProgressStyleModel",
            "description_width": "initial",
            "_view_module": "@jupyter-widgets/base",
            "_model_module_version": "1.5.0",
            "_view_count": null,
            "_view_module_version": "1.2.0",
            "bar_color": null,
            "_model_module": "@jupyter-widgets/controls"
          }
        },
        "caa5ff43ddef4b74bbcc2ce9e36a100b": {
          "model_module": "@jupyter-widgets/base",
          "model_name": "LayoutModel",
          "state": {
            "_view_name": "LayoutView",
            "grid_template_rows": null,
            "right": null,
            "justify_content": null,
            "_view_module": "@jupyter-widgets/base",
            "overflow": null,
            "_model_module_version": "1.2.0",
            "_view_count": null,
            "flex_flow": null,
            "width": null,
            "min_width": null,
            "border": null,
            "align_items": null,
            "bottom": null,
            "_model_module": "@jupyter-widgets/base",
            "top": null,
            "grid_column": null,
            "overflow_y": null,
            "overflow_x": null,
            "grid_auto_flow": null,
            "grid_area": null,
            "grid_template_columns": null,
            "flex": null,
            "_model_name": "LayoutModel",
            "justify_items": null,
            "grid_row": null,
            "max_height": null,
            "align_content": null,
            "visibility": null,
            "align_self": null,
            "height": null,
            "min_height": null,
            "padding": null,
            "grid_auto_rows": null,
            "grid_gap": null,
            "max_width": null,
            "order": null,
            "_view_module_version": "1.2.0",
            "grid_template_areas": null,
            "object_position": null,
            "object_fit": null,
            "grid_auto_columns": null,
            "margin": null,
            "display": null,
            "left": null
          }
        },
        "ad0d79bd1fd847b38e7ce1a67266bb21": {
          "model_module": "@jupyter-widgets/controls",
          "model_name": "DescriptionStyleModel",
          "state": {
            "_view_name": "StyleView",
            "_model_name": "DescriptionStyleModel",
            "description_width": "",
            "_view_module": "@jupyter-widgets/base",
            "_model_module_version": "1.5.0",
            "_view_count": null,
            "_view_module_version": "1.2.0",
            "_model_module": "@jupyter-widgets/controls"
          }
        },
        "b860f7e56c9c43b1b8088b41c18ac974": {
          "model_module": "@jupyter-widgets/base",
          "model_name": "LayoutModel",
          "state": {
            "_view_name": "LayoutView",
            "grid_template_rows": null,
            "right": null,
            "justify_content": null,
            "_view_module": "@jupyter-widgets/base",
            "overflow": null,
            "_model_module_version": "1.2.0",
            "_view_count": null,
            "flex_flow": null,
            "width": null,
            "min_width": null,
            "border": null,
            "align_items": null,
            "bottom": null,
            "_model_module": "@jupyter-widgets/base",
            "top": null,
            "grid_column": null,
            "overflow_y": null,
            "overflow_x": null,
            "grid_auto_flow": null,
            "grid_area": null,
            "grid_template_columns": null,
            "flex": null,
            "_model_name": "LayoutModel",
            "justify_items": null,
            "grid_row": null,
            "max_height": null,
            "align_content": null,
            "visibility": null,
            "align_self": null,
            "height": null,
            "min_height": null,
            "padding": null,
            "grid_auto_rows": null,
            "grid_gap": null,
            "max_width": null,
            "order": null,
            "_view_module_version": "1.2.0",
            "grid_template_areas": null,
            "object_position": null,
            "object_fit": null,
            "grid_auto_columns": null,
            "margin": null,
            "display": null,
            "left": null
          }
        },
        "7d4f84f81fc543e19708199e8f0635c5": {
          "model_module": "@jupyter-widgets/controls",
          "model_name": "HBoxModel",
          "state": {
            "_view_name": "HBoxView",
            "_dom_classes": [],
            "_model_name": "HBoxModel",
            "_view_module": "@jupyter-widgets/controls",
            "_model_module_version": "1.5.0",
            "_view_count": null,
            "_view_module_version": "1.5.0",
            "box_style": "",
            "layout": "IPY_MODEL_b0f4d5c64f76419fa11802b3fe8d5f07",
            "_model_module": "@jupyter-widgets/controls",
            "children": [
              "IPY_MODEL_8db0301f01a94d28bc76a1e3e675eb4d",
              "IPY_MODEL_6566e64742254d31881c08655ff5eb14"
            ]
          }
        },
        "b0f4d5c64f76419fa11802b3fe8d5f07": {
          "model_module": "@jupyter-widgets/base",
          "model_name": "LayoutModel",
          "state": {
            "_view_name": "LayoutView",
            "grid_template_rows": null,
            "right": null,
            "justify_content": null,
            "_view_module": "@jupyter-widgets/base",
            "overflow": null,
            "_model_module_version": "1.2.0",
            "_view_count": null,
            "flex_flow": null,
            "width": null,
            "min_width": null,
            "border": null,
            "align_items": null,
            "bottom": null,
            "_model_module": "@jupyter-widgets/base",
            "top": null,
            "grid_column": null,
            "overflow_y": null,
            "overflow_x": null,
            "grid_auto_flow": null,
            "grid_area": null,
            "grid_template_columns": null,
            "flex": null,
            "_model_name": "LayoutModel",
            "justify_items": null,
            "grid_row": null,
            "max_height": null,
            "align_content": null,
            "visibility": null,
            "align_self": null,
            "height": null,
            "min_height": null,
            "padding": null,
            "grid_auto_rows": null,
            "grid_gap": null,
            "max_width": null,
            "order": null,
            "_view_module_version": "1.2.0",
            "grid_template_areas": null,
            "object_position": null,
            "object_fit": null,
            "grid_auto_columns": null,
            "margin": null,
            "display": null,
            "left": null
          }
        },
        "8db0301f01a94d28bc76a1e3e675eb4d": {
          "model_module": "@jupyter-widgets/controls",
          "model_name": "FloatProgressModel",
          "state": {
            "_view_name": "ProgressView",
            "style": "IPY_MODEL_9adbcf2684204b3abdb55f132751aceb",
            "_dom_classes": [],
            "description": "Downloading: 100%",
            "_model_name": "FloatProgressModel",
            "bar_style": "success",
            "max": 28,
            "_view_module": "@jupyter-widgets/controls",
            "_model_module_version": "1.5.0",
            "value": 28,
            "_view_count": null,
            "_view_module_version": "1.5.0",
            "orientation": "horizontal",
            "min": 0,
            "description_tooltip": null,
            "_model_module": "@jupyter-widgets/controls",
            "layout": "IPY_MODEL_46fcc097a774471d9d5b0da462d0adee"
          }
        },
        "6566e64742254d31881c08655ff5eb14": {
          "model_module": "@jupyter-widgets/controls",
          "model_name": "HTMLModel",
          "state": {
            "_view_name": "HTMLView",
            "style": "IPY_MODEL_331ba15225904739948ee6b85eab1681",
            "_dom_classes": [],
            "description": "",
            "_model_name": "HTMLModel",
            "placeholder": "​",
            "_view_module": "@jupyter-widgets/controls",
            "_model_module_version": "1.5.0",
            "value": " 28.0/28.0 [00:15&lt;00:00, 1.85B/s]",
            "_view_count": null,
            "_view_module_version": "1.5.0",
            "description_tooltip": null,
            "_model_module": "@jupyter-widgets/controls",
            "layout": "IPY_MODEL_d4caac91813642d5b4c099f6e378cc43"
          }
        },
        "9adbcf2684204b3abdb55f132751aceb": {
          "model_module": "@jupyter-widgets/controls",
          "model_name": "ProgressStyleModel",
          "state": {
            "_view_name": "StyleView",
            "_model_name": "ProgressStyleModel",
            "description_width": "initial",
            "_view_module": "@jupyter-widgets/base",
            "_model_module_version": "1.5.0",
            "_view_count": null,
            "_view_module_version": "1.2.0",
            "bar_color": null,
            "_model_module": "@jupyter-widgets/controls"
          }
        },
        "46fcc097a774471d9d5b0da462d0adee": {
          "model_module": "@jupyter-widgets/base",
          "model_name": "LayoutModel",
          "state": {
            "_view_name": "LayoutView",
            "grid_template_rows": null,
            "right": null,
            "justify_content": null,
            "_view_module": "@jupyter-widgets/base",
            "overflow": null,
            "_model_module_version": "1.2.0",
            "_view_count": null,
            "flex_flow": null,
            "width": null,
            "min_width": null,
            "border": null,
            "align_items": null,
            "bottom": null,
            "_model_module": "@jupyter-widgets/base",
            "top": null,
            "grid_column": null,
            "overflow_y": null,
            "overflow_x": null,
            "grid_auto_flow": null,
            "grid_area": null,
            "grid_template_columns": null,
            "flex": null,
            "_model_name": "LayoutModel",
            "justify_items": null,
            "grid_row": null,
            "max_height": null,
            "align_content": null,
            "visibility": null,
            "align_self": null,
            "height": null,
            "min_height": null,
            "padding": null,
            "grid_auto_rows": null,
            "grid_gap": null,
            "max_width": null,
            "order": null,
            "_view_module_version": "1.2.0",
            "grid_template_areas": null,
            "object_position": null,
            "object_fit": null,
            "grid_auto_columns": null,
            "margin": null,
            "display": null,
            "left": null
          }
        },
        "331ba15225904739948ee6b85eab1681": {
          "model_module": "@jupyter-widgets/controls",
          "model_name": "DescriptionStyleModel",
          "state": {
            "_view_name": "StyleView",
            "_model_name": "DescriptionStyleModel",
            "description_width": "",
            "_view_module": "@jupyter-widgets/base",
            "_model_module_version": "1.5.0",
            "_view_count": null,
            "_view_module_version": "1.2.0",
            "_model_module": "@jupyter-widgets/controls"
          }
        },
        "d4caac91813642d5b4c099f6e378cc43": {
          "model_module": "@jupyter-widgets/base",
          "model_name": "LayoutModel",
          "state": {
            "_view_name": "LayoutView",
            "grid_template_rows": null,
            "right": null,
            "justify_content": null,
            "_view_module": "@jupyter-widgets/base",
            "overflow": null,
            "_model_module_version": "1.2.0",
            "_view_count": null,
            "flex_flow": null,
            "width": null,
            "min_width": null,
            "border": null,
            "align_items": null,
            "bottom": null,
            "_model_module": "@jupyter-widgets/base",
            "top": null,
            "grid_column": null,
            "overflow_y": null,
            "overflow_x": null,
            "grid_auto_flow": null,
            "grid_area": null,
            "grid_template_columns": null,
            "flex": null,
            "_model_name": "LayoutModel",
            "justify_items": null,
            "grid_row": null,
            "max_height": null,
            "align_content": null,
            "visibility": null,
            "align_self": null,
            "height": null,
            "min_height": null,
            "padding": null,
            "grid_auto_rows": null,
            "grid_gap": null,
            "max_width": null,
            "order": null,
            "_view_module_version": "1.2.0",
            "grid_template_areas": null,
            "object_position": null,
            "object_fit": null,
            "grid_auto_columns": null,
            "margin": null,
            "display": null,
            "left": null
          }
        }
      }
    }
  },
  "cells": [
    {
      "cell_type": "markdown",
      "metadata": {
        "id": "view-in-github",
        "colab_type": "text"
      },
      "source": [
        "<a href=\"https://colab.research.google.com/github/shivangibithel/IRMiDis_Task2/blob/main/BERT_Submission.ipynb\" target=\"_parent\"><img src=\"https://colab.research.google.com/assets/colab-badge.svg\" alt=\"Open In Colab\"/></a>"
      ]
    },
    {
      "cell_type": "markdown",
      "metadata": {
        "id": "NpnXFnMkfld3"
      },
      "source": [
        "# Installing Transformer and imports"
      ]
    },
    {
      "cell_type": "code",
      "metadata": {
        "id": "8KM9EjsHZ7jX"
      },
      "source": [
        "pip install transformers"
      ],
      "execution_count": null,
      "outputs": []
    },
    {
      "cell_type": "code",
      "metadata": {
        "id": "h78UkLjkaBbM"
      },
      "source": [
        "import os\n",
        "import random\n",
        "import numpy as np\n",
        "import pandas as pd\n",
        "import matplotlib.pyplot as plt\n",
        "import seaborn as sns\n",
        "import cv2\n",
        "import os\n",
        "import math\n",
        "import seaborn as sn\n",
        "import tensorflow as tf\n",
        "import tensorflow_datasets as tfds\n",
        "from bs4 import BeautifulSoup\n",
        "from sklearn import metrics as sk_metrics\n",
        "import nltk\n",
        "import re\n",
        "from sklearn.utils import shuffle"
      ],
      "execution_count": 4,
      "outputs": []
    },
    {
      "cell_type": "code",
      "metadata": {
        "id": "LqrLQyTUaCRE"
      },
      "source": [
        "# from google.colab import drive\n",
        "# drive.mount('/content/gdrive/')"
      ],
      "execution_count": null,
      "outputs": []
    },
    {
      "cell_type": "markdown",
      "metadata": {
        "id": "4gQPIXoSfsSU"
      },
      "source": [
        "# Data read and split...for some accuracy numbers"
      ]
    },
    {
      "cell_type": "code",
      "metadata": {
        "id": "yYQB6za1Wup4"
      },
      "source": [
        "col_list = [\"id\", \"tweet\", \"label\"]\n",
        "our_data = pd.read_csv(\"irmidis-2021-task2-train.csv\",usecols=col_list)\n",
        "df_test = pd.read_csv(\"irmidis-2021-task2-test.csv\")\n",
        "y_map = {\n",
        "    'ProVax': 0, \n",
        "    'AntiVax': 1, \n",
        "    'Neutral': 2\n",
        "}\n",
        "\n",
        "our_data['Sentiment_Cat'] = our_data['label'].map(y_map)"
      ],
      "execution_count": 57,
      "outputs": []
    },
    {
      "cell_type": "code",
      "metadata": {
        "id": "WDZCx7D5i7b1",
        "colab": {
          "base_uri": "https://localhost:8080/",
          "height": 415
        },
        "outputId": "c8983ab6-08dc-4220-89b2-0782d2f68636"
      },
      "source": [
        "our_data"
      ],
      "execution_count": 58,
      "outputs": [
        {
          "output_type": "execute_result",
          "data": {
            "text/html": [
              "<div>\n",
              "<style scoped>\n",
              "    .dataframe tbody tr th:only-of-type {\n",
              "        vertical-align: middle;\n",
              "    }\n",
              "\n",
              "    .dataframe tbody tr th {\n",
              "        vertical-align: top;\n",
              "    }\n",
              "\n",
              "    .dataframe thead th {\n",
              "        text-align: right;\n",
              "    }\n",
              "</style>\n",
              "<table border=\"1\" class=\"dataframe\">\n",
              "  <thead>\n",
              "    <tr style=\"text-align: right;\">\n",
              "      <th></th>\n",
              "      <th>id</th>\n",
              "      <th>tweet</th>\n",
              "      <th>label</th>\n",
              "      <th>Sentiment_Cat</th>\n",
              "    </tr>\n",
              "  </thead>\n",
              "  <tbody>\n",
              "    <tr>\n",
              "      <th>0</th>\n",
              "      <td>1325682517148569600</td>\n",
              "      <td>Coronavirus: Some Canadians hesitant to take a...</td>\n",
              "      <td>AntiVax</td>\n",
              "      <td>1</td>\n",
              "    </tr>\n",
              "    <tr>\n",
              "      <th>1</th>\n",
              "      <td>1325684180483600384</td>\n",
              "      <td>Moderna on track to report late-stage COVID-19...</td>\n",
              "      <td>Neutral</td>\n",
              "      <td>2</td>\n",
              "    </tr>\n",
              "    <tr>\n",
              "      <th>2</th>\n",
              "      <td>1325689685943996416</td>\n",
              "      <td>The Philippine government is in talks with Ang...</td>\n",
              "      <td>Neutral</td>\n",
              "      <td>2</td>\n",
              "    </tr>\n",
              "    <tr>\n",
              "      <th>3</th>\n",
              "      <td>1325690517724782593</td>\n",
              "      <td>Care homes to be FIRST to receive coronavirus ...</td>\n",
              "      <td>Neutral</td>\n",
              "      <td>2</td>\n",
              "    </tr>\n",
              "    <tr>\n",
              "      <th>4</th>\n",
              "      <td>1325697646909132800</td>\n",
              "      <td>This is why thinking that a vaccine is a panac...</td>\n",
              "      <td>AntiVax</td>\n",
              "      <td>1</td>\n",
              "    </tr>\n",
              "    <tr>\n",
              "      <th>...</th>\n",
              "      <td>...</td>\n",
              "      <td>...</td>\n",
              "      <td>...</td>\n",
              "      <td>...</td>\n",
              "    </tr>\n",
              "    <tr>\n",
              "      <th>2787</th>\n",
              "      <td>1325972470336278530</td>\n",
              "      <td>If a COVID-19 vaccine is effective it will be ...</td>\n",
              "      <td>Neutral</td>\n",
              "      <td>2</td>\n",
              "    </tr>\n",
              "    <tr>\n",
              "      <th>2788</th>\n",
              "      <td>1325770248382001152</td>\n",
              "      <td>Pfizer claims coronavirus vaccine success, pla...</td>\n",
              "      <td>Neutral</td>\n",
              "      <td>2</td>\n",
              "    </tr>\n",
              "    <tr>\n",
              "      <th>2789</th>\n",
              "      <td>1325784714062409728</td>\n",
              "      <td>pump dat #COVID19 vaccine 💪😷🔥 https://t.co/Dna...</td>\n",
              "      <td>ProVax</td>\n",
              "      <td>0</td>\n",
              "    </tr>\n",
              "    <tr>\n",
              "      <th>2790</th>\n",
              "      <td>1325992175218417665</td>\n",
              "      <td>LOL, not a chance I would get any vaccine let ...</td>\n",
              "      <td>AntiVax</td>\n",
              "      <td>1</td>\n",
              "    </tr>\n",
              "    <tr>\n",
              "      <th>2791</th>\n",
              "      <td>1333154694198398978</td>\n",
              "      <td>@michellemalkin https://t.co/v38d5EkSQC articl...</td>\n",
              "      <td>AntiVax</td>\n",
              "      <td>1</td>\n",
              "    </tr>\n",
              "  </tbody>\n",
              "</table>\n",
              "<p>2792 rows × 4 columns</p>\n",
              "</div>"
            ],
            "text/plain": [
              "                       id  ... Sentiment_Cat\n",
              "0     1325682517148569600  ...             1\n",
              "1     1325684180483600384  ...             2\n",
              "2     1325689685943996416  ...             2\n",
              "3     1325690517724782593  ...             2\n",
              "4     1325697646909132800  ...             1\n",
              "...                   ...  ...           ...\n",
              "2787  1325972470336278530  ...             2\n",
              "2788  1325770248382001152  ...             2\n",
              "2789  1325784714062409728  ...             0\n",
              "2790  1325992175218417665  ...             1\n",
              "2791  1333154694198398978  ...             1\n",
              "\n",
              "[2792 rows x 4 columns]"
            ]
          },
          "metadata": {
            "tags": []
          },
          "execution_count": 58
        }
      ]
    },
    {
      "cell_type": "code",
      "metadata": {
        "id": "2XQVp8-Z-3Bn",
        "outputId": "97b19637-f9e0-4519-c49f-927243d56623",
        "colab": {
          "base_uri": "https://localhost:8080/",
          "height": 415
        }
      },
      "source": [
        "df_test"
      ],
      "execution_count": 59,
      "outputs": [
        {
          "output_type": "execute_result",
          "data": {
            "text/html": [
              "<div>\n",
              "<style scoped>\n",
              "    .dataframe tbody tr th:only-of-type {\n",
              "        vertical-align: middle;\n",
              "    }\n",
              "\n",
              "    .dataframe tbody tr th {\n",
              "        vertical-align: top;\n",
              "    }\n",
              "\n",
              "    .dataframe thead th {\n",
              "        text-align: right;\n",
              "    }\n",
              "</style>\n",
              "<table border=\"1\" class=\"dataframe\">\n",
              "  <thead>\n",
              "    <tr style=\"text-align: right;\">\n",
              "      <th></th>\n",
              "      <th>id</th>\n",
              "      <th>tweet</th>\n",
              "    </tr>\n",
              "  </thead>\n",
              "  <tbody>\n",
              "    <tr>\n",
              "      <th>0</th>\n",
              "      <td>1259097719341297664</td>\n",
              "      <td>Polls Say Millions of Americans Will Refuse CO...</td>\n",
              "    </tr>\n",
              "    <tr>\n",
              "      <th>1</th>\n",
              "      <td>1307596484251062273</td>\n",
              "      <td>You are right. One should also remember that t...</td>\n",
              "    </tr>\n",
              "    <tr>\n",
              "      <th>2</th>\n",
              "      <td>1296241188823953409</td>\n",
              "      <td>So.... I should have got the keys to my new ho...</td>\n",
              "    </tr>\n",
              "    <tr>\n",
              "      <th>3</th>\n",
              "      <td>1294639481216045056</td>\n",
              "      <td>CDC - July 2020 ACIP Meeting - Overview of COV...</td>\n",
              "    </tr>\n",
              "    <tr>\n",
              "      <th>4</th>\n",
              "      <td>1319741954721239041</td>\n",
              "      <td>Notably absent is a vaccine for the nightmare ...</td>\n",
              "    </tr>\n",
              "    <tr>\n",
              "      <th>...</th>\n",
              "      <td>...</td>\n",
              "      <td>...</td>\n",
              "    </tr>\n",
              "    <tr>\n",
              "      <th>1595</th>\n",
              "      <td>1275394676594540547</td>\n",
              "      <td>🔓😷💉#VIDACov19: The ZOOM link for the Virual Me...</td>\n",
              "    </tr>\n",
              "    <tr>\n",
              "      <th>1596</th>\n",
              "      <td>1339072387363508224</td>\n",
              "      <td>@aakobel @EthanHovermale @dolmenlord @strictly...</td>\n",
              "    </tr>\n",
              "    <tr>\n",
              "      <th>1597</th>\n",
              "      <td>1328165880660955142</td>\n",
              "      <td>@charliekirk11 It's been 9 months since Covid ...</td>\n",
              "    </tr>\n",
              "    <tr>\n",
              "      <th>1598</th>\n",
              "      <td>1337209455986020353</td>\n",
              "      <td>Apparently the Covid 19 Vaccine caused bell’s ...</td>\n",
              "    </tr>\n",
              "    <tr>\n",
              "      <th>1599</th>\n",
              "      <td>1338143437921533954</td>\n",
              "      <td>@R14ScoRae @dirtroadliving1 So Pfizer doesn’t ...</td>\n",
              "    </tr>\n",
              "  </tbody>\n",
              "</table>\n",
              "<p>1600 rows × 2 columns</p>\n",
              "</div>"
            ],
            "text/plain": [
              "                       id                                              tweet\n",
              "0     1259097719341297664  Polls Say Millions of Americans Will Refuse CO...\n",
              "1     1307596484251062273  You are right. One should also remember that t...\n",
              "2     1296241188823953409  So.... I should have got the keys to my new ho...\n",
              "3     1294639481216045056  CDC - July 2020 ACIP Meeting - Overview of COV...\n",
              "4     1319741954721239041  Notably absent is a vaccine for the nightmare ...\n",
              "...                   ...                                                ...\n",
              "1595  1275394676594540547  🔓😷💉#VIDACov19: The ZOOM link for the Virual Me...\n",
              "1596  1339072387363508224  @aakobel @EthanHovermale @dolmenlord @strictly...\n",
              "1597  1328165880660955142  @charliekirk11 It's been 9 months since Covid ...\n",
              "1598  1337209455986020353  Apparently the Covid 19 Vaccine caused bell’s ...\n",
              "1599  1338143437921533954  @R14ScoRae @dirtroadliving1 So Pfizer doesn’t ...\n",
              "\n",
              "[1600 rows x 2 columns]"
            ]
          },
          "metadata": {
            "tags": []
          },
          "execution_count": 59
        }
      ]
    },
    {
      "cell_type": "markdown",
      "metadata": {
        "id": "q4oExSPG-alJ"
      },
      "source": [
        "Uncomment if want testing results"
      ]
    },
    {
      "cell_type": "code",
      "metadata": {
        "id": "xcT7GhhQkAib",
        "colab": {
          "base_uri": "https://localhost:8080/"
        },
        "outputId": "dba114b0-773c-45c3-c2c1-f0f6c7144c1a"
      },
      "source": [
        "from sklearn.model_selection import StratifiedShuffleSplit\n",
        "df = our_data\n",
        "split = StratifiedShuffleSplit(n_splits=1, test_size=0.2, random_state=42)\n",
        "for train_index, test_valid_index in split.split(df, df.Sentiment_Cat):\n",
        "    train_set = df.iloc[train_index]\n",
        "    test_valid_set = df.iloc[test_valid_index]\n",
        "\n",
        "split2 = StratifiedShuffleSplit(n_splits=1, test_size=0.5, random_state=42)\n",
        "for test_index, valid_index in split2.split(test_valid_set, test_valid_set.Sentiment_Cat):\n",
        "    test_set = test_valid_set.iloc[test_index]\n",
        "    valid_set = test_valid_set.iloc[valid_index]\n",
        "\n",
        "print(train_set.shape)\n",
        "print(test_valid_set.shape)\n",
        "print(test_set.shape)\n",
        "print(valid_set.shape)\n",
        "\n",
        "df_train = train_set\n",
        "df_test = test_set\n",
        "df_valid = valid_set"
      ],
      "execution_count": 60,
      "outputs": [
        {
          "output_type": "stream",
          "text": [
            "(2233, 4)\n",
            "(559, 4)\n",
            "(279, 4)\n",
            "(280, 4)\n"
          ],
          "name": "stdout"
        }
      ]
    },
    {
      "cell_type": "code",
      "metadata": {
        "id": "pklk6KusbGf9"
      },
      "source": [
        "df_train.info()"
      ],
      "execution_count": null,
      "outputs": []
    },
    {
      "cell_type": "code",
      "metadata": {
        "id": "BI96posMLkQ7"
      },
      "source": [
        "df_train.Sentiment_Cat.value_counts()"
      ],
      "execution_count": null,
      "outputs": []
    },
    {
      "cell_type": "code",
      "metadata": {
        "id": "hxH0PYoLL0rF"
      },
      "source": [
        "df_test.Sentiment_Cat.value_counts()"
      ],
      "execution_count": null,
      "outputs": []
    },
    {
      "cell_type": "code",
      "metadata": {
        "id": "xhF9mMVKbnBN"
      },
      "source": [
        "df_train.head()"
      ],
      "execution_count": null,
      "outputs": []
    },
    {
      "cell_type": "code",
      "metadata": {
        "id": "1UXvi9kQve9y",
        "colab": {
          "base_uri": "https://localhost:8080/",
          "height": 68
        },
        "outputId": "35d637d3-f476-4704-af9b-4d77aacb1aaa"
      },
      "source": [
        "df_train['tweet'].iloc[0]"
      ],
      "execution_count": 62,
      "outputs": [
        {
          "output_type": "execute_result",
          "data": {
            "application/vnd.google.colaboratory.intrinsic+json": {
              "type": "string"
            },
            "text/plain": [
              "'It’s hard not to feel emotional. \\n\\nThis moment is a triumph for science, for human ingenuity, for Margaret, for our NHS workers, for the scared, and for hope. We are winning against #COVID19 with vaccines.\\n\\nThe end is in sight. https://t.co/c89R1qDQA8'"
            ]
          },
          "metadata": {
            "tags": []
          },
          "execution_count": 62
        }
      ]
    },
    {
      "cell_type": "code",
      "metadata": {
        "id": "LbVsoiYsbuYF"
      },
      "source": [
        "# y_map = {\n",
        "#     'ProVax': 0, \n",
        "#     'AntiVax': 1, \n",
        "#     'Neutral': 2\n",
        "# }\n",
        "\n",
        "# df_train['Sentiment_Cat'] = df_train['label'].map(y_map)\n",
        "# df_test['Sentiment_Cat'] = df_test['label'].map(y_map)"
      ],
      "execution_count": null,
      "outputs": []
    },
    {
      "cell_type": "markdown",
      "metadata": {
        "id": "2DzTRCQFf21N"
      },
      "source": [
        "# Pre-processing"
      ]
    },
    {
      "cell_type": "code",
      "metadata": {
        "id": "Vwhr9am41KrZ",
        "outputId": "83b8e0a3-82aa-4349-97fc-26c77b6f0d3a",
        "colab": {
          "base_uri": "https://localhost:8080/"
        }
      },
      "source": [
        "import sys\n",
        "import re\n",
        "!pip install emoji --quiet\n",
        "import emoji\n",
        "!pip install contractions --quiet\n",
        "import contractions\n",
        "import nltk\n",
        "from nltk.corpus import stopwords\n",
        "nltk.download('stopwords')\n",
        "import unicodedata"
      ],
      "execution_count": 14,
      "outputs": [
        {
          "output_type": "stream",
          "text": [
            "\u001b[K     |████████████████████████████████| 133kB 25.0MB/s \n",
            "\u001b[K     |████████████████████████████████| 327kB 35.3MB/s \n",
            "\u001b[K     |████████████████████████████████| 286kB 49.5MB/s \n",
            "\u001b[?25h  Building wheel for pyahocorasick (setup.py) ... \u001b[?25l\u001b[?25hdone\n",
            "[nltk_data] Downloading package stopwords to /root/nltk_data...\n",
            "[nltk_data]   Unzipping corpora/stopwords.zip.\n"
          ],
          "name": "stdout"
        }
      ]
    },
    {
      "cell_type": "code",
      "metadata": {
        "id": "n9qKs19_0pZ9"
      },
      "source": [
        "def cleaning(text):\n",
        "  text= text.lower()\n",
        "  text= emoji.demojize(text)\n",
        "  text=contractions.fix(text)\n",
        "  text=text.strip()\n",
        "  text=text.replace('[^\\w\\s]','')\n",
        "  text=re.sub(r'http\\S+', '', text)\n",
        "  REPLACE_BY_SPACE_RE = re.compile('[/(){}\\[\\]\\|@,;]')\n",
        "  BAD_SYMBOLS_RE = re.compile('[^0-9a-z +]')\n",
        "  text = REPLACE_BY_SPACE_RE.sub(' ' , text)\n",
        "  text = BAD_SYMBOLS_RE.sub(' ',text)\n",
        "  \n",
        "  return text\n",
        "df_train['tweet_cleaned'] = df_train['tweet'].apply(cleaning)\n",
        "df_test['tweet_cleaned'] = df_test['tweet'].apply(cleaning)\n",
        "df_valid['tweet_cleaned'] = df_valid['tweet'].apply(cleaning)\n",
        "df_train['tweet_cleaned'].iloc[0]"
      ],
      "execution_count": null,
      "outputs": []
    },
    {
      "cell_type": "code",
      "metadata": {
        "id": "UzhyEzc2dIsv"
      },
      "source": [
        "x_train, y_train = df_train['tweet_cleaned'].values, np.array(df_train['Sentiment_Cat'], dtype=np.int64)\n",
        "x_test, y_test = df_test['tweet_cleaned'].values, np.array(df_test['Sentiment_Cat'], dtype=np.int64)\n",
        "x_valid, y_valid = df_valid['tweet_cleaned'].values, np.array(df_valid['Sentiment_Cat'], dtype=np.int64)"
      ],
      "execution_count": 64,
      "outputs": []
    },
    {
      "cell_type": "markdown",
      "metadata": {
        "id": "PT_1dcod_bHJ"
      },
      "source": [
        "# Data Exploration"
      ]
    },
    {
      "cell_type": "code",
      "metadata": {
        "id": "BtfsgOX5YoAg"
      },
      "source": [
        "data = df_train\n",
        "Neutral_data = data[data['Sentiment_Cat'] == 2]\n",
        "Antivax_data = data[data['Sentiment_Cat'] == 1]\n",
        "Provax_data = data[data['Sentiment_Cat'] == 0]"
      ],
      "execution_count": 66,
      "outputs": []
    },
    {
      "cell_type": "code",
      "metadata": {
        "id": "auW5p-QfYaQc",
        "colab": {
          "base_uri": "https://localhost:8080/"
        },
        "outputId": "1d6509d3-fd2b-45b6-ba0c-9e3f46053dc5"
      },
      "source": [
        "# df = Antivax_data\n",
        "a=[]\n",
        "for i in range(len(Antivax_data)):\n",
        "  a.append(len(Antivax_data['tweet_cleaned'].iloc[i].split()))\n",
        "print(max(a))\n",
        "# df = Provax_data\n",
        "b=[]\n",
        "for i in range(len(Provax_data)):\n",
        "  b.append(len(Provax_data['tweet_cleaned'].iloc[i].split()))\n",
        "print(max(b))\n",
        "# df = Neutral_data\n",
        "c=[]\n",
        "for i in range(len(Neutral_data)):\n",
        "  c.append(len(Neutral_data['tweet_cleaned'].iloc[i].split()))\n",
        "print(max(c))\n",
        "print(len(Neutral_data), len(Antivax_data), len(Provax_data))"
      ],
      "execution_count": 67,
      "outputs": [
        {
          "output_type": "stream",
          "text": [
            "90\n",
            "63\n",
            "61\n",
            "808 633 792\n"
          ],
          "name": "stdout"
        }
      ]
    },
    {
      "cell_type": "code",
      "metadata": {
        "id": "EjmubgzJYTWN",
        "colab": {
          "base_uri": "https://localhost:8080/",
          "height": 851
        },
        "outputId": "4cd36a3c-96ba-4287-da95-20cdd8fd6aa1"
      },
      "source": [
        "import numpy as np\n",
        "import matplotlib.pyplot as plt\n",
        "from numpy import *\n",
        "plt.hist(a,bins= 80, label = \"AntiVax\")\n",
        "plt.legend()\n",
        "plt.xlabel('Length')\n",
        "plt.ylabel('Frequecy')\n",
        "plt.title('Length Histogram')\n",
        "plt.show()\n",
        "plt.hist(b,bins= 60, label = \"ProVax\")\n",
        "plt.legend()\n",
        "plt.xlabel('Length')\n",
        "plt.ylabel('Frequecy')\n",
        "plt.title('Length Histogram')\n",
        "plt.show()\n",
        "plt.hist(c, bins= 60, label = \"Neutral\")\n",
        "plt.legend()\n",
        "plt.xlabel('Length')\n",
        "plt.ylabel('Frequecy')\n",
        "plt.title('Length Histogram')\n",
        "plt.show()"
      ],
      "execution_count": 68,
      "outputs": [
        {
          "output_type": "display_data",
          "data": {
            "image/png": "[encoded data removed]",
            "text/plain": [
              "<Figure size 432x288 with 1 Axes>"
            ]
          },
          "metadata": {
            "tags": [],
            "needs_background": "light"
          }
        },
        {
          "output_type": "display_data",
          "data": {
            "image/png": "[encoded data removed]",
            "text/plain": [
              "<Figure size 432x288 with 1 Axes>"
            ]
          },
          "metadata": {
            "tags": [],
            "needs_background": "light"
          }
        },
        {
          "output_type": "display_data",
          "data": {
            "image/png": "[encoded data removed]",
            "text/plain": [
              "<Figure size 432x288 with 1 Axes>"
            ]
          },
          "metadata": {
            "tags": [],
            "needs_background": "light"
          }
        }
      ]
    },
    {
      "cell_type": "markdown",
      "metadata": {
        "id": "WBm7fSLdjNsK"
      },
      "source": [
        "# BERT"
      ]
    },
    {
      "cell_type": "code",
      "metadata": {
        "id": "UfVEmb5Idiv5"
      },
      "source": [
        "from tokenizers import BertWordPieceTokenizer\n",
        "import transformers"
      ],
      "execution_count": 19,
      "outputs": []
    },
    {
      "cell_type": "code",
      "metadata": {
        "id": "8o7uh0Gbdlmf",
        "colab": {
          "base_uri": "https://localhost:8080/",
          "height": 200,
          "referenced_widgets": [
            "5360080619a54288b1c944bdeff63ed8",
            "12cba3acb72c4241932490311a3db9b7",
            "545f8142e13a416797d7bc4447eec9b3",
            "240e3928c7b0429b840bb295344096d8",
            "ef8bb469b2bd41e0a0542e13511cb41d",
            "05594b7d82d74adcbd29779e61456fdc",
            "047433edb2294ed6a5d09485461dafaf",
            "8199b5e19de740aaaf0914965592da67",
            "5b36de7b57514e6d856b0c28e9fdda89",
            "39f380c5ce5d4b28b7ee38f8443de392",
            "9654d2e9944441cb8f47c4cef976a56d",
            "f761fda51efb470d86985f2c9a6a615b",
            "91c603866e604cde9081ffeb231b96ff",
            "caa5ff43ddef4b74bbcc2ce9e36a100b",
            "ad0d79bd1fd847b38e7ce1a67266bb21",
            "b860f7e56c9c43b1b8088b41c18ac974",
            "7d4f84f81fc543e19708199e8f0635c5",
            "b0f4d5c64f76419fa11802b3fe8d5f07",
            "8db0301f01a94d28bc76a1e3e675eb4d",
            "6566e64742254d31881c08655ff5eb14",
            "9adbcf2684204b3abdb55f132751aceb",
            "46fcc097a774471d9d5b0da462d0adee",
            "331ba15225904739948ee6b85eab1681",
            "d4caac91813642d5b4c099f6e378cc43"
          ]
        },
        "outputId": "cb04027b-5e8a-494a-bc0a-b2cc7297e366"
      },
      "source": [
        "# First load the real tokenizer\n",
        "tokenizer = transformers.BertTokenizerFast.from_pretrained('bert-base-uncased', lower=True)\n",
        "\n",
        "# Save the loaded tokenizer locally\n",
        "tokenizer.save_pretrained('.')\n",
        "\n",
        "# Reload it with the huggingface tokenizers library\n",
        "fast_tokenizer = BertWordPieceTokenizer('vocab.txt', lowercase=True)\n",
        "fast_tokenizer"
      ],
      "execution_count": 20,
      "outputs": [
        {
          "output_type": "display_data",
          "data": {
            "application/vnd.jupyter.widget-view+json": {
              "model_id": "5360080619a54288b1c944bdeff63ed8",
              "version_minor": 0,
              "version_major": 2
            },
            "text/plain": [
              "HBox(children=(FloatProgress(value=0.0, description='Downloading', max=231508.0, style=ProgressStyle(descripti…"
            ]
          },
          "metadata": {
            "tags": []
          }
        },
        {
          "output_type": "stream",
          "text": [
            "\n"
          ],
          "name": "stdout"
        },
        {
          "output_type": "display_data",
          "data": {
            "application/vnd.jupyter.widget-view+json": {
              "model_id": "5b36de7b57514e6d856b0c28e9fdda89",
              "version_minor": 0,
              "version_major": 2
            },
            "text/plain": [
              "HBox(children=(FloatProgress(value=0.0, description='Downloading', max=466062.0, style=ProgressStyle(descripti…"
            ]
          },
          "metadata": {
            "tags": []
          }
        },
        {
          "output_type": "stream",
          "text": [
            "\n"
          ],
          "name": "stdout"
        },
        {
          "output_type": "display_data",
          "data": {
            "application/vnd.jupyter.widget-view+json": {
              "model_id": "7d4f84f81fc543e19708199e8f0635c5",
              "version_minor": 0,
              "version_major": 2
            },
            "text/plain": [
              "HBox(children=(FloatProgress(value=0.0, description='Downloading', max=28.0, style=ProgressStyle(description_w…"
            ]
          },
          "metadata": {
            "tags": []
          }
        },
        {
          "output_type": "stream",
          "text": [
            "\n"
          ],
          "name": "stdout"
        },
        {
          "output_type": "execute_result",
          "data": {
            "text/plain": [
              "Tokenizer(vocabulary_size=30522, model=BertWordPiece, unk_token=[UNK], sep_token=[SEP], cls_token=[CLS], pad_token=[PAD], mask_token=[MASK], clean_text=True, handle_chinese_chars=True, strip_accents=None, lowercase=True, wordpieces_prefix=##)"
            ]
          },
          "metadata": {
            "tags": []
          },
          "execution_count": 20
        }
      ]
    },
    {
      "cell_type": "code",
      "metadata": {
        "id": "Vvy3OyJddodD"
      },
      "source": [
        "def fast_encode(texts, tokenizer, chunk_size=256, maxlen=200):\n",
        "    tokenizer.enable_truncation(max_length=maxlen)\n",
        "    tokenizer.enable_padding(length=maxlen)\n",
        "    all_ids = []\n",
        "    \n",
        "    for i in range(0, len(texts), chunk_size):\n",
        "        text_chunk = texts[i:i+chunk_size].tolist()\n",
        "        encs = tokenizer.encode_batch(text_chunk)\n",
        "        all_ids.extend([enc.ids for enc in encs])\n",
        "    \n",
        "    return np.array(all_ids)"
      ],
      "execution_count": 21,
      "outputs": []
    },
    {
      "cell_type": "code",
      "metadata": {
        "id": "Q9LJvgi0d5i-"
      },
      "source": [
        "max_len=70\n",
        "x_train_enc = fast_encode(x_train, fast_tokenizer, maxlen=max_len)\n",
        "x_valid_enc = fast_encode(x_valid, fast_tokenizer, maxlen=max_len)\n",
        "x_test_enc = fast_encode(x_test, fast_tokenizer, maxlen=max_len)"
      ],
      "execution_count": 69,
      "outputs": []
    },
    {
      "cell_type": "code",
      "metadata": {
        "id": "pcBnfPChd9PO"
      },
      "source": [
        "NUM_CLASSES = df_train['Sentiment_Cat'].nunique()\n",
        "\n",
        "# bert_transformer = transformers.TFDistilBertModel.from_pretrained('distilbert-base-uncased')\n",
        "# bert_transformer = transformers.TFBertForSequenceClassification.from_pretrained('bert-base-uncased', num_labels=NUM_CLASSES)\n",
        "bert_transformer = transformers.TFBertForSequenceClassification.from_pretrained('digitalepidemiologylab/covid-twitter-bert-v2', num_labels=NUM_CLASSES)\n",
        "input = tf.keras.layers.Input(shape=(max_len,), dtype=tf.int32)\n",
        "sequence_output = bert_transformer(input)[0]\n",
        "# cls_token = sequence_output[:, 0, :]\n",
        "# output = tf.keras.layers.Dense(NUM_CLASSES, activation='softmax')(cls_token)\n",
        "\n",
        "model = tf.keras.Model(inputs=input, outputs=sequence_output)\n",
        "model.compile(optimizer=tf.keras.optimizers.Adam(1e-5), loss=tf.keras.losses.SparseCategoricalCrossentropy(from_logits=True), metrics=['accuracy'])"
      ],
      "execution_count": null,
      "outputs": []
    },
    {
      "cell_type": "code",
      "metadata": {
        "id": "0bliWbCjeRLV",
        "colab": {
          "base_uri": "https://localhost:8080/"
        },
        "outputId": "e29b3d84-d538-461c-91c9-687449e5c906"
      },
      "source": [
        "model.summary()"
      ],
      "execution_count": 70,
      "outputs": [
        {
          "output_type": "stream",
          "text": [
            "Model: \"model_1\"\n",
            "_________________________________________________________________\n",
            "Layer (type)                 Output Shape              Param #   \n",
            "=================================================================\n",
            "input_2 (InputLayer)         [(None, 70)]              0         \n",
            "_________________________________________________________________\n",
            "tf_bert_for_sequence_classif TFSequenceClassifierOutpu 335144963 \n",
            "=================================================================\n",
            "Total params: 335,144,963\n",
            "Trainable params: 335,144,963\n",
            "Non-trainable params: 0\n",
            "_________________________________________________________________\n"
          ],
          "name": "stdout"
        }
      ]
    },
    {
      "cell_type": "code",
      "metadata": {
        "id": "WRLoFJv0lTip",
        "colab": {
          "base_uri": "https://localhost:8080/"
        },
        "outputId": "1e9bf638-7ac0-423b-fd0d-5d1eee9cf9bc"
      },
      "source": [
        "# call backs\n",
        "early_stop_callback = tf.keras.callbacks.EarlyStopping(\n",
        "    monitor='val_loss', \n",
        "    patience=3, \n",
        "    restore_best_weights=True\n",
        ")\n",
        "\n",
        "history = model.fit(\n",
        "    x_train_enc,\n",
        "    y_train,\n",
        "    batch_size=16,\n",
        "    validation_data=(x_valid_enc, y_valid),\n",
        "    epochs=50,\n",
        "    callbacks=[early_stop_callback])"
      ],
      "execution_count": 71,
      "outputs": [
        {
          "output_type": "stream",
          "text": [
            "Epoch 1/50\n",
            "WARNING:tensorflow:The parameters `output_attentions`, `output_hidden_states` and `use_cache` cannot be updated when calling a model.They have to be set to True/False in the config object (i.e.: `config=XConfig.from_pretrained('name', output_attentions=True)`).\n",
            "WARNING:tensorflow:The parameter `return_dict` cannot be set in graph mode and will always be set to `True`.\n",
            "WARNING:tensorflow:The parameters `output_attentions`, `output_hidden_states` and `use_cache` cannot be updated when calling a model.They have to be set to True/False in the config object (i.e.: `config=XConfig.from_pretrained('name', output_attentions=True)`).\n",
            "WARNING:tensorflow:The parameter `return_dict` cannot be set in graph mode and will always be set to `True`.\n",
            "140/140 [==============================] - ETA: 0s - loss: 0.8932 - accuracy: 0.5629WARNING:tensorflow:The parameters `output_attentions`, `output_hidden_states` and `use_cache` cannot be updated when calling a model.They have to be set to True/False in the config object (i.e.: `config=XConfig.from_pretrained('name', output_attentions=True)`).\n",
            "WARNING:tensorflow:The parameter `return_dict` cannot be set in graph mode and will always be set to `True`.\n",
            "140/140 [==============================] - 138s 790ms/step - loss: 0.8932 - accuracy: 0.5629 - val_loss: 0.6166 - val_accuracy: 0.7786\n",
            "Epoch 2/50\n",
            "140/140 [==============================] - 110s 786ms/step - loss: 0.5341 - accuracy: 0.8039 - val_loss: 0.4237 - val_accuracy: 0.8429\n",
            "Epoch 3/50\n",
            "140/140 [==============================] - 111s 795ms/step - loss: 0.3347 - accuracy: 0.8858 - val_loss: 0.4442 - val_accuracy: 0.8536\n",
            "Epoch 4/50\n",
            "140/140 [==============================] - 111s 794ms/step - loss: 0.2389 - accuracy: 0.9203 - val_loss: 0.3716 - val_accuracy: 0.8786\n",
            "Epoch 5/50\n",
            "140/140 [==============================] - 111s 795ms/step - loss: 0.1514 - accuracy: 0.9566 - val_loss: 0.3425 - val_accuracy: 0.8821\n",
            "Epoch 6/50\n",
            "140/140 [==============================] - 111s 796ms/step - loss: 0.0904 - accuracy: 0.9745 - val_loss: 0.4345 - val_accuracy: 0.8643\n",
            "Epoch 7/50\n",
            "140/140 [==============================] - 111s 793ms/step - loss: 0.0658 - accuracy: 0.9830 - val_loss: 0.4265 - val_accuracy: 0.8714\n",
            "Epoch 8/50\n",
            "140/140 [==============================] - 111s 793ms/step - loss: 0.0634 - accuracy: 0.9848 - val_loss: 0.5087 - val_accuracy: 0.8750\n"
          ],
          "name": "stdout"
        }
      ]
    },
    {
      "cell_type": "markdown",
      "metadata": {
        "id": "sPB9-wqXjSRo"
      },
      "source": [
        "# Prediction "
      ]
    },
    {
      "cell_type": "code",
      "metadata": {
        "id": "zY9uNgVAe0MP",
        "colab": {
          "base_uri": "https://localhost:8080/"
        },
        "outputId": "3100ca1f-c0f4-46cc-9567-273895e5f4d9"
      },
      "source": [
        "ypred = model.predict(x_test_enc)\n",
        "ypred\n",
        "# df_test['ypred'] = np.argmax(ypred, axis=1)\n",
        "# df_test['ypred_cat'] = np.where(df_test['ypred']>=0.5, 1, 0)\n",
        "# df_test['ypred_cat'] = np.argmax(ypred, axis=1)\n",
        "# df_test"
      ],
      "execution_count": 74,
      "outputs": [
        {
          "output_type": "execute_result",
          "data": {
            "text/plain": [
              "array([[-1.3817313e+00,  2.5788240e+00, -1.6947902e+00],\n",
              "       [-1.5651215e+00,  2.8601496e+00, -1.3311301e+00],\n",
              "       [ 2.5417786e+00, -1.6946027e+00,  3.9803761e-01],\n",
              "       [-5.3448850e-01,  1.9111959e-02,  1.3233504e+00],\n",
              "       [ 4.2711277e+00, -2.3490660e+00, -1.4785558e+00],\n",
              "       [-1.1871909e+00, -1.5215708e+00,  4.6882505e+00],\n",
              "       [ 2.4736868e-01, -6.9644094e-02,  9.4269198e-01],\n",
              "       [-4.6293804e-01, -2.0249534e+00,  3.8312099e+00],\n",
              "       [-5.0490451e-01,  2.1712162e+00, -1.3278556e+00],\n",
              "       [-1.4462025e+00,  2.9850941e+00, -1.4677289e+00],\n",
              "       [ 4.8738045e-01, -7.9951805e-01,  2.3858795e+00],\n",
              "       [-1.4449878e+00, -1.6248009e+00,  4.8306813e+00],\n",
              "       [-8.7626302e-01, -1.9259299e+00,  3.8990610e+00],\n",
              "       [ 4.1684594e+00, -1.7309027e+00, -1.4465849e+00],\n",
              "       [-1.7719374e+00, -1.7755209e+00,  5.1474099e+00],\n",
              "       [ 1.1256032e+00, -1.3513297e+00,  1.0778747e+00],\n",
              "       [ 4.1251826e+00, -2.1534059e+00, -1.3222318e+00],\n",
              "       [-1.1909922e+00,  2.3290815e+00, -7.3229825e-01],\n",
              "       [-3.0802229e-01,  1.5313805e+00, -1.8873808e+00],\n",
              "       [-1.1571722e+00,  2.5841265e+00, -1.0736926e+00],\n",
              "       [-8.6799228e-01, -1.6745048e+00,  4.8672562e+00],\n",
              "       [-1.6220827e+00, -1.9484147e+00,  5.0928421e+00],\n",
              "       [-1.1212108e+00, -1.7708840e+00,  4.9946351e+00],\n",
              "       [ 2.9601583e+00, -1.5682515e+00, -2.2317183e-01],\n",
              "       [ 1.4879565e+00,  1.1099695e-01, -1.6531333e+00],\n",
              "       [-1.4954293e+00, -1.8574444e+00,  5.0943122e+00],\n",
              "       [-1.1181945e+00,  1.8803058e+00, -1.2241721e+00],\n",
              "       [ 3.1140606e+00, -1.2916094e+00, -1.5936018e+00],\n",
              "       [-1.1483636e+00, -1.1045042e+00,  4.1092696e+00],\n",
              "       [-1.0713921e+00, -1.6904788e+00,  4.3600860e+00],\n",
              "       [-1.1856930e+00,  2.4594049e+00, -9.2502868e-01],\n",
              "       [ 7.8899944e-01, -2.3918780e-02, -1.5822091e+00],\n",
              "       [-1.6220163e+00, -1.9945912e+00,  5.0699720e+00],\n",
              "       [ 3.0812192e+00, -1.5408806e+00, -1.1222205e+00],\n",
              "       [-5.2761823e-01, -1.1749061e+00,  4.0527630e+00],\n",
              "       [-1.4999859e+00,  2.4672949e+00, -1.3329951e+00],\n",
              "       [ 3.5768692e+00, -2.0121520e+00, -8.8940126e-01],\n",
              "       [ 2.7907834e+00, -1.5444072e+00, -1.2141455e+00],\n",
              "       [-2.0088783e-01, -2.0153306e+00,  3.9705846e+00],\n",
              "       [-1.4986649e+00,  2.8748267e+00, -1.6583645e+00],\n",
              "       [-9.4359457e-01, -1.2274687e+00,  4.4513059e+00],\n",
              "       [-1.1237867e+00, -1.1510860e+00,  4.5137300e+00],\n",
              "       [ 9.0584493e-01, -5.8323461e-01, -6.3446361e-01],\n",
              "       [-4.2427263e-01, -6.2588137e-01,  2.7344577e+00],\n",
              "       [ 3.5601392e-01, -2.0858810e+00,  2.7624803e+00],\n",
              "       [-1.3992879e+00, -1.7617484e+00,  4.9753189e+00],\n",
              "       [ 4.2813945e+00, -1.9465343e+00, -1.4147379e+00],\n",
              "       [-1.5540984e+00,  3.0081890e+00, -1.4060404e+00],\n",
              "       [ 1.6779296e+00, -2.1393821e+00,  1.2559884e+00],\n",
              "       [-1.5567918e+00,  2.9369361e+00, -1.4318674e+00],\n",
              "       [ 3.6656063e+00, -1.8164830e+00, -7.1966507e-02],\n",
              "       [-1.6243228e+00,  2.9620991e+00, -1.5099849e+00],\n",
              "       [ 3.9720840e+00, -1.9337229e+00, -1.0865364e+00],\n",
              "       [-1.5764204e+00,  2.5944560e+00, -1.4427820e+00],\n",
              "       [-1.4620469e+00,  2.6477966e+00, -1.5766449e+00],\n",
              "       [-1.2923594e+00,  1.6730416e+00, -6.5932316e-01],\n",
              "       [-1.1362604e+00,  2.9411519e+00, -1.1353953e+00],\n",
              "       [-1.4610708e+00,  2.6639662e+00, -1.3318622e+00],\n",
              "       [-1.2133641e+00, -1.4150726e+00,  4.3928781e+00],\n",
              "       [ 2.7867932e+00, -1.5104506e+00,  5.3513330e-01],\n",
              "       [ 3.1850221e+00, -1.1526654e+00, -7.7032113e-01],\n",
              "       [ 3.8570900e+00, -1.7387682e+00, -1.2187573e+00],\n",
              "       [-1.3179843e+00,  2.7138202e+00, -1.3563211e+00],\n",
              "       [ 3.9703708e+00, -1.8338294e+00, -9.3532532e-01],\n",
              "       [-1.5087230e+00,  2.7459800e+00, -1.3227558e+00],\n",
              "       [-1.3203485e+00, -1.8083119e+00,  5.0869231e+00],\n",
              "       [-1.5159106e+00,  2.8588507e+00, -1.5421772e+00],\n",
              "       [ 4.0866237e+00, -1.8129381e+00, -1.5940628e+00],\n",
              "       [-1.2748370e+00, -1.4132842e+00,  4.6126108e+00],\n",
              "       [-1.0961963e+00,  2.3099089e+00, -1.2174075e+00],\n",
              "       [-1.3324914e+00, -1.6883615e+00,  4.9789157e+00],\n",
              "       [ 3.6049151e+00, -1.4307989e+00, -1.1073064e+00],\n",
              "       [-1.3607087e+00, -2.0263064e+00,  5.0792217e+00],\n",
              "       [ 2.9325852e+00, -2.3189719e+00,  3.8862908e-01],\n",
              "       [-1.1235716e+00, -1.6746176e+00,  4.8864603e+00],\n",
              "       [-1.5695839e+00,  2.8788068e+00, -1.6099679e+00],\n",
              "       [-1.4030879e+00,  2.9922042e+00, -1.5832057e+00],\n",
              "       [-1.5272431e+00, -1.5259050e+00,  4.5085716e+00],\n",
              "       [-1.5832064e+00, -1.7977068e+00,  5.0732565e+00],\n",
              "       [-9.4500434e-01,  2.1747477e+00, -1.2817669e+00],\n",
              "       [ 4.1399593e+00, -2.1386724e+00, -1.5654504e+00],\n",
              "       [-6.7405379e-01, -1.6733388e+00,  4.5099540e+00],\n",
              "       [ 1.5706265e-01, -1.1852775e+00,  8.9740455e-02],\n",
              "       [ 3.8723435e+00, -1.9862244e+00, -6.0845780e-01],\n",
              "       [-1.0946916e+00, -7.8735274e-01,  3.1860404e+00],\n",
              "       [-2.4474780e-01, -8.9246589e-01,  3.7308710e+00],\n",
              "       [ 3.3599148e+00, -2.5890839e+00,  4.2929655e-01],\n",
              "       [ 3.1564074e+00, -1.5329440e+00, -3.3991915e-01],\n",
              "       [-8.5263300e-01,  2.4453545e+00, -1.7108464e+00],\n",
              "       [ 1.4944303e+00, -2.1864235e+00,  1.0839794e+00],\n",
              "       [ 4.2967057e+00, -2.1409299e+00, -1.8628151e+00],\n",
              "       [-1.3446558e+00,  2.8274748e+00, -1.2212071e+00],\n",
              "       [ 4.1056948e+00, -1.9398471e+00, -1.2881341e+00],\n",
              "       [-1.5242865e+00, -1.8298564e+00,  5.0790110e+00],\n",
              "       [-8.6936474e-01, -2.3792140e+00,  4.7306175e+00],\n",
              "       [ 3.1612086e+00, -2.0037324e+00,  5.9636486e-01],\n",
              "       [-5.8912015e-01, -1.8781840e+00,  3.8809803e+00],\n",
              "       [-1.4873674e+00,  2.9987066e+00, -1.4731827e+00],\n",
              "       [ 1.7202668e+00, -9.8897016e-01, -1.4939032e+00],\n",
              "       [-2.8623721e-01, -2.1194980e+00,  3.9135444e+00],\n",
              "       [-1.3479581e+00,  2.7517121e+00, -1.1703124e+00],\n",
              "       [-1.8277884e-01, -1.8756692e+00,  3.1966941e+00],\n",
              "       [ 4.0076632e+00, -1.7771263e+00, -7.7636766e-01],\n",
              "       [-1.5486636e+00, -1.6798772e+00,  4.8555508e+00],\n",
              "       [-1.0556431e+00, -1.8220304e+00,  4.5736470e+00],\n",
              "       [-2.8736475e-01, -9.5306009e-02, -7.1189213e-01],\n",
              "       [ 4.5745330e+00, -2.1090307e+00, -1.4949441e+00],\n",
              "       [ 4.0554090e+00, -1.9566447e+00, -1.6891415e+00],\n",
              "       [ 1.3755996e+00, -8.8434172e-01,  2.2771949e-01],\n",
              "       [-1.6864864e+00, -1.8663577e+00,  5.1736460e+00],\n",
              "       [-1.0635142e+00, -1.4526907e+00,  4.7225971e+00],\n",
              "       [ 2.5030193e+00, -1.9309976e+00, -7.5905365e-01],\n",
              "       [ 3.9590321e+00, -1.8737413e+00, -1.0789887e+00],\n",
              "       [-4.4484395e-01, -9.9703515e-01,  3.1865320e+00],\n",
              "       [ 3.4556103e+00, -1.6636692e+00, -6.7220986e-01],\n",
              "       [-1.4349196e+00,  2.4660017e+00, -1.2020649e+00],\n",
              "       [-1.5372257e+00, -1.5694524e+00,  4.9772520e+00],\n",
              "       [ 3.5856395e+00, -1.9364592e+00, -8.9281195e-01],\n",
              "       [-1.1566353e+00, -1.7777270e+00,  4.6166797e+00],\n",
              "       [-1.3071845e+00,  2.8300393e+00, -1.6294645e+00],\n",
              "       [-1.2769406e+00,  3.0046308e+00, -1.3073388e+00],\n",
              "       [ 3.6323183e+00, -2.0731962e+00, -1.9187075e-01],\n",
              "       [ 3.8401327e+00, -1.9662558e+00, -1.0676808e+00],\n",
              "       [ 3.0230365e+00, -2.2672877e+00, -1.3552404e-02],\n",
              "       [-1.1390540e-01, -6.3909161e-01,  1.9194245e+00],\n",
              "       [-1.6026893e+00,  2.7957137e+00, -1.4937481e+00],\n",
              "       [ 2.8463156e+00, -1.3924384e+00, -1.6212554e+00],\n",
              "       [ 4.4802085e-01, -4.1091257e-01,  1.3079271e+00],\n",
              "       [-1.5580192e+00, -1.7897366e+00,  5.0311565e+00],\n",
              "       [-1.1963375e+00, -1.0427097e+00,  4.0520878e+00],\n",
              "       [ 2.6099577e+00, -8.8243306e-01, -2.0608177e+00],\n",
              "       [-1.2759550e+00,  2.3797274e+00, -7.9685438e-01],\n",
              "       [-1.5297174e+00, -1.8555788e+00,  4.7344522e+00],\n",
              "       [ 1.9812489e-01, -1.1455227e+00,  3.1836469e+00],\n",
              "       [ 6.8685985e-01,  8.6257017e-01, -1.6614958e+00],\n",
              "       [-1.7181785e+00, -1.6455778e+00,  5.0153437e+00],\n",
              "       [ 2.5051913e+00, -2.5235868e+00,  1.6813937e-01],\n",
              "       [-1.4319097e+00,  2.8225629e+00, -1.4116775e+00],\n",
              "       [-1.4816411e+00,  2.8583629e+00, -1.5493963e+00],\n",
              "       [ 3.6707792e+00, -1.6340026e+00, -9.4636881e-01],\n",
              "       [-1.1882906e+00, -1.4380945e+00,  4.8189716e+00],\n",
              "       [ 4.1296434e+00, -2.0969317e+00, -1.1000456e+00],\n",
              "       [ 3.9796438e+00, -1.8299540e+00, -1.0640204e+00],\n",
              "       [-1.5263338e+00, -1.6403061e+00,  4.9481931e+00],\n",
              "       [-1.2173638e+00, -1.8999374e+00,  4.9083667e+00],\n",
              "       [ 3.0779707e+00, -1.4584671e+00, -7.6629657e-01],\n",
              "       [-1.3867558e+00,  2.9154136e+00, -1.3893955e+00],\n",
              "       [ 2.2433302e+00, -2.3241191e+00,  6.0208809e-01],\n",
              "       [ 3.0255940e+00, -1.7350850e+00,  9.5342631e-03],\n",
              "       [-1.1556784e+00, -1.1295042e+00,  4.2177744e+00],\n",
              "       [-1.0716016e+00, -1.7710795e+00,  4.9171357e+00],\n",
              "       [ 2.7415685e-03, -1.8288817e+00,  3.8464696e+00],\n",
              "       [ 5.8380276e-01, -3.8076532e-01,  2.1264873e+00],\n",
              "       [ 3.0540905e+00, -2.2750237e+00,  1.7757311e-01],\n",
              "       [-1.5261419e+00, -1.8929096e+00,  4.9699664e+00],\n",
              "       [-9.2960453e-01,  2.3771493e+00, -1.3457991e+00],\n",
              "       [-1.2377192e+00,  2.9290936e+00, -1.5437009e+00],\n",
              "       [-8.2529104e-01, -1.6696104e+00,  4.3373699e+00],\n",
              "       [ 5.4130656e-01, -2.1423223e+00,  1.9152150e+00],\n",
              "       [-7.3752248e-01,  2.1534598e+00, -6.1319494e-01],\n",
              "       [-8.1880343e-01, -4.5738783e-01,  2.6599050e+00],\n",
              "       [ 2.9120026e+00, -1.3413348e+00, -1.0340232e+00],\n",
              "       [ 1.5757971e-01, -6.6312706e-01, -3.3237413e-01],\n",
              "       [ 3.6835437e+00, -2.1994023e+00, -3.1379938e-01],\n",
              "       [-6.1221325e-01,  1.7020434e+00, -1.3037448e+00],\n",
              "       [-1.2855488e+00, -2.0437214e+00,  4.8105192e+00],\n",
              "       [ 1.2533901e+00, -1.4887158e+00,  1.6846883e+00],\n",
              "       [-2.4672024e-01,  1.1779866e+00, -1.7351233e+00],\n",
              "       [ 3.0464361e+00, -1.9506778e+00, -1.1967420e-01],\n",
              "       [ 2.7989469e+00, -2.7325134e+00,  1.7893186e-01],\n",
              "       [-1.4244578e+00, -1.7284948e+00,  5.0188241e+00],\n",
              "       [ 4.6983215e-01, -8.6582333e-01,  1.8266013e+00],\n",
              "       [ 4.3039618e+00, -1.8056535e+00, -1.5308738e+00],\n",
              "       [-1.3878287e+00,  2.9472818e+00, -1.2885678e+00],\n",
              "       [-1.2329949e+00,  2.9031422e+00, -1.4838735e+00],\n",
              "       [-1.3412118e+00,  2.7519186e+00, -1.2375576e+00],\n",
              "       [ 3.7495375e+00, -1.8921279e+00, -1.0415714e+00],\n",
              "       [-1.4250348e+00,  2.9085464e+00, -1.4081948e+00],\n",
              "       [ 3.9886999e+00, -1.7631820e+00, -9.5916140e-01],\n",
              "       [-7.7497077e-01, -2.4796160e-01,  2.0203052e+00],\n",
              "       [-1.3543441e+00, -1.0347422e+00,  3.9396427e+00],\n",
              "       [-1.4246604e+00,  2.8433890e+00, -1.3583565e+00],\n",
              "       [-1.2830977e+00, -7.9741305e-01,  2.8846202e+00],\n",
              "       [ 2.8280673e+00, -1.7147741e+00, -6.3491869e-01],\n",
              "       [-5.6609941e-01, -9.4987726e-01,  2.9854612e+00],\n",
              "       [-1.5389951e+00,  2.9624898e+00, -1.5153024e+00],\n",
              "       [-8.0018854e-01,  2.0187724e+00, -6.2086779e-01],\n",
              "       [-1.0713161e+00, -1.2037479e+00,  4.2592592e+00],\n",
              "       [-1.3735371e+00,  2.8263667e+00, -1.2631838e+00],\n",
              "       [ 4.3268332e+00, -1.8746399e+00, -1.5449353e+00],\n",
              "       [-1.4962916e+00,  2.8962431e+00, -1.4848903e+00],\n",
              "       [-1.5861781e+00,  2.9480569e+00, -1.5579157e+00],\n",
              "       [-1.3585343e+00, -1.6584418e+00,  4.8103504e+00],\n",
              "       [-1.5823635e-01, -1.9547879e+00,  3.4092126e+00],\n",
              "       [ 4.2262506e+00, -1.8991358e+00, -9.5462197e-01],\n",
              "       [-1.1761672e+00,  2.3667755e+00, -1.6363988e+00],\n",
              "       [ 3.2460227e+00, -1.4052509e+00, -1.5394597e+00],\n",
              "       [ 9.8190594e-01, -6.8246210e-01,  9.6287733e-01],\n",
              "       [-1.5204467e+00,  2.9020736e+00, -1.5610059e+00],\n",
              "       [-5.4782671e-01, -1.2081161e-01,  1.9561054e+00],\n",
              "       [ 2.2002378e+00, -1.1568584e+00, -3.5118334e-02],\n",
              "       [-6.8584049e-01, -1.6334791e+00,  4.1853604e+00],\n",
              "       [-1.6143109e+00,  2.8184495e+00, -1.5878018e+00],\n",
              "       [ 2.3926282e+00, -2.3438029e+00,  4.4635403e-01],\n",
              "       [-1.1363155e+00, -1.7551528e+00,  4.8817472e+00],\n",
              "       [ 1.9522594e-01, -1.2330385e+00,  3.0765412e+00],\n",
              "       [ 1.0698260e-02,  1.3516445e+00, -1.6119455e+00],\n",
              "       [-8.2941353e-01, -8.2194030e-01,  3.2284660e+00],\n",
              "       [-8.5361099e-01, -1.2971525e+00,  4.5242558e+00],\n",
              "       [-1.2127024e+00, -1.2511764e+00,  4.2631011e+00],\n",
              "       [-1.6705813e+00, -1.6356996e+00,  4.8684168e+00],\n",
              "       [ 4.0721107e+00, -2.2817125e+00, -6.7272091e-01],\n",
              "       [-1.3910275e+00, -1.7281754e+00,  4.9055705e+00],\n",
              "       [ 3.8696263e+00, -2.2779124e+00, -7.2519660e-01],\n",
              "       [-1.4553319e+00,  2.9861381e+00, -1.4886967e+00],\n",
              "       [-9.2404646e-01, -9.5450473e-01,  3.7045929e+00],\n",
              "       [-1.4724131e+00,  2.2031176e+00, -1.0509212e+00],\n",
              "       [-1.2519331e+00, -1.8941211e+00,  4.8915777e+00],\n",
              "       [ 3.8485873e+00, -2.1120999e+00, -1.2393333e+00],\n",
              "       [-1.6189840e+00,  2.4598420e+00, -1.1078067e+00],\n",
              "       [ 3.1505576e-01, -3.8569251e-01,  1.2060583e+00],\n",
              "       [ 4.1399302e+00, -1.8798161e+00, -1.4275309e+00],\n",
              "       [-1.5403090e+00,  2.7753668e+00, -1.6381128e+00],\n",
              "       [ 2.4692349e+00, -1.3440738e+00, -1.2181141e+00],\n",
              "       [-3.8075529e-02,  6.4833480e-01, -5.2865326e-01],\n",
              "       [ 4.0019870e+00, -1.9810033e+00, -5.3297353e-01],\n",
              "       [-1.1045418e+00,  2.0519741e+00, -8.8850880e-01],\n",
              "       [ 2.2626762e+00, -1.2292660e+00, -4.7123331e-01],\n",
              "       [ 1.1182172e+00, -6.9054708e-02, -1.9120666e+00],\n",
              "       [-8.4070122e-01,  1.7827113e+00, -8.2083642e-01],\n",
              "       [-1.5029249e+00,  2.9216254e+00, -1.6064095e+00],\n",
              "       [ 3.8730097e+00, -1.6295688e+00, -1.2549518e+00],\n",
              "       [-1.5512421e+00,  2.5722024e+00, -1.5347255e+00],\n",
              "       [-1.5089207e+00,  2.5939672e+00, -1.3437707e+00],\n",
              "       [ 4.1937428e+00, -2.2037709e+00, -1.1569791e+00],\n",
              "       [ 4.4319272e-01, -5.2286839e-01, -1.5461978e-01],\n",
              "       [-1.0792624e+00, -1.5415062e+00,  4.7023215e+00],\n",
              "       [-1.0023159e+00, -1.8993815e+00,  4.7733908e+00],\n",
              "       [ 4.3374400e+00, -1.9309624e+00, -1.1965868e+00],\n",
              "       [-5.0815201e-01,  1.6534070e+00, -1.2465270e+00],\n",
              "       [-1.0275211e+00,  1.5497046e+00, -1.2868580e+00],\n",
              "       [-9.1119361e-01,  2.2628429e+00, -1.2066776e+00],\n",
              "       [-1.2545109e+00,  2.1007245e+00, -1.2139022e+00],\n",
              "       [-9.0601397e-01,  1.5048789e+00, -2.4193469e-01],\n",
              "       [-1.5322745e+00,  2.9161665e+00, -1.5369142e+00],\n",
              "       [ 3.6660075e+00, -1.6132543e+00, -9.2045379e-01],\n",
              "       [-4.3862554e-01,  4.1844424e-02,  3.3201370e-01],\n",
              "       [-1.2044599e+00,  2.7556500e+00, -1.5720525e+00],\n",
              "       [-1.1695622e+00, -1.5567738e+00,  4.6748295e+00],\n",
              "       [-1.5023791e+00, -1.6961988e+00,  4.9664464e+00],\n",
              "       [ 3.9318821e+00, -1.9191509e+00, -9.8816121e-01],\n",
              "       [ 7.0014381e-01,  3.0206129e-01, -1.3997364e+00],\n",
              "       [ 4.1170459e+00, -1.8700193e+00, -1.0913235e+00],\n",
              "       [-1.3423741e+00, -1.7452747e+00,  4.9161940e+00],\n",
              "       [-1.5445640e+00,  2.5386670e+00, -1.0367994e+00],\n",
              "       [ 3.4600585e+00, -1.8739194e+00, -1.2707609e+00],\n",
              "       [-8.0566466e-01, -1.3027345e+00,  4.0768356e+00],\n",
              "       [-1.3713923e+00, -1.9313606e+00,  5.0199184e+00],\n",
              "       [-5.6428647e-01, -1.5316672e+00,  2.8867691e+00],\n",
              "       [-1.4758241e+00,  2.6799774e+00, -1.3990889e+00],\n",
              "       [-7.7670294e-01,  4.3547714e-01, -5.8320612e-01],\n",
              "       [-1.5583947e+00,  2.8776853e+00, -1.5560480e+00],\n",
              "       [-1.5140976e+00,  2.0612190e+00, -7.6185727e-01],\n",
              "       [-1.3000621e+00, -1.6465572e+00,  4.9622412e+00],\n",
              "       [ 4.2550745e+00, -2.0248995e+00, -1.4511987e+00],\n",
              "       [-1.4508357e+00, -1.2495831e+00,  4.3312330e+00],\n",
              "       [-1.5760671e+00,  2.9355936e+00, -1.5934950e+00],\n",
              "       [ 3.7250395e+00, -1.5811613e+00, -1.4307594e+00],\n",
              "       [ 4.5629306e+00, -2.1572683e+00, -1.5299423e+00],\n",
              "       [-1.1187812e+00, -1.5288728e+00,  4.7332182e+00],\n",
              "       [-4.5284531e-01,  1.1377418e-01, -5.2243322e-02],\n",
              "       [ 3.9538894e+00, -2.3253813e+00, -9.3638319e-01],\n",
              "       [ 4.2159762e+00, -1.7914168e+00, -1.3826801e+00],\n",
              "       [ 4.2748199e+00, -1.9911219e+00, -1.3956301e+00],\n",
              "       [ 4.3368502e+00, -2.3305333e+00, -1.3192220e+00],\n",
              "       [-1.4854242e+00,  2.5792184e+00, -1.1870655e+00],\n",
              "       [ 3.7359066e+00, -1.4367760e+00, -1.2302433e+00],\n",
              "       [-1.1604354e+00, -1.7566496e+00,  4.6978416e+00],\n",
              "       [-2.5912067e-01, -1.4374605e+00,  3.3833435e+00]], dtype=float32)"
            ]
          },
          "metadata": {
            "tags": []
          },
          "execution_count": 74
        }
      ]
    },
    {
      "cell_type": "code",
      "metadata": {
        "id": "5ZxKEI6KIt19",
        "colab": {
          "base_uri": "https://localhost:8080/"
        },
        "outputId": "8c6d0665-4dbd-4525-b689-9ec94fa76472"
      },
      "source": [
        "print(np.argmax(ypred, axis=1))"
      ],
      "execution_count": 75,
      "outputs": [
        {
          "output_type": "stream",
          "text": [
            "[1 1 0 2 0 2 2 2 1 1 2 2 2 0 2 0 0 1 1 1 2 2 2 0 0 2 1 0 2 2 1 0 2 0 2 1 0\n",
            " 0 2 1 2 2 0 2 2 2 0 1 0 1 0 1 0 1 1 1 1 1 2 0 0 0 1 0 1 2 1 0 2 1 2 0 2 0\n",
            " 2 1 1 2 2 1 0 2 0 0 2 2 0 0 1 0 0 1 0 2 2 0 2 1 0 2 1 2 0 2 2 1 0 0 0 2 2\n",
            " 0 0 2 0 1 2 0 2 1 1 0 0 0 2 1 0 2 2 2 0 1 2 2 1 2 0 1 1 0 2 0 0 2 2 0 1 0\n",
            " 0 2 2 2 2 0 2 1 1 2 2 1 2 0 0 0 1 2 2 1 0 0 2 2 0 1 1 1 0 1 0 2 2 1 2 0 2\n",
            " 1 1 2 1 0 1 1 2 2 0 1 0 0 1 2 0 2 1 0 2 2 1 2 2 2 2 0 2 0 1 2 1 2 0 1 2 0\n",
            " 1 0 1 0 1 0 0 1 1 0 1 1 0 0 2 2 0 1 1 1 1 1 1 0 2 1 2 2 0 0 0 2 1 0 2 2 2\n",
            " 1 1 1 1 2 0 2 1 0 0 2 1 0 0 0 0 1 0 2 2]\n"
          ],
          "name": "stdout"
        }
      ]
    },
    {
      "cell_type": "code",
      "metadata": {
        "id": "nXW9PMzVGmSF",
        "outputId": "f6d88f4b-8dea-4cbf-d011-9da4a44b188f",
        "colab": {
          "base_uri": "https://localhost:8080/",
          "height": 703
        }
      },
      "source": [
        "df_test['ypred'] = np.argmax(ypred, axis=1)\n",
        "df_test"
      ],
      "execution_count": 76,
      "outputs": [
        {
          "output_type": "stream",
          "text": [
            "/usr/local/lib/python3.7/dist-packages/ipykernel_launcher.py:1: SettingWithCopyWarning: \n",
            "A value is trying to be set on a copy of a slice from a DataFrame.\n",
            "Try using .loc[row_indexer,col_indexer] = value instead\n",
            "\n",
            "See the caveats in the documentation: https://pandas.pydata.org/pandas-docs/stable/user_guide/indexing.html#returning-a-view-versus-a-copy\n",
            "  \"\"\"Entry point for launching an IPython kernel.\n"
          ],
          "name": "stderr"
        },
        {
          "output_type": "execute_result",
          "data": {
            "text/html": [
              "<div>\n",
              "<style scoped>\n",
              "    .dataframe tbody tr th:only-of-type {\n",
              "        vertical-align: middle;\n",
              "    }\n",
              "\n",
              "    .dataframe tbody tr th {\n",
              "        vertical-align: top;\n",
              "    }\n",
              "\n",
              "    .dataframe thead th {\n",
              "        text-align: right;\n",
              "    }\n",
              "</style>\n",
              "<table border=\"1\" class=\"dataframe\">\n",
              "  <thead>\n",
              "    <tr style=\"text-align: right;\">\n",
              "      <th></th>\n",
              "      <th>id</th>\n",
              "      <th>tweet</th>\n",
              "      <th>label</th>\n",
              "      <th>Sentiment_Cat</th>\n",
              "      <th>tweet_cleaned</th>\n",
              "      <th>ypred</th>\n",
              "    </tr>\n",
              "  </thead>\n",
              "  <tbody>\n",
              "    <tr>\n",
              "      <th>1913</th>\n",
              "      <td>1325804701561008135</td>\n",
              "      <td>I am not 100% happy about the vaccine because ...</td>\n",
              "      <td>AntiVax</td>\n",
              "      <td>1</td>\n",
              "      <td>i am not 100  happy about the vaccine because ...</td>\n",
              "      <td>1</td>\n",
              "    </tr>\n",
              "    <tr>\n",
              "      <th>424</th>\n",
              "      <td>1325669230281326592</td>\n",
              "      <td>#PLANDEMIC2 \\n\\nWhat's in vaccines?\\n\\nDoes an...</td>\n",
              "      <td>AntiVax</td>\n",
              "      <td>1</td>\n",
              "      <td>plandemic2   what is in vaccines   does anyon...</td>\n",
              "      <td>1</td>\n",
              "    </tr>\n",
              "    <tr>\n",
              "      <th>2282</th>\n",
              "      <td>1326107054549962752</td>\n",
              "      <td>Coronavirus Update \\n\\nThere has been a soarin...</td>\n",
              "      <td>ProVax</td>\n",
              "      <td>0</td>\n",
              "      <td>coronavirus update   there has been a soaring ...</td>\n",
              "      <td>0</td>\n",
              "    </tr>\n",
              "    <tr>\n",
              "      <th>2504</th>\n",
              "      <td>1325770588451958786</td>\n",
              "      <td>If made available by the end of the year, this...</td>\n",
              "      <td>ProVax</td>\n",
              "      <td>0</td>\n",
              "      <td>if made available by the end of the year  this...</td>\n",
              "      <td>2</td>\n",
              "    </tr>\n",
              "    <tr>\n",
              "      <th>1264</th>\n",
              "      <td>1329097525140328448</td>\n",
              "      <td>LETS GO. This is some great news, and it’s als...</td>\n",
              "      <td>ProVax</td>\n",
              "      <td>0</td>\n",
              "      <td>let us go  this is some great news  and it is ...</td>\n",
              "      <td>0</td>\n",
              "    </tr>\n",
              "    <tr>\n",
              "      <th>...</th>\n",
              "      <td>...</td>\n",
              "      <td>...</td>\n",
              "      <td>...</td>\n",
              "      <td>...</td>\n",
              "      <td>...</td>\n",
              "      <td>...</td>\n",
              "    </tr>\n",
              "    <tr>\n",
              "      <th>1399</th>\n",
              "      <td>1325864111708631040</td>\n",
              "      <td>Good news finally, definitely worth reading 👍👍...</td>\n",
              "      <td>ProVax</td>\n",
              "      <td>0</td>\n",
              "      <td>good news finally  definitely worth reading  t...</td>\n",
              "      <td>0</td>\n",
              "    </tr>\n",
              "    <tr>\n",
              "      <th>2066</th>\n",
              "      <td>1325682016390705153</td>\n",
              "      <td>#Nazi #vaccine policies which #NurembergTrials...</td>\n",
              "      <td>AntiVax</td>\n",
              "      <td>1</td>\n",
              "      <td>nazi  vaccine policies which  nurembergtrials...</td>\n",
              "      <td>1</td>\n",
              "    </tr>\n",
              "    <tr>\n",
              "      <th>2073</th>\n",
              "      <td>1325770704072151040</td>\n",
              "      <td>Promising news in search for a Covid-19 vaccin...</td>\n",
              "      <td>ProVax</td>\n",
              "      <td>0</td>\n",
              "      <td>promising news in search for a covid 19 vaccine</td>\n",
              "      <td>0</td>\n",
              "    </tr>\n",
              "    <tr>\n",
              "      <th>2412</th>\n",
              "      <td>1325696659523657728</td>\n",
              "      <td>The bulk of vaccines against COVID-19 will be ...</td>\n",
              "      <td>Neutral</td>\n",
              "      <td>2</td>\n",
              "      <td>the bulk of vaccines against covid 19 will be ...</td>\n",
              "      <td>2</td>\n",
              "    </tr>\n",
              "    <tr>\n",
              "      <th>502</th>\n",
              "      <td>1334789223954718720</td>\n",
              "      <td>Companies in the COVID-19 supply chain — from ...</td>\n",
              "      <td>Neutral</td>\n",
              "      <td>2</td>\n",
              "      <td>companies in the covid 19 supply chain   from ...</td>\n",
              "      <td>2</td>\n",
              "    </tr>\n",
              "  </tbody>\n",
              "</table>\n",
              "<p>279 rows × 6 columns</p>\n",
              "</div>"
            ],
            "text/plain": [
              "                       id  ... ypred\n",
              "1913  1325804701561008135  ...     1\n",
              "424   1325669230281326592  ...     1\n",
              "2282  1326107054549962752  ...     0\n",
              "2504  1325770588451958786  ...     2\n",
              "1264  1329097525140328448  ...     0\n",
              "...                   ...  ...   ...\n",
              "1399  1325864111708631040  ...     0\n",
              "2066  1325682016390705153  ...     1\n",
              "2073  1325770704072151040  ...     0\n",
              "2412  1325696659523657728  ...     2\n",
              "502   1334789223954718720  ...     2\n",
              "\n",
              "[279 rows x 6 columns]"
            ]
          },
          "metadata": {
            "tags": []
          },
          "execution_count": 76
        }
      ]
    },
    {
      "cell_type": "code",
      "metadata": {
        "id": "3XLO099856Xm",
        "colab": {
          "base_uri": "https://localhost:8080/",
          "height": 295
        },
        "outputId": "48dc564b-bb94-45f5-9c2c-97b0b0c4582e"
      },
      "source": [
        "y_map_inv = {\n",
        "    0: 'ProVax',\n",
        "    1: 'AntiVax',\n",
        "    2: 'Neutral'\n",
        "}\n",
        "\n",
        "# y_map = {\n",
        "#     'ProVax': 0, \n",
        "#     'AntiVax': 1, \n",
        "#     'Neutral': 2\n",
        "# }\n",
        "\n",
        "sns.heatmap(\n",
        "    pd.crosstab(df_test['ypred'].map(y_map_inv), df_test['Sentiment_Cat'].map(y_map_inv)),\n",
        "    annot=True,\n",
        "    fmt='0.0f',\n",
        "    cbar=False,\n",
        "    linewidth=2,\n",
        "    cmap='coolwarm'     \n",
        ")\n",
        "\n",
        "plt.xlabel('True')\n",
        "plt.ylabel('Predicted')\n",
        "plt.title('Confusion Matrix');"
      ],
      "execution_count": 77,
      "outputs": [
        {
          "output_type": "display_data",
          "data": {
            "image/png": "[encoded data removed]",
            "text/plain": [
              "<Figure size 432x288 with 1 Axes>"
            ]
          },
          "metadata": {
            "tags": [],
            "needs_background": "light"
          }
        }
      ]
    },
    {
      "cell_type": "code",
      "metadata": {
        "id": "emwFinxTloyj",
        "colab": {
          "base_uri": "https://localhost:8080/"
        },
        "outputId": "a0506108-9c50-413d-eea5-93cb6f6711ea"
      },
      "source": [
        "y_test = df_test['Sentiment_Cat'].map(y_map_inv)\n",
        "y_pred = df_test['ypred'].map(y_map_inv)\n",
        "#importing confusion matrix\n",
        "from sklearn.metrics import confusion_matrix\n",
        "confusion = confusion_matrix(y_test, y_pred)\n",
        "print('Confusion Matrix\\n')\n",
        "print(confusion)\n",
        "\n",
        "#importing accuracy_score, precision_score, recall_score, f1_score\n",
        "from sklearn.metrics import accuracy_score, precision_score, recall_score, f1_score\n",
        "print('\\nAccuracy: {:.2f}\\n'.format(accuracy_score(y_test, y_pred)))\n",
        "\n",
        "print('Micro Precision: {:.2f}'.format(precision_score(y_test, y_pred, average='micro')))\n",
        "print('Micro Recall: {:.2f}'.format(recall_score(y_test, y_pred, average='micro')))\n",
        "print('Micro F1-score: {:.2f}\\n'.format(f1_score(y_test, y_pred, average='micro')))\n",
        "\n",
        "print('Macro Precision: {:.2f}'.format(precision_score(y_test, y_pred, average='macro')))\n",
        "print('Macro Recall: {:.2f}'.format(recall_score(y_test, y_pred, average='macro')))\n",
        "print('Macro F1-score: {:.2f}\\n'.format(f1_score(y_test, y_pred, average='macro')))\n",
        "\n",
        "print('Weighted Precision: {:.2f}'.format(precision_score(y_test, y_pred, average='weighted')))\n",
        "print('Weighted Recall: {:.2f}'.format(recall_score(y_test, y_pred, average='weighted')))\n",
        "print('Weighted F1-score: {:.2f}'.format(f1_score(y_test, y_pred, average='weighted')))\n",
        "\n",
        "from sklearn.metrics import classification_report\n",
        "print('\\nClassification Report\\n')\n",
        "print(classification_report(y_test, y_pred, target_names=['Class 1', 'Class 2', 'Class 3']))\n"
      ],
      "execution_count": 78,
      "outputs": [
        {
          "output_type": "stream",
          "text": [
            "Confusion Matrix\n",
            "\n",
            "[[72  4  3]\n",
            " [ 6 87  8]\n",
            " [ 6  9 84]]\n",
            "\n",
            "Accuracy: 0.87\n",
            "\n",
            "Micro Precision: 0.87\n",
            "Micro Recall: 0.87\n",
            "Micro F1-score: 0.87\n",
            "\n",
            "Macro Precision: 0.87\n",
            "Macro Recall: 0.87\n",
            "Macro F1-score: 0.87\n",
            "\n",
            "Weighted Precision: 0.87\n",
            "Weighted Recall: 0.87\n",
            "Weighted F1-score: 0.87\n",
            "\n",
            "Classification Report\n",
            "\n",
            "              precision    recall  f1-score   support\n",
            "\n",
            "     Class 1       0.86      0.91      0.88        79\n",
            "     Class 2       0.87      0.86      0.87       101\n",
            "     Class 3       0.88      0.85      0.87        99\n",
            "\n",
            "    accuracy                           0.87       279\n",
            "   macro avg       0.87      0.87      0.87       279\n",
            "weighted avg       0.87      0.87      0.87       279\n",
            "\n"
          ],
          "name": "stdout"
        }
      ]
    }
  ]
}