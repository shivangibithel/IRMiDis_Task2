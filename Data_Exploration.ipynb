{
  "nbformat": 4,
  "nbformat_minor": 0,
  "metadata": {
    "colab": {
      "name": "Data Exploration.ipynb",
      "provenance": [],
      "collapsed_sections": [
        "OYNV9EfKDnZP",
        "AmKcpSMP0pQf",
        "ms6Yj0m_Dcou",
        "_9oGF0DJDjmM",
        "40izhYxW3KuC",
        "eLTCy1617a91",
        "pwI_jkSI9fGQ",
        "d9j3bGxu9_fd",
        "OeWdCecU-Xeq",
        "-dvJkJ9YgVKG",
        "DJ_Jy0msKKUh",
        "RGngIdVwKybN",
        "Fj5VLMwBLBHJ"
      ],
      "authorship_tag": "ABX9TyMog2bwkBcsaIoJ1ZdXODJ5",
      "include_colab_link": true
    },
    "kernelspec": {
      "name": "python3",
      "display_name": "Python 3"
    },
    "language_info": {
      "name": "python"
    }
  },
  "cells": [
    {
      "cell_type": "markdown",
      "metadata": {
        "id": "view-in-github",
        "colab_type": "text"
      },
      "source": [
        "<a href=\"https://colab.research.google.com/github/shivangibithel/IRMiDis_Task2/blob/main/Data_Exploration.ipynb\" target=\"_parent\"><img src=\"https://colab.research.google.com/assets/colab-badge.svg\" alt=\"Open In Colab\"/></a>"
      ]
    },
    {
      "cell_type": "markdown",
      "metadata": {
        "id": "rVIz_XP64-RI"
      },
      "source": [
        "Required Files to be imported -->\n",
        "\n",
        "![image.png](data:image/png;base64,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)"
      ]
    },
    {
      "cell_type": "markdown",
      "metadata": {
        "id": "OYNV9EfKDnZP"
      },
      "source": [
        "# Import Data files"
      ]
    },
    {
      "cell_type": "code",
      "metadata": {
        "id": "1I8HccQ4zOE0"
      },
      "source": [
        "import pandas as pd"
      ],
      "execution_count": null,
      "outputs": []
    },
    {
      "cell_type": "code",
      "metadata": {
        "colab": {
          "base_uri": "https://localhost:8080/"
        },
        "id": "d1cU9vjNy3gd",
        "outputId": "548d6ff4-0ce0-4a91-b524-eda6750662bf"
      },
      "source": [
        "data = pd.read_csv(\"irmidis-2021-task2-train.csv\")\n",
        "# from sklearn.utils import shuffle\n",
        "# our_data = shuffle(our_data)\n",
        "print(data.info())\n",
        "data.head()"
      ],
      "execution_count": null,
      "outputs": [
        {
          "output_type": "stream",
          "text": [
            "<class 'pandas.core.frame.DataFrame'>\n",
            "RangeIndex: 2792 entries, 0 to 2791\n",
            "Data columns (total 3 columns):\n",
            " #   Column  Non-Null Count  Dtype \n",
            "---  ------  --------------  ----- \n",
            " 0   id      2792 non-null   int64 \n",
            " 1   tweet   2792 non-null   object\n",
            " 2   label   2792 non-null   object\n",
            "dtypes: int64(1), object(2)\n",
            "memory usage: 65.6+ KB\n",
            "None\n"
          ],
          "name": "stdout"
        },
        {
          "output_type": "execute_result",
          "data": {
            "text/html": [
              "<div>\n",
              "<style scoped>\n",
              "    .dataframe tbody tr th:only-of-type {\n",
              "        vertical-align: middle;\n",
              "    }\n",
              "\n",
              "    .dataframe tbody tr th {\n",
              "        vertical-align: top;\n",
              "    }\n",
              "\n",
              "    .dataframe thead th {\n",
              "        text-align: right;\n",
              "    }\n",
              "</style>\n",
              "<table border=\"1\" class=\"dataframe\">\n",
              "  <thead>\n",
              "    <tr style=\"text-align: right;\">\n",
              "      <th></th>\n",
              "      <th>id</th>\n",
              "      <th>tweet</th>\n",
              "      <th>label</th>\n",
              "    </tr>\n",
              "  </thead>\n",
              "  <tbody>\n",
              "    <tr>\n",
              "      <th>0</th>\n",
              "      <td>1325682517148569600</td>\n",
              "      <td>Coronavirus: Some Canadians hesitant to take a...</td>\n",
              "      <td>AntiVax</td>\n",
              "    </tr>\n",
              "    <tr>\n",
              "      <th>1</th>\n",
              "      <td>1325684180483600384</td>\n",
              "      <td>Moderna on track to report late-stage COVID-19...</td>\n",
              "      <td>Neutral</td>\n",
              "    </tr>\n",
              "    <tr>\n",
              "      <th>2</th>\n",
              "      <td>1325689685943996416</td>\n",
              "      <td>The Philippine government is in talks with Ang...</td>\n",
              "      <td>Neutral</td>\n",
              "    </tr>\n",
              "    <tr>\n",
              "      <th>3</th>\n",
              "      <td>1325690517724782593</td>\n",
              "      <td>Care homes to be FIRST to receive coronavirus ...</td>\n",
              "      <td>Neutral</td>\n",
              "    </tr>\n",
              "    <tr>\n",
              "      <th>4</th>\n",
              "      <td>1325697646909132800</td>\n",
              "      <td>This is why thinking that a vaccine is a panac...</td>\n",
              "      <td>AntiVax</td>\n",
              "    </tr>\n",
              "  </tbody>\n",
              "</table>\n",
              "</div>"
            ],
            "text/plain": [
              "                    id  ...    label\n",
              "0  1325682517148569600  ...  AntiVax\n",
              "1  1325684180483600384  ...  Neutral\n",
              "2  1325689685943996416  ...  Neutral\n",
              "3  1325690517724782593  ...  Neutral\n",
              "4  1325697646909132800  ...  AntiVax\n",
              "\n",
              "[5 rows x 3 columns]"
            ]
          },
          "metadata": {
            "tags": []
          },
          "execution_count": 8
        }
      ]
    },
    {
      "cell_type": "code",
      "metadata": {
        "colab": {
          "base_uri": "https://localhost:8080/",
          "height": 845
        },
        "id": "0YadfV0u7i8O",
        "outputId": "7ff203e9-953c-4a0d-c5bc-ab5d40dd7cc1"
      },
      "source": [
        "data = pd.read_csv(\"merged.csv\")\n",
        "# from sklearn.utils import shuffle\n",
        "# our_data = shuffle(our_data)\n",
        "print(data.info())\n",
        "data.head()"
      ],
      "execution_count": null,
      "outputs": [
        {
          "output_type": "stream",
          "text": [
            "<class 'pandas.core.frame.DataFrame'>\n",
            "RangeIndex: 16355 entries, 0 to 16354\n",
            "Data columns (total 15 columns):\n",
            " #   Column                Non-Null Count  Dtype  \n",
            "---  ------                --------------  -----  \n",
            " 0   tweet_id              16355 non-null  float64\n",
            " 1   agreement             16355 non-null  float64\n",
            " 2   num_labels            16355 non-null  int64  \n",
            " 3   label                 16355 non-null  int64  \n",
            " 4   tweet_id.1            16355 non-null  float64\n",
            " 5   screen name           16355 non-null  object \n",
            " 6   user id               16355 non-null  float64\n",
            " 7   reply to screen name  16355 non-null  object \n",
            " 8   retweet count         16355 non-null  float64\n",
            " 9   followers             16355 non-null  float64\n",
            " 10  friends               16355 non-null  float64\n",
            " 11  status count          16355 non-null  float64\n",
            " 12  verified              16355 non-null  bool   \n",
            " 13  protected             16355 non-null  bool   \n",
            " 14  tweet                 16353 non-null  object \n",
            "dtypes: bool(2), float64(8), int64(2), object(3)\n",
            "memory usage: 1.7+ MB\n",
            "None\n"
          ],
          "name": "stdout"
        },
        {
          "output_type": "execute_result",
          "data": {
            "text/html": [
              "<div>\n",
              "<style scoped>\n",
              "    .dataframe tbody tr th:only-of-type {\n",
              "        vertical-align: middle;\n",
              "    }\n",
              "\n",
              "    .dataframe tbody tr th {\n",
              "        vertical-align: top;\n",
              "    }\n",
              "\n",
              "    .dataframe thead th {\n",
              "        text-align: right;\n",
              "    }\n",
              "</style>\n",
              "<table border=\"1\" class=\"dataframe\">\n",
              "  <thead>\n",
              "    <tr style=\"text-align: right;\">\n",
              "      <th></th>\n",
              "      <th>tweet_id</th>\n",
              "      <th>agreement</th>\n",
              "      <th>num_labels</th>\n",
              "      <th>label</th>\n",
              "      <th>tweet_id.1</th>\n",
              "      <th>screen name</th>\n",
              "      <th>user id</th>\n",
              "      <th>reply to screen name</th>\n",
              "      <th>retweet count</th>\n",
              "      <th>followers</th>\n",
              "      <th>friends</th>\n",
              "      <th>status count</th>\n",
              "      <th>verified</th>\n",
              "      <th>protected</th>\n",
              "      <th>tweet</th>\n",
              "    </tr>\n",
              "  </thead>\n",
              "  <tbody>\n",
              "    <tr>\n",
              "      <th>0</th>\n",
              "      <td>7.851350e+17</td>\n",
              "      <td>0.666667</td>\n",
              "      <td>3</td>\n",
              "      <td>0</td>\n",
              "      <td>7.850000e+17</td>\n",
              "      <td>idkag_</td>\n",
              "      <td>1.223791e+09</td>\n",
              "      <td>mandahhplease</td>\n",
              "      <td>0.0</td>\n",
              "      <td>1976.0</td>\n",
              "      <td>781.0</td>\n",
              "      <td>25293.0</td>\n",
              "      <td>False</td>\n",
              "      <td>False</td>\n",
              "      <td>1900 7\\t577 kids died of the measles. 2014 1</td>\n",
              "    </tr>\n",
              "    <tr>\n",
              "      <th>1</th>\n",
              "      <td>7.850980e+17</td>\n",
              "      <td>1.000000</td>\n",
              "      <td>3</td>\n",
              "      <td>1</td>\n",
              "      <td>7.850000e+17</td>\n",
              "      <td>fredhutch</td>\n",
              "      <td>1.664534e+07</td>\n",
              "      <td>None</td>\n",
              "      <td>0.0</td>\n",
              "      <td>33527.0</td>\n",
              "      <td>3522.0</td>\n",
              "      <td>29583.0</td>\n",
              "      <td>True</td>\n",
              "      <td>False</td>\n",
              "      <td>@ragley 1\\t860 children will receive vaccines ...</td>\n",
              "    </tr>\n",
              "    <tr>\n",
              "      <th>2</th>\n",
              "      <td>7.849250e+17</td>\n",
              "      <td>1.000000</td>\n",
              "      <td>3</td>\n",
              "      <td>0</td>\n",
              "      <td>7.850000e+17</td>\n",
              "      <td>trk699b</td>\n",
              "      <td>2.525473e+08</td>\n",
              "      <td>None</td>\n",
              "      <td>0.0</td>\n",
              "      <td>982.0</td>\n",
              "      <td>1093.0</td>\n",
              "      <td>4894.0</td>\n",
              "      <td>False</td>\n",
              "      <td>False</td>\n",
              "      <td>Happy 100th bday Jonas Salk! “@procon_org: The...</td>\n",
              "    </tr>\n",
              "    <tr>\n",
              "      <th>3</th>\n",
              "      <td>7.848450e+17</td>\n",
              "      <td>0.666667</td>\n",
              "      <td>3</td>\n",
              "      <td>0</td>\n",
              "      <td>7.840000e+17</td>\n",
              "      <td>BougieInTheCity</td>\n",
              "      <td>1.268021e+09</td>\n",
              "      <td>None</td>\n",
              "      <td>0.0</td>\n",
              "      <td>29.0</td>\n",
              "      <td>17.0</td>\n",
              "      <td>2653.0</td>\n",
              "      <td>False</td>\n",
              "      <td>False</td>\n",
              "      <td>@dwill6413 @ghosttoast99 I would also add the ...</td>\n",
              "    </tr>\n",
              "    <tr>\n",
              "      <th>4</th>\n",
              "      <td>7.847720e+17</td>\n",
              "      <td>1.000000</td>\n",
              "      <td>3</td>\n",
              "      <td>0</td>\n",
              "      <td>7.830000e+17</td>\n",
              "      <td>LasVegasCP</td>\n",
              "      <td>8.693846e+07</td>\n",
              "      <td>None</td>\n",
              "      <td>0.0</td>\n",
              "      <td>1941.0</td>\n",
              "      <td>8.0</td>\n",
              "      <td>228962.0</td>\n",
              "      <td>False</td>\n",
              "      <td>False</td>\n",
              "      <td>NULL\\tamirkaz</td>\n",
              "    </tr>\n",
              "  </tbody>\n",
              "</table>\n",
              "</div>"
            ],
            "text/plain": [
              "       tweet_id  ...                                              tweet\n",
              "0  7.851350e+17  ...       1900 7\\t577 kids died of the measles. 2014 1\n",
              "1  7.850980e+17  ...  @ragley 1\\t860 children will receive vaccines ...\n",
              "2  7.849250e+17  ...  Happy 100th bday Jonas Salk! “@procon_org: The...\n",
              "3  7.848450e+17  ...  @dwill6413 @ghosttoast99 I would also add the ...\n",
              "4  7.847720e+17  ...                                      NULL\\tamirkaz\n",
              "\n",
              "[5 rows x 15 columns]"
            ]
          },
          "metadata": {
            "tags": []
          },
          "execution_count": 3
        }
      ]
    },
    {
      "cell_type": "code",
      "metadata": {
        "colab": {
          "base_uri": "https://localhost:8080/"
        },
        "id": "LumA9CwlzQ9x",
        "outputId": "63e16869-32be-403d-f43f-856f782e56a6"
      },
      "source": [
        "Antivax_data = pd.read_csv(\"Train_Antivax.csv\")\n",
        "print(Antivax_data.info())\n",
        "Antivax_data.head()"
      ],
      "execution_count": null,
      "outputs": [
        {
          "output_type": "stream",
          "text": [
            "<class 'pandas.core.frame.DataFrame'>\n",
            "RangeIndex: 790 entries, 0 to 789\n",
            "Data columns (total 2 columns):\n",
            " #   Column  Non-Null Count  Dtype \n",
            "---  ------  --------------  ----- \n",
            " 0   tweet   790 non-null    object\n",
            " 1   label   790 non-null    object\n",
            "dtypes: object(2)\n",
            "memory usage: 12.5+ KB\n",
            "None\n"
          ],
          "name": "stdout"
        },
        {
          "output_type": "execute_result",
          "data": {
            "text/html": [
              "<div>\n",
              "<style scoped>\n",
              "    .dataframe tbody tr th:only-of-type {\n",
              "        vertical-align: middle;\n",
              "    }\n",
              "\n",
              "    .dataframe tbody tr th {\n",
              "        vertical-align: top;\n",
              "    }\n",
              "\n",
              "    .dataframe thead th {\n",
              "        text-align: right;\n",
              "    }\n",
              "</style>\n",
              "<table border=\"1\" class=\"dataframe\">\n",
              "  <thead>\n",
              "    <tr style=\"text-align: right;\">\n",
              "      <th></th>\n",
              "      <th>tweet</th>\n",
              "      <th>label</th>\n",
              "    </tr>\n",
              "  </thead>\n",
              "  <tbody>\n",
              "    <tr>\n",
              "      <th>0</th>\n",
              "      <td>Coronavirus: Some Canadians hesitant to take a...</td>\n",
              "      <td>AntiVax</td>\n",
              "    </tr>\n",
              "    <tr>\n",
              "      <th>1</th>\n",
              "      <td>This is why thinking that a vaccine is a panac...</td>\n",
              "      <td>AntiVax</td>\n",
              "    </tr>\n",
              "    <tr>\n",
              "      <th>2</th>\n",
              "      <td>I stand with every true Englishman when I say ...</td>\n",
              "      <td>AntiVax</td>\n",
              "    </tr>\n",
              "    <tr>\n",
              "      <th>3</th>\n",
              "      <td>Effective at WHAT? Is it full of poison and he...</td>\n",
              "      <td>AntiVax</td>\n",
              "    </tr>\n",
              "    <tr>\n",
              "      <th>4</th>\n",
              "      <td>Apparently Pfizer says they developed a corona...</td>\n",
              "      <td>AntiVax</td>\n",
              "    </tr>\n",
              "  </tbody>\n",
              "</table>\n",
              "</div>"
            ],
            "text/plain": [
              "                                               tweet    label\n",
              "0  Coronavirus: Some Canadians hesitant to take a...  AntiVax\n",
              "1  This is why thinking that a vaccine is a panac...  AntiVax\n",
              "2  I stand with every true Englishman when I say ...  AntiVax\n",
              "3  Effective at WHAT? Is it full of poison and he...  AntiVax\n",
              "4  Apparently Pfizer says they developed a corona...  AntiVax"
            ]
          },
          "metadata": {
            "tags": []
          },
          "execution_count": 44
        }
      ]
    },
    {
      "cell_type": "code",
      "metadata": {
        "colab": {
          "base_uri": "https://localhost:8080/"
        },
        "id": "Puglh0ssECd3",
        "outputId": "f29ffbf0-aa94-4de8-d6bb-18e5b7483332"
      },
      "source": [
        "Provax_data = pd.read_csv(\"Train_Provax.csv\")\n",
        "print(Provax_data.info())\n",
        "Provax_data.head()"
      ],
      "execution_count": null,
      "outputs": [
        {
          "output_type": "stream",
          "text": [
            "<class 'pandas.core.frame.DataFrame'>\n",
            "RangeIndex: 991 entries, 0 to 990\n",
            "Data columns (total 2 columns):\n",
            " #   Column  Non-Null Count  Dtype \n",
            "---  ------  --------------  ----- \n",
            " 0   tweet   991 non-null    object\n",
            " 1   label   991 non-null    object\n",
            "dtypes: object(2)\n",
            "memory usage: 15.6+ KB\n",
            "None\n"
          ],
          "name": "stdout"
        },
        {
          "output_type": "execute_result",
          "data": {
            "text/html": [
              "<div>\n",
              "<style scoped>\n",
              "    .dataframe tbody tr th:only-of-type {\n",
              "        vertical-align: middle;\n",
              "    }\n",
              "\n",
              "    .dataframe tbody tr th {\n",
              "        vertical-align: top;\n",
              "    }\n",
              "\n",
              "    .dataframe thead th {\n",
              "        text-align: right;\n",
              "    }\n",
              "</style>\n",
              "<table border=\"1\" class=\"dataframe\">\n",
              "  <thead>\n",
              "    <tr style=\"text-align: right;\">\n",
              "      <th></th>\n",
              "      <th>tweet</th>\n",
              "      <th>label</th>\n",
              "    </tr>\n",
              "  </thead>\n",
              "  <tbody>\n",
              "    <tr>\n",
              "      <th>0</th>\n",
              "      <td>More good news!!! I could get used to this \\nC...</td>\n",
              "      <td>ProVax</td>\n",
              "    </tr>\n",
              "    <tr>\n",
              "      <th>1</th>\n",
              "      <td>Great job by the #Pfizer #vaccine scientists w...</td>\n",
              "      <td>ProVax</td>\n",
              "    </tr>\n",
              "    <tr>\n",
              "      <th>2</th>\n",
              "      <td>I’m only gonna take the vaccine because if my ...</td>\n",
              "      <td>ProVax</td>\n",
              "    </tr>\n",
              "    <tr>\n",
              "      <th>3</th>\n",
              "      <td>I wonder what the logistics of a Covid-19 vacc...</td>\n",
              "      <td>ProVax</td>\n",
              "    </tr>\n",
              "    <tr>\n",
              "      <th>4</th>\n",
              "      <td>great news! but it's not going to be available...</td>\n",
              "      <td>ProVax</td>\n",
              "    </tr>\n",
              "  </tbody>\n",
              "</table>\n",
              "</div>"
            ],
            "text/plain": [
              "                                               tweet   label\n",
              "0  More good news!!! I could get used to this \\nC...  ProVax\n",
              "1  Great job by the #Pfizer #vaccine scientists w...  ProVax\n",
              "2  I’m only gonna take the vaccine because if my ...  ProVax\n",
              "3  I wonder what the logistics of a Covid-19 vacc...  ProVax\n",
              "4  great news! but it's not going to be available...  ProVax"
            ]
          },
          "metadata": {
            "tags": []
          },
          "execution_count": 10
        }
      ]
    },
    {
      "cell_type": "code",
      "metadata": {
        "colab": {
          "base_uri": "https://localhost:8080/"
        },
        "id": "M4mu5zoEEJT-",
        "outputId": "82e5e589-3c69-4b54-b853-70a2259319ad"
      },
      "source": [
        "Neutral_data = pd.read_csv(\"Train_Neutral.csv\")\n",
        "print(Neutral_data.info())\n",
        "Neutral_data.head()"
      ],
      "execution_count": null,
      "outputs": [
        {
          "output_type": "stream",
          "text": [
            "<class 'pandas.core.frame.DataFrame'>\n",
            "RangeIndex: 1010 entries, 0 to 1009\n",
            "Data columns (total 2 columns):\n",
            " #   Column  Non-Null Count  Dtype \n",
            "---  ------  --------------  ----- \n",
            " 0   tweet   1010 non-null   object\n",
            " 1   label   1010 non-null   object\n",
            "dtypes: object(2)\n",
            "memory usage: 15.9+ KB\n",
            "None\n"
          ],
          "name": "stdout"
        },
        {
          "output_type": "execute_result",
          "data": {
            "text/html": [
              "<div>\n",
              "<style scoped>\n",
              "    .dataframe tbody tr th:only-of-type {\n",
              "        vertical-align: middle;\n",
              "    }\n",
              "\n",
              "    .dataframe tbody tr th {\n",
              "        vertical-align: top;\n",
              "    }\n",
              "\n",
              "    .dataframe thead th {\n",
              "        text-align: right;\n",
              "    }\n",
              "</style>\n",
              "<table border=\"1\" class=\"dataframe\">\n",
              "  <thead>\n",
              "    <tr style=\"text-align: right;\">\n",
              "      <th></th>\n",
              "      <th>tweet</th>\n",
              "      <th>label</th>\n",
              "    </tr>\n",
              "  </thead>\n",
              "  <tbody>\n",
              "    <tr>\n",
              "      <th>0</th>\n",
              "      <td>Moderna on track to report late-stage COVID-19...</td>\n",
              "      <td>Neutral</td>\n",
              "    </tr>\n",
              "    <tr>\n",
              "      <th>1</th>\n",
              "      <td>The Philippine government is in talks with Ang...</td>\n",
              "      <td>Neutral</td>\n",
              "    </tr>\n",
              "    <tr>\n",
              "      <th>2</th>\n",
              "      <td>Care homes to be FIRST to receive coronavirus ...</td>\n",
              "      <td>Neutral</td>\n",
              "    </tr>\n",
              "    <tr>\n",
              "      <th>3</th>\n",
              "      <td>Hospitals are reportedly being prepped for a p...</td>\n",
              "      <td>Neutral</td>\n",
              "    </tr>\n",
              "    <tr>\n",
              "      <th>4</th>\n",
              "      <td>Zambia in talks with Russia on accessing Sputn...</td>\n",
              "      <td>Neutral</td>\n",
              "    </tr>\n",
              "  </tbody>\n",
              "</table>\n",
              "</div>"
            ],
            "text/plain": [
              "                                               tweet    label\n",
              "0  Moderna on track to report late-stage COVID-19...  Neutral\n",
              "1  The Philippine government is in talks with Ang...  Neutral\n",
              "2  Care homes to be FIRST to receive coronavirus ...  Neutral\n",
              "3  Hospitals are reportedly being prepped for a p...  Neutral\n",
              "4  Zambia in talks with Russia on accessing Sputn...  Neutral"
            ]
          },
          "metadata": {
            "tags": []
          },
          "execution_count": 11
        }
      ]
    },
    {
      "cell_type": "code",
      "metadata": {
        "colab": {
          "base_uri": "https://localhost:8080/",
          "height": 350
        },
        "id": "7aEHv2pjzrXF",
        "outputId": "696aa949-1e41-46db-c7f6-111e26b55385"
      },
      "source": [
        "import matplotlib.pyplot as plt\n",
        "df = data\n",
        "fig = plt.figure(figsize=(6,5))\n",
        "sentiment_count = df.groupby('label').count()\n",
        "plt.bar(sentiment_count.index.values, sentiment_count['tweet'])\n",
        "plt.xlabel('Label')\n",
        "plt.ylabel('Freq of Tweet')\n",
        "plt.title('Dataset\\'s Label Number')\n",
        "plt.show()"
      ],
      "execution_count": null,
      "outputs": [
        {
          "output_type": "display_data",
          "data": {
            "image/png": "[encoded data removed]",
            "text/plain": [
              "<Figure size 432x360 with 1 Axes>"
            ]
          },
          "metadata": {
            "tags": [],
            "needs_background": "light"
          }
        }
      ]
    },
    {
      "cell_type": "code",
      "metadata": {
        "colab": {
          "base_uri": "https://localhost:8080/"
        },
        "id": "WAqq2XWO0eg1",
        "outputId": "f1e97cc5-e3b5-48df-9532-77211a75c7f9"
      },
      "source": [
        "df.label.value_counts()"
      ],
      "execution_count": null,
      "outputs": [
        {
          "output_type": "execute_result",
          "data": {
            "text/plain": [
              " 0    8058\n",
              " 1    6617\n",
              "-1    1680\n",
              "Name: label, dtype: int64"
            ]
          },
          "metadata": {
            "tags": []
          },
          "execution_count": 5
        }
      ]
    },
    {
      "cell_type": "markdown",
      "metadata": {
        "id": "AmKcpSMP0pQf"
      },
      "source": [
        "# Resampling"
      ]
    },
    {
      "cell_type": "code",
      "metadata": {
        "colab": {
          "base_uri": "https://localhost:8080/"
        },
        "id": "CqwwA1xh0WtH",
        "outputId": "f43e22a0-b154-48a5-e161-dab7ad121fa1"
      },
      "source": [
        "from sklearn.utils import resample\n",
        "#Just make use resampling method for imbalance data\n",
        "fraud0 = df[df['label'] == 0]\n",
        "fraud1 = df[df['label'] == 1]\n",
        "not_fraud = df[df['label'] == -1]\n",
        "\n",
        "# upsample minority\n",
        "fraud_upsampled0 = resample(fraud0,\n",
        "                          replace=True, # sample with replacement\n",
        "                          n_samples=len(fraud1), # match number in majority class\n",
        "                          random_state=27) # reproducible results\n",
        "# fraud_upsampled1 = resample(fraud1,\n",
        "#                           replace=True, # sample with replacement\n",
        "#                           n_samples=len(not_fraud), # match number in majority class\n",
        "#                           random_state=27) # reproducible results\n",
        "\n",
        "# combine majority and upsampled minority\n",
        "df = pd.concat([not_fraud, fraud_upsampled0, fraud1])\n",
        "\n",
        "# check new class counts\n",
        "df.label.value_counts()"
      ],
      "execution_count": null,
      "outputs": [
        {
          "output_type": "execute_result",
          "data": {
            "text/plain": [
              "Series([], Name: label, dtype: int64)"
            ]
          },
          "metadata": {
            "tags": []
          },
          "execution_count": 7
        }
      ]
    },
    {
      "cell_type": "code",
      "metadata": {
        "id": "F6a59VbX1-h-"
      },
      "source": [
        "df.to_csv('resampled_data.csv')"
      ],
      "execution_count": null,
      "outputs": []
    },
    {
      "cell_type": "code",
      "metadata": {
        "id": "elE430kd2uv5"
      },
      "source": [
        "df.label.value_counts()"
      ],
      "execution_count": null,
      "outputs": []
    },
    {
      "cell_type": "code",
      "metadata": {
        "colab": {
          "base_uri": "https://localhost:8080/"
        },
        "id": "lBFMud-l3Qty",
        "outputId": "6f4a71e4-3e2a-48b5-efee-28e32d6ecf4d"
      },
      "source": [
        "# length of all tweets\n",
        "a=[]\n",
        "for i in range(len(df)):\n",
        "  a.append(len(df['tweet'].iloc[i].split()))\n",
        "max(a)"
      ],
      "execution_count": null,
      "outputs": [
        {
          "output_type": "execute_result",
          "data": {
            "text/plain": [
              "59"
            ]
          },
          "metadata": {
            "tags": []
          },
          "execution_count": 35
        }
      ]
    },
    {
      "cell_type": "markdown",
      "metadata": {
        "id": "ms6Yj0m_Dcou"
      },
      "source": [
        "# Dowload more info from Twitter"
      ]
    },
    {
      "cell_type": "code",
      "metadata": {
        "id": "55MzfDlV3z6k"
      },
      "source": [
        "pip install python-twitter"
      ],
      "execution_count": null,
      "outputs": []
    },
    {
      "cell_type": "code",
      "metadata": {
        "id": "5Spu0Sq3xoyU"
      },
      "source": [
        "import tweepy\n",
        "from tweepy import *\n",
        " \n",
        "import pandas as pd\n",
        "import csv\n",
        "import re \n",
        "import string\n",
        "# import preprocessor as p\n",
        "\n",
        "# mohit sir\n",
        "# access_key=\"3650385738-4EjEFRCqLVEPo7kHc68GnTGx8wqR6HOzqGKWNwu\"\n",
        "# access_secret=\"2oUG7dQzkUkjiiny812h5nMIcFY6kw1g1M35TvkkAnBC9\"\n",
        "# consumer_key = \"LgYTSssW7lixkOqro8h0MWMVb\"\n",
        "# consumer_secret=\"XERDrvUTRJFPGHMIQGmXeB2PYUCjHwEHACA9w6h2NZTMQBkK6Y\"\n",
        " \n",
        "# shivangi\n",
        "consumer_key = \"VVyFBTE1QgYCtE5M7K8mOQW4K\"\n",
        "consumer_secret = \"PrOuAoseiDapPp8Sex7QQaW7Ki3EvujE13i1TiSFpPyhIKxTA6\"\n",
        "access_key= \"905153129582354432-iJT7Fg7y1maFEsruuwhlBq021PPXPUK\"\n",
        "access_secret = \"Y3ARKf56wMxodkFkcYTtOVKez88iKcithz00L3F3ndGS6\"\n",
        "auth = tweepy.OAuthHandler(consumer_key, consumer_secret)\n",
        "auth.set_access_token(access_key, access_secret)\n",
        "api = tweepy.API(auth,wait_on_rate_limit=True,wait_on_rate_limit_notify=True, compression=True)"
      ],
      "execution_count": null,
      "outputs": []
    },
    {
      "cell_type": "code",
      "metadata": {
        "id": "fjUK4_Maxuth"
      },
      "source": [
        "Id = list(our_data.id.values)\n",
        "Id[:10]"
      ],
      "execution_count": null,
      "outputs": []
    },
    {
      "cell_type": "code",
      "metadata": {
        "id": "WtQ4cp1EyIFY"
      },
      "source": [
        "tweet = open(\"Tweet.csv\",'a')\n",
        "first_hop_count=0\n",
        "for id in Id:\n",
        "  try:\n",
        "    first_hop_count=first_hop_count +1\n",
        "    status = api.get_status(id)\n",
        "    tweet.write(str(status.user.screen_name)+\",\")\n",
        "    # tweet.write(str(status.user.id)+\",\")\n",
        "    # tweet.write(str(status.created_at)+\",\")\n",
        "    # tweet.write(status.text+\",\")\n",
        "    # tweet.write(str(status.entities)+\",\")\n",
        "    # tweet.write(status.source+\",\")\n",
        "    # tweet.write(status.source_url+\",\")\n",
        "    # tweet.write(str(status.in_reply_to_status_id_str)+\",\")\n",
        "    # tweet.write(str(status.in_reply_to_user_id)+\",\")\n",
        "    tweet.write(str(status.in_reply_to_screen_name)+\",\")\n",
        "    tweet.write(str(status.retweet_count)+\",\")\n",
        "    # tweet.write(str(status.favorite_count)+\",\")\n",
        "    # tweet.write(status.user.description+\",\")\n",
        "    tweet.write(str(status.user.followers_count)+\",\")\n",
        "    tweet.write(str(status.user.friends_count)+\",\")\n",
        "    tweet.write(str(status.user.statuses_count)+\",\")\n",
        "    tweet.write(str(status.user.verified)+\",\")\n",
        "    # tweet.write(str(status.user.protected)+\",\")\n",
        "    # tweet.write(str(status.user.entities)+\",\")\n",
        "    tweet.write(str(status.user.name))\n",
        "    tweet.write('\\n')\n",
        "    tweet.flush()\n",
        "    print(first_hop_count)\n",
        "  except:\n",
        "    print(\"user not available\")\n",
        "    continue\n",
        "tweet.close()"
      ],
      "execution_count": null,
      "outputs": []
    },
    {
      "cell_type": "markdown",
      "metadata": {
        "id": "_9oGF0DJDjmM"
      },
      "source": [
        "# length of tweets in each class"
      ]
    },
    {
      "cell_type": "code",
      "metadata": {
        "colab": {
          "base_uri": "https://localhost:8080/"
        },
        "id": "OXlhlb98Em3K",
        "outputId": "24bedc9a-ac54-470e-cd07-10afae1aa8e3"
      },
      "source": [
        "# determining length of each tweet of each class --> plot some histogram\n",
        "# length of all tweets\n",
        "df = Antivax_data\n",
        "a=[]\n",
        "for i in range(len(df)):\n",
        "  a.append(len(Antivax_data['tweet'].iloc[i].split()))\n",
        "print(max(a))\n",
        "df = Provax_data\n",
        "b=[]\n",
        "for i in range(len(df)):\n",
        "  b.append(len(df['tweet'].iloc[i].split()))\n",
        "print(max(b))\n",
        "df = Neutral_data\n",
        "c=[]\n",
        "for i in range(len(df)):\n",
        "  c.append(len(df['tweet'].iloc[i].split()))\n",
        "print(max(c))"
      ],
      "execution_count": null,
      "outputs": [
        {
          "output_type": "stream",
          "text": [
            "57\n",
            "59\n",
            "53\n"
          ],
          "name": "stdout"
        }
      ]
    },
    {
      "cell_type": "code",
      "metadata": {
        "colab": {
          "base_uri": "https://localhost:8080/"
        },
        "id": "XjISwblSG-BW",
        "outputId": "511c69f6-8224-4aad-a01a-6e27f3b82afb"
      },
      "source": [
        "import numpy as np\n",
        "import matplotlib.pyplot as plt\n",
        "from numpy import *\n",
        "plt.hist(a,bins= 60, label = \"AntiVax\")\n",
        "plt.legend()\n",
        "plt.xlabel('Length')\n",
        "plt.ylabel('Frequecy')\n",
        "plt.title('Length Histogram')\n",
        "plt.show()\n",
        "plt.hist(b,bins= 60, label = \"ProVax\")\n",
        "plt.legend()\n",
        "plt.xlabel('Length')\n",
        "plt.ylabel('Frequecy')\n",
        "plt.title('Length Histogram')\n",
        "plt.show()\n",
        "plt.hist(c, bins= 60, label = \"Neutral\")\n",
        "plt.legend()\n",
        "plt.xlabel('Length')\n",
        "plt.ylabel('Frequecy')\n",
        "plt.title('Length Histogram')\n",
        "plt.show()"
      ],
      "execution_count": null,
      "outputs": [
        {
          "output_type": "display_data",
          "data": {
            "image/png": "[encoded data removed]",
            "text/plain": [
              "<Figure size 432x288 with 1 Axes>"
            ]
          },
          "metadata": {
            "tags": [],
            "needs_background": "light"
          }
        },
        {
          "output_type": "display_data",
          "data": {
            "image/png": "[encoded data removed]",
            "text/plain": [
              "<Figure size 432x288 with 1 Axes>"
            ]
          },
          "metadata": {
            "tags": [],
            "needs_background": "light"
          }
        },
        {
          "output_type": "display_data",
          "data": {
            "image/png": "[encoded data removed]",
            "text/plain": [
              "<Figure size 432x288 with 1 Axes>"
            ]
          },
          "metadata": {
            "tags": [],
            "needs_background": "light"
          }
        }
      ]
    },
    {
      "cell_type": "code",
      "metadata": {
        "colab": {
          "base_uri": "https://localhost:8080/"
        },
        "id": "9hgafj2WcvGg",
        "outputId": "59332850-ddc6-4758-a6e6-cc9ca3f2e1fc"
      },
      "source": [
        "# Assign colors for each airline and the names\n",
        "colors = ['#E69F00', '#56B4E9', '#F0E442']\n",
        "names = [\"AntiVax\",\"ProVax\",\"Neutral\"]\n",
        "         \n",
        "# Make the histogram using a list of lists\n",
        "# Normalize the flights and assign colors and names\n",
        "plt.hist([a,b,c], bins = int(60),\n",
        "         color = colors, label=names)\n",
        "\n",
        "# Plot formatting\n",
        "plt.legend()\n",
        "plt.xlabel('Length')\n",
        "plt.ylabel('Frequecy')\n",
        "plt.title('Length Histogram')"
      ],
      "execution_count": null,
      "outputs": [
        {
          "output_type": "stream",
          "text": [
            "/usr/local/lib/python3.7/dist-packages/numpy/core/_asarray.py:83: VisibleDeprecationWarning: Creating an ndarray from ragged nested sequences (which is a list-or-tuple of lists-or-tuples-or ndarrays with different lengths or shapes) is deprecated. If you meant to do this, you must specify 'dtype=object' when creating the ndarray\n",
            "  return array(a, dtype, copy=False, order=order)\n"
          ],
          "name": "stderr"
        },
        {
          "output_type": "execute_result",
          "data": {
            "text/plain": [
              "Text(0.5, 1.0, 'Length Histogram')"
            ]
          },
          "metadata": {
            "tags": []
          },
          "execution_count": 58
        },
        {
          "output_type": "display_data",
          "data": {
            "image/png": "[encoded data removed]",
            "text/plain": [
              "<Figure size 432x288 with 1 Axes>"
            ]
          },
          "metadata": {
            "tags": [],
            "needs_background": "light"
          }
        }
      ]
    },
    {
      "cell_type": "markdown",
      "metadata": {
        "id": "40izhYxW3KuC"
      },
      "source": [
        "# More Tweet Data"
      ]
    },
    {
      "cell_type": "code",
      "metadata": {
        "colab": {
          "base_uri": "https://localhost:8080/"
        },
        "id": "ca-tVYo-uqYS",
        "outputId": "ca9ac98a-6fd6-443f-b054-3b0c529f2d75"
      },
      "source": [
        "Tweet_df = pd.read_csv(\"TweetData.csv\")\n",
        "Tweet_df.info()"
      ],
      "execution_count": null,
      "outputs": [
        {
          "output_type": "stream",
          "text": [
            "<class 'pandas.core.frame.DataFrame'>\n",
            "RangeIndex: 2792 entries, 0 to 2791\n",
            "Data columns (total 9 columns):\n",
            " #   Column           Non-Null Count  Dtype  \n",
            "---  ------           --------------  -----  \n",
            " 0   srno             2792 non-null   object \n",
            " 1   label            2792 non-null   object \n",
            " 2   id               2792 non-null   float64\n",
            " 3   tweet            2792 non-null   object \n",
            " 4   followers_count  2706 non-null   float64\n",
            " 5   friends_count    2706 non-null   float64\n",
            " 6   statuses_count   2706 non-null   float64\n",
            " 7   verified         2706 non-null   object \n",
            " 8   name             2706 non-null   object \n",
            "dtypes: float64(4), object(5)\n",
            "memory usage: 196.4+ KB\n"
          ],
          "name": "stdout"
        }
      ]
    },
    {
      "cell_type": "code",
      "metadata": {
        "colab": {
          "base_uri": "https://localhost:8080/"
        },
        "id": "HsgVIvPk3QpI",
        "outputId": "a06f3d26-5292-419f-e09a-5d662f0e08d9"
      },
      "source": [
        "Tweet_df_available = Tweet_df[:2706]\n",
        "Tweet_df_available"
      ],
      "execution_count": null,
      "outputs": [
        {
          "output_type": "execute_result",
          "data": {
            "text/html": [
              "<div>\n",
              "<style scoped>\n",
              "    .dataframe tbody tr th:only-of-type {\n",
              "        vertical-align: middle;\n",
              "    }\n",
              "\n",
              "    .dataframe tbody tr th {\n",
              "        vertical-align: top;\n",
              "    }\n",
              "\n",
              "    .dataframe thead th {\n",
              "        text-align: right;\n",
              "    }\n",
              "</style>\n",
              "<table border=\"1\" class=\"dataframe\">\n",
              "  <thead>\n",
              "    <tr style=\"text-align: right;\">\n",
              "      <th></th>\n",
              "      <th>srno</th>\n",
              "      <th>label</th>\n",
              "      <th>id</th>\n",
              "      <th>tweet</th>\n",
              "      <th>followers_count</th>\n",
              "      <th>friends_count</th>\n",
              "      <th>statuses_count</th>\n",
              "      <th>verified</th>\n",
              "      <th>name</th>\n",
              "    </tr>\n",
              "  </thead>\n",
              "  <tbody>\n",
              "    <tr>\n",
              "      <th>0</th>\n",
              "      <td>1</td>\n",
              "      <td>AntiVax</td>\n",
              "      <td>1.325680e+18</td>\n",
              "      <td>Coronavirus: Some Canadians hesitant to take a...</td>\n",
              "      <td>281.0</td>\n",
              "      <td>1168.0</td>\n",
              "      <td>254712.0</td>\n",
              "      <td>False</td>\n",
              "      <td>Today's news summary</td>\n",
              "    </tr>\n",
              "    <tr>\n",
              "      <th>1</th>\n",
              "      <td>2</td>\n",
              "      <td>Neutral</td>\n",
              "      <td>1.325680e+18</td>\n",
              "      <td>Moderna on track to report late-stage COVID-19...</td>\n",
              "      <td>3246.0</td>\n",
              "      <td>3.0</td>\n",
              "      <td>401443.0</td>\n",
              "      <td>False</td>\n",
              "      <td>Jewish Community</td>\n",
              "    </tr>\n",
              "    <tr>\n",
              "      <th>2</th>\n",
              "      <td>3</td>\n",
              "      <td>Neutral</td>\n",
              "      <td>1.325690e+18</td>\n",
              "      <td>The Philippine government is in talks with Ang...</td>\n",
              "      <td>3244351.0</td>\n",
              "      <td>1828.0</td>\n",
              "      <td>972999.0</td>\n",
              "      <td>True</td>\n",
              "      <td>Inquirer</td>\n",
              "    </tr>\n",
              "    <tr>\n",
              "      <th>3</th>\n",
              "      <td>4</td>\n",
              "      <td>Neutral</td>\n",
              "      <td>1.325690e+18</td>\n",
              "      <td>Care homes to be FIRST to receive coronavirus ...</td>\n",
              "      <td>196.0</td>\n",
              "      <td>117.0</td>\n",
              "      <td>146446.0</td>\n",
              "      <td>False</td>\n",
              "      <td>Newslanes</td>\n",
              "    </tr>\n",
              "    <tr>\n",
              "      <th>4</th>\n",
              "      <td>5</td>\n",
              "      <td>AntiVax</td>\n",
              "      <td>1.325700e+18</td>\n",
              "      <td>This is why thinking that a vaccine is a panac...</td>\n",
              "      <td>376.0</td>\n",
              "      <td>560.0</td>\n",
              "      <td>6336.0</td>\n",
              "      <td>False</td>\n",
              "      <td>suphil Philipose</td>\n",
              "    </tr>\n",
              "    <tr>\n",
              "      <th>...</th>\n",
              "      <td>...</td>\n",
              "      <td>...</td>\n",
              "      <td>...</td>\n",
              "      <td>...</td>\n",
              "      <td>...</td>\n",
              "      <td>...</td>\n",
              "      <td>...</td>\n",
              "      <td>...</td>\n",
              "      <td>...</td>\n",
              "    </tr>\n",
              "    <tr>\n",
              "      <th>2701</th>\n",
              "      <td>2788</td>\n",
              "      <td>Neutral</td>\n",
              "      <td>1.325970e+18</td>\n",
              "      <td>If a COVID-19 vaccine is effective it will be ...</td>\n",
              "      <td>3237.0</td>\n",
              "      <td>656.0</td>\n",
              "      <td>55616.0</td>\n",
              "      <td>False</td>\n",
              "      <td>Preston Leigh</td>\n",
              "    </tr>\n",
              "    <tr>\n",
              "      <th>2702</th>\n",
              "      <td>2789</td>\n",
              "      <td>Neutral</td>\n",
              "      <td>1.325770e+18</td>\n",
              "      <td>Pfizer claims coronavirus vaccine success, pla...</td>\n",
              "      <td>360.0</td>\n",
              "      <td>1702.0</td>\n",
              "      <td>31668.0</td>\n",
              "      <td>False</td>\n",
              "      <td>Felipe Niño</td>\n",
              "    </tr>\n",
              "    <tr>\n",
              "      <th>2703</th>\n",
              "      <td>2790</td>\n",
              "      <td>ProVax</td>\n",
              "      <td>1.325780e+18</td>\n",
              "      <td>pump dat #COVID19 vaccine 💪😷🔥 https://t.co/Dna...</td>\n",
              "      <td>6640.0</td>\n",
              "      <td>6910.0</td>\n",
              "      <td>98935.0</td>\n",
              "      <td>False</td>\n",
              "      <td>~C4Chaos🔆</td>\n",
              "    </tr>\n",
              "    <tr>\n",
              "      <th>2704</th>\n",
              "      <td>2791</td>\n",
              "      <td>AntiVax</td>\n",
              "      <td>1.325990e+18</td>\n",
              "      <td>LOL, not a chance I would get any vaccine let ...</td>\n",
              "      <td>41.0</td>\n",
              "      <td>149.0</td>\n",
              "      <td>488.0</td>\n",
              "      <td>False</td>\n",
              "      <td>We Tried To Warn You</td>\n",
              "    </tr>\n",
              "    <tr>\n",
              "      <th>2705</th>\n",
              "      <td>2792</td>\n",
              "      <td>AntiVax</td>\n",
              "      <td>1.333150e+18</td>\n",
              "      <td>@michellemalkin https://t.co/v38d5EkSQC articl...</td>\n",
              "      <td>7.0</td>\n",
              "      <td>109.0</td>\n",
              "      <td>544.0</td>\n",
              "      <td>False</td>\n",
              "      <td>Michael L Voden</td>\n",
              "    </tr>\n",
              "  </tbody>\n",
              "</table>\n",
              "<p>2706 rows × 9 columns</p>\n",
              "</div>"
            ],
            "text/plain": [
              "      srno    label  ...  verified                  name\n",
              "0        1  AntiVax  ...     False  Today's news summary\n",
              "1        2  Neutral  ...     False      Jewish Community\n",
              "2        3  Neutral  ...      True              Inquirer\n",
              "3        4  Neutral  ...     False             Newslanes\n",
              "4        5  AntiVax  ...     False      suphil Philipose\n",
              "...    ...      ...  ...       ...                   ...\n",
              "2701  2788  Neutral  ...     False         Preston Leigh\n",
              "2702  2789  Neutral  ...     False           Felipe Niño\n",
              "2703  2790   ProVax  ...     False             ~C4Chaos🔆\n",
              "2704  2791  AntiVax  ...     False  We Tried To Warn You\n",
              "2705  2792  AntiVax  ...     False       Michael L Voden\n",
              "\n",
              "[2706 rows x 9 columns]"
            ]
          },
          "metadata": {
            "tags": []
          },
          "execution_count": 83
        }
      ]
    },
    {
      "cell_type": "code",
      "metadata": {
        "colab": {
          "base_uri": "https://localhost:8080/"
        },
        "id": "oX_wKpL03zLr",
        "outputId": "970f9ed3-59fa-4d2f-e1a1-91e0bffc85ed"
      },
      "source": [
        "Tweet_df_unavailable = Tweet_df[2707:]\n",
        "Tweet_df_unavailable"
      ],
      "execution_count": null,
      "outputs": [
        {
          "output_type": "execute_result",
          "data": {
            "text/html": [
              "<div>\n",
              "<style scoped>\n",
              "    .dataframe tbody tr th:only-of-type {\n",
              "        vertical-align: middle;\n",
              "    }\n",
              "\n",
              "    .dataframe tbody tr th {\n",
              "        vertical-align: top;\n",
              "    }\n",
              "\n",
              "    .dataframe thead th {\n",
              "        text-align: right;\n",
              "    }\n",
              "</style>\n",
              "<table border=\"1\" class=\"dataframe\">\n",
              "  <thead>\n",
              "    <tr style=\"text-align: right;\">\n",
              "      <th></th>\n",
              "      <th>srno</th>\n",
              "      <th>label</th>\n",
              "      <th>id</th>\n",
              "      <th>tweet</th>\n",
              "      <th>followers_count</th>\n",
              "      <th>friends_count</th>\n",
              "      <th>statuses_count</th>\n",
              "      <th>verified</th>\n",
              "      <th>name</th>\n",
              "    </tr>\n",
              "  </thead>\n",
              "  <tbody>\n",
              "    <tr>\n",
              "      <th>2707</th>\n",
              "      <td>user not available</td>\n",
              "      <td>AntiVax</td>\n",
              "      <td>1.326180e+18</td>\n",
              "      <td>@sensibilisfella Covid19 has a 99.9% survival ...</td>\n",
              "      <td>NaN</td>\n",
              "      <td>NaN</td>\n",
              "      <td>NaN</td>\n",
              "      <td>NaN</td>\n",
              "      <td>NaN</td>\n",
              "    </tr>\n",
              "    <tr>\n",
              "      <th>2708</th>\n",
              "      <td>user not available</td>\n",
              "      <td>AntiVax</td>\n",
              "      <td>1.328850e+18</td>\n",
              "      <td>I’m not an anti-vax but I’m nervous to get Ell...</td>\n",
              "      <td>NaN</td>\n",
              "      <td>NaN</td>\n",
              "      <td>NaN</td>\n",
              "      <td>NaN</td>\n",
              "      <td>NaN</td>\n",
              "    </tr>\n",
              "    <tr>\n",
              "      <th>2709</th>\n",
              "      <td>user not available</td>\n",
              "      <td>ProVax</td>\n",
              "      <td>1.329080e+18</td>\n",
              "      <td>I am going to drink the Coronavirus vaccine</td>\n",
              "      <td>NaN</td>\n",
              "      <td>NaN</td>\n",
              "      <td>NaN</td>\n",
              "      <td>NaN</td>\n",
              "      <td>NaN</td>\n",
              "    </tr>\n",
              "    <tr>\n",
              "      <th>2710</th>\n",
              "      <td>user not available</td>\n",
              "      <td>AntiVax</td>\n",
              "      <td>1.325790e+18</td>\n",
              "      <td>I'm not a big conspiracy person and honestly e...</td>\n",
              "      <td>NaN</td>\n",
              "      <td>NaN</td>\n",
              "      <td>NaN</td>\n",
              "      <td>NaN</td>\n",
              "      <td>NaN</td>\n",
              "    </tr>\n",
              "    <tr>\n",
              "      <th>2711</th>\n",
              "      <td>user not available</td>\n",
              "      <td>ProVax</td>\n",
              "      <td>1.326130e+18</td>\n",
              "      <td>Same vibes. Seriously good news about a vaccin...</td>\n",
              "      <td>NaN</td>\n",
              "      <td>NaN</td>\n",
              "      <td>NaN</td>\n",
              "      <td>NaN</td>\n",
              "      <td>NaN</td>\n",
              "    </tr>\n",
              "    <tr>\n",
              "      <th>...</th>\n",
              "      <td>...</td>\n",
              "      <td>...</td>\n",
              "      <td>...</td>\n",
              "      <td>...</td>\n",
              "      <td>...</td>\n",
              "      <td>...</td>\n",
              "      <td>...</td>\n",
              "      <td>...</td>\n",
              "      <td>...</td>\n",
              "    </tr>\n",
              "    <tr>\n",
              "      <th>2787</th>\n",
              "      <td>user not available</td>\n",
              "      <td>ProVax</td>\n",
              "      <td>1.332820e+18</td>\n",
              "      <td>@RepsForBiden I will take a coronavirus vaccin...</td>\n",
              "      <td>NaN</td>\n",
              "      <td>NaN</td>\n",
              "      <td>NaN</td>\n",
              "      <td>NaN</td>\n",
              "      <td>NaN</td>\n",
              "    </tr>\n",
              "    <tr>\n",
              "      <th>2788</th>\n",
              "      <td>user not available</td>\n",
              "      <td>AntiVax</td>\n",
              "      <td>1.325880e+18</td>\n",
              "      <td>Who in their right mind would want a vaccine a...</td>\n",
              "      <td>NaN</td>\n",
              "      <td>NaN</td>\n",
              "      <td>NaN</td>\n",
              "      <td>NaN</td>\n",
              "      <td>NaN</td>\n",
              "    </tr>\n",
              "    <tr>\n",
              "      <th>2789</th>\n",
              "      <td>user not available</td>\n",
              "      <td>AntiVax</td>\n",
              "      <td>1.325780e+18</td>\n",
              "      <td>no thanks i'm not taking the antichrist vaccin...</td>\n",
              "      <td>NaN</td>\n",
              "      <td>NaN</td>\n",
              "      <td>NaN</td>\n",
              "      <td>NaN</td>\n",
              "      <td>NaN</td>\n",
              "    </tr>\n",
              "    <tr>\n",
              "      <th>2790</th>\n",
              "      <td>user not available</td>\n",
              "      <td>ProVax</td>\n",
              "      <td>1.325810e+18</td>\n",
              "      <td>People!!! Seriously, there is still no 100% va...</td>\n",
              "      <td>NaN</td>\n",
              "      <td>NaN</td>\n",
              "      <td>NaN</td>\n",
              "      <td>NaN</td>\n",
              "      <td>NaN</td>\n",
              "    </tr>\n",
              "    <tr>\n",
              "      <th>2791</th>\n",
              "      <td>user not available</td>\n",
              "      <td>AntiVax</td>\n",
              "      <td>1.325850e+18</td>\n",
              "      <td>Not an expert and call me a skeptic but a 90% ...</td>\n",
              "      <td>NaN</td>\n",
              "      <td>NaN</td>\n",
              "      <td>NaN</td>\n",
              "      <td>NaN</td>\n",
              "      <td>NaN</td>\n",
              "    </tr>\n",
              "  </tbody>\n",
              "</table>\n",
              "<p>85 rows × 9 columns</p>\n",
              "</div>"
            ],
            "text/plain": [
              "                    srno    label           id   ... statuses_count  verified  name\n",
              "2707  user not available  AntiVax  1.326180e+18  ...            NaN       NaN   NaN\n",
              "2708  user not available  AntiVax  1.328850e+18  ...            NaN       NaN   NaN\n",
              "2709  user not available   ProVax  1.329080e+18  ...            NaN       NaN   NaN\n",
              "2710  user not available  AntiVax  1.325790e+18  ...            NaN       NaN   NaN\n",
              "2711  user not available   ProVax  1.326130e+18  ...            NaN       NaN   NaN\n",
              "...                  ...      ...           ...  ...            ...       ...   ...\n",
              "2787  user not available   ProVax  1.332820e+18  ...            NaN       NaN   NaN\n",
              "2788  user not available  AntiVax  1.325880e+18  ...            NaN       NaN   NaN\n",
              "2789  user not available  AntiVax  1.325780e+18  ...            NaN       NaN   NaN\n",
              "2790  user not available   ProVax  1.325810e+18  ...            NaN       NaN   NaN\n",
              "2791  user not available  AntiVax  1.325850e+18  ...            NaN       NaN   NaN\n",
              "\n",
              "[85 rows x 9 columns]"
            ]
          },
          "metadata": {
            "tags": []
          },
          "execution_count": 86
        }
      ]
    },
    {
      "cell_type": "code",
      "metadata": {
        "colab": {
          "base_uri": "https://localhost:8080/"
        },
        "id": "9FHKDM1l4VLQ",
        "outputId": "b6655638-ea59-4245-ba48-1e8fbc715d40"
      },
      "source": [
        "Tweet_df_unavailable.label.value_counts()"
      ],
      "execution_count": null,
      "outputs": [
        {
          "output_type": "execute_result",
          "data": {
            "text/plain": [
              "AntiVax    38\n",
              "ProVax     26\n",
              "Neutral    21\n",
              "Name: label, dtype: int64"
            ]
          },
          "metadata": {
            "tags": []
          },
          "execution_count": 87
        }
      ]
    },
    {
      "cell_type": "code",
      "metadata": {
        "colab": {
          "base_uri": "https://localhost:8080/"
        },
        "id": "zLlzxbva4ZwW",
        "outputId": "ab64fe26-2f6f-4e00-9684-9ec9298bd80f"
      },
      "source": [
        "Tweet_df_available.label.value_counts()"
      ],
      "execution_count": null,
      "outputs": [
        {
          "output_type": "execute_result",
          "data": {
            "text/plain": [
              "Neutral    989\n",
              "ProVax     965\n",
              "AntiVax    752\n",
              "Name: label, dtype: int64"
            ]
          },
          "metadata": {
            "tags": []
          },
          "execution_count": 88
        }
      ]
    },
    {
      "cell_type": "code",
      "metadata": {
        "colab": {
          "base_uri": "https://localhost:8080/"
        },
        "id": "JxZIRmE157JL",
        "outputId": "8d5a9839-8a58-4899-a576-257040134f96"
      },
      "source": [
        "Tweet_df_available.verified.value_counts()"
      ],
      "execution_count": null,
      "outputs": [
        {
          "output_type": "execute_result",
          "data": {
            "text/plain": [
              "False    2434\n",
              "True      272\n",
              "Name: verified, dtype: int64"
            ]
          },
          "metadata": {
            "tags": []
          },
          "execution_count": 89
        }
      ]
    },
    {
      "cell_type": "markdown",
      "metadata": {
        "id": "eLTCy1617a91"
      },
      "source": [
        "### **Verified Accounts moslty post Neutral or ProVax Tweets and Very less AntiVax Tweets**"
      ]
    },
    {
      "cell_type": "code",
      "metadata": {
        "colab": {
          "base_uri": "https://localhost:8080/"
        },
        "id": "fre-z_ja5Zch",
        "outputId": "963565ca-e20e-41cf-a5a6-f0e60e0c5d8a"
      },
      "source": [
        "Neutral, AntiVax, ProVax, count =0,0, 0,0\n",
        "for i in range(len(Tweet_df_available)):\n",
        "  if Tweet_df_available['verified'].iloc[i] == True:\n",
        "    if Tweet_df_available['label'].iloc[i] == \"Neutral\":\n",
        "      Neutral = Neutral + 1\n",
        "    elif Tweet_df_available['label'].iloc[i] == \"AntiVax\":\n",
        "      AntiVax = AntiVax + 1\n",
        "    elif Tweet_df_available['label'].iloc[i] == \"ProVax\":\n",
        "      ProVax = ProVax + 1\n",
        "  count = count + 1\n",
        "print(Neutral, AntiVax, ProVax, count)"
      ],
      "execution_count": null,
      "outputs": [
        {
          "output_type": "stream",
          "text": [
            "169 6 97 2706\n"
          ],
          "name": "stdout"
        }
      ]
    },
    {
      "cell_type": "code",
      "metadata": {
        "colab": {
          "base_uri": "https://localhost:8080/"
        },
        "id": "EQKv_JPk8Ofg",
        "outputId": "958f2f20-1a6f-47cb-b93e-6d5801bf5b91"
      },
      "source": [
        "Neutral, AntiVax, ProVax, count =0,0, 0,0\n",
        "Tweet_df_available = df\n",
        "for i in range(len(df)):\n",
        "  if Tweet_df_available['verified'].iloc[i] == True:\n",
        "    if Tweet_df_available['label'].iloc[i] == 0:\n",
        "      Neutral = Neutral + 1\n",
        "    elif Tweet_df_available['label'].iloc[i] == -1:\n",
        "      AntiVax = AntiVax + 1\n",
        "    elif Tweet_df_available['label'].iloc[i] == 1:\n",
        "      ProVax = ProVax + 1\n",
        "  count = count + 1\n",
        "print(Neutral, AntiVax, ProVax, count)"
      ],
      "execution_count": null,
      "outputs": [
        {
          "output_type": "stream",
          "text": [
            "259 50 215 16355\n"
          ],
          "name": "stdout"
        }
      ]
    },
    {
      "cell_type": "code",
      "metadata": {
        "colab": {
          "base_uri": "https://localhost:8080/",
          "height": 265
        },
        "id": "RfMFumhG9XpL",
        "outputId": "affb8767-6f19-4f75-a3df-ac2ed15ccf6b"
      },
      "source": [
        "# Piechart\n",
        "import matplotlib.pyplot as plt\n",
        "\n",
        "# Pie chart, where the slices will be ordered and plotted counter-clockwise:\n",
        "labels = 'Neutral', 'AntiVax', 'ProVax'\n",
        "sizes = [259, 50, 215]\n",
        "explode = (0, 0, 0)  \n",
        "\n",
        "fig1, ax1 = plt.subplots()\n",
        "ax1.pie(sizes, explode=explode, labels=labels, autopct='%1.1f%%',\n",
        "        shadow=True, startangle=90)\n",
        "ax1.axis('equal')  # Equal aspect ratio ensures that pie is drawn as a circle.\n",
        "plt.title(\"Distribution of Tweets by Verified Accounts\")\n",
        "plt.show()"
      ],
      "execution_count": null,
      "outputs": [
        {
          "output_type": "display_data",
          "data": {
            "image/png": "[encoded data removed]",
            "text/plain": [
              "<Figure size 432x288 with 1 Axes>"
            ]
          },
          "metadata": {
            "tags": []
          }
        }
      ]
    },
    {
      "cell_type": "markdown",
      "metadata": {
        "id": "pwI_jkSI9fGQ"
      },
      "source": [
        "### People with more than 10000 followers, tends to tweet more Neutral and ProVax Tweets "
      ]
    },
    {
      "cell_type": "code",
      "metadata": {
        "colab": {
          "base_uri": "https://localhost:8080/"
        },
        "id": "gQx-mrYv7rU1",
        "outputId": "ecb2ded0-32f6-469b-c4b2-5a0fefa72b62"
      },
      "source": [
        "Neutral, AntiVax, ProVax, count =0,0, 0,0\n",
        "for i in range(len(Tweet_df_available)):\n",
        "  if Tweet_df_available['followers_count'].iloc[i] > 10000:\n",
        "    if Tweet_df_available['label'].iloc[i] == \"Neutral\":\n",
        "      Neutral = Neutral + 1\n",
        "    elif Tweet_df_available['label'].iloc[i] == \"AntiVax\":\n",
        "      AntiVax = AntiVax + 1\n",
        "    elif Tweet_df_available['label'].iloc[i] == \"ProVax\":\n",
        "      ProVax = ProVax + 1\n",
        "    count = count + 1\n",
        "print(Neutral, AntiVax, ProVax, count)"
      ],
      "execution_count": null,
      "outputs": [
        {
          "output_type": "stream",
          "text": [
            "215 34 121 370\n"
          ],
          "name": "stdout"
        }
      ]
    },
    {
      "cell_type": "code",
      "metadata": {
        "colab": {
          "base_uri": "https://localhost:8080/"
        },
        "id": "0jTlNXpl_Wu8",
        "outputId": "746d14ff-86ee-4eaf-f0fb-46b519f90015"
      },
      "source": [
        "# Piechart\n",
        "import matplotlib.pyplot as plt\n",
        "\n",
        "# Pie chart, where the slices will be ordered and plotted counter-clockwise:\n",
        "labels = 'Neutral', 'AntiVax', 'ProVax'\n",
        "sizes = [215, 34, 121]\n",
        "explode = (0, 0, 0)  \n",
        "\n",
        "fig1, ax1 = plt.subplots()\n",
        "ax1.pie(sizes, explode=explode, labels=labels, autopct='%1.1f%%',\n",
        "        shadow=True, startangle=90)\n",
        "ax1.axis('equal')  # Equal aspect ratio ensures that pie is drawn as a circle.\n",
        "plt.title(\"Distribution of Tweets type by people with more than 10000 followers\")\n",
        "plt.show()"
      ],
      "execution_count": null,
      "outputs": [
        {
          "output_type": "display_data",
          "data": {
            "image/png": "[encoded data removed]",
            "text/plain": [
              "<Figure size 432x288 with 1 Axes>"
            ]
          },
          "metadata": {
            "tags": []
          }
        }
      ]
    },
    {
      "cell_type": "markdown",
      "metadata": {
        "id": "d9j3bGxu9_fd"
      },
      "source": [
        "### **People with more than 1000 friends, tends to post mre neutral and ProVax tweets**"
      ]
    },
    {
      "cell_type": "code",
      "metadata": {
        "colab": {
          "base_uri": "https://localhost:8080/"
        },
        "id": "YPXBSC9E9pWH",
        "outputId": "a83c196d-126e-4b0b-fa78-27c045b1938e"
      },
      "source": [
        "Neutral, AntiVax, ProVax, count =0,0, 0,0\n",
        "for i in range(len(Tweet_df_available)):\n",
        "  if Tweet_df_available['friends_count'].iloc[i] > 1000:\n",
        "    if Tweet_df_available['label'].iloc[i] == \"Neutral\":\n",
        "      Neutral = Neutral + 1\n",
        "    elif Tweet_df_available['label'].iloc[i] == \"AntiVax\":\n",
        "      AntiVax = AntiVax + 1\n",
        "    elif Tweet_df_available['label'].iloc[i] == \"ProVax\":\n",
        "      ProVax = ProVax + 1\n",
        "    count = count + 1\n",
        "print(Neutral, AntiVax, ProVax, count)"
      ],
      "execution_count": null,
      "outputs": [
        {
          "output_type": "stream",
          "text": [
            "381 274 368 1023\n"
          ],
          "name": "stdout"
        }
      ]
    },
    {
      "cell_type": "code",
      "metadata": {
        "colab": {
          "base_uri": "https://localhost:8080/"
        },
        "id": "VABtS-So_e6Q",
        "outputId": "ae2369fe-74c8-43e3-829f-e77d3625a612"
      },
      "source": [
        "# Piechart\n",
        "import matplotlib.pyplot as plt\n",
        "\n",
        "# Pie chart, where the slices will be ordered and plotted counter-clockwise:\n",
        "labels = 'Neutral', 'AntiVax', 'ProVax'\n",
        "sizes = [381, 274, 368]\n",
        "explode = (0, 0, 0)  \n",
        "\n",
        "fig1, ax1 = plt.subplots()\n",
        "ax1.pie(sizes, explode=explode, labels=labels, autopct='%1.1f%%',\n",
        "        shadow=True, startangle=90)\n",
        "ax1.axis('equal')  # Equal aspect ratio ensures that pie is drawn as a circle.\n",
        "plt.title(\"Distribution of Tweets type by people with more than 1000 friends\")\n",
        "plt.show()"
      ],
      "execution_count": null,
      "outputs": [
        {
          "output_type": "display_data",
          "data": {
            "image/png": "[encoded data removed]",
            "text/plain": [
              "<Figure size 432x288 with 1 Axes>"
            ]
          },
          "metadata": {
            "tags": []
          }
        }
      ]
    },
    {
      "cell_type": "markdown",
      "metadata": {
        "id": "OeWdCecU-Xeq"
      },
      "source": [
        "### **People who usually posts more than 10000 statuses on their walls, tends to speak about ProVax or Neutral in their Tweets**"
      ]
    },
    {
      "cell_type": "code",
      "metadata": {
        "colab": {
          "base_uri": "https://localhost:8080/"
        },
        "id": "w6-r4n0G-JCB",
        "outputId": "28f8c2e2-3f29-4a7a-e709-837f056c9121"
      },
      "source": [
        "# statuses_count\n",
        "Neutral, AntiVax, ProVax, count =0,0, 0,0\n",
        "for i in range(len(Tweet_df_available)):\n",
        "  if Tweet_df_available['statuses_count'].iloc[i] > 10000:\n",
        "    if Tweet_df_available['label'].iloc[i] == \"Neutral\":\n",
        "      Neutral = Neutral + 1\n",
        "    elif Tweet_df_available['label'].iloc[i] == \"AntiVax\":\n",
        "      AntiVax = AntiVax + 1\n",
        "    elif Tweet_df_available['label'].iloc[i] == \"ProVax\":\n",
        "      ProVax = ProVax + 1\n",
        "    count = count + 1\n",
        "print(Neutral, AntiVax, ProVax, count)"
      ],
      "execution_count": null,
      "outputs": [
        {
          "output_type": "stream",
          "text": [
            "632 392 461 1485\n"
          ],
          "name": "stdout"
        }
      ]
    },
    {
      "cell_type": "code",
      "metadata": {
        "colab": {
          "base_uri": "https://localhost:8080/"
        },
        "id": "iRZNUtDZ-VaG",
        "outputId": "85d29045-9264-4eaa-c237-c3f38272f196"
      },
      "source": [
        "# Piechart\n",
        "import matplotlib.pyplot as plt\n",
        "\n",
        "# Pie chart, where the slices will be ordered and plotted counter-clockwise:\n",
        "labels = 'Neutral', 'AntiVax', 'ProVax'\n",
        "sizes = [632, 392, 461]\n",
        "explode = (0, 0, 0)  \n",
        "\n",
        "fig1, ax1 = plt.subplots()\n",
        "ax1.pie(sizes, explode=explode, labels=labels, autopct='%1.1f%%',\n",
        "        shadow=True, startangle=90)\n",
        "ax1.axis('equal')  # Equal aspect ratio ensures that pie is drawn as a circle.\n",
        "plt.title(\"Distribution of Tweets type by people with more than 10000 statuses\")\n",
        "plt.show()"
      ],
      "execution_count": null,
      "outputs": [
        {
          "output_type": "display_data",
          "data": {
            "image/png": "[encoded data removed]",
            "text/plain": [
              "<Figure size 432x288 with 1 Axes>"
            ]
          },
          "metadata": {
            "tags": []
          }
        }
      ]
    },
    {
      "cell_type": "markdown",
      "metadata": {
        "id": "-dvJkJ9YgVKG"
      },
      "source": [
        "# NER Tagging in the tweets"
      ]
    },
    {
      "cell_type": "code",
      "metadata": {
        "colab": {
          "base_uri": "https://localhost:8080/"
        },
        "id": "bvXwnqdFgbZK",
        "outputId": "50351fc6-22bb-41fa-e7f0-44d289e46906"
      },
      "source": [
        "df = Neutral_data\n",
        "a=[]\n",
        "for i in range(len(df)):\n",
        "  a.append(df['tweet'].iloc[i].split())\n",
        "print(a)"
      ],
      "execution_count": null,
      "outputs": [
        {
          "output_type": "stream",
          "text": [
            "[['Moderna', 'on', 'track', 'to', 'report', 'late-stage', 'COVID-19', 'vaccine', 'data', 'next', 'month:', 'The', 'vaccine', 'is', 'currently', 'being', 'tested', 'in', 'a', 'large', 'human', 'trial,', 'and', 'Moderna', 'was', 'in', 'talks', 'with', 'a', 'WHO-led', 'group', 'for', 'distribution.', 'https://t.co/CJGuw7rDzj', 'JPost', 'https://t.co/QPAhjvDm76'], ['The', 'Philippine', 'government', 'is', 'in', 'talks', 'with', 'Anglo-Swedish', 'drugmaker', 'AstraZeneca', 'to', 'procure', 'doses', 'of', 'its', 'prospective', 'COVID-19', 'vaccine.', '|', '@DYGalvezINQ', 'https://t.co/dVTpgOZT9h'], ['Care', 'homes', 'to', 'be', 'FIRST', 'to', 'receive', 'coronavirus', 'vaccine', 'that', 'could', 'roll', 'out', 'before', 'Christmas', 'https://t.co/V71edGrw7F'], ['Hospitals', 'are', 'reportedly', 'being', 'prepped', 'for', 'a', 'possible', 'coronavirus', 'vaccine', 'roll', 'out', 'within', 'three', 'weeks.', '@Drhilaryjones', 'says', 'it', 'is', 'optimistic', 'to', 'think', 'many', 'people', 'will', 'be', 'vaccinated', 'before', 'Christmas', '-', 'but', 'it', 'is', 'good', 'news.', 'Watch', 'GMB', 'for', 'the', 'latest👉https://t.co/fzcHkA6S4k', 'https://t.co/OEMR7IaZTW'], ['Zambia', 'in', 'talks', 'with', 'Russia', 'on', 'accessing', 'Sputnik', 'V', 'coronavirus', 'vaccine', 'https://t.co/2DmTlKLSWX'], ['Pfizer', 'says', 'its', 'coronavirus', 'vaccine', 'is', 'more', 'than', '90', 'percent', 'effective', 'compared', 'to', 'a', 'placebo,', 'and', 'has', 'no', 'major', 'side', 'effects.', 'Study', 'involved', '44,000', 'people.', 'https://t.co/UH4zVj2OT6'], ['Q&amp;A:', 'Where', 'are', 'we', 'in', 'the', 'COVID-19', 'vaccine', 'race?', 'https://t.co/s12BAAIuMB'], ['GBP/USD', 'pushing', 'against', '1.3200', 'amid', 'upbeat', 'COVID-19', 'vaccine', 'reports', 'https://t.co/GKWcVY2BLA', '#GBPUSD', '#Currencies'], ['These', 'Dems', 'balked', 'at', 'a', 'coronavirus', 'vaccine', 'under', 'Trump.', 'Will', 'they', 'change', 'their', 'tune', 'now?', 'https://t.co/MWdCFqhwIQ', '#FoxNews', 'I', 'TRUST', 'TRUMP,', 'I', \"DON'T\", 'TRUST', 'THE', 'DEMOCRATS.'], ['Trump', 'says', 'Pfizer', 'withheld', 'announcement', 'on', 'COVID-19', 'vaccine', 'before', 'election', 'https://t.co/Bzh3sFFSMW', 'https://t.co/kxa7LyeOjK'], ['👇👇Not', 'a', 'good', 'practice,', 'not', 'good', 'for', 'public', 'trust', 'in', 'vaccines', '...', 'However,', '\"scientific\"', 'press', 'releases', 'seem', 'to', 'be', 'good', 'for', 'the', 'stock', 'market', '🤷🏻\\u200d♀️', 'https://t.co/qZaNZNhWLs'], ['Coronavirus', 'vaccine', 'testing', 'timeline:', 'What’s', 'next', 'in', 'Covid-19', 'fight', 'https://t.co/7ZB20jeLBk'], ['In', 'the', 'News', '📰:', '@skepticalIDdoc', 'is', 'skeptical!', 'Dr.', 'Gerald', 'Evans', 'comments', 'on', \"Pfizer's\", 'early', 'results', 'from', \"it's\", 'coronavirus', 'vaccine', 'trial,', 'suggesting', 'a', '90', 'per', 'cent', 'efficacy', 'rate', 'at', 'preventing', 'COVID-19.', 'https://t.co/8B8WtqLIdW'], ['What', 'a', 'COVID-19', 'vaccine', 'would', 'mean', 'for', 'mortgage', 'rates', 'and', 'the', 'housing', 'market', 'https://t.co/O3IMUru8U6'], ['SCIENCE', 'FRAUD:', 'Covid-19', 'vaccines', 'were', 'manufactured', 'and', 'stockpiled', 'by', 'the', 'military', 'long', 'before', 'they', 'were', 'tested', 'and', '“approved”', '|', 'Truth11', 'https://t.co/dynrPQAlIo'], ['Dolly', 'Parton’s', '$1', 'million', 'donation', 'helped', 'fund', 'Moderna’s', 'COVID-19', 'vaccine', 'https://t.co/tszIxxevKc'], ['Investors', 'are', 'encouraged', 'by', 'the', 'latest', 'progress', 'on', 'developing', 'coronavirus', 'vaccines', 'and', 'news', 'that', 'the', 'transition', 'of', 'power', 'to', 'President-elect', 'Joe', 'Biden', 'will', 'finally', 'begin.', 'https://t.co/hds8Vp4wc3'], ['U.S.', 'officials', 'plan', 'to', 'release', '6.4', 'million', 'COVID-19', 'vaccine', 'doses', 'in', 'first', 'distribution', 'https://t.co/qdxfDKZOR4'], ['I', 'knew', 'the', \"opposition's\", 'shrieking', 'over', 'the', 'vaccine', 'was', 'just', 'another', 'manufactured', 'scandal,', 'meant', 'to', 'distract.', 'https://t.co/Oybiis4qST'], ['Coronavirus', 'live', 'updates:', 'The', 'U.K.', 'has', 'approved', 'the', 'Pfizer/BioNTech', 'COVID-19', 'vaccine', 'for', 'emergency', 'use.', 'https://t.co/0nulhZKrZs', 'via', '@HuffPost'], ['Presidents', 'Obama,', 'Bush', '&amp;', 'Clinton', 'are', 'volunteering', 'to', 'get', 'their', 'Covid-19', 'vaccines', 'on', 'TV', 'with', 'a', 'National', 'Broadcast', 'to', 'promote', 'public', 'confidence', 'in', 'the', \"vaccine's\", 'safety.', 'Sort', 'of', 'like', 'the', 'Super', 'Bowl', 'of', 'Vaccine', 'Game.', 'What', 'Musical', 'Group', 'should', 'perform', 'at', '1/2', 'Time.', 'Who', 'shud', 'announce?'], [\"Why's\", '@twitter', 'censorship', 'of', '#tweets', 'of', '#ToriesOut', 'happening', 'after', 'once', 'again', '@Conservatives', 'was', 'caught', 'lying', 'about', '#COVID19', 'vaccine', \"where's\", 'the', 'fact', 'checker', 'you', 'used', 'on', '@realDonaldTrump?', 'In', '#Elections2020', '#ToriesEnemyOfThePeople', '#ToryScum', '#NoMoreCoverUps'], ['Bahrain', 'becomes', 'second', 'nation', 'to', 'approve', 'Pfizer-BioTech', 'coronavirus', 'vaccine', 'https://t.co/8OgQ7XK0SV', 'via', '@SBSNews'], ['This', 'is', 'an', 'outstanding', 'initiative', 'and', 'one', 'that', 'is', 'urgently', 'needed', 'in', \"Ontario's\", '#LTC', 'sector', 'in', 'anticipation', 'of', 'the', 'arrival', 'of', 'the', '#COVID19', 'vaccine:', 'cc', '@DrFullertonMPP', '@AdvantAgeOnt', '@OLTCAnews', '@allan_k_grillMD', '@NoahIvers', '@DrSamirSinha', '@BogochIsaac', '@LisaLevin1', '@DLDunc416', '@OnLTCC', 'https://t.co/lSZXpirRhV'], ['@realDonaldTrump', 'where', 'is', 'the', 'vaccine?', 'Have', 'we', 'turned', 'the', 'corner', 'yet?', 'It', 'seems', 'the', 'only', 'thing', 'magically', 'disappearing', 'one', 'day', 'is', 'you.', 'https://t.co/HdM3ii2LfV'], ['The', 'latest', 'edition', 'of', 'the', 'weekly', 'newsletter', 'with', 'my', 'initial', 'thoughts', 'on', 'the', 'elections,', 'the', 'effectiveness', 'of', 'the', 'first', 'COVID-19', 'vaccines,', 'the', 'story', 'about', '17', 'million', 'minks', 'being', 'gassed', 'in', 'Denmark,', 'and', 'more.', 'https://t.co/5Sz7q5ZfHX.', 'Sign', 'up', 'if', \"you'd\", 'like.'], ['Iloilo', 'City', 'eyes', 'P100-million', 'fund', 'to', 'purchase', 'COVID-19', 'vaccines', 'https://t.co/LvffbXKYLC'], ['Inside', 'the', 'Operation', 'Warp', 'Speed', 'effort', 'to', 'get', 'Americans', 'a', 'COVID-19', 'vaccine', '–', '60', 'Minutes', '|', '#schoolshooting', 'https://t.co/Fd0Q8nsNMV'], ['During', 'the', 'meeting,', 'Foreign', 'Secretary', '@harshvshringla', 'assured', 'President', 'Solih', 'of', \"India's\", 'continued', 'support', 'to', 'the', 'Maldives', 'in', 'the', 'entirety', 'of', 'the', 'post-Covid', 'recovery', 'phase', 'and', 'apprised', 'him', 'of', '#COVID19', 'vaccine-related', 'developments.'], ['Pfizer', 'says', 'early', 'analysis', 'shows', 'its', 'Covid-19', 'vaccine', 'is', '90%', 'effective', 'https://t.co/88nwFzNg2P'], ['Will', 'you', 'REFUSE', 'the', 'Pfizer', 'vaccine', 'even', 'if', 'it', 'means', 'losing', 'your', 'job?', '#vacccine', '#BillGates', '#Pfizer', '#COVID19', '#Covid_19', '#covid19uk'], ['Do', 'mRNA', 'COVID-19', 'vaccines', 'permanently', 'alter', 'human', 'DNA,', 'and', 'target', 'Chromosome', '8', 'causing', 'cancer', 'and', 'dementia', 'etc?:', 'https://t.co/bGlH8Ptac2', 'https://t.co/eyvPmpda46', '@BusyDrT', '@DrWakefield', '@mercola', '@drjoshaxe', '@delbigtree'], ['@COVIDOversight', '@RepAOC', 'These', 'are', 'lies!', 'Coronavirus', 'vaccine', 'is', 'already', 'out,', 'it', 'is', 'being', 'given', 'at', 'this', 'time', 'to', 'hospital', 'workers!', 'My', 'doctor', 'at', 'my', 'local', 'VA', 'had', 'to', 'get', 'it', 'as', 'a', 'condition', 'of', 'being', 'brought', 'back', 'to', 'work,', 'when', 'we', 'opened', 'up', 'Fla', 'after', 'CHINESE', 'CORONA'], ['@sciencecohen', 'IF', 'on', 'has', 'the', 'super-cold', 'transport', '&amp;', 'storage', '-&gt;', '\"...', 'the', 'vaccine,', 'which', 'is', 'based', 'on', 'a', 'novel', 'technology', 'that', 'uses', 'synthetic', 'mRNA', 'to', 'activate', 'the', 'immune', 'system', 'against', 'the', 'virus,', 'needs', 'to', 'be', 'kept', 'at', 'minus', '70', 'degrees', 'Celsius', '(-94', 'F)', 'or'], ['@realDonaldTrump', 'Please', \"don't\", 'use', 'the', 'tragic', 'of', '#covid19', 'or', 'the', '#vaccine', 'por', '#political', 'reazons.', 'Tank', 'you'], ['Covid', 'vaccine', 'could', 'be', 'ready', 'for', 'rollout', 'next', 'month,', 'says', 'Hancock', '/', 'How', 'about', 'Rolling', 'Out', 'the', 'Flu', 'Vaccine', 'Hancock😂', '#vaccine', '#BS', '#coronavirus', 'https://t.co/nRaaZjUz4h'], ['Coronavirus', 'vaccine', 'could', 'be', 'ready', 'for', 'all', 'Americans', 'by', 'April,', 'Fauci', 'says', 'https://t.co/cBS51zAZOg'], ['Important', 'question:', 'when', 'and', 'in', 'what', 'way', 'would', 'those', 'in', 'placebo', 'arm', 'of', 'successful', 'vaccine', 'study', 'be', 'identified', 'and', 'allowed', 'to', 'get', 'active', 'vaccine?', 'It’s', 'complicated.', 'https://t.co/mKYrEm0PCj'], ['Moderna', 'mRNA-1273', 'vaccine,', 'developed', 'for', 'COVID-19,', 'yielded', '94.5%', 'efficacy', 'in', 'early', 'results', 'of', 'the', 'phase', '3', 'COVE', 'trial.', '90', 'who', 'were', 'COVID-19', 'pos', 'were', 'in', 'a', 'placebo', 'group', 'and', 'that', '5', 'patients', 'were', 'in', 'the', 'mRNA-1273', 'vaccine', 'group.', 'https://t.co/9245wj3kph'], ['Pfizer', 'announced', 'more', 'results', 'in', 'its', 'ongoing', 'coronavirus', 'vaccine', 'study', 'that', 'suggest', 'the', 'shots', 'are', '95%', 'effective.\\u200b', 'https://t.co/ALq3V6hgLd'], ['@realDonaldTrump', 'if', 'you', 'want', 'credit', 'for', 'the', 'COVID-19', 'vaccine,', 'how', 'about', 'working', 'with', 'the', 'newly', 'elected', 'administration', 'on', 'a', 'roll', 'out', 'plan?'], ['@JustinTrudeau', 'you', \"can't\", 'even', 'get', 'flu', 'shots', 'to', 'citizens,', 'flu', 'shot', \"can't\", 'be', 'found', 'in', 'Ontario', 'any', 'where.', 'Now', 'you', \"can't\", 'agree', 'with', 'your', 'cabinet', 'minister', 'on', 'how', 'many', 'covid19', 'vaccines', 'are', 'ordered?', 'Do', 'you', 'have', 'the', 'ability', 'to', 'organize', 'anything', 'for', 'the', 'people', 'of'], ['Estupido', 'Puerto', 'Riqueno,', 'lambe', 'fundillo', 'de', 'Trump!', 'We', 'should', 'name', 'the', 'covid-19', 'virus', 'after', 'Trump', 'no', 'the', 'vaccine', 'because', 'he', 'infected', 'the', 'entire', 'country', 'with', 'lies,', 'corruption', 'and', 'conspiracy', 'theories', 'and', 'our', 'country', 'is', 'sick', 'now', 'because', 'of', 'him!', 'F-U', 'Geraldo,', 'baboso!', '@GeraldoRivera'], ['Facebook', '\"executives', 'are', 'planning', 'a', 'major', 'push', 'to', 'encourage', 'users', 'to', 'take', 'a', 'coronavirus', 'vaccine,', 'as', 'well', 'as', 'incentivising', 'people', 'to', 'share', 'content', 'related', 'to', 'the', 'Paris', 'climate', 'agreement\"', '(Next', 'up:', 'renewed', 'conservative', 'allegations', 'of', 'bias', 'and', 'partisanship?)', 'https://t.co/ltAmtES2ph'], ['Covid-19', 'vaccine', 'for', 'citizens', 'will', 'meet', 'all', 'scientific', 'criteria,', 'says', 'PM', 'https://t.co/mkvJiX5kFd', 'via', 'NaMo', 'App', 'https://t.co/JZ79t3MyBV'], ['$PFE', '$BNTX', '$MRNA', '-', 'U.S.', 'aims', 'to', 'release', '6.4M', 'COVID-19', 'vaccine', 'doses', 'in', 'first', 'tranche', '-', 'Reuters', 'https://t.co/FLJzA17oVQ', 'Great', 'Dividend', 'Stock', 'BUY', 'PFE', '!'], ['COVID-19', 'vaccines', 'may', 'be', 'less', 'effective', 'for', 'racial', 'minorities,', 'suggest', 'computer', 'scientists', 'https://t.co/sNDEuCwOzZ'], ['A', 'new', 'episode', 'of', 'the', '#BigTechPodcast', 'drops', 'this', 'Thursday', 'with', 'guest', '@ProfHeidiLarson', 'to', 'discuss', 'the', '#COVID19', 'vaccine', 'with', 'host', '@taylor_owen.', 'Subscribe', 'here', 'or', 'wherever', 'you', 'listen', '👇', 'https://t.co/tmFLWt7Fnr'], ['Centre', 'introduces', 'Co-WIN', 'app', 'to', 'self-register', 'for', 'Covid-19', 'vaccine:', 'https://t.co/sGreaZ2L6f', 'via', '@eOrganiser'], ['In', 'Malaysia,', \"EU's\", 'possible', '#COVID19', 'support', 'through', 'WHO', 'could', 'focus', 'on:', '🔵', 'Information', 'management', 'and', 'data', '🔵', 'COVID-19', 'vaccines', '🔵', 'Risk', 'communication', 'and', 'community', 'engagement', 'https://t.co/g5usUdigX6'], ['AstraZeneca', 'COVID-19', 'vaccine', 'production', 'starts', 'in', 'Australia,', 'reports', 'say', 'https://t.co/koyFYex6Tr'], ['Care', 'homes', 'to', 'be', 'FIRST', 'to', 'receive', 'coronavirus', 'vaccine', 'that', 'could', 'roll', 'out', 'before', 'Christmas', 'https://t.co/o3upegtJBh'], ['#Covid19', 'vaccine', 'is', 'here💊', 'https://t.co/xK3UMSENN1'], ['Pfizer', 'says', 'early', 'analysis', 'shows', 'its', 'Covid-19', 'vaccine', 'is', '90%', 'effective', 'Pfizer', 'says', 'early', 'analysis', 'shows', 'its', 'Covid-19', 'vaccine', 'is', '90%', 'effective.', 'https://t.co/CUuGL4BMai'], ['The', 'only', '100%', 'effective', 'Covid-19', 'vaccine', 'is', 'abstinence.'], ['Fuck', 'you,', 'Pfizer!', 'Why', 'not', 'release', 'such', 'exciting', 'news', 'before', 'the', 'election?', 'What', 'you', 'are', 'doing', 'is', 'not', 'saving', 'lives', 'as', 'much', 'as', 'possible,', 'making', 'vaccines', 'a', 'political', 'weapon.', 'https://t.co/aHHIV2TvXT'], ['Ontario', 'developing', 'plan', 'for', '‘fair', 'and', 'equitable’', 'COVID-19', 'vaccine', 'distribution', 'https://t.co/BCmlcTKzqc'], ['\"We', 'hope', 'to', 'see', 'vaccines', 'landing', 'in', 'the', 'early', 'next', 'year', 'but', 'between', 'now', 'and', 'then', 'it’s', 'really,', 'really', 'important', 'that', 'we', 'double', 'down', 'on', 'our', 'efforts,\"', 'the', 'prime', 'minister', 'said', 'Monday.', '#COVID19', 'https://t.co/lSCaXT4jAI'], ['Metro', 'woman', 'participating', 'in', 'COVID-19', 'vaccine', 'trial', 'optimistic', 'about', 'Pfizer’s', 'news', 'https://t.co/SkRAiGV9ZM'], ['Brazil', 'halts', 'trials', 'of', 'Chinese', 'COVID-19', 'vaccine', 'https://t.co/0UnlfZYT4R'], ['Lloyds', 'is', 'best', 'bank', 'for', 'coronavirus', 'vaccine', 'bet,', 'says', 'broker'], ['Fauci:', 'COVID-19', \"won't\", 'be', 'pandemic', \"'for\", 'a', 'lot', \"longer'\", 'thanks', 'to', 'vaccines', 'https://t.co/oB4OWYJJxT', 'via', '@nypost'], ['@MoulanaOfficial', 'The', 'vaccine', 'will', 'not', 'work', 'unless', 'the', 'vaccine', 'is', 'developed', 'according', 'to', 'the', 'formula', 'given', 'by', 'Muhammad', 'Qasim.', '#CagayanNeedsHelp', '#Harry', 'Styles', '#Pakistan', 'Army', '#Happy', 'Diwali', '#coronavirus', '#COVID19', '@MuhammadQasim_3', '👉', '👇', 'https://t.co/PYMiuY'], ['\"...concern', 'that', 'there', 'may', 'be', 'widespread', 'refusal', 'to', 'accept', 'COVID-19', 'vaccination.', 'Many', 'parallels', 'to', 'our', 'current', 'challenges...can', 'be', 'found', 'in', 'a', 'largely', 'forgotten', 'episode', 'from', 'Brazilian', 'history:', 'the', 'Vaccine', 'Revolt', 'of', '1904.\"', 'https://t.co/vYVOP0vsA9'], ['How', 'is', '@gavi,', 'the', 'vaccine', 'alliance,', 'working', 'to', 'ensure', 'the', 'roll-out', 'of', 'a', 'coronavirus', 'vaccine', 'is', 'fair', 'to', 'all', 'nations?', '@tomstandage', 'asks', '@GaviSeth', 'on', '“The', 'World', 'Ahead”', 'podcast', 'https://t.co/Pfpl6QXWhE'], ['Pfizer', 'to', 'start', 'pilot', 'delivery', 'program', 'for', 'its', 'COVID-19', 'vaccine', 'in', 'four', 'U.S.', 'states', 'https://t.co/Ab1cJ3HTgC'], ['Pfizer', 'also', 'says', 'it’s', 'vaccine', 'had', 'no', 'series', 'side', 'effects.', 'If', 'the', 'FDA', 'authorizes', 'the', 'two-dose', 'vaccine,', 'Pzifer', 'says', 'it', 'could', 'have', 'up', 'to', '50', 'million', 'doses', 'available', 'by', 'the', 'end', 'of', 'the', 'year.', 'A', 'reminder,', 'this', 'vaccine', 'needs', 'to', 'be', 'kept', 'at', '94', 'degrees', 'below', 'zero.', 'https://t.co/KoH30RIIyP'], ['Dow', 'opens', 'higher', 'on', 'more', 'upbeat', 'COVID-19', 'vaccine', 'news', 'https://t.co/QhQjF051bV'], ['Learn', 'more', 'about', \"@LillestolLLC's\", 'participation', 'in', 'a', 'large', 'Phase', 'III', 'Pfizer', 'Covid-19', 'vaccine', 'trial.', 'https://t.co/dFsP7pIHZY', 'https://t.co/NFkBDMWpVa'], ['Pfizer', 'says', 'it', 'will', 'ask', 'the', 'FDA', 'to', 'authorize', 'emergency', 'use', 'of', 'its', 'COVID-19', 'vaccine', 'after', 'an', 'updated', 'analysis', 'of', 'clinical', 'trial', 'data', 'found', 'the', 'vaccine', 'to', 'be', '95%', 'effective.', 'https://t.co/dnDS0xvBVh'], ['YouTube', 'to', 'add', 'link', 'on', 'coronavirus', 'vaccines', 'to', 'combat', 'misinformation', 'https://t.co/dfMY4rrCa1'], ['Investors', 'are', 'looking', 'past', 'the', 'presidential', 'election', 'and', 'toward', 'a', 'future', 'with', 'a', 'safe', 'and', 'effective', 'COVID-19', 'vaccine,', 'according', 'to', 'Ameriprise', 'Chief', 'Market', 'Strategist', 'David', 'Joy.', 'https://t.co/c89CKBtN62'], ['US', 'coronavirus', 'hospitalizations', 'hit', 'record', 'high', 'of', '20,000', 'as', 'nation', 'looks', 'to', 'a', 'potential', 'vaccine', 'https://t.co/c3HgcvsEBi'], ['Interesting', 'fact.', 'Both', 'Pfizer', 'and', 'Moderna', 'vaccines', 'use', 'mRNA,', 'the', 'first', 'vaccines', 'to', 'do', 'so.', 'https://t.co/DhwqRikduH'], ['Russia', 'claims', 'its', 'pioneering', 'Sputnik', 'V', 'Covid-19', 'vaccine', 'will', 'cost', 'less', 'than', 'Western', 'rivals', 'as', 'US', 'pharma', 'giants', 'announce', 'price', 'tags', 'https://t.co/WqYVEZXIsx', 'https://t.co/zvepZmrHNR'], ['Coronavirus', 'updates:', 'Third', 'vaccine', 'candidate', 'up', 'to', '90%', 'effective;', 'November', 'infections', 'explode;', 'Th...', 'https://t.co/1RfoGdlwyF', 'via', '@YahooNews'], ['Iran', 'to', 'be', 'able', 'to', 'mass', 'produce', 'coronavirus', 'vaccine', 'soon', 'https://t.co/0nIFsr0XWR', '#Politics', 'https://t.co/eQQT8822Zi', '#Iran', '#to', '#be', '#able', '#to', '#mass', '#produce', '#coronavirus', '#vaccine', '#soon', '#', '238'], ['Clinton,', 'Bush,', 'Obama', 'volunteer', 'to', 'publicly', 'receive', 'COVID-19', 'vaccine', 'https://t.co/wBjREX5x7U'], ['Pfizer', 'supply', 'chain', 'challenges', 'led', 'to', 'slashing', 'COVID-19', 'vaccine', 'production', 'target:', 'WSJ', '-', 'Reuters', 'https://t.co/Zj5J570GNS', 'via', '@GoogleNews'], ['Well', 'a', '#Tory', 'that', 'talks', 'senses,', '@Matthanock', '@BorisJohnson', 'take', 'heed,', 'he', 'talks', 'more', 'sense', 'than', 'both', 'of', 'you', 'put', 'together', 'https://t.co/nov7vEisQc', '#vaccine', '#COVID19'], ['@realDonaldTrump', 'Trump', 'administration', 'refused', 'offer', 'to', 'buy', 'millions', 'more', 'Pfizer', 'vaccine', 'doses', 'https://t.co/86UbbPXCCF'], ['A', '90-year-old', 'UK', 'woman', 'becomes', 'the', 'first', 'in', 'the', 'world', 'to', 'receive', 'a', 'COVID-19', 'vaccine', 'outside', 'of', 'trial', 'https://t.co/5tkBmudI82'], ['Also', 'on', 'today’s', 'show:', '•', 'Biden’s', 'pick', 'for', 'defense', 'secretary', 'would', 'be', 'the', 'first', 'Black', 'leader', 'of', 'the', 'Pentagon', '•', 'An', 'argument', 'for', 'why', 'social', 'butterflies', 'should', 'get', 'the', 'first', '#COVID19', 'vaccines', 'Plus,', 'catch', 'up', 'on', 'more', 'of', 'the', 'day’s', 'biggest', 'stories:', 'https://t.co/6OXCxfir80'], ['@benspolitics', '@Abe95319941', '@Arr_Me_Matey', '@HitsuiBunny', '@JessicaHuseman', 'Asthma', 'is', 'not', 'preventable', 'at', 'all,', 'first', 'of', 'all,', 'and', 'some', 'people', 'are', 'genetically', 'predisposition-ed', 'to', 'diabetes', 'and', 'other', 'issues,', 'and', 'the', 'flu', 'has', 'vaccines', 'to', 'prevent', 'catching', 'and', 'medicine'], ['@realDonaldTrump', 'Pfizer’s', 'COVID19', 'vaccine', 'was', 'developed', '100%', 'independent', 'of', 'the', 'US', 'government!', \"Don't\", 'take', 'credit', 'for', 'actions', 'that', \"aren't\", 'yours.'], ['The', 'best', 'clip', 'you’ll', 'hear', 'today!', '🙏🏻🙏🏻', '#vaccine', '#COVID19', '#goodnews', 'https://t.co/MzsRWNkSJj'], ['thetimes:', \"'Coronavirus\", 'vaccine:', 'Medicine', 'not', 'money', 'motivates', 'husband', 'and', 'wife', 'behind', 'the', \"jab'\", 'https://t.co/2oCLbNSblx'], ['She', 'left', 'her', 'post', 'the', 'day', 'she', 'started.', 'She', 'has', 'yet', 'to', 'convince', 'anyone', 'she', 'has', 'done', 'anything', 'except', 'travel', 'to', 'the', 'US,', 'share', 'confidential', 'information', 'there,', 'and', 'waste', 'vast', 'sums', 'on', 'her', 'PR', 'people.', 'She', 'is', 'happy', 'to', 'accept', 'the', 'money', 'without', 'any', 'vaccine', 'experience.', 'Says', 'it', 'all.', 'https://t.co/40hYuY4ByD'], ['Chinese', 'coronavirus', 'vaccine', 'better', 'suits', 'Pakistan,', 'says', 'Dr', 'Atta-ur-Rehman', '.'], ['Who', 'will', 'make', 'coronavirus', 'vaccines', 'for', 'the', 'developing', 'world?', 'India', 'holds', 'the', 'key.', 'https://t.co/EuKxqwEQgN'], ['Bc', 'it', 'takes', 'a', 'long', 'ass', 'time', 'to', 'produce', 'BILLIONS', 'of', 'vials', 'of', 'the', 'vaccine.', 'Its', 'not', 'just', 'Americans', 'receiving', 'the', 'vaccine', '-', 'its', 'literally', 'billions', 'of', 'people.', 'And', 'its', 'something', 'that', \"can't\", 'be', 'done', 'quickly.', 'The', 'coronavirus', 'is', 'what', 'it', 'is.', 'Its', 'not', 'mutating.', 'We', 'know', 'how', 'to', 'study', '&amp;', 'work'], ['Moderna’s', 'COVID-19', 'vaccine', 'boasts', 'a', 'nearly', '95%', 'effective', 'rate', 'in', 'early', 'data', 'https://t.co/EC0pFmeaYN'], ['Russia', 'focuses', 'on', 'freeze-dried', 'vaccine', 'doses', 'as', 'transport', 'fix', 'https://t.co/rC7C5PwOis', '#COVID19', '#Vaccine', '#Immunisation', '#Pandemic', '#PublicHealth'], ['Where', 'is', 'Moderna', 'based?', 'Who', 'owns', 'the', 'company', 'working', 'on', 'a', 'new', 'Covid-19', 'vaccine?', 'https://t.co/2znjcCBx4s', 'https://t.co/KHzFpkJpAH'], ['More', 'on', 'Sen', 'Portman’s', 'decision', 'to', 'be', 'part', 'of', 'COVID-19', 'vaccine', 'trial.', 'https://t.co/uQX9CiAxcV'], ['Temperature', 'concerns', 'could', 'slow', 'the', 'rollout', 'of', 'new', 'coronavirus', 'vaccines', 'https://t.co/ytTmuk8CeD'], ['China’s', 'Sinovac', 'reports', 'mixed', 'findings', 'in', 'early', 'coronavirus', 'vaccine', 'trials', 'https://t.co/Xifc0foH4O'], ['Pfizer', 'and', 'BioNTech', 'to', 'seek', 'approval', 'for', 'Covid-19', 'vaccine', '\"within', 'days\"', 'as', 'company', 'says', 'final', 'analysis', 'shows', \"it's\", 'safe', 'and', '95%', 'effective.', 'https://t.co/PACUOej2bb'], ['So', 'how', 'does', 'the', 'Pfizer', 'Covid-19', 'vaccine', 'injection', 'work?', 'Do', 'they', 'inject', 'it', 'at', '-90', 'degrees', 'F.', '?', '🥶'], ['OPERATION', 'WARP', 'SPEED', '\"Accelerated', 'Vaccine', 'Process\"', 'The', 'U.S', 'military', 'is', 'distributing', 'the', 'Covid-19', 'vaccines', 'nationwide', 'at', 'the', 'end', 'of', '2020.', '#KnockKnock', '#VaccineTime', '#CovidVaccine', '#Covid19Vaccine', '#USAMilitary', '#WarpSpeed', '#CovidVax', '#CovidVaxx', '#PressBriefing', '#MandatoryVax', '#CrazyTimes', 'https://t.co/Q8iIib0dNj'], ['COVID-19', 'vaccines:', 'How', \"Pfizer's\", 'and', \"Moderna's\", '95%', 'effective', 'mRNA', 'shots', 'work', 'https://t.co/t058AtQIO6', 'https://t.co/SAByXS6QCz'], ['Today', 'Pfizer', 'said', \"it's\", 'asking', 'U.S.', 'regulators', 'to', 'allow', 'emergency', 'use', 'of', 'its', 'COVID-19', 'vaccine.', 'https://t.co/1LXXp9iYRw', '@cbschicago', '#Pfizer', '#vaccine'], ['Pfizer', 'to', 'request', 'emergency', 'approval', 'for', 'Covid', 'vaccine', 'https://t.co/xrh4TKBgGq'], ['South', 'Korea', 'says', 'it', 'foiled', 'North', 'Korea', 'attempt', 'to', 'hack', 'its', 'COVID-19', 'vaccine', 'makers', 'https://t.co/jkxoamRFKH'], ['Plus,', 'the', 'hackers', 'trying', 'to', 'steal', 'Covid19', 'vaccine', 'secrets.', 'https://t.co/6ezTwbE7Aw'], ['Janssen', \"vaccines'\", 'global', 'head,', 'Johan', 'Van', 'Hoof', 'tells', '@KayBurley', 'up', 'to', '90,000', 'people', 'are', 'taking', 'part', 'in', 'the', '#COVID19', 'trials,', 'with', 'hopes', 'a', 'result', 'could', 'be', 'available', 'in', 'January.', '#KayBurley', 'https://t.co/UV70Cs1n0C', 'https://t.co/XhwwhMvwzf'], ['Japan', 'approves', 'free', 'COVID-19', 'vaccines', 'for', 'nation', '|', 'The', 'Japan', 'Times', 'https://t.co/54arsXgxdg'], ['CDC', 'vaccine', 'advisers', 'vote', 'on', 'which', 'groups', 'should', 'receive', 'COVID-19', 'vaccine', 'first', 'https://t.co/oiTepYdVpa', 'via', '@ConsumerAffairs'], ['UK', 'approves', 'Pfizer,', 'becomes', 'the', 'first', 'country', 'to', 'roll', 'out', 'Covid-19', 'vaccine', 'https://t.co/YL76vKXe0t'], ['Australia', 'begins', 'manufacturing', 'of', 'Oxford-developed', 'COVID-19', 'vaccine', 'https://t.co/bXu6umtKUT'], ['Wantai', 'to', 'begin', 'mid-stage', 'trial', 'for', 'Covid-19', 'nasal', 'spray', 'vaccine', 'in', 'China', 'https://t.co/Ivf8hU6ljZ'], ['Coronavirus', 'vaccine', 'news:', 'Hospitals', 'told', 'to', 'prepare', 'for', 'mass', 'vaccine', 'programme', '|', 'UK', '|', 'News', '|', 'https://t.co/tPjF4rryR9', 'https://t.co/l8voEcIkyM'], ['Pfizer’s', 'coronavirus', 'vaccine', 'is', 'more', 'than', '90', 'percent', 'effective', 'in', 'first', 'analysis,', 'company', 'reports', 'By', 'Carolyn', 'Y.', 'Johnson', 'https://t.co/uOveSZU3O6'], ['Pharmaceutical', 'company', 'Pfizer', 'says', 'early', 'data', 'suggests', 'its', 'potential', 'vaccine', 'is', '\"more', 'than', '90%', 'effective\"', 'against', 'covid-19', 'https://t.co/R4t42cWon5'], ['BREAKING***', 'They', 'found', 'the', 'COVID-19', 'vaccine', 'a', 'day', 'after', 'Biden', 'won.', 'Seems', 'legit.'], ['We’d', 'never', 'heard', 'of', 'coronavirus', 'when', 'work', 'began', 'on', 'this', 'tv', 'series', 'about', 'the', 'great', 'plague.', 'But', 'the', 'parallels', 'are', 'amazing.', 'It’s', 'an', 'extraordinary', 'story.', 'And', 'a', 'even', 'more', 'watchable', 'with', 'the', 'news', 'of', 'a', 'vaccine', 'today!', 'Next', 'Tuesday', '(17th!)', '9pm', '@channel5_tv', '😷🤒', '☣️', 'https://t.co/iRblcz2TOK'], ['BREAKING:', 'Pfizer', 'announces', 'their', 'COVID-19', 'vaccine', 'over', '90%', 'effective,', '100%', 'no', 'thanks', 'to', 'Donald', 'Trump.'], ['@realDonaldTrump', 'Is', 'it', 'true', 'that', 'the', 'vaccine', 'for', 'covid19', 'carries', 'rna', 'changes', 'to', 'dna,', 'nanotechnology', 'and', 'they', 'can', 'follow', 'you', 'with', 'it,', 'lights', 'can', 'detect', 'it,', 'and', 'DNA,', 'will', 'have', 'to', 'it?'], ['A', 'new', 'company', 'has', 'joined', 'Moderna', 'in', 'the', 'race', 'to', 'a', 'Covid-19', 'vaccine.', 'Working', 'with', 'BioNTech,', 'their', 'early', 'data', 'shows', 'that', 'the', 'vaccine', 'is', 'effective', '90%', 'of', 'the', 'time.', 'They', 'will', 'continue', 'to', 'run', 'tests', 'until', 'a', '100%', 'successful', 'vaccine', 'is', 'created.', 'https://t.co/jO64d9gE8P'], ['Pfizer', 'says', 'COVID-19', 'vaccine', 'is', 'looking', '90%', 'effective', 'https://t.co/SFBCgHr3GI'], ['https://t.co/X2qVMafjRI', 'Great', 'Britain', 'wants', 'to', 'have', 'Covid-19', 'vaccine', 'flown', 'in', 'if', 'necessary', 'https://t.co/WS09EqCTEo', 'Our', 'Hashtag', 'Results', 'Toxic', 'Election', 'Donald', 'Trump', 'vs.', 'Joe', 'Biden', '2020', '#FWN', '#freeworldnews', 'https://t.co/tDeW0hb5So'], ['@agordonICU', '@NIHRCRN_NWLdn', '@remap_cap', '@NIHRresearch', '@ICS_updates', '@UKCCRGroup', 'Please', 'take', 'a', 'look', 'at', 'a', 'newly', 'created', 'facebook', 'group', 'for', 'Covid-19', 'vaccine', 'trial', 'participants', 'like', 'me,', 'share', 'their', 'experiences.', 'Feel', 'free', 'to', 'join', 'us', '#COVIDVaccine', 'https://t.co/u'], ['Vast', \"majority'\", 'of', 'Canadians', 'could', 'access', 'COVID-19', 'vaccine', 'by', 'late', '2021', 'https://t.co/l5m3cnt8mM'], ['Pfizer', 'and', 'BioNTech', 'to', 'submit', 'Covid-19', 'vaccine', 'data', 'to', 'FDA', 'as', 'full', 'results', 'show', '95%', 'efficacy', 'https://t.co/M2hvwAthUu', 'via', '@statnews', '#COVID19', '#CovidVaccine', '#Pfizervaccine', '#BioNTech', '#EUA'], ['Investors', 'are', 'looking', 'past', 'the', 'presidential', 'election', 'and', 'toward', 'a', 'future', 'with', 'a', 'safe', 'and', 'effective', 'COVID-19', 'vaccine,', 'according', 'to', 'Ameriprise', 'Chief', 'Market', 'Strategist', 'David', 'Joy.', 'https://t.co/F6e0AuXImg'], ['@SpectrumNews1TX', 'The', 'MHRA', 'urgently', 'seeks', 'an', 'Artificial', 'Intelligence', '(AI)', 'software', 'tool', 'to', 'process', 'the', 'expected', 'high', 'volume', 'of', 'Covid-19', 'vaccine', 'Adverse', 'Drug', 'Reaction', '(ADRs)', 'https://t.co/De7s2I6FDW'], ['Coronavirus', 'live', 'news:', 'Oxford', 'vaccine', 'has', 'up', 'to', '90%', 'efficacy;', 'Russia', 'suffers', 'worst', 'daily', 'caseload', 'increase', '|', 'World', 'news', 'https://t.co/EAgi4ZW64M'], ['Serum', 'Institute', 'rejects', 'charges', 'levelled', 'by', 'vaccine', 'trial', 'participant,', 'threatens', 'to', 'seek', 'damages', '#COVID19', '#COVIDー19', '#covid_19Ke', '#coronavirus', '#Corona', '#CoronavirusLockdownUK', '#CoronaUpdate', '#CoronavirusNewYork', '#Covid_19', 'https://t.co/I4C6cOXWoh'], ['@ATPJudge', '@ABC', '@vandusen_cheryl', '@MarthaRaddatz', 'Me', 'and', '#Fauci', 'are', 'on', 'the', 'same', 'page,', 'and', 'business', 'that', 'are', 'not', 'operating', 'at', 'full', 'capacity', 'should', 'start', 'thinking', 'about', 'making', 'sure', 'their', 'employees', 'are', 'vaccinated', 'so', 'they', 'can', 'operate', 'at', 'maximum', 'capacity', 'upon', 'rel'], ['My', 'letter', 'to', 'the', 'editor', 'today', 'in', 'the', 'AV', 'Press', 'discussing', 'my', 'thoughts', 'on', 'how', 'to', 'help', 'rebuild', 'the', 'local', 'economy', 'when', 'the', 'COVID-19', 'vaccine', 'arrives.', 'https://t.co/uBBhqDlCq9'], ['California', 'at', 'COVID-19', \"'tipping\", \"point'\", 'as', 'Trump', 'administration', 'hopes', 'for', 'vaccines', 'by', 'Christmas', 'https://t.co/0axV4mMAwY'], ['The', 'UK', 'approves', 'the', 'BioNTech/Pfizer', 'COVID-19', 'vaccine', 'for', 'emergency', 'use', '–', 'TechCrunch', 'https://t.co/FLluW2C2bQ'], ['Survey', 'says:', 'One', \"company's\", 'poll', 'shows', 'that', 'people', 'in', 'Wisconsin', 'would', 'pay', 'an', 'average', 'of', '$577', 'for', 'the', 'hypothetical', 'chance', 'to', 'get', 'a', '#COVID19', 'vaccine', 'earlier.', 'https://t.co/FYlqRPdLnl'], ['When', 'the', 'covid19', 'vaccine', 'is', 'available', 'to', 'the', 'general', 'American', 'public', 'do', 'you', 'plan', 'to', 'get', 'it?'], ['Dr.', 'David', 'Kimberlin', 'spoke', 'with', '@aldotcom', 'about', 'the', '#COVID19', 'vaccine', 'and', 'who', 'in', 'Alabama', 'is', 'likely', 'to', 'get', 'it', 'first', 'https://t.co/EKLM1VMtxy'], ['Allina', 'Health', 'seeks', 'volunteers', 'for', 'COVID-19', 'vaccine', 'trial', 'https://t.co/tzjISOcl84', 'via', '@KARE11'], ['#Australia', 'on', 'Monday', 'began', 'the', 'local', 'production', 'of', 'a', '#COVID19', 'vaccine', 'candidate', 'developed', 'by', 'the', 'University', 'of', '#Oxford,', 'with', 'roughly', '30', 'million', 'doses', 'planned', 'to', 'be', 'manufactured', 'https://t.co/OpexLYfXH9'], ['The', 'delay', 'has', 'already', 'gummed', 'up', 'discussions', 'on', 'critical', 'issues,', 'including', 'plans', 'to', 'distribute', 'a', 'possible', 'coronavirus', 'vaccine.', 'Speaks', 'for', 'itself.', 'https://t.co/TxSoKlLXFc'], ['Australia', 'begins', 'production', 'of', 'Oxford-developed', 'COVID-19', 'vaccine', 'https://t.co/m86NALxIKu'], ['#CAmemberNews', 'Join', '@DeloitteUK’s', 'Life', 'Sciences', 'Catalyst', 'webinar', 'on', 'Thursday', '(12', 'Nov)', 'to', 'hear', 'from', 'Dr', 'Maheshi', 'Ramasamy', 'of', 'the', 'Oxford', 'Vaccines', 'Group,', 'as', 'they', 'explore', 'the', 'challenges', 'and', 'progress', 'being', 'made', 'in', 'finding', 'a', '#COVID19', '#vaccine.', 'Register:', 'https://t.co/XRFKQ2m8Pc'], ['Is', 'a', 'weak', 'Covid-19', 'vaccine', 'good', 'enough?', 'Scientists', 'debate', 'how', 'much', 'to', 'lower', 'the', 'bar', 'https://t.co/nS6mg7KWyN', 'via', '@nbcnews'], ['Wantai', 'to', 'begin', 'mid-stage', 'trial', 'for', 'Covid-19', 'nasal', 'spray', 'vaccine', 'in', 'China', 'https://t.co/R6i6VwgKCX'], ['The', 'mink', 'version', 'of', '#Covid19', 'may', 'well', 'put', 'an', 'end', 'to', 'any', 'hope', 'of', 'a', 'vaccine', '#r4today', '@BBCr4today'], ['Covid-19', 'vaccine', 'candidate', 'is', '90%', 'effective,', 'says', 'manufacturer', 'https://t.co/jYOdAVVxwA'], ['Pfizer', 'said', 'its', 'experimental', 'vaccine', 'was', 'more', 'than', '90%', 'effective', 'in', 'preventing', 'COVID-19', 'based', 'on', 'initial', 'data', 'from', 'a', 'large', 'study', 'https://t.co/PetQxFWMqE', 'https://t.co/0lzRRYZx3Z'], ['Pfizer,', 'BioNTech', 'say', 'their', 'COVID-19', 'vaccine', 'is', 'more', 'than', '90%', 'effective', 'https://t.co/cGp3bGuoeq'], ['Coronavirus', 'vaccine', 'from', 'Pfizer,', 'BioNTech', 'prevents', 'COVID-19,', 'early', 'results', 'show', 'https://t.co/Bv3CbhK41R', 'via', '@BioPharmaDive'], ['Flu', 'vaccines', 'never', 'reach', '90%,', 'enough', 'said.....', 'What', 'does', \"Pfizer's\", \"'90%\", \"effective'\", 'COVID-19', 'vaccine', 'actually', 'mean?', 'https://t.co/9wxudXk4Yf', 'via', '@nypost'], ['@realDonaldTrump', '@US_FDA', 'The', 'Pfizer', 'vaccine', 'didn’t', 'have', 'a', 'fucking', 'thing', 'to', 'do', 'with', 'you', 'or', 'your', 'almost', 'nonexistent', 'Covid-19', 'program.', 'Pack', 'a', 'bag', 'you', 'are', 'finished.'], ['\"The', 'main', 'issue', 'is', 'that', 'the', 'vaccine,', 'which', 'is', 'based', 'on', 'a', 'novel', 'technology', 'that', 'uses', 'synthetic', 'mRNA', 'to', 'activate', 'the', 'immune', 'system', 'against', 'the', 'virus,', 'needs', 'to', 'be', 'kept', 'at', 'minus', '70', 'degrees', 'Celsius\"', '😶', '#Pfizer', '#COVID19', 'https://t.co/SjTbQT5GUV'], ['BioNTech', 'the', 'German', 'company', 'behind', 'the', 'potential', 'Covid-19', 'vaccine.', '#BioNTech', '#Pfizer', '#Covid19Vaccine', 'https://t.co/AywGDK9pgL'], ['What', 'is', 'mRNA?', 'In', 'enthusiasm', 'for', 'vaccine', 'news,', 'I', 'had', 'not', 'bothered', 'to', 'read', 'this', 'is', 'groundbreaking', 'tech.', 'Truly', 'amazing.', 'Can’t', 'get', 'my', 'head', 'around', 'how', 'one', '*makes*', 'mRNA.', 'Googling', 'what', 'is', 'synthetic', 'RNA...', 'But,', 'unknown', 'immune', 'response/inflammation', 'is', 'concerning.', 'https://t.co/weSeEUUOHK'], ['Even', 'with', 'a', 'vaccine,', 'COVID-19', 'will', 'last', 'for', 'years,', 'expert', 'says', 'https://t.co/mxm1Z3kJ2s'], ['What', 'are', 'the', 'potential', '#supplychain', 'challenges', 'associated', 'with', 'globally', 'distributing', 'a', 'COVID-19', '#vaccine?', 'Register', 'today', 'for', 'our', 'upcoming', 'webinar', 'where', \"we'll\", 'discuss', 'the', 'biggest', 'threats', 'to', 'supply', 'chains,', 'including', 'https://t.co/Qt5ny0hwoZ'], ['@newtgingrich', 'This', 'vaccine', 'for', 'the', 'coronavirus', 'should', 'be', 'called', \"Trump's\", 'vaccine', 'not', \"Biden's\", 'back', 'scene', 'the', 'Democrats', 'are', 'already', 'acting', 'like', \"he's\", 'going', 'to', 'get', 'the', 'credit', 'for', 'it', \"ain't\", 'no', 'damn', 'way', '74', 'million', 'people', 'know', 'better', 'course.', 'Right', 'now', 'how', 'Biden', 'is'], [\"Pfizer's\", 'COVID-19', 'vaccine', 'is', 'reportedly', 'being', 'flown', 'by', 'United', 'Airlines', 'chartered', 'flights', 'to', 'distribution', 'hubs,', 'in', 'anticipation', 'of', 'FDA', 'approval', 'https://t.co/nPZIzPtUDK', '#WallSt'], ['How', 'mapping', 'technology', 'and', 'location', 'intelligence', 'will', 'help', 'COVID-19', 'vaccine', 'distribution', 'https://t.co/E15Cde9Uq7', 'via', '@FierceHealth', '#COVID19'], ['No', 'COVID-19', 'vaccine,', 'no', 'normal', 'life,', 'UK', 'minister', 'suggests', 'https://t.co/enfalxTwX9'], ['Which', 'COVID-19', 'vaccine', 'could', 'reach', 'developing', 'countries', 'first?', 'https://t.co/1kXmFfxd9Y'], ['@RudyGiuliani', '3', 'pharm.companies', 'created', 'a', 'Covid-19', 'vaccine', 'in', '“WARP', 'SPEED”!', 'Pres.Trump', 'had', 'these', 'vaccines', 'produced', '&amp;', 'almost', 'ready', 'for', 'the', 'market', 'for', 'FREE!!!', 'Just', 'another', 'reason', 'for', 'him', 'to', 'get', 'the', 'Nobel', 'Peace', 'Prize.', 'Pres.Trump', 'shud', 'go', 'down', 'in', 'histo'], ['People', 'here', 'dying', 'in', 'global', 'record', 'numbers', 'each', 'day', 'and', 'still', 'the', 'FDA', 'can’t', 'figure', 'out', 'it', 'might', 'be', 'a', 'good', 'idea', 'to', 'get', 'CytoDyn’s', 'Leronlimab', 'out', 'there', 'to', 'save', 'some', 'lives.', 'Just', 'keep', 'paying', 'attention', 'to', 'BigPharma', 'vaccines', 'while', 'thousands', 'die', 'each', 'day.', 'Great', 'work', 'for', 'Pharma', 'lobbyists', 'https://t.co/YykBkX0QzV'], ['Option', 'A:', 'SA', 'does', 'not', 'have', 'the', 'money.', 'Option', 'B:', 'ANC', \"didn't\", 'pay', 'so', 'they', 'can', 'keep', 'us', 'in', 'lockdown', 'longer', 'and', 'blame', 'lack', 'of', 'access', 'to', 'vaccines.', 'https://t.co/oxXzOZtdPK'], ['Companies', 'in', 'the', 'COVID-19', 'supply', 'chain', '—', 'from', 'research', 'of', 'therapies,', 'healthcare', 'delivery', 'to', 'distribution', 'of', 'a', 'vaccine', 'need', 'to', 'be', 'vigilant', 'and', 'remain', 'on', 'high', 'alert', 'during', 'this', 'time.', '#healthcare', '#lifesciences', '#covid19', '#cybersecurity', 'https://t.co/NhFtSGQi2u'], ['Other', 'countries', 'now', 'following', 'the', 'UK', 'to', 'approve', 'the', 'Pfizer/BioNTech', '#COVID19', 'vaccine.', \"Bahrain's\", 'regulators', 'have', 'now', 'also', 'signed', 'it', 'off,', 'making', 'them', 'the', 'second', 'country', '(after', 'the', 'UK)', 'to', 'do', 'so.'], ['A', '#COVID19', '#vaccine', 'has', 'arrived.', 'Get', 'ready', 'for', 'the', 'rollout.', 'The', 'UK', 'is', 'set', 'to', 'become', 'the', 'first', 'Western', 'country', 'to', 'vaccinate', 'its', 'citizens', 'https://t.co/GHnIVSbMTV'], ['DHS:', 'Multiple', 'COVID-19', 'vaccines', 'may', 'be', 'available', 'at', 'the', 'same', 'time', 'READ', 'MORE:', 'https://t.co/OcOEQ0LNzl', '#BillGates', '#cdc', '#GatesFoundation', '#GAVI', '#SDG', '#UN', '#Vaccination', '#Vaccine', 'https://t.co/y0hdgdRf9r'], ['@DrAngelaCDunn', 'Please', 'consider:', 'The', 'uber', 'lower', 'CFR', 'in', 'Africa', 'is', 'mapped', 'directly', 'to', 'geographic', 'locations', 'w/', 'endemic', 'malaria,', 'where', 'Anti-Malaria', 'Rx', 'are', 'in', 'wide', 'use.', 'Zinc', 'ionophores', 'as', 'a', 'Rx', 'for', 'coronavirus', 'SARS-CoV-2', 'is', 'mutating', 'fast,', 'it', 'could', 'dodge', 'curr'], ['No', 'coronavirus', 'vaccine', 'for', 'common', 'people', 'till', '2022,', 'Covid', \"won't\", 'vanish,', 'says', 'AIIMS', 'Director', 'Randeep', 'Guleria', '-', 'Coronavirus', 'Outbreak', 'News', 'https://t.co/QK9tSQmXYo'], ['Inside', 'the', 'effort', 'to', 'get', 'Americans', 'a', 'COVID-19', 'vaccine', 'https://t.co/j4q9FVn0lG', 'David', 'Martin', 'reports', 'on', 'the', 'military', 'efforts', 'underway', 'to', 'inoculate', '300', 'million', 'Americans', 'with', 'an', 'anticipated', 'COVID-19', 'vaccine.', 'https://t.co/ilMSKg0VUZ', 'https://t.co/pQxLGPstjq'], ['#COVID19', 'Mutations', 'in', 'coronavirus', 'have', 'triggered', 'culls', 'of', 'all', '17', 'million', 'farmed', 'mink', 'in', 'Denmark.', 'Part', 'of', 'the', 'country', 'has', 'been', 'put', 'under', 'lockdown', 'after', 'Danish', 'authorities', 'found', 'genetic', 'changes', 'they', 'say', 'might', 'undermine', 'the', 'effectiveness', 'of', 'future', 'Covid-19', 'vaccines.', 'https://t.co/hGNNGQG7qO'], ['@Johnrashton47', 'Whether', 'an', 'effective', 'COVID-19', 'vaccine', 'will', 'be', 'universally', 'available', 'in', 'the', 'UK', 'within', 'a', 'year', 'is', 'unclear.'], ['#BREAKING:', \"Pfizer's\", '#COVID19', 'vaccine', 'prevented', 'more', 'than', '90%', 'of', 'infections', 'in', 'a', 'study', 'of', 'tens', 'of', 'thousands', 'of', 'volunteers,', 'reports', '@business', 'https://t.co/rEREhypggN'], ['The', 'first', '#coronavirus', 'vaccine', 'can', 'prevent', 'more', 'than', '90%', 'of', 'people', 'from', 'getting', '#COVID19,', 'a', 'preliminary', 'analysis', 'shows.', 'https://t.co/ucK3TNkJVB'], ['Desperately', 'searching', 'my', 'retirement', 'funds', 'to', 'see', 'if', 'there', 'is', 'some', '@pfizer', 'stock', 'there.', '#vaccine', '#Pfizer', '#CovidVaccine', '#COVID19'], ['Do', 'you', 'plan', 'on', 'getting', 'Pfizer’s', '$PFE', '#coronavirus', 'vaccine', 'once', 'it’s', 'released', 'to', 'the', 'public?'], ['Thanks', 'TO', 'PRESIDENT', 'TRUMP', 'for', 'working', 'hard', 'to', 'provide', 'this', 'vaccine!', 'https://t.co/4pzF6PSAWI'], ['Coronavirus:', 'The', 'married', 'couple', 'behind', 'the', 'successful', 'Pfizer', 'COVID', 'vaccine', 'https://t.co/eSXi6xZWsv'], ['Will', 'you', 'take', 'a', 'Covid-19', 'vaccine', 'when', 'it', 'is', 'available?', '#CovidVaccine', '#Pfizer', '#Pfizervaccine'], ['Will', 'you', 'get', 'the', 'fast', 'tracked', 'COVID-19', 'vaccine?'], ['📻', 'Bitcoin', 'price', 'outlook', 'still', 'bullish', 'despite', 'drop', 'from', 'COVID-19', 'vaccine', 'news', 'https://t.co/oKMI9Yd6Aa', 'https://t.co/HHvClbTSId'], ['NEW', 'from', '@kevincollier:', 'North', 'Korea', 'and', 'Russia', 'are', 'still', 'trying', 'to', 'hack', 'some', 'of', 'the', \"world's\", 'most', 'prominent', 'coronavirus', 'vaccine', 'researchers,', 'cybersecurity', 'researchers', 'said', 'Friday.', 'https://t.co/nvhlQcTv0L'], ['Trump', 'Administration', 'Reaches', 'Deal', 'With', 'Pharmacies', 'to', 'Make', 'COVID-19', 'Vaccine', 'Free', 'https://t.co/ovpXf7QlfW...', 'Jon', 'Rapaport', 'article:', 'Fake', 'Covid', 'vaccine', 'success.', 'https://t.co/819ZwRltyR...', '@', \"farmerjones'\", 'Kracken', 'shared!'], ['The', 'European', 'Union', 'has', 'struck', 'a', 'deal', 'for', 'up', '405', 'million', 'doses', 'of', 'German', 'biotech', 'firm', \"CureVac's\", 'potential', 'Covid-19', 'vaccine…', '#Business', '#World', '#Coronavirus', '#News', '#Health', 'https://t.co/S02z7GtVXv'], ['@Mr_Swrites', 'Find', 'the', 'coronavirus', 'vaccine.'], ['Pfizer', 'will', 'file', 'for', 'emergency', 'use', 'of', 'Covid-19', 'vaccine', 'on', 'Friday', 'https://t.co/tYzpxz2WrZ'], ['One', 'of', 'the', 'best', 'overall', 'explanations', 'of', 'what', '95%', 'efficacy', 'for', '#COVID19', 'vaccines', 'means', 'as', 'well', 'as', 'potential', 'limitations', 'of', 'the', 'vaccines:', '👇', 'https://t.co/sfsZz4UYDI'], ['Oil', 'prices', 'settle', 'up', 'over', '2%', 'on', 'COVID-19', 'vaccine', 'news', 'https://t.co/oZBQat8eFi'], ['COVID-19', 'vaccines', 'secured', 'for', 'more', 'than', '270,000', 'Jamaicans', 'https://t.co/zaHsJi7GNL'], ['@RealWayneRoot', 'No', 'one', 'cares', 'what', 'you', 'do', 'for', 'Christmas', 'it', 'is', 'your', 'house', 'and', 'your', 'life.', 'But', 'you', 'have', 'no', 'right', 'to', 'be', 'reckless', 'with', 'your', 'health', 'and', 'go', 'around', 'town', 'Endangering', 'others..', 'Even', 'the', 'vaccine', 'maker', 'says', 'to', 'be', 'careful', 'idiot', 'https://t.co/DjLRP9lwav'], ['PM', 'Narendra', 'Modi', 'to', 'embark', 'on', 'a', '3', 'city', 'visit', 'today', 'to', 'review', 'covid-19', 'vaccine', 'development', 'https://t.co/3BVtqtLdeI', 'via', 'NaMo', 'App', 'https://t.co/Eb4qfWZyIU'], ['\"Both', '#Moderna', 'and', '#BioNTech', '–', 'which', 'had', 'been', 'founded', 'by', 'a', '#Turkish', 'born', 'entrepreneur', 'called', 'Ugur', 'Sahin,...', 'In', '2017,', 'Moderna', 'began', 'developing', 'a', 'potential', 'Zika', 'virus', '#vaccine,', 'while', 'in', '2018', 'BioNTech', 'entered', 'into', 'a', 'partnership', 'with', '#Pfizer', 'to', 'develop', '#mRNA', 'vaccines', 'for', 'influenza\"', 'https://t.co/RYmmtrTisk'], ['I’m', 'willing', 'to', 'bet', 'a', 'lot', 'of', 'my', 'own', 'money', 'the', 'Philippines', 'WON’T', 'give', 'a', 'free', 'COVID-19', 'vaccine', 'to', 'its', 'people.', 'Come', 'back', 'at', 'me', '🤣🤣🤣🤣', 'please,', 'i', 'dare', 'anyone', '🤣🤣', 'https://t.co/RFDHwimwJu'], [\"Isn't\", 'the', 'vaccine', 'a', 'mild', 'case', 'of', 'the', 'virus?', 'https://t.co/EVnTWTfQuR'], ['60', 'years', 'after', 'Coronation', \"Street's\", 'first', 'ever', 'episode', 'was', 'shown,', 'and', '40', 'years', 'after', 'John', 'Lennon', 'took', 'his', 'final', 'breath,', 'another', 'historic', 'event', 'takes', 'place', 'on', 'December', '8', '-', 'the', 'first', 'administration', 'of', 'a', '#COVID19', 'vaccine.'], ['How', 'safe', 'will', 'coronavirus', 'vaccines', 'be?', 'https://t.co/l7j3Qe86WH'], ['Amid', 'history', 'of', 'mistreatment,', 'doctors', 'struggle', 'to', 'sell', 'Black', 'Americans', 'on', 'coronavirus', 'vaccine', 'https://t.co/t5xv22QNLv'], ['Business', 'Insider', '-', 'Photos', 'show', 'what', 'it', 'looks', 'like', 'in', 'the', 'UK', 'as', 'citizens', 'receive', 'the', 'first', 'doses', 'of', 'the', 'new', 'COVID-19', 'vaccine', 'https://t.co/9Q8PxOO63N', 'https://t.co/dhKXfzFSYy'], ['MORE:', 'UK', \"gov't,\", 'social', 'media', 'networks', 'agree', 'measures', 'to', 'tackle', 'COVID-19', 'vaccine', 'disinformation', '#SputnikUpdates', 'https://t.co/44dlPgxaE8'], ['Inside', 'the', 'Operation', 'Warp', 'Speed', 'effort', 'to', 'get', 'Americans', 'a', 'COVID-19', 'vaccine', 'https://t.co/FPzpWOkOaS'], ['#RT', '@JacobTh85649736:', 'The', 'latest', 'The', 'Coronavirus', 'AND', 'CoVID', 'Daily!', 'https://t.co/d232CZoCVG', 'Thanks', 'to', '@JeffWiegner', '@funtoretire', '#coronavirus', '#vaccine'], ['If', 'proven', 'safe,', 'a', 'leading', 'Covid-19', '#vaccine', 'candidate,', 'developed', 'by', '#Pfizer', 'and', 'BioNTech,', 'could', 'begin', 'distribution', 'by', 'end', 'of', 'the', 'year', 'https://t.co/DF1p4I7Cla'], ['(AP', 'News)', 'Pfizer', 'says', 'early', 'data', 'signals', 'COVID-19', 'vaccine', 'is', 'effective', 'https://t.co/3abE0whZrQ', '#Business', '#DiseaseOutbreaks', '#DiseasesAndConditions', '#GeneralNews', '#Health', '#HealthCareIndustry', '#Immunizations'], ['The', 'company', 'said', 'that', 'the', 'analysis', 'found', 'that', 'the', 'vaccine', 'was', 'more', 'than', '90', 'percent', 'effective', 'in', 'preventing', 'the', 'disease', 'among', 'trial', 'volunteers', 'who', 'had', 'no', 'evidence', 'of', 'prior', 'coronavirus', 'infection.'], ['Johnson', 'welcomed', 'reports', 'of', 'a', 'coronavirus', 'vaccine', 'https://t.co/ByHur7bnI6'], ['A', 'coronavirus', 'expert', 'has', 'claimed', 'a', 'vaccine', \"'will\", 'not', 'end', 'the', \"pandemic'\", 'https://t.co/98I7VQHiYo'], ['UK', 'Govt', 'Orders', 'Health', 'Service', 'To', 'Be', 'Ready', 'For', 'Covid', 'Vaccine', 'By', 'Next', 'Month', '#coronavirus', '#COVID19', '#UKCovidVaccine', '#Pfizer', '#Pfizervaccine', '#COVAX', '#AstraZeneca', '#moderna', '#vaccine', 'https://t.co/Aak4dMPoFH'], ['Italy', 'will', 'receive', 'an', 'initial', '3.4', 'mln', 'shots', 'of', 'the', 'Pfizer', 'coronavirus', 'vaccine,probably', 'in', 'January,a', 'government', 'source', 'told', 'Reuters', 'on', 'Tuesday.', 'The', 'country', 'will', 'be', 'allocated', 'some', '13.6%', 'of', 'the', 'first', '200', 'million', 'doses', 'made', 'available', 'to', 'Europe,', 'the', 'source', 'said.https://t.co/LftlQ1WYmn', 'https://t.co/ueeH407K4I'], ['Upbeat', 'news', 'on', 'a', 'coronavirus', 'vaccine', 'and', 'a', 'win', 'for', 'President-elect', 'Biden', 'drive', 'stocks', 'significantly', 'higher.', 'How', 'should', 'investors', 'trade', 'a', 'potentially', 'earlier', 're-opening?', 'https://t.co/Go8imD5hzC'], ['Let’s', 'be', 'completely', 'honest...', 'The', 'media', 'will', 'give', 'Biden', '100%', 'credit', 'for', 'the', 'Covid', 'vaccine', 'that', 'was', 'created', 'under', 'Trump', 'admin.', '#fact', 'https://t.co/pIik3nbd04'], ['Pfizer', 'plans', '‘just-in-time’', 'COVID-19', 'vaccine', 'distribution', 'in', 'Canada', '–', 'FreightWaves', 'https://t.co/yWLtbNEGf9'], ['Stockmarkets', 'flying', 'on', 'vaccine', 'news', 'https://t.co/PS6bzz5nK0', '#stocks', '#shares', '#forex', '#COVID19'], ['Investors', 'are', 'looking', 'past', 'the', 'presidential', 'election', 'and', 'toward', 'a', 'future', 'with', 'a', 'safe', 'and', 'effective', 'COVID-19', 'vaccine,', 'according', 'to', 'Ameriprise', 'Chief', 'Market', 'Strategist', 'David', 'Joy.', 'https://t.co/fjzU745gXp'], ['Interim', 'analysis', 'points', 'to', 'Oxford', 'AstraZeneca', 'Covid', 'vaccine', 'having', '70%', 'efficacy', 'https://t.co/q76rakTzrq'], ['Pfizer’s', 'COVID-19', 'vaccine', 'is', 'reportedly', 'being', 'flown', 'by', 'United', 'Airways', 'chartered', 'flights', 'to', 'distribution', 'hubs,', 'in', 'anticipation', 'of', 'FDA', 'approval', 'https://t.co/OhiA8G5SZo'], ['QANTAS', 'to', 'require', 'passengers', 'to', 'have', 'coronavirus', 'vaccine', 'for', 'international', 'travel.', 'https://t.co/A0eZsPmfEV', '#qantas', '#covid19', '#vaccine', '#coronavirus', 'https://t.co/IbMgnlUjAs'], ['POLITICS:', 'First', 'coronavirus', 'vaccine', 'jabs', 'given', 'to', 'patients', 'at', '50', 'hospital', 'hubs', 'next', 'week', '&gt;&gt;&gt;', 'Daily', 'Mirror', 'https://t.co/8lcf2CYXwB'], ['Can', 'employers', 'require', 'you', 'to', 'get', 'a', 'COVID-19', 'vaccine?', '–', 'KRQE', 'News', '13', 'https://t.co/9MmpmRoV37'], ['Prof', 'Van-Tam', 'on', 'when', 'teachers', 'could', 'receive', 'Covid-19', 'vaccine', 'https://t.co/aT9PlGZSPF'], ['The', 'U.S.', '#airline', 'industry', 'and', 'its', 'pilots', 'are', 'essential', 'to', 'the', 'distribution', 'of', 'a', 'COVID-19', 'vaccine.', 'Congress', 'and', 'government', 'leaders', 'must', '#ExtendPSP', 'now', 'to', 'ensure', 'critical', 'infrastructure', 'is', 'in', 'place', 'to', 'distribute', 'a', 'vaccine—American', 'lives', 'depend', 'on', 'it', '@sentoddyoung.'], ['Should', 'people', 'be', 'paid', 'to', 'get', 'the', 'COVID-19', 'vaccine?', 'https://t.co/RPcWvjACgk', 'via', '@TODAYshow'], ['#Albanian', 'government', 'pays', '3.9', 'million', 'dollars', 'for', 'access', 'to', 'COVID-19', 'vaccine', '➡️https://t.co/dDNYDMJ3ZR', 'https://t.co/gsdBvg0oW9'], ['\"...it', 'makes', 'a', 'lot', 'of', 'sense', 'for', 'teachers', 'to', 'be', 'among', 'the', 'first', 'to', 'receive', 'the', 'COVID-19', 'vaccine,', 'because', 'once', 'vaccinated', 'they', 'can', 'safely', 'engage', 'in', 'on-campus', 'instruction', 'and', 'our', 'schools', 'can', 'be', 'reopened', 'safely.\"', 'https://t.co/C0ygjGaGbF'], ['On', '#AppleNewsToday:', '•', 'How', 'the', 'wealthy', 'could', 'get', 'a', '#COVID19', 'vaccine', 'first', '•', 'What', 'the', 'future', 'of', 'movie', 'theaters', 'could', 'look', 'like', '•', 'Possible', 'answers', 'about', 'how', 'life', 'began', 'on', 'Earth', 'Listen', 'to', 'the', 'show', 'on', 'Apple', 'News:', 'https://t.co/qsJ46oEtYT', 'https://t.co/EOiyYyzTBB'], ['This', 'Australian', 'produced', 'COVID-19', 'podcast', 'has', 'been', 'great', 'to', 'listen', 'to', 'daily.', 'Have', 'not', 'missed', 'an', 'episode', 'in', 'months!', 'This', 'latest', 'episode', 'is', 'probably', 'the', 'most', 'interesting', 'to', 'date,', 'explaining', 'with', 'context,', 'the', 'vaccines', 'available', 'in', 'late', '2020', '/', 'early', '2021.', 'https://t.co/33eBJuMqY4'], ['A', '90-year', 'UK', 'woman', 'becomes', 'the', 'first', 'in', 'the', 'world', 'to', 'receive', 'a', 'COVID-19', 'vaccine', 'outside', 'of', 'trial', 'https://t.co/MeV2mOHltQ'], ['Watching', 'his', 'emotional', 'reaction', 'one', 'can', 'imagine', 'the', 'enormous', 'pressure', '@MattHancock', 'experiences', 'while', 'doing', 'his', 'bit', 'towards', 'the', '#vday.', '#vaccine', 'https://t.co/HjmQURylUN'], ['Vietnam', 'to', 'start', 'human', 'trials', 'for', 'indigenous', 'Covid-19', 'vaccine', 'following', 'successful', 'testing', 'on', 'animals', 'https://t.co/bDxBj4vehn', '#news'], ['@funder', 'Too', 'late', 'for', 'that', 'for', 'sure,', 'meaning', 'the', 'campfire', 'thing.', 'Lets', 'see', 'how', 'that’s', 'handled', 'now', 'with', 'coronavirus.', 'Hope', 'Biden', 'does', 'not', 'try', 'to', 'take', 'credit', 'for', 'a', 'vaccine', 'already', 'in', 'the', 'works.'], ['Australia,', 'and', 'other', 'countries', 'with', 'quasi-elimination', 'of', '#covid19,', 'are', 'great', 'places', 'to', 'run', 'Phase', 'I', '&amp;', 'II', '#covid19', 'vaccine', 'trials', 'But', 'critical', 'Phase', 'III', 'efficacy', 'trials', 'must', 'be', 'run', 'elsewhere', '(below,', 'we', 'analysed', 'what', 'this', 'means', 'for', 'Australian', 'policy)', 'https://t.co/aNAlOpR9HS', 'https://t.co/RPzU8WDvjw'], ['what', 'the', 'hell', 'are', 'you', 'talking', 'about?', 'Biden', 'had', 'nothing', 'to', 'do', 'with', 'a', 'vaccine!', 'https://t.co/kuyQJf8H55'], ['Coronavirus', 'vaccine', 'unable', 'to', 'stop', 'second', 'wave,', 'warns', 'deputy', 'chief', 'medical', 'officer', 'https://t.co/dUZSCtRFkt'], ['We', 'may', 'soon', 'have', 'a', '#COVID19', '#vaccine.', 'But', 'will', 'enough', 'people', 'take', 'it?', 'https://t.co/KvEIQOAFHE'], ['Useful', 'thread', 'on', 'vaccine', 'news', 'https://t.co/Y4fQyPjChc'], ['COVID-19', 'vaccine', '90%', 'effective', 'in', 'early', 'analysis,', 'claims', 'Pfizer;', \"'life\", 'could', 'return', 'to', 'normal', 'by', \"Spring',\", 'says', 'UK', 'govt', 'adviser', 'https://t.co/ppHcMMZSHY'], ['The', 'vaccine', 'is', 'the', 'first', 'to', 'be', 'tested', 'in', 'the', 'United', 'States', 'to', 'generate', 'late-stage', 'data.', 'https://t.co/enYdjBtHZ5', '#DrugDiscovery', '#coronavirus', '#COVID19'], ['Pfizer', 'announced', 'that', 'its', 'candidate', 'vaccine', 'is', '90', 'percent', 'effective', 'in', 'preventing', 'coronavirus', 'disease', 'infections', 'in', 'the', 'ongoing', 'Phase', '3', 'trials', 'and', 'may', 'reach', 'the', 'Philippines', 'by', 'the', 'first', 'quarter', 'of', '2021.', 'Story:', 'https://t.co/1aKumvN88g'], ['Raila', 'Odinga', 'meets', 'Chinese', 'envoy', 'for', 'talks', 'on', 'BBI,', 'coronavirus', 'vaccine.', '@citizentvkenya', 'https://t.co/v4vxtnDzOw'], ['Are', 'Americans', 'shocked', 'that', 'Trump', 'is', 'taking', 'credit', 'for', 'the', 'COVID-19', 'vaccine?', 'NOPE.', '#TrumpIsOver', 'https://t.co/PdskCcfrJ9'], ['Pfizer', 'has', 'even', 'more', 'good', 'news', 'today', 'about', 'its', 'coronavirus', 'vaccine', 'https://t.co/XDXbML8Bx3'], ['Tennessee', 'ready', 'to', 'distribute', 'COVID-19', 'vaccine', 'within', '24', 'to', '48', 'hours', 'of', 'approval', 'by', 'FDA', 'https://t.co/E9HEueKHiE'], ['COVID-19', 'vaccine', 'set', 'to', 'hit', 'Central', 'Coast', 'pharmacies', 'by', 'the', 'end', 'of', 'the', 'year', '-', 'KSBY', 'San', 'Luis', 'Obispo', 'News:', 'In', 'a', 'partnership', 'with', 'the', 'Department', 'of', 'Health', 'and', 'Human', 'Services,', 'pharmacies', 'like', 'Albertsons', 'and', 'Vons', 'will', 'be', 'receiving', 'the', 'COVID-19', 'vaccine,', 'once…', 'https://t.co/YL7G2yj0em', 'https://t.co/BKeS8JJObN'], ['As', 'the', 'prospect', 'of', 'a', 'COVID-19', 'vaccine', 'nears,', 'we', 'look', 'at', 'some', 'of', 'the', 'news', 'relating', 'to', 'key', 'listed', 'shares', 'as', 'well', 'as', 'their', 'price', 'charts,', 'broker', 'ratings', 'and', 'client', 'sentiment:', 'Via', '@IGSouthAfrica', '@ShaunMurison_IG', 'https://t.co/hNrUdN2d40'], ['Three', 'actually.', 'The', 'Astra', 'Zeneca', 'vaccine', 'has', 'been', 'ahead', 'in', 'the', 'game.', 'https://t.co/8SYVN9lkSM'], ['Searching', 'for', 'antibodies.', 'Volunteers', 'from', 'Russia’s', 'coronavirus', 'vaccine', 'trials', 'are', 'conducting', 'their', 'own', 'studies', 'of', 'its', 'effectiveness', 'https://t.co/Azi1MZraIb'], ['Alberta', 'set', 'to', 'receive', 'about', '686,000', 'doses', 'of', 'Pfizer', 'and', 'Moderna', '#coronavirus', 'vaccines', 'should', 'trials', 'continue', 'to', 'go', 'well.', 'https://t.co/dypVxNr0Kv'], ['From', 'fake', 'contact', 'tracing', 'apps', 'to', 'attacks', 'on', 'vaccine', 'makers,', 'COVID-19', 'will', 'define', 'cyberattacks', 'in', '2021,', 'experts', 'say.', \"Here's\", 'how', 'businesses', 'can', 'prepare.', 'https://t.co/Dg9gAb5nJe'], ['ECC', 'approves', '$', '150m', 'for', 'Covid-19', 'vaccine', 'purchase', 'https://t.co/ybYjVh6mg0'], ['@JoyAnnReid', 'After', 'all', 'the', 'racist', 'names', 'Individual', '1', 'has', 'called', 'Covid-19', 'which', 'contributed', 'to', 'the', 'increase', 'of', 'hate', 'crimes', 'against', 'Asian', 'Americans,', 'the', 'idea', 'of', 'a', 'vaccine', 'being', 'named', 'after', 'him', 'is', 'disgusting.'], ['@SRuhle', 'Coronavirus,', 'yet', 'it', 'is', 'not', 'coronavirus,', 'in', 'fact', 'a', 'foul-evil', '(rejz)', 'that', 'has', 'associates,', 'a', 'virus', 'coalition', '08', '-', '07', '-', '2020', 'Imam', 'Nasser', 'Mohammad', 'Al-Yemeni', 'covid-19', 'vaccine', 'Coronavirus', 'Biden', 'Trump', 'Texas', 'Georgia', 'Ted', 'Cruz', 'Morning...', 'https://t.co/dJrH'], ['A', 'panel', 'of', 'U.S.', 'advisers', 'will', 'meet', 'Tuesday', 'to', 'vote', 'on', 'how', 'scarce,', 'initial', 'supplies', 'of', 'a', 'COVID-19', 'vaccine', 'will', 'be', 'given', 'out', 'once', 'one', 'has', 'been', 'approved.', 'https://t.co/7xbFA2Uwce'], ['Today’s', 'coronavirus', 'news:', 'Ontario', 'is', 'reporting', '1,723', 'cases', 'and', '35', 'new', 'deaths;', 'U.K.', 'first', 'to', 'OK', 'Pfizer', 'COVID-19', 'vaccine', 'for', 'emergency', 'use;', 'Thornhill’s', 'Promenade', 'Mall,', 'T&amp;T,', 'Longo’s,', 'Dollarama', 'charged', 'https://t.co/cwvNkcCQt4'], ['.#UK', 'approves', '#Pfizer', '#coronavirus', '#vaccine,', 'a', 'first', 'in', 'the', 'West', 'https://t.co/r0CRUnuQsb'], ['UK', 'takes', 'delivery', 'of', 'first', 'batch', 'of', 'covid-19', 'vaccine', 'jab', 'https://t.co/9odfqSB2xX'], ['Doctor', 'explains', 'difference', 'between', 'the', 'three', 'COVID-19', 'vaccines', 'https://t.co/kbCbcyesg0'], ['@mab_sp125', '@f_reginato', '@izabellapena1', 'Caro', 'Dr.', 'Bruno', '@mab_sp125,', 'você', 'concorda', 'com', 'a', 'afirmação', 'da', 'editora', 'do', 'jornal', 'BMJ', '?', '\"Science', 'by', 'press', 'release,', 'on', 'the', 'basis', 'of', 'interim', 'or', 'ad', 'hoc', 'analyses,', 'and', 'without', 'access', 'to', 'the', 'data,', 'also', 'afflicts', 'our', 'knowled'], ['@gcampbellmusic', 'COVID-19', 'mRNA', 'Vaccine', 'BNT162b2', 'is', 'not', 'recommended', 'during', 'pregnancy.', 'For', 'women', 'of', 'childbearing', 'age,', 'pregnancy', 'should', 'be', 'excluded', 'before', 'vaccination', '•It', 'is', 'unknown', 'whether', 'COVID-19', 'mRNA', 'Vaccine', 'BNT162b2', 'is', 'excreted', 'in', 'human', 'milk'], ['@Pocogirl1', '@rexglacer', 'It', 'will', 'be', 'interesting', 'especially', 'since', 'we', 'have', 'been', 'down', 'that', 'road', 'with', 'the', 'flu', 'vaccine', '-', 'will', 'COVID-19', 'vaccinations', 'be', 'any', 'different.', 'Didn’t', 'Bonnie', 'Henry', 'say', 'the', 'vaccine', 'would', 'not', 'be', 'mandatory?', 'https://t.co/Wm1ptsMM3j'], ['All', '50', 'hospitals', 'to', 'get', 'Covid-19', 'vaccine', 'this', 'week', '-', 'and', 'your', 'nearest', 'hub', 'https://t.co/XBoFwaPhSd'], ['Covid-19', 'vaccination:', 'Former', 'US', 'Presidents', 'step', 'in', 'to', 'allay', 'fears', 'of', 'Corona', 'vaccine', 'https://t.co/41wnQeNWuk'], ['Perhaps', 'would', 'have', 'been', 'more', 'historical', 'if', 'May', 'Parsons', 'was', 'seen', 'to', 'be', 'the', 'first', 'to', 'receive', 'vaccine', 'recognising', 'worth', 'of', 'NHS', 'staff', 'especially', 'those', 'from', 'overseas', 'https://t.co/2nRRjiAjYq'], ['Covid-19', 'vaccine:', 'First', 'UK', 'citizens', 'receive', 'shot,', 'a', 'landmark', 'moment', 'in', 'the', 'pandemic', '-', 'CNN', 'https://t.co/GodA9BOolN'], ['.@CSL', 'began', 'manufacturing', 'the', 'University', 'of', 'Oxford/AstraZeneca', 'AZD1222', 'Covid-19', 'vaccine', 'candidate', 'at', 'its', 'facility', 'in', 'Broadmeadows', 'in', 'northern', 'Melbourne', 'today.', 'https://t.co/xBb64K7DHA', '#COVID19', '#vaccine', '#manufacturing'], ['Australia', 'begins', 'production', 'of', 'Oxford-developed', 'COVID-19', 'vaccine', 'https://t.co/tM6UFLV9iM'], ['Operation', 'Warp', 'Speed', 'nears', 'pinnacle', 'of', 'mission', 'https://t.co/ibREXqpKWr', 'The', 'head', 'of', 'the', 'multibillion-dollar', 'COVID-19', 'response', 'operation', 'tells', '60', 'Minutes', 'how', 'his', 'team', 'hopes', 'to', 'distribute', '600', 'million', 'vaccine', 'doses.', 'https://t.co/aUWtFXVOkf', 'https://t.co/zwmsR5jCyK'], ['Another', 'vaccine', 'joins', 'the', 'clinical', 'trials', 'family.', 'Canadian', \"company's\", 'COVID-19', 'vaccine', 'candidate', 'begins', 'clinical', 'trial', 'in', 'Australia', 'https://t.co/i1ZdFEIRsX'], ['Australia', 'begins', 'production', 'of', 'Oxford-developed', 'Covid-19', 'vaccine', 'https://t.co/L4xUK60EQg'], [\"Here's\", 'what', 'we', 'still', \"don't\", 'know', 'about', 'a', 'COVID-19', 'vaccine,', 'according', 'to', 'an', 'expert', 'https://t.co/Ff3OoquJPP', '#COVID19', '#Vaccine', 'https://t.co/PJRCNwKsim'], ['Australia', 'begins', 'production', 'of', 'AstraZeneca', 'and', 'Oxford’s', 'covid-19', 'vaccine', 'candidate', 'https://t.co/rwm1Wq492t'], ['Corona', 'vaccine', 'and', \"it's\", 'effectiveness.', 'https://t.co/saNtX9kZ9p'], ['Pfizer,', 'BioNTech', 'say', 'their', 'COVID-19', 'vaccine', 'is', 'more', 'than', '90%', 'effective', '-', 'https://t.co/oJmrphdbra'], ['‘individuals', 'who', 'received', 'two', 'injections', 'of', 'the', 'vaccine', 'three', 'weeks', 'apart', 'experienced', 'more', 'than', '90%', 'fewer', 'cases', 'of', 'symptomatic', 'Covid-19', 'than', 'those', 'who', 'received', 'a', 'placebo.’', 'https://t.co/ubdcQkGc2b'], ['As', 'a', \"'\", \"layman'\", 'would', 'someone', 'please', 'explain', 'exactly', 'what', 'mRNA', 'vaccines', 'do', 'to', 'the', 'human', 'body', '.', 'Does', 'it', 'alter', 'your', 'DNA', 'or', 'RNA,', 'and', 'for', 'what', 'purpose', '?', 'https://t.co/tFLIJxgnGv'], ['A', 'COVID', 'patient', 'being', 'given', 'oxygen', 'in', 'his', 'hospital', 'bed', 'caused', 'a', 'fire', 'when', 'he', 'lit', 'a', 'cigarette.', \"There's\", 'no', 'vaccine', 'for', 'Darwinism,', 'folks.', 'https://t.co/dulgN1Ukxg'], ['Champagne', 'and', 'questions', 'greet', 'first', 'data', 'showing', 'that', 'a', 'COVID-19', 'vaccine', 'works', 'https://t.co/rbdpYRWSPu', '@sciencemagazine', '#science', '#news'], ['Everything', 'you', 'need', 'to', 'know', 'about', 'the', 'coronavirus', 'vaccine', 'https://t.co/9T2mLgAqia'], [\"We're\", 'getting', 'closer', 'to', 'an', 'effective', 'COVID-19', 'vaccine.', \"Here's\", 'what', 'it', 'will', 'cost', 'to', 'get', 'a', 'shot.', 'https://t.co/XvauJaVw97'], ['Vaccines', 'are', 'the', 'most', 'powerful', 'tool', 'against', 'infectious', 'diseases🦠', 'What', 'is', 'the', 'latest', 'evidence', 'on', 'COVID-19', '#vaccines?💉', 'Which', 'ones', 'are', 'at', 'the', 'final', 'stages', 'of', 'clinical', 'trials?🧑\\u200d⚕️', 'Read', 'the', '@POST_UK', 'latest', '#COVID19', 'analysis', 'here', '👇', 'https://t.co/SsZsJ0GcXu'], ['No', 'company', 'or', 'user', 'will', 'directly', 'profit', 'from', '#Covid19', '#vaccine', 'misinformation,', 'thanks', 'to', 'these', 'new', 'measures.', 'https://t.co/zoQwyZmOb4'], ['Brazil', 'resumes', 'clinical', 'trials', 'of', \"China's\", 'Sinovac', 'COVID-19', 'vaccine', 'https://t.co/gbTtbUI2kt'], ['Russia,', 'China', 'in', 'lead', 'as', 'Philippines', 'seeks', 'deals', 'for', 'Covid-19', 'vaccines', 'https://t.co/xRAHBwzOMo'], ['#ANewVaccine', 'that', 'protects', 'against', '#COVID19', 'is', 'nearly', '95%', 'effective,', 'early', 'data', 'from', 'US', 'company', '#Moderna', 'shows.', 'The', 'results', 'come', 'hot', 'on', 'the', 'heels', 'of', 'similar', 'results', 'from', '#Pfizer,', '&amp;', 'add', 'to', 'growing', 'confidence', 'that', 'vaccines', 'can', 'help', 'end', 'the', 'pandemic.-#BBCNews', 'https://t.co/v1R5Mvc6Zo'], ['\"Trump\\'s', 'transition', 'sabotage', 'threatens', '#vaccine', 'rollout\"', '——&gt;', 'https://t.co/Au6ULESw9L'], ['⚡️', '“Dolly', 'Parton', 'donated', '$1', 'million', 'to', 'COVID-19', 'vaccine', 'research”', 'by', '@ETCanada', 'https://t.co/RX5nU2dmun'], ['Pfizer-BioNTech', '#coronavirus', '#vaccine', '95%', 'effective', '-', 'memenewsdotcom:', 'View', 'On', 'WordPress', 'https://t.co/P5I9XC4DWL'], [\"Moderna's\", 'coronavirus', 'vaccine', \"doesn't\", 'need', 'to', 'be', 'as', 'icy', 'cold', 'as', \"Pfizer's,\", 'and', 'that', 'could', 'make', 'it', 'easier', 'to', 'distribute', 'https://t.co/5DmeqwqyaP', 'https://t.co/hTNSO1xFPT'], ['💉', 'Coronavirus:', 'Pfizer', 'seeking', 'approval', 'for', 'emergency', 'use', 'of', 'vaccine', 'after', 'jab', 'is', 'found', '95%', 'effective', '➡️', 'https://t.co/gE5Dl1jOrd', 'https://t.co/eiK51xsXmc'], ['The', '#EU', 'and', 'the', 'Pan', 'American', '#Health', 'Organization', 'have', 'partnered', 'with', 'the', '#Caribbean', 'Public', 'Health', 'Agency', 'to', 'get', 'purchase', 'over', '1M', 'doses', 'of', 'the', 'expected', 'COVID-19', 'vaccine(s)', 'for', 'Caribbean', 'Member', 'States,', '12', 'of', 'which', 'have', 'signed', 'up', 'with', 'the', '#Vaccine', 'Alliance', 'https://t.co/5tnamLwihX'], ['Oxford', 'AstraZeneca', 'Covid', 'vaccine', 'has', 'up', 'to', '90%', 'efficacy,', 'data', 'reveals', 'https://t.co/WIEdkrvHiZ'], ['In', 'this', 'week’s', '#TheTaste,', '@virsanghvi', 'writes,', '“I', 'doubt', 'if', 'America', 'will', 'approve', 'the', '#Oxford', '#vaccine', 'any', 'time', 'soon.', 'But', 'we,', 'in', 'India,', 'should', 'give', 'it', 'emergency', 'approval', 'as', 'soon', 'as', 'possible.”', '#pandemic', '#coronavirus', '#COVID19', '@htTweets', 'https://t.co/UodzFrSIL6'], ['Pfizer,', 'Moderna', 'COVID-19', 'vaccine', 'emergency', 'use:', 'What', 'to', 'know', '-', 'Los', 'Angeles', 'Times', 'https://t.co/kdWXdV4L3e'], ['In', 'continued', 'cyber', 'attacks', 'on', 'key', 'pharma', 'companies', 'working', 'on', '#COVID19', 'vaccine,', 'a', 'fresh', 'wave', 'of', 'attacks', 'by', 'North', 'Korean', 'hackers', 'have', 'been', 'found', 'to', 'be', 'targeting', 'British', 'pharma', 'major,', '@AstraZeneca.', '#CoronaVaccine', 'https://t.co/eJgauGk0GA'], ['ICYMI:', 'Louisiana', 'expects', '1st', 'coronavirus', 'vaccine', 'doses', 'this', 'month;', 'Earliest', 'doses', 'to', 'go', 'to', 'frontline', 'hospital', 'workers', 'and', 'nursing', 'home', 'residents', 'and', 'staff', '(from', '@AP)', '#lalege', '#lagov', 'https://t.co/Q671XhcVdM'], ['Nation', 'sees', 'significant', 'decrease', 'in', 'childhood', 'vaccinations', 'during', 'COVID-19', 'era,', 'new', 'report', 'shows', 'https://t.co/mfNJ8kSv7A'], ['State’s', 'Top', 'Doc', 'Burke-Harris', 'to', 'Lead', 'Advisory', 'Team', 'as', 'African', 'Americans', 'Raise', 'COVID-19', 'Vaccine', 'Concerns', 'https://t.co/cIUV9qvvmt', '#immunization', '#Blackcommunity', '#blackdoctors', '#COVID-19', '#diabetes', '#Modernavaccine', '#obesity', '#PeoplesAllianceforJustice', '#PfizerInc', '#Pfizervaccine'], ['Hey', '#MAGA,', 'This', 'may', 'come', 'as', 'a', 'shock', 'but,', 'your', 'guy,', '@realdonaldtrump', 'passed', 'on', 'a', 'higher', 'number', 'of', 'vaccines,', 'this', 'summer.', 'That', 'means', 'he', \"doesn't\", 'care', 'if', 'your', 'reckless', 'activities,', 'like', 'attending', 'his', 'rallies,', 'causes', 'your', 'death.', 'Harsh,', 'but', 'this', 'IS', 'your', 'guy.', 'https://t.co/JHHksLdIYc'], ['Covid', 'vaccine:', 'Can', 'you', 'be', 'fired', 'if', 'you', 'refuse', 'to', 'take', 'it?', 'https://t.co/lIYFtg1PHG'], ['1/3', 'Basic', 'things', 'to', 'know', 'about', 'the', 'COVID-19', 'vaccine', 'development...', '1/', 'CDC', 'still', 'claims', 'it', 'will', 'be', 'ready', 'in', '2020', 'https://t.co/p2tn0IKKY8'], ['Vaccination', 'in', 'Malaysia', 'is', 'Halal', 'What', 'we', 'should', 'know', 'basic', 'things', 'about', 'vaccines?', 'Why', 'we', 'should', 'take', 'it,', 'options', 'or', 'compulsary?', 'How', 'about', 'its', 'halal', 'status?', '#globalhaltech', '#vaccines', '#halal', '#halalvaccines', '#virus', '#covid19#immunisation', '#diphteria', '#prevention', '#muslim', '#muslimfriendly', 'https://t.co/prVz5ODXOn'], ['Galvez:', 'Bulk', 'of', 'vaccines', 'vs.', 'COVID-19', 'to', 'arrive', 'end', 'of', '2021,', 'early', '2022', 'https://t.co/lFCnqkro5h'], ['Govt', 'continues', 'to', 'work', 'with', 'social', 'media', 'platforms', 'to', 'tackle', 'disinformation', 'during', 'the', '#Covid19', 'pandemic', '-', 'focus', 'is', 'now', 'on', 'public', 'health', 'messaging', 'about', 'vaccines', 'https://t.co/2FMJAjKVF8'], ['JUST', 'IN:', 'Pfizer', 'announced', 'Monday', 'that', 'its', 'COVID-19', 'vaccine', 'candidate', 'has', 'been', '90%', 'effective.', 'https://t.co/WbRmw6aSSo'], ['Pfizer', 'says', 'early', 'analysis', 'shows', 'its', 'Covid-19', 'vaccine', 'is', '90%', 'effective', 'https://t.co/cVWFgAFEMG'], ['America', 'gets', 'closer', 'to', 'a', '#COVID19', 'vaccine', 'and', 'its', 'effectiveness', 'is', '90', 'percent.', 'https://t.co/L75RjmbBge'], ['@HKrassenstein', 'BREAKING:', 'Biden', 'will', 'have', 'NOTHING', 'to', 'do', 'with', 'any', 'vaccine', 'for', 'covid-19'], ['COVID19', 'vaccine', 'announcement.', 'Good:', '*', '~90%', 'of', 'individuals', 'achieve', 'immunity', '*', 'No', 'Significant', 'side-effects', 'Not', 'so', 'good:', '*', 'Two', 'doses', 'needed,', '3', 'weeks', 'apart,', 'immunity', 'after', 'one', 'month', 'from', 'first', 'dose', '*', '80C', 'storage', 'and', 'transport', 'needed.', 'https://t.co/vh08QWdiZR'], ['Pfizer', 'claims', 'its', 'Covid-19', 'vaccine', 'is', '90', 'percent', 'effective', 'so', 'far.', 'Here’s', 'what', 'we', 'actually', 'know.', 'https://t.co/ytol2woVQp', 'via', '@voxdotcom'], ['Oil', 'falls', 'as', 'renewed', 'lockdowns', 'counter', 'COVID-19', 'vaccine', 'hopes', 'https://t.co/gDVoL3jLL3', 'https://t.co/wwLfnBoUYD'], ['Some', 'useful', 'details', 'about', 'the', '#Pfizervaccine.', 'https://t.co/FF1jQbYXjD'], ['@PeripheryBand', 'Have', 'researched', 'your', 'own', 'Covid-19', 'vaccine?'], ['Where', 'things', 'stand', 'right', 'now', 'with', 'COVID-19', 'treatments', 'and', 'vaccines', 'https://t.co/ubJLpbyqg9', 'https://t.co/uIsLHikcIk'], ['Wall', 'Street', 'ended', 'sharply', 'lower', 'on', 'Thursday', 'as', 'US', '#coronavirus', 'infections', 'surged', 'and', 'investors', 'weighed', 'the', 'timeline', 'for', 'the', 'mass', 'rollout', 'of', 'an', 'effective', 'vaccine.'], ['Moderna', 'says', 'early', 'data', 'shows', 'its', 'vaccine', 'is', 'nearly', '95%', 'effective', 'in', 'preventing', 'COVID-19', 'https://t.co/YNNnfiGsYI', '#vaccine', '#IndiaFightsCOVID19', '#coronavaccine'], ['Dow', 'edges', 'higher', 'as', 'Pfizer', 'touts', 'vaccine', 'trial,', 'Boeing', 'shares', 'jump', 'https://t.co/IGkRRQUIe3'], ['Investors', 'are', 'looking', 'past', 'the', 'presidential', 'election', 'and', 'toward', 'a', 'future', 'with', 'a', 'safe', 'and', 'effective', 'COVID-19', 'vaccine,', 'according', 'to', 'Ameriprise', 'Chief', 'Market', 'Strategist', 'David', 'Joy.', 'https://t.co/8TYHRdy2UZ'], ['According', 'to', 'the', 'most', 'recent', 'wave', 'of', 'our', 'Coronavirus', 'tracking', 'study,', 'sports', 'fans', 'say', 'that', 'a', 'drop', 'in', 'the', 'infection', 'rate', 'and/or', 'a', 'vaccine', 'would', 'be', 'signals', 'that', 'it', 'is', 'safe', 'for', 'them', 'to', 'return', 'to', 'the', 'stands.', '@mktg', '#sportsbiz', '#covid19', 'https://t.co/W4FmaI5Mn0'], ['The', 'US-FDA', 'will', 'approve', 'COVID-19', 'vaccines', 'in', 'a', 'couple', 'of', 'weeks!', 'C-FDA', 'says', 'maybe', 'by', 'March.', 'Is', 'our', 'C-FDA', 'not', 'working', 'closely', 'with', 'the', 'US-FDA?', 'The', 'US-FDA', 'is', 'good', 'at', 'drug', 'testing', '&amp;', 'approvals.', 'Or', 'is', 'C-FDA', 'working', 'more', 'closely', 'with', 'WHO,', 'China', '&amp;', 'the', 'UN?', '#cdnpoli', '@Franktmcveety', '@lorrie'], ['Hackers', \"'try\", 'to', 'steal', 'Covid', 'vaccine', 'secrets', 'in', 'intellectual', 'property', \"war'\", 'https://t.co/aoTyWLevP3', '#COVID19', '#coronavirus', '#Hacking', '#vaccine', '#Russia', '#China', '#Iran', '#NorthKorea'], ['As', 'to', 'available', 'quantities', 'both', 'in', 'the', 'U.K.', 'and', 'worldwide,', 'given', 'this', 'vaccine', 'is', 'cheaper', 'and', 'more', 'stable', 'https://t.co/sS6qLfnmux'], ['Recently,', \"I've\", 'been', 'on', 'Kara', 'Marker', \"Credle's\", 'podcast,', 'Perspective2020,', 'discussing', 'the', 'COVID-19', 'pandemic', 'and', 'recent', 'vaccine', 'development', 'news.', 'Check', 'out', 'the', 'latter', 'if', \"you're\", 'burnt', 'out', 'on', 'the', 'bad', 'COVID-19-related', 'news', 'and', 'want', 'to', 'hear', 'some', 'good', 'news!', 'https://t.co/zFTqdfqO9e'], ['AstraZeneca', 'likely', 'to', 'conduct', 'another', 'global', 'trial', 'of', 'its', 'COVID-19', 'vaccine,', 'CEO', 'says', 'https://t.co/c7RNgALfmE'], ['UK', 'authorizes', 'Pfizer', 'coronavirus', 'vaccine', 'for', 'emergency', 'use', 'https://t.co/h2EYlqBgAl'], ['News:', '#UK', 'approves', 'Pfizer/BioNTech', 'COVID-19', 'vaccine', 'and', 'could', 'begin', 'vaccinations', 'next', 'week.', '@Pfizer_UK'], ['COVID-19', 'has', 'been', 'the', 'greatest', 'challenge', 'in', 'the', 'history', 'of', 'the', 'NHS', 'and', 'the', 'response', 'of', '#OurNHSPeople', 'has', 'been', 'nothing', 'short', 'of', 'inspirational.', \"We're\", 'recruiting', 'to', 'thousands', 'of', 'rewarding', 'careers,', 'including', 'roles', 'delivering', 'the', 'COVID', 'vaccine', 'programme.', '➡️https://t.co/Qx7Hiadh6f', 'https://t.co/FAb43fNe0R'], ['Facebook', 'to', 'remove', 'debunked', 'claims', 'about', 'coronavirus', 'vaccines', 'https://t.co/w11RTLV4EI', '#business', 'https://t.co/ANDdBcZ2J6'], ['In', 'RTI', 'response,', 'Health', 'ministry', 'says', 'not', 'aware', 'where', 'records', 'related', 'to', 'Covid-19', 'vaccine', 'expert', 'group', 'are', 'kept', 'via', '@htTweets', 'https://t.co/LgMQXz0HUx'], ['COVID-19', 'vaccine', 'coming', 'as', 'N.J.', 'plans', 'for', 'who', 'gets', 'it', 'first', 'https://t.co/loYW3wLjuA'], ['5', 'questions', 'about', 'the', 'coronavirus', 'vaccine', 'that', 'should', 'scare', 'everyone', '|', 'Blogs', '|', 'LifeSite', 'https://t.co/J3QQ7ioH1a'], ['@normanswan', 'World', 'Economic', 'Forum', 'CommonPass', 'Digital', 'Health', 'Passport', '(store', 'COVID19', 'test', 'results', '&amp;', 'vaccination', 'records)', 'Airline', 'alliances', 'involved', '(60%', 'of', \"world's\", 'airline', 'capacity):', '✈️', 'oneworld', '✈️', 'SkyTeam', '✈️', 'Star', 'Alliance', 'https://t.co/pB8'], ['The', 'coronavirus', 'is', 'completely', 'different', 'from', 'the', 'influenza', 'virus,', 'and', 'developing', 'a', 'vaccine', 'requires', 'substantial', 'understanding', 'of', 'how', 'the', 'virus', 'behaves.', 'https://t.co/Pl5xMCik6J', 'https://t.co/azhRAEF1FB'], ['@realDonaldTrump', 'Where', 'is', 'the', 'vaccine', '?', 'For', '#COVID19'], ['No', 'coronavirus', 'vaccine', 'till', '2022', 'for', 'common', 'ppl', 'Chk', 'the', 'below', 'pic', 'link👇', 'https://t.co/x0YlDcQMSY'], ['ETHealthworld', '|', \"Wantai's\", 'nasal', 'spray', 'Covid-19', 'vaccine', 'to', 'begin', 'mid-stage', 'trial', 'in', 'China', '#Covid19', '#ClinicalTrial', '#AntiBody', '#China', '#Coronavirus', '#CovidVaccine', 'https://t.co/iVhlOm1NbY'], ['But', 'according', 'to', 'press', 'conferences/releases', 'GPs', 'are', 'expected', 'to', 'deliver', 'the', 'Covid', 'vaccine', '12', 'hours', 'a', 'day', '7', 'days', 'a', 'week', 'including', 'BHs', '(with', 'targets)', 'essentially', 'at', 'cost?', '(No', 'actual', 'letter', 'yet...)', 'https://t.co/L4imMSpWUD'], ['Ebola', \"'emergency'\", 'vaccines', 'provide', 'ethical', 'blueprint', 'for', 'COVID-19', 'response', 'https://t.co/4rA8O26otI'], ['\"Pfizer,', 'BioNTech', 'say', 'their', 'COVID-19', 'vaccine', 'is', 'more', 'than', '90%', 'effective\"', 'https://t.co/Wj46GMCh88'], [\"'Life\", 'back', 'to', 'normal', 'by', 'spring', 'after', 'vaccine', \"discovery',\", 'expert', 'says', 'https://t.co/yCA4ixhjVp', '#covid19'], ['Updates', 'from', 'Pfizer', 'on', 'their', 'vaccine', 'progress', 'https://t.co/NqVwF5WOIn'], ['Due', 'to', 'the', 'good', 'news', 'of', 'the', 'COVID19', 'vaccine,', 'European', 'stock', 'markets', 'surged', 'on', 'November', '9', 'About', '67%', 'stocks', 'rose', 'and', '30%', 'stocks', 'jumped', 'more', 'than', '5%.', 'Check', 'the', 'technical', 'analysis', 'charts', 'of', 'top', '10', 'stocks', 'https://t.co/Wml0DviJll', '#LSE', '#FRA'], ['@karenator2020', '@newtnewtriot', '@ddale8', 'Right,', 'because', 'the', 'demand', 'for', 'a', 'COVID-19', 'vaccine', 'is', 'uncertain', '🤡'], ['Brazil', 'suspends', 'trial', 'of', \"China's\", 'Sinovac', 'COVID-19', 'vaccine', 'following', 'loss', 'of', 'life'], ['@bikhim', 'Brazil', 'halts', 'trials', 'of', 'Chinese', 'COVID-19', 'vaccine', '-', 'Al', 'Jazeera', 'English', 'https://t.co/8r4cdqFBii', 'via', '@GoogleNews'], ['Fauci', 'says', 'Americans', 'could', 'start', 'getting', 'coronavirus', 'vaccines', \"'very\", 'likely', 'before', 'the', 'end', 'of', 'this', \"year'\", 'and', 'says', 'he', 'has', \"'no\", \"intention'\", 'of', 'leaving', 'his', 'NIH', 'job', 'when', 'President-elect', 'Biden', 'takes', 'office.', 'Good.', 'https://t.co/aBlHJ312lf'], ['Would', 'you', 'get', 'the', 'vaccine?', 'https://t.co/eACgvcujUp'], ['@Jimcorrsays', '@BarryF107', 'Bill', 'Gates', 'admits', 'that', '700,000', 'people', 'will', 'be', 'harmed', 'or', 'killed', 'by', 'his', 'coronavirus', 'vaccines', 'https://t.co/1dATbHy6I2', 'https://t.co/7Jg72PcBaA'], ['New', 'York', 'Governor', 'Andrew', 'Cuomo', 'responds', 'to', \"Trump's\", 'statement', 'about', 'delaying', 'delivery', 'of', 'COVID-19', 'vaccine', 'to', 'his', 'state', 'https://t.co/zM6H3XbvVw'], ['How', 'a', 'Covid-19', 'vaccine', 'could', 'change', 'travel', 'for', 'good', 'It', 'was', 'the', 'good', 'news', 'that', 'gave', 'the', 'world', 'hope.', 'https://t.co/ikOw1y0SfK', '#CNN', 'https://t.co/0bdnAoZLn6'], ['Is', 'herd', 'immunity', 'a', 'reality?', '🎟️', 'Join', 'the', 'next', '@isenseIRC', 'Q&amp;A', 'when', 'they', 'ask', '@epi_michael', '(@Bar_ilan)', '&amp;', '@eleni_nastouli', '(@uclh)', 'about', 'the', 'spread', 'of', '#COVID19,', '#vaccines,', '&amp;', 'how', 'this', 'compares', 'to', 'past', '#outbreaks.', 'More', 'info', 'here', '👉', 'https://t.co/I334qiFPm5', 'https://t.co/T0wNcU75Qd'], ['What', 'does', 'COVID-19', 'vaccine', 'effectiveness', 'mean?', 'https://t.co/YvHEhgJ3Ny'], ['Americans', 'need', 'to', 'be', 'prepared', 'for', 'the', 'possibility', 'that', 'they', 'may', 'feel', 'a', 'little', 'unwell', 'after', 'they', 'get', 'a', 'coronavirus', 'vaccine,', 'if', 'one', 'is', 'authorized,', 'members', 'of', 'a', 'CDC', 'advisory', 'committee', 'said.\\u200b', 'https://t.co/gipgsR4Dtw'], ['State', 'expects', 'to', 'receive', 'tens', 'of', 'thousands', 'of', 'COVID-19', 'vaccine', 'doses', 'by', 'mid-December', 'https://t.co/oDcFqOd3uP'], ['On', '“The', 'World', 'Ahead”', 'podcast:', '-When', 'will', 'there', 'be', 'a', 'global', 'roll-out', 'of', 'a', 'coronavirus', 'vaccine?', '-What', 'regulatory', 'and', 'logistical', 'obstacles', 'must', 'be', 'overcome?', '-How', 'will', 'political', 'and', 'economic', 'factors', 'govern', 'vaccine', 'distribution?', 'https://t.co/e7AWe2aEI5'], ['@realDonaldTrump', 'Maybe', 'you', 'should', 'be', 'doing', 'your', 'damn', 'job', 'and', 'be', 'worrying', 'about', 'the', 'present', 'deaths', 'each', 'day', 'from', 'Covid19!', 'Just', 'heard', 'your', 'Administration', 'turned', 'down', 'Pfizer', 'additional', 'vaccines!'], ['Oh', 'my,', 'I', 'can', 'hear', 'the', 'racist', 'cat', 'calls', 'from', 'here.', 'He', 'should', 'give', 'the', 'vaccine', 'to', 'Somalia', 'first.', 'Seems', 'fairest', 'to', 'me.', 'https://t.co/e3OzVaxkTC'], ['The', 'state', 'government', 'is', 'ready', 'to', 'set', 'up', 'a', 'regional', 'Covid-19', 'vaccine', 'storage', 'centre', 'in', 'Chitradurga', 'from', 'where', 'the', 'vaccine', 'will', 'be', 'transported', 'to', 'Shivamogga,', 'Davangere,', 'Ballari,', 'Koppal', 'and', 'other', 'neighbouring', 'districts', '@santwana99', 'https://t.co/3xTP29F6wu'], ['Why', 'can’t', 'Covid', '19', 'vaccines', '(safe', 'and', 'effective', 'ones', 'as', 'they', 'are', 'approved)', 'be', 'sold', 'in', 'private', 'market?', 'Government', 'can', 'work', 'towards', 'making', 'it', 'available', 'to', 'priority', '&amp;', 'economically', 'vulnerable', 'citizens.', 'https://t.co/7yC1D5b2bx', '#CovidVaccine', '@MoHFW_INDIA', '@PMOIndia'], ['Kids', 'are', 'participating', 'in', 'COVID-19', 'vaccine', 'trials.', \"Here's\", 'what', 'their', 'parents', 'think', 'https://t.co/6i4gMVwzQl'], ['Chinese', 'Covid-19', 'vaccine', 'makers', 'are', 'moving', 'at', 'breakneck', 'speed,', 'and', 'some', 'shots', 'are', 'already', 'being', 'distributed', 'locally.', 'But', 'scientists', 'question', 'how', 'strictly', 'companies', 'are', 'vetting', 'possible', 'safety', 'issues', 'https://t.co/jJFNaN8hn4'], ['Australia', 'begins', 'production', 'of', 'Oxford-developed', 'COVID-19', 'vaccine', 'https://t.co/ZzPKO9jc9y'], ['‘Will', 'take', 'more', 'than', 'a', 'year', 'for', 'vaccine', 'to', 'be', 'available', 'for', 'normal', 'people,’', 'says', 'AIIMS', 'Director', 'https://t.co/g1DZiLhjLb', '#IndiaObservers', '#COVID19', '#vaccine'], ['No', 'coronavirus', 'vaccine', 'for', 'common', 'people', 'till', '2022,', 'Covid', \"won't\", 'vanish,', 'says', 'AIIMS', 'Director', 'Randeep', 'Guleria', '-', 'Coronavirus', 'Outbreak', 'News', 'https://t.co/Cm7fOnlDgh', 'So', 'what', 'happens', 'to', 'false', 'promises', 'made', 'by', 'NDA', 'leaders', 'to', 'Bihar', 'people?'], ['😳', 'Dow', 'futures', 'jump', '1,200', 'points', 'on', 'positive', 'Covid-19', 'vaccine', 'data', '@CNBC', 'https://t.co/sXCAjJvtqL'], ['Pfizer', 'says', 'early', 'data', 'signals', 'COVID-19', 'vaccine', 'is', 'effective', 'https://t.co/jkVm9PPj9X'], ['I', 'guess', 'the', 'stock', 'market', 'got', 'this', 'news!!!', '#COVID19', '#vaccine', 'https://t.co/OHNkwZlXqI'], ['BREAKING:', 'COVID-19', 'vaccine', \"'90%\", \"effective'\", 'https://t.co/D4BCIFtIwb'], ['Not', 'true', ',', 'Pfizer', 'says', 'govt', 'had', 'nothing', 'to', 'do', 'with', 'their', 'vaccine', '.', 'They’re', 'independent', 'of', 'you', '.', 'You’re', 'such', 'a', 'fucking', 'liar', '!', 'https://t.co/Q0v5OnzYaG'], ['We', 'needed', 'a', 'lift', 'and', 'this', 'is', 'it.', 'A', 'great', 'day', 'for', 'science', 'and', 'medicine.these', 'geniuses', 'are', 'saints.', 'Mankind', 'always', 'finds', 'a', 'vaccine', 'to', 'destroy', 'these', 'diseases', 'eventually.', 'China', 'started', 'this', 'now', 'we', 'will', 'finish', 'it.', 'https://t.co/R3uBVLYlNv'], ['This', 'is', '100%', 'false.', \"Pfizer's\", 'vaccine', 'was', 'not', 'produced', 'through', 'any', 'public', 'funds', 'or', 'with', 'any', 'help', 'from', \"Trump's\", 'Operation', 'Warp-Speed.', 'Hard', 'to', 'believe', 'that', 'Pence', 'would', 'lie,', 'but', 'there', 'you', 'go.', 'https://t.co/r4Rl8BydFJ'], ['“It’s', 'clear', 'that', 'this', 'vaccine,', 'even', 'if', 'approved,', 'will', 'not', 'be', 'widely', 'available', 'for', 'many', 'months', 'yet', 'to', 'come.', 'The', 'challenge', 'before', 'us', 'right', 'now', 'is', 'still', 'immense', 'and', 'growing.”', 'President-elect', 'Joe', 'Biden', 'discusses', \"Pfizer's\", 'coronavirus', 'vaccine', 'announcement.', 'https://t.co/g8XoXtv5pw'], ['A', 'great', 'article', 'that', 'will', 'help', 'you', 'put', \"today's\", 'vaccine', 'news', 'into', 'context.', 'https://t.co/ZSz7KKXaVx'], ['You', 'know', 'what', 'gets', 'me', 'soooooo', 'fucking', 'hot', 'about', '$KTOV', '?', 'The', 'news', 'today', 'dropped', 'shouldve', 'made', 'the', 'bitch', 'jump', 'to', '$7-$8', 'To', 'top', 'it', 'off', '-', 'the', 'COVID19', 'vaccine', 'news', 'shouldve', 'added', 'MORE', 'TRACTION', 'BECAUSE', 'FINALLY', 'PATIENT', 'ENROLLMENT', 'FOR', 'NT-219', 'https://t.co/HwCZ9S0b3o'], ['So', 'a', 'vaccine', 'AND', 'a', 'therapeutic,', 'both', 'the', 'week', 'after', 'the', 'election?', 'No', 'coincidence', 'there,', \"I'm\", 'sure.', 'Donald', 'Trump', 'STILL', 'gets', 'the', 'credit', 'because', 'he', 'fast-tracked', 'all', 'of', 'this.', 'https://t.co/oAq3w6Nop0'], ['Global', 'stocks', 'back', 'to', 'record', 'highs', 'as', 'Pfizer', 'vaccine', 'news', 'adds', 'to', 'US', 'election', 'rally;', 'crude', 'oil', 'prices', 'leap,', 'while', 'govt', 'bonds—hedge', 'against', 'uncertainty—tumble', 'sharply', 'Via', '@nytimes', 'https://t.co/VtnSUbgOMr'], ['An', '80%', 'uptake', 'of', 'a', 'COVID-19', 'vaccine', 'may', 'be', 'needed', 'to', 'protect', 'communities', 'from', 'the', 'novel', 'coronavirus,', 'but', 'volatile', 'levels', 'of', 'misinformation', 'and', 'vaccine', 'mistrust', 'could', 'undermine', 'efforts', 'to', 'tackle', 'the', 'pandemic,', 'British', 'scientists', 'said', 'on', 'Tuesday.', 'READ:', 'https://t.co/6WcjLJ7DGC', 'https://t.co/t5UKcebm1F'], ['Does', 'a', 'vaccine', 'against', 'Covid-19', 'herald', 'the', 'end', 'of', 'the', 'pandemic?', 'https://t.co/UQxAcv2XOF'], ['Healthcare', 'experts', 'encouraged', 'by', 'COVID19', 'vaccine', 'trial', 'but', 'questions', 'linger', 'https://t.co/KZrQpkvUu2'], ['How', 'a', 'COVID-19', 'vaccine', 'could', 'change', 'travel', 'for', 'good', 'https://t.co/clhBP73Oce'], ['Pfizer', 'claims', 'final', 'trials', 'of', 'Covid-19', 'vaccine', '95', 'per', 'cent', 'effective', 'https://t.co/EHWyvPmFqo', 'https://t.co/rbDqClHKkP'], ['MashaAllah', 'this', 'vaccine', 'made', 'by', 'Muslim', 'couple', 'https://t.co/o6HUXjncN4'], ['Investors', 'are', 'looking', 'past', 'the', 'presidential', 'election', 'and', 'toward', 'a', 'future', 'with', 'a', 'safe', 'and', 'effective', 'COVID-19', 'vaccine,', 'according', 'to', 'Ameriprise', 'Chief', 'Market', 'Strategist', 'David', 'Joy.', 'https://t.co/AzNRn6Z9gJ'], ['Pfizer', 'Inc', 'applied', 'to', 'US', 'health', 'regulators', 'on', 'Friday', 'for', 'emergency', 'use', 'authorization', '(EUA)', 'of', 'its', 'COVID-19', 'vaccine,', 'the', 'first', 'such', 'application', 'in', 'a', 'major', 'step', 'toward', 'providing', 'protection', 'against', 'the', 'new', 'coronavirus.', 'https://t.co/MV4BNIAtqJ', 'https://t.co/qG6BXzeqjE'], ['G20', 'says', 'it', 'will', 'strive', 'for', 'fair', 'global', 'access', 'to', 'COVID-19', 'vaccine', '#G20', '#COVID-19', '#Coroanvirus', 'https://t.co/ZxPijzz7qa', 'https://t.co/Kb0nlKW3Qo'], ['These', 'are', 'the', 'most', 'hopeful', 'Covid-19', 'vaccine', 'candidates', 'globally', 'https://t.co/bRA5UpP6Kh'], ['Biden', 'to', 'let', 'experts', 'decide', 'who', 'gets', 'a', 'Covid-19', 'vaccine', 'first', '-', 'https://t.co/zouQp82N1W', '#LatestComments'], ['@vespasian91', '@mongibellus', '@DaveKeating', 'Very', 'nice', 'but', 'where', 'is', 'the', 'evidence', 'on', 'the', 'relative', 'prices', 'paid', 'for', 'Covid-19', 'vaccination?'], ['👇', 'IMPORTANT', 'NEWS:', 'The', 'first', 'coronavirus', 'vaccine', 'has', 'been', 'given', 'the', 'green', 'light', 'for', 'use', 'in', 'the', 'UK.', 'As', 'the', 'vaccine', 'starts', 'to', 'arrive,', 'we’ll', 'prioritise', 'those', 'aged', '80', 'and', 'over,', 'care', 'home', 'staff', 'and', 'residents', 'and', 'those', 'working', 'within', 'health', 'and', 'social', 'care.', 'https://t.co/q6Wa5MwbPn'], ['\"UK', 'approves', 'Pfizer/BioNTech', 'COVID-19', 'vaccine', 'and', 'could', 'begin', 'vaccinations', 'next', 'week\"', 'https://t.co/bpOzYNwQ8q'], ['US', '#inflation', 'expectations', 'hit', '18-month', 'high', 'on', '#vaccine', 'hopes', '#COVIDvaccines', '#COVID19', '#EconomyRebounds', '@washingtonpost', '@nytimes', '@FinancialTimes', '@WSJmarkets', '@WSJbusiness', '@ReutersBiz', '@Reuters', '@MarketWatch', '@markets', '@business', '@AP', '@BBC', '@CNBC', '@CNN', '@thehill', 'https://t.co/rg5xlqCv6R'], ['let', 'the', 'City', 'Girls', 'get', 'the', 'vaccine', 'then', 'we', 'can', 'talk', '😜', 'https://t.co/rqevxjUVBH'], ['@hill0karen', 'Saluti,', 'please', 'find', 'the', 'unroll', 'here:', '@GavinNewsom:', 'VACCINE', 'UPDATE:', 'CA', 'will', 'be', 'receiving', '327k', 'doses', 'of', 'the', 'new', 'Pfizer', '#COVID19', 'vaccine', 'in', 'mid', 'December.', 'The…', 'https://t.co/ECDbKZBdKQ', 'Have', 'a', 'good', 'day.', '🤖'], ['But,', 'how', 'long', 'is', 'the', 'vaccine', 'good', 'for?', 'https://t.co/yEqyLg0jX5'], ['@GeraldoRivera', '@realDonaldTrump', 'No', 'praising', 'necessary', 'RE', 'vaccine.', 'Coronavirus', 'mutation', 'found', 'in', 'mink', 'farms', 'in', 'Denmark', '&amp;', 'Utah.', 'Mutated', 'virus', 'could', 'spread', 'into', 'man', '&amp;', 'evade', 'a', 'vaccine', 'response', 'designed', 'for', 'the', 'original', 'non-mutated', 'version.', 'https://t.c'], ['1.', 'free/reliable', 'testing', 'for', 'all', '2.', 'ramp', 'up', 'PPE', 'production', '3.', 'community', 'resources', 'for', 'dealing', 'w', 'COVID19', '4.', 'distribution', 'of', 'vaccines/treatments', '5.', 'protect', 'high', 'risk', 'americans', '6.', 'restore', 'intl', 'pandemic', 'defenses/alliances', '7.', 'mask', 'mandates', 'like', 'where', 'was', 'this', 'all', 'YEAR', 'im', 'so', '?@?@%#'], ['Coronavirus', 'Questions', 'UK:', 'Will', 'there', 'be', 'a', 'vaccine', 'by', 'Christmas?', 'https://t.co/V7r7yXA1RA'], ['\"We', 'should', 'certainly', 'take', 'this', 'alert', 'seriously\"', 'says', 'Prof', 'Wendy', 'Barclay,', 'a', 'virologist', 'at', 'Imperial', 'College', 'London,', 'adding', 'that', 'a', '\"key', 'question\"', 'is', 'whether', 'this', 'mutation', 'in', 'the', 'spike', 'protein', 'of', 'Covid-19', 'would', 'prevent', 'a', 'vaccine', 'from', 'working', '#R4Today', 'https://t.co/EK6ZU9v1wz'], ['Pfizer', 'says', 'early', 'analysis', 'shows', 'its', 'Covid-19', 'vaccine', 'is', '90%', 'effective', 'https://t.co/W4UovytWMZ'], ['Pfizer', 'says', 'early', 'analysis', 'shows', 'its', 'Covid-19', 'vaccine', 'is', '90%', 'effective', 'https://t.co/5pGNUCxCys'], ['anti-vaxxers', 'already', 'refusing', 'to', 'take', 'the', 'new', 'coronavirus', 'pfizer', 'vaccine', 'pffffff'], ['So', 'a', 'COVID-19', 'vaccine', 'gives', 'you', '90%', 'chance', 'against', 'the', 'vaccine,', 'or', 'risk', 'without', 'and', 'a', '99%', 'chance', 'of', 'survival!', 'Which', 'option', 'do', 'you', 'think', 'I’ll', 'take?', '#fuckcovid', '#plandemic', '#covidlies', '@garethicke', '@ThePlandemic'], ['Election', 'over.', 'Magically', 'the', 'vaccine', 'come', 'https://t.co/6wcecmnqyE'], ['Will', 'you', 'take', 'the', 'coronavirus', 'vaccine?', '#coronavirus', '#vaccine'], ['\"Last,', 'any', 'vaccine', 'must', 'overcome', 'public', 'scepticism.', 'Nearly', 'half', 'of', 'American', 'adults', 'surveyed', 'said', 'they', 'might', 'not', 'get', 'a', 'Covid-19', 'vaccination', 'if', 'one', 'was', 'available', 'today.\"', 'https://t.co/CfKYOAYaX3'], ['FYI', '@realdonaldtrump...that', '@pfizer', '#Coronavirus', 'vaccine', \"didn't\", 'gave', 'anything', 'to', 'do', 'with', 'you!', 'Stop', 'taking', 'credit!', 'https://t.co/NDMAef3PGX'], ['Cruise', 'bookings', 'upward', 'thrust', 'on', 'coronavirus', 'vaccine', 'information,', 'Norwegian', 'Cruise', 'Line', 'CEO', 'says', 'http://googlenewspost....', 'https://t.co/4VJrWZr3gW'], ['Grand', 'Forks', 'preparing', 'its', 'COVID-19', 'vaccine', 'distribution', 'plan', 'https://t.co/7vr07IRKja'], ['Progress', 'on', 'developing', 'a', 'Covid-19', 'vaccine', 'will', 'bolster', 'business', 'confidence', 'and', 'an', 'economic', 'recovery', 'by', 'showing', 'the', 'pandemic', 'can', 'be', 'controlled,', 'Spain’s', 'Economy', 'Minister', 'Nadia', 'Calvino', 'said', 'https://t.co/ZL9KQpvxlR', 'via', '@business'], ['#Oil', 'markets', 'may', 'be', 'cheering', 'the', 'prospects', 'of', 'a', 'coronavirus', 'vaccine,', 'but', '#OPEC+', 'can’t', 'celebrate', 'https://t.co/KSgSLU0iwP', 'via', '@markets', '@S_Elwardany', '@JavierBlas', '&amp;GrantSmith'], ['Who', 'will', 'be', 'the', 'first', 'to', 'get', 'Covid-19', 'vaccines?', 'https://t.co/lYO8s3tbgE', 'https://t.co/yRxMmjUDNQ'], ['Pfizer', 'says', 'Covid-19', 'vaccine', 'trial', 'complete,', 'cites', 'shot', 'is', '95', 'per', 'cent', 'effective', 'https://t.co/9oZKYZuUhq'], ['Pfizer', 'reports', 'Covid-19', 'vaccine', 'is', '95%', 'effective', 'https://t.co/pTc21YQZBx', 'via', '@YouTube'], ['Pfizer', 'and', 'BioNTech', 'say', 'final', 'analysis', 'shows', 'coronavirus', 'vaccine', 'is', '95%', 'effectiv...', 'https://t.co/A9mFsxSeGH'], ['Moderna', 'to', 'charge', '$25-$37', 'for', 'COVID-19', 'vaccine:', 'CEO', 'https://t.co/3B6LKvAxwi', 'https://t.co/V5VmeXuBeQ'], ['Using', 'blockchain', 'to', 'monitor', 'the', 'COVID-19', 'vaccine', 'supply', 'chain', 'https://t.co/kz5IYyAjDK', '#blockchain'], ['Another', 'publication', 'of', 'preclinical', 'animal', 'studies', 'on', 'one', 'of', \"Sinopharm's\", '2', 'inactivated', 'Covid-19', 'vaccines', '(the', 'Wuhan', 'one),', 'in', '7', 'species.', 'Interesting', 'background:', 'they', 'began', 'with', '4', 'vaccines,', 'before', 'deciding', 'on', 'the', 'one', 'that', 'went', 'to', 'first-in-human', 'trial', 'in', 'April', 'https://t.co/n2nHsC1c5f'], ['Putin', 'orders', 'Russian', 'officials', 'to', 'start', 'large-scale', 'Covid-19', 'vaccination…', '(via', '@NewsfusionApps', '#World', '#News)', 'https://t.co/OJYl6dh89q'], ['Avoiding', 'the', 'coronavirus', 'vaccine', 'might', 'prevent', 'you', 'from', 'accessing', 'some', 'businesses', 'https://t.co/5chwLINxQc'], ['I', 'find', 'that', 'strange', 'in', 'my', 'local.', 'Hospital.', 'Staff', 'were', 'talking', 'about', 'the', 'dates', 'they', 'have', 'for', 'vaccine', 'next', 'week', 'as', 'I', 'was', 'getting', 'MRI', 'scan', 'yesterday', '😷☑️', 'https://t.co/kv7x8aSfq7'], ['Facebook', 'to', 'remove', 'false', 'Covid-19', 'vaccine', 'claims', 'https://t.co/fcOQncY3BM'], ['COVID-19', 'vaccine', 'is', 'coming', 'https://t.co/mLWjCrX7l8'], ['Outside?', '👀', 'Jamaica', 'gets', 'big', 'COVID-19', 'vaccine', 'discount,', 'one', 'million', 'vials', 'expected', 'by', 'March', '|', 'News', '|', 'Jamaica', 'Gleaner', 'https://t.co/x79PtrXcDT'], ['Will', 'you', 'authorize', 'a', 'COVID-19', 'vaccine', 'for', 'a', 'relative', 'in', 'a', 'nursing', 'home?', 'Ask', 'these', 'questions', 'first', 'https://t.co/OQ1hfVjSq1', '#ETF', '#tracker'], ['Coventry', 'woman', 'first', 'to', 'get', 'Covid', 'vaccine', 'as', 'Norfolk', 'awaits', 'roll', 'out', 'https://t.co/upXbgU18jq'], ['Just', 'watched', 'the', 'first', 'few', 'Covid-19', 'vaccines', 'being', 'given', 'on', 'the', 'news....it', 'seems', 'that', 'they', 'are', 'following', 'the', 'RCN', 'guidance', 'based', 'on', 'the', '2010', 'WHO', 'document', 'and', 'not', 'current', 'PHE/WHO', 'PPE', 'guidance', 'for', 'the', 'C-19', 'era.'], ['Ontario', \"won't\", 'make', '#Covid19', '#vaccines', 'mandatory,', 'but', 'those', 'who', 'decline', 'could', 'face', 'social', 'restrictions', 'says', 'health', 'minister', 'says', 'https://t.co/IiBQuNhcGi', '@CTVNews', '@SeanDavidson_', '#immunitypassport'], ['The', 'COVID-19', 'vaccine', 'is', 'coming.', 'So,', 'when', 'will', 'you', 'or', 'an', 'aging', 'loved', 'one', 'receive', 'it?', 'https://t.co/jKVbWFNaJx', '#covidvaccine'], ['via', '@PerilofAfrica', 'AstraZeneca', 'COVID-19', 'Vaccine', 'Production', 'Starts', 'in', 'Australia,', 'Reports', 'Say:', 'MOSCOW', '(Sputnik)', '-', 'The', 'CSL', 'Limited', 'company', 'starts', 'producing', 'the', 'University', 'of', 'Oxford/AstraZeneca', 'coronavirus', 'vaccine', 'on', 'Monday,', 'Australian', 'media', 'report.', 'https://t.co/REMoGPgN09', 'https://t.co/M6i5QT3juF'], ['@Reuters', 'understand', 'coronavirus', 'vaccine', 'and', 'the', 'three', 'vaccine', 'candidates', 'now.', 'Coronavirus', 'Vaccines', 'Candidates', 'works', 'only', 'under', 'these', 'conditions.', 'https://t.co/PWpw1OXrfR'], ['Australia', 'increases', 'COVID-19', 'vaccine', 'support', 'to', 'Pacific', 'Islands', 'and', 'SE', 'Asia,', 'but', 'opposes', 'trade', 'rule', 'changes', 'on', 'vaccines.', 'https://t.co/VgAdCCU3Ho', 'https://t.co/6QO9veOroV'], ['the', 'gsa', 'adminstrator', '@GSAEmily', 'is', 'not', 'following', 'the', 'law,', 'but', 'apparently', 'taking', 'direction', 'from', 'trump,', 'and', 'not', 'signing', 'the', 'required', 'documents', 'to', 'begin', 'the', 'transition.', 'the', 'delay', 'is', 'affecting', 'many', 'things,', 'including', 'covid19', 'vaccine', 'distribution.', 'unconscionable.', 'https://t.co/QQpSPmGkNg'], ['Why', 'a', 'COVID-19', 'vaccine', 'might', 'be', 'different', 'from', 'others', 'https://t.co/6KtxiMvMo6', 'via', '@wef'], ['Pfizer', 'says', 'early', 'analysis', 'shows', 'its', 'Covid-19', 'vaccine', 'is', '90%', 'effective', 'https://t.co/rGqWXH0FzU'], ['Wowza,', 'scary.', 'TLDR:', 'Denmark', 'is', 'killing', '17', 'million', '(!)', 'minks', 'because', 'the', 'Covid', 'virus', 'has', 'mutated', 'in', 'them,', 'creating', 'a', 'strain', 'that', 'vaccines', 'currently', 'being', 'developed', \"wouldn't\", 'be', 'able', 'to', 'stop', 'https://t.co/5YgPRqS7vE'], ['@hijodelcuervo', '@o_rips', 'From', 'article;', '\"The', '#Moderna', 'vaccine', 'uses', 'synthetic', 'messenger', 'RNA', '(mRNA)', 'to', 'mimic', 'the', 'surface', 'of', 'the', '#coronavirus', 'and', 'teach', 'the', 'immune', 'system', 'to', 'recognize', 'and', 'neutralize', 'it.\"', 'Tell', 'us', 'the', 'part', 'about', 'how', 'this', 'has', 'never', 'actually', 'been', 'd'], ['If', 'you', 'consume', 'any', 'vaccine', 'from', 'Russia', 'you', 'deserve', 'everything', 'that', 'comes', 'at', 'you.', 'https://t.co/E0051e3DeL'], ['Pfizer', 'CEO', 'says', 'he', 'wants', 'to', 'be', 'among', 'the', 'first', 'to', 'take', 'Covid-19', 'vaccine', '...', 'https://t.co/ZWZ39KBRJx', 'via', '@YouTube'], ['pfizer', 'and', 'BioNTech', 'say', 'its', 'vaccine', 'is', '90%', 'effective', 'in', 'preventing', 'COVID-19', 'https://t.co/2fuaSKkWFM', 'via', '@designboom', '#design', '#solocosebelle'], ['These', 'are', 'the', 'COVID-19', 'vaccine', 'trials', 'in', 'phase', '3', 'https://t.co/Zy0TQWfJj4'], ['Everyone', 'on', 'TV', 'is', 'now', 'a', 'vaccine', 'expert...', 'Shut', 'up', 'until', 'we', 'know', 'the', 'facts.', 'https://t.co/DWTHdwsYpZ'], ['“#Coronavirus', ':', 'Who', 'in', 'UK', 'will', 'get', 'Pfizer', 'vaccine', 'first', 'and', 'when?”', ':', 'How', 'many', 'doses', 'has', '#Britain', 'bought', 'and', 'when', 'will', 'it', 'be', 'rolled', 'out?', 'Everything', 'you', 'need', 'to', 'know', 'about', '#Pfizer', 'breakthrough', 'jab!', 'via', '\\u2066@DailyMailUK\\u2069', 'https://t.co/lZgNdiFueh'], ['Brazil', 'suspends', 'trials', 'of', \"China's\", 'coronavirus', 'vaccine,', 'citing', \"'serious\", 'adverse', \"event'\", 'https://t.co/BaWn7uw0dx'], ['Russia', 'says', 'its', 'Sputnik', 'V', 'COVID-19', 'vaccine', 'is', '92%', 'effective', 'https://t.co/77mbDViuRU', 'https://t.co/RHdD7JuJL9'], ['In', 'Spain', 'per', 'El', 'País', '40dB', 'poll:', '▪️24.1%', 'would', 'get', 'coronavirus', 'vaccinated', 'ASAP', '▪️36.9%', 'would', 'wait', 'some', 'time', '▪️20.6%', 'would', 'only', 'get', 'vaccine', 'if', 'strictly', 'necessary', '▪️13.1%', 'would', 'never', 'get', 'vaccinated', 'https://t.co/OATxTbBuCd', 'via', '@elpaisinenglish'], ['#Moderna', 's', 'vaccine', 'used', 'on', 'just', '92', 'covid-19', 'positive', 'cases', 'and', 'how', 'we', 'will', 'relay', 'on', 'that', 'study.', 'need', 'further', 'more', 'cases.'], [\"Trump's\", 'transition', 'sabotage', 'threatens', 'vaccine', 'rollout', '-', 'CNNPolitics', 'https://t.co/dc2f1gqWaQ'], ['Moderna', 'Inc', 'said', 'on', 'Tuesday', 'it', 'agreed', 'to', 'supply', 'its', 'COVID-19', 'vaccine', 'candidate,', 'mRNA-1273,', 'to', 'the', 'United', 'Kingdom', 'beginning', 'March,', 'if', 'it', 'is', 'approved', 'by', 'the', 'local', 'regulatory', 'authorities.', 'https://t.co/VjuOl1vQcf'], ['EMA', 'organises', 'public', 'meeting', 'on', 'COVID-19', 'vaccines', '|', 'European', 'Medicines', 'Agency', 'https://t.co/9JaIUHIq4k', 'via', '@EMA_News'], ['@realDonaldTrump', '@zev_dr', 'Before', 'the', 'use', 'of', 'vaccine,', 'release', 'the', 'ban', 'of', 'HCQ', 'for', 'COVID-19.', 'In', 'fact,', 'it', 'is', 'HCQ,', 'Zinc,', 'Azithromycin', 'together', 'use', 'for', 'COVID-19.', 'If', 'we', \"don't\", 'release', 'the', 'ban', 'of', 'HCQ', 'for', 'COVID-19,', 'Doctor', 'can', 'not', 'offer', 'HCQ,', 'Zinc,', 'Azithromycin', 'togeth'], ['Russia', 'says', 'Sputnik', '#COVID19', 'vaccine', 'to', 'cost', 'under', '$20', 'https://t.co/ss5NVhKX5e'], ['Why', \"Oxford's\", 'Covid-19', 'vaccine', 'could', 'do', 'more', 'for', 'the', 'world', 'than', 'other', 'shots', 'https://t.co/ErPEfYQvq7', 'https://t.co/G2Ka7GI8Zu'], ['Coronavirus', '|', '‘Covishield’', 'vaccine', 'volunteer', 'sues', 'Serum', 'Institute', 'of', 'India,', 'Oxford', 'Group', 'over', '‘adverse', 'reaction’', '-', 'The', 'Hindu', 'https://t.co/8AtKCTCELS'], ['FOX', 'NEWS:', 'Coronavirus', 'vaccine', 'should', 'go', 'to', 'health', 'care', 'workers,', 'long', 'term', 'care', 'facilities', 'first,', 'CDC', 'panel', 'recommends', 'https://t.co/os6bkADbX7', 'https://t.co/roJFvB889i'], ['#COVID19', 'Pfizer/BioNTech', '#vaccine', 'approved', 'for', 'use', 'next', 'week', 'in', 'UK', '-', '\\u2066@BBCBreaking\\u2069', 'https://t.co/IPs9m8GTeB'], ['@NadineDorries', 'II.1.4)Short', 'description:', 'The', 'MHRA', 'urgently', 'seeks', 'an', 'Artificial', 'Intelligence', '(AI)', 'software', 'tool', 'to', 'process', 'the', 'expected', 'high', 'volume', 'of', 'Covid-19', 'vaccine', 'Adverse', 'Drug', 'Reaction', '(ADRs)', 'and', 'ensure', 'that', 'no', 'details', 'from', 'the', 'ADRs’', 'reaction', 'text'], ['Fauci', 'apologises', 'for', '‘misunderstanding’', 'after', 'suggesting', 'UK', 'rushed', 'Covid', 'vaccine', 'approval', 'https://t.co/JXEYWEut2k'], ['Indian', 'minister', 'tests', 'positive', 'after', 'getting', 'COVID-19', 'vaccine', 'trial', 'dose.', 'https://t.co/u1N5cXgOed'], ['Analysis', 'of', 'new', 'vaccine', 'data', 'from', '@HelenBranswell', 'https://t.co/W9VFTrqywC'], ['\"A', '90-year-old', 'UK', 'woman', 'becomes', 'the', 'first', 'in', 'the', 'world', 'to', 'receive', 'a', 'COVID-19', 'vaccine', 'outside', 'of', 'trial\"', 'https://t.co/VriFrbYKVM'], ['@SONNYBWAH', 'Inside', 'the', 'Operation', 'Warp', 'Speed', 'effort', 'to', 'get', 'Americans', 'a', 'COVID-19', 'vaccine', 'https://t.co/jNaQ4OVJbo'], [\"Wantai's\", 'nasal', 'spray', 'COVID-19', 'vaccine', 'to', 'begin', 'mid-stage', 'trial', 'in', 'China', 'https://t.co/YbGMbkKq9k', 'https://t.co/PW44CsRZQP'], ['Pfizer’s', 'coronavirus', 'vaccine', 'is', 'more', 'than', '90', 'percent', 'effective', 'in', 'first', 'analysis,', 'company', 'reports', 'https://t.co/Yt3ePM6Hl2'], ['Pfizer', 'and', 'BioNTech’s', 'Covid-19', 'vaccine', 'found', 'to', 'be', '90%', 'effective', '-', '$PFE', '$BNTX', '$SPY', '$QQQ', '$IWM', '$DIA', '#COVID19', 'https://t.co/vfDbqn7imk', 'via', '@FT'], ['Novavax', 'on', 'track', 'to', 'begin', 'US', 'trial', 'of', 'Covid-19', 'vaccine', 'this', 'month', '–', 'Times', 'of', 'India', 'https://t.co/WijbXEM926'], ['@AustenBundyDC', 'also', 'the', 'fda', \"hasn't\", 'approved', 'any', 'vaccine', 'for', 'covid-19'], ['Dr.', 'Fauci', 'reacts', 'to', \"Pfizer's\", 'vaccine', 'announcement', 'https://t.co/WF1eI2fdm4'], ['#COVID19', 'Special', 'Issue', 'review', '👇', 'How', 'does', 'anti-CD20', '#immunotherapy', 'for', '#autoimmune', 'diseases', 'affect', 'the', 'response', 'to', 'COVID-19', 'and', 'a', 'potential', '#vaccine?', '🔗https://t.co/F5tZNMWVqo', 'https://t.co/MDXpzUFFFY'], ['NHS', 'to', 'be', 'ready', 'to', 'roll', 'out', 'coronavirus', 'vaccine', '‘from', 'start', 'of', 'December’,', 'Matt', 'Hancock', 'says', 'https://t.co/ahJsTv7HnT'], ['CVS', 'Health', 'to', 'offer', 'Coronavirus', 'vaccine', 'once', 'available', 'https://t.co/TqpdFFGyZK'], ['\"I\\'m', 'a', 'little', 'surprised', 'we', \"don't\", 'have', 'a', 'website', 'with', 'the', 'CDC', 'where', 'people', 'can', 'register', 'their', 'interest', 'in', 'getting', 'a', 'vaccine,\"', '@BillGates', 'tells', '@andrewrsorkin', 'at', '#DealBook2020.', '#covid19'], ['In', 'a', 'recent', 'LinkedIn', 'post,', 'Pfizer’s', 'CEO', 'Albert', 'Bourla', 'outlines', 'the', 'economic', 'and', 'societal', 'value', 'that', 'rapid,', 'reliable', 'delivery', 'of', 'a', '#COVID19', 'vaccine', 'could', 'bring:', 'https://t.co/8rQQZth4XQ', '#PFEColleague', 'https://t.co/07V2fAQIMB'], ['The', 'World', 'Health', 'Organization', 'warns', 'a', '#COVID19', 'vaccine', 'won’t', 'be', 'a', '“unicorn”', 'pandemic', 'solution.', 'Melissa', 'Duggan', 'on', 'the', 'measures', 'that', 'will', 'still', 'be', 'needed', 'after', 'a', 'shot', 'is', 'approved.', 'https://t.co/H9iuUnPrQo'], ['Investors', 'are', 'looking', 'past', 'the', 'presidential', 'election', 'and', 'toward', 'a', 'future', 'with', 'a', 'safe', 'and', 'effective', 'COVID-19', 'vaccine,', 'according', 'to', 'Ameriprise', 'Chief', 'Market', 'Strategist', 'David', 'Joy.', 'https://t.co/xsoKAF21YQ'], ['Pfizer-BioNTech', 'vaccine', 'deliveries', 'could', 'start', \"'before\", \"Christmas'\", '|', 'ABS-CBN', 'News', 'https://t.co/c0Fb9Twomp', '#COVID19', '#COVID19vaccine'], ['Recent', 'reports', 'revealed', 'Moderna’s', '#coronavirus', '#vaccine', 'would', 'be', 'easy', 'to', 'distribute', 'because', 'it', 'can', 'be', 'stored', 'at', 'refrigerator', 'temperatures.', \"Pfizer's\", 'vaccine', 'must', 'be', 'shipped', 'and', 'stored', 'at', 'ultra', 'cold', 'temperatures', 'and', 'can', 'only', 'last', 'at', 'refrigerator', 'temperatures', 'for', 'up', 'to', 'five', 'days.', 'https://t.co/6hIwGt1ZHM'], ['No', 'freaking', 'way!', 'More', 'than', 'a', 'quarter', 'million', 'Americans', 'have', 'died', 'of', 'Covid19,', '90,000', 'are', 'now', 'hospitalized', 'and', 'millions', 'are', 'infected', 'because', 'of', 'this', 'administration’s', 'mismanagement', 'of', 'the', 'pandemic.', 'Now', 'they', 'want', 'to', 'name', 'the', 'vaccine', 'after', 'him', 'to', 'reward', 'him?', 'Really?!?!', 'https://t.co/messkYNv2M'], ['BREAKING:', 'North', 'Carolina', 'will', 'get', 'the', 'Pfizer', 'coronavirus', 'vaccine', 'after', 'FDA', 'approval,', 'said', 'Gov.', 'Roy', 'Cooper', 'Tuesday.', 'It', 'will', 'be', 'free', 'for', 'everyone.', 'https://t.co/mXXcdnPrDb'], ['‘Our', 'hope’', 'is', 'that', 'a', 'coronavirus', 'vaccine', 'will', 'bring', 'an', 'end', 'to', 'the', 'pandemic,', 'says', 'Dr', 'Atherton,', 'adding', 'that', 'there', 'is', 'now', \"'light\", 'at', 'the', 'end', 'of', 'the', \"tunnel'.\", 'Follow', 'latest', 'updates', 'from', 'the', 'briefing', 'live:', 'https://t.co/jZlLVlmmnw', 'https://t.co/QjZ6QtIEGS'], ['With', 'the', 'widespread', 'availability', 'of', '#Covid19', 'vaccines', 'approaching', 'and', '50+%', 'in', 'many', 'Western', 'countries', 'indicating', 'they', 'will', 'not', 'take', 'the', 'vaccines', 'any', 'time', 'soon,', 'I', 'can', 'see', 'an', 'impending', '\"Belarus', 'moment\"', 'if', 'freedom', 'restrictions', 'follow.'], ['@CBSNews', 'ComingUp', 'on', '@680CJOB', '@halanderson', '@PamelaFalk', '@CBSNewsRadio', 'U.K.', 'is', '1st', 'country', 'to', 'approve', 'Pfizer', 'COVID-19', 'vaccine,', 'with', 'distribution', 'to', 'start', 'next', 'week', 'https://t.co/Ch9KcUEaj2', 'via', '@CBSHealth'], ['ZVEZDA:', 'In', 'the', 'Southern', 'Military', 'District', 'began', 'to', 'vaccinate', 'personnel', 'against', 'coronavirus', 'https://t.co/7fyFKcxzNw', 'https://t.co/urHb8QUY9f'], ['.@Kroger', 'is', 'prepared', 'to', 'begin', '#COVID19', '#vaccinations', 'at', 'its', 'pharmacies,', 'CEO', 'says', 'https://t.co/LbSiv2MU4d', '$KR', '@HHSGov', '#coronavirus', '#pandemic', '#largest', '#supermarket', '#chain'], ['Ep7:', 'Ghana’s', 'election', 'campaigning,', 'Covid-19', 'vaccine', 'in', 'Africa,', 'Liberia’s', 'controversial', 'referendum', '&amp;', 'rogue', 'MPs', 'in', 'Tanzania', 'https://t.co/yxbDIX47ma'], ['What', 'you', 'need', 'to', 'know', 'about', 'the', 'COVID-19', 'vaccine', 'https://t.co/3YIVDebnCC'], [\"'V-Day':\", 'UK', 'prepares', 'to', 'administer', 'first', 'doses', 'of', 'Covid-19', 'vaccine', 'https://t.co/ziVvYwnHd2', 'https://t.co/pHvHbqyRQT'], ['PM', 'Modi', 'says', 'mobile', 'technology', 'to', 'be', 'used', 'for', 'Covid-19', 'vaccination', 'drive', '–', 'Times', 'of', 'India', 'https://t.co/pGG3nenaSM'], ['90', 'years', 'old', 'British', 'woman', 'is', 'the', 'first', 'recipient', 'of', 'covid19', 'vaccine!!'], ['This', '91-year-old', 'just', 'got', 'the', 'vaccine.', 'See', 'interview', 'that', 'will', 'make', 'your', 'day', 'https://t.co/n2wggFkzRV'], ['The', 'White', 'House', 'declined', 'to', 'buy', 'more', 'of', 'the', 'Pfizer', 'vaccine.', 'Here’s', 'where', 'it', 'could', 'go', 'instead.', 'https://t.co/XdFAdSPM7u'], [\"Wantai's\", 'nasal', 'spray', 'COVID-19', 'vaccine', 'to', 'begin', 'mid-stage', 'trial', 'in', 'China', 'https://t.co/FJg0hGZHuP'], ['Healthcare', 'workers,', 'uniformed', 'personnel,', 'as', 'well', 'as', 'the', 'poor', 'will', 'be', 'among', 'those', 'to', 'be', 'prioritized', 'in', 'getting', 'the', 'COVID-19', 'vaccine', 'once', 'it', 'is', 'available,', 'Health', 'Secretary', 'Francisco', 'Duque', 'III', 'said.', '|', '@DYGalvezINQ', 'https://t.co/Oz0IdPR4KR'], ['@cobbo3', '..Worldwide,', '11', 'COVID-19', 'vaccine', 'candidates', 'are', 'currently', 'in', 'phase', 'three', 'trials,', 'the', 'final', 'stage', 'before', 'regulatory', 'approval.', 'Four', 'are', 'Chinese.', 'The', 'most', 'promising', 'of', 'these,', 'developed', 'by', 'Wuhan-based', 'Sinopharm,', 'is', 'already', 'being', 'given', 'to', 'frontline', 'wor'], ['Dow', 'futures', 'jump', '1,200', 'points', 'on', 'positive', 'Covid-19', 'vaccine', 'data', 'https://t.co/lwwCQZsiwy'], ['How', 'can', 'anti', 'vaxxers', 'be', 'so', 'excited', 'of', 'the', 'covid19', 'vaccine?', '🤔'], ['Are', 'you', 'fucking', 'for', 'real?', 'Joe', 'Biden', 'didn’t', 'do', 'shit', 'else', 'for', 'this', 'vaccine.', 'https://t.co/iXRDtp60fP'], ['@BBCSheffield', 'It’s', 'a', '13', 'year', 'old', 'MERS', 'vaccine', 'that’s', 'been', 'recoded', 'to', 'work', 'as', 'a', 'vaccination', 'against', 'the', 'current', 'strain', 'of', 'coronavirus.', 'Of', 'course', 'they', 'have', 'indemnity', 'orders', 'in', 'place', '-', 'their', 'shareholders', 'would', 'never', 'allow', 'it', 'otherwise.', 'It’s', 'still', 'had', 'c'], ['I', 'think', 'we', 'should', 'rename', 'the', 'COVID-19', 'virus', 'Trump', 'flu', 'and', 'the', 'Pfizer', 'vaccine', 'Biden/Harris', '2020', 'because', 'it', 'will', 'wipe', 'anything', 'off', 'the', 'map', 'named', 'Trump.'], ['Justin', 'Trudeau', 'says', 'to', 'expect', 'COVID-19', 'vaccines', 'to', 'begin', 'rolling', 'out', 'in', 'Canada', 'sometime', 'early', 'in', '2021.', 'https://t.co/xXRYXXlQij'], ['\"I', 'was', 'part', 'of', 'a', 'trial', 'for', 'Pfizer’s', 'covid-19', 'vaccine.', 'It’s', 'a', 'miracle', 'for', 'genetic', 'medicine.\"', 'https://t.co/DYVa8FCGZo'], ['@NewsHour', 'Spain', 'would', 'get', 'the', 'first', 'vaccines', 'against', 'COVID-19', 'developed', 'by', 'U.S.', 'pharmaceuticals', 'Pfizer', 'and', 'its', 'partner', 'BioNTech', 'in', 'early', '2021,', 'Health', 'Minister', 'Salvador', 'Illa', 'said', 'on', 'Tuesday.', '6:47AM', 'EST', '@Reuters'], ['Coronavirus:', 'How', 'COVID', 'vaccine', 'would', 'be', 'delivered', 'to', 'millions', 'across', 'the', 'UK', '-', 'and', 'challenges', 'that', 'lie', 'ahead', '|', 'UK', 'News', '|', 'Sky', 'News', 'https://t.co/bVXNpJ25h2'], ['Covid:', 'Have', 'we', 'finally', 'got', 'a', 'coronavirus', 'vaccine?', 'https://t.co/Bv4tCu161E'], ['via', '@PerilofAfrica', '#News', 'Moderna', 'shares', 'rise', 'as', 'investors', 'await', 'its', 'COVID', 'vaccine', 'data:', 'A', 'surge', 'in', 'COVID-19', 'infections', 'across', 'the', 'US', 'is', 'giving', 'pharmaceutical', 'companies', 'working', 'on', 'vaccines', 'the', 'data', 'they', 'need.', 'https://t.co/mDO3xiV539', 'https://t.co/ap6zO5Wmtk'], ['\"Cyberattacks', 'originating', 'in', 'Russia', 'and', 'North', 'Korea', 'in', 'recent', 'months', 'have', 'targeted', 'online', 'accounts', 'at', 'seven', 'companies', 'researching', 'Covid-19', 'drugs', 'and', 'vaccines,', 'according', 'to', 'Microsoft', 'Corp', '—in', 'some', 'cases', 'successfully.\"', '@WSJ', 'https://t.co/5HeIfXCTvX'], ['Dow', 'jumps', '360', 'points', 'on', 'Moderna', 'COVID-19', 'vaccine', 'news', 'https://t.co/bkJKqk9CxY', 'via', '@AJEnglish'], ['Dolly', \"Parton's\", '$1M', 'research', 'donation', 'helps', 'in', 'discovery', 'of', 'COVID-19', 'Moderna', 'vaccine', 'https://t.co/vhlL1JDnYu'], ['Pfizer', 'chooses', '4', 'states', 'for', 'pilot', 'vaccine', 'delivery', 'program', '$pfe', '#vaccine', '#Pfizer', 'https://t.co/dvECmXBdLl'], ['Dolly', 'Parton', 'helped', 'fund', '95%', 'effective', 'Moderna', 'COVID-19', 'vaccine', 'that', 'could', 'end', 'pandemic', 'https://t.co/hp02Pv5dWX'], [\"Pfizer's\", 'COVID-19', 'vaccine', 'found', 'to', 'be', '95%', 'effective', 'in', 'final', 'analysis', '#Covid_19', '#CoronavirusVaccine'], ['More', 'good', 'news', 'on', 'the', 'vaccine', 'front:', 'https://t.co/BRSe0uyUnX'], ['November', '20,', '2020🇨🇦', 'For', 'more', 'information', 'on', 'the', 'COVID-19', 'pandemic', 'across', 'Canada', 'and', 'around', 'the', 'world,', 'click', 'the', 'link', 'below!', 'https://t.co/KRS8Qi65md', '#COVID19', '#coronavirus', '#COVIDー19', '#vaccine', '#Lockdown', '#Covid', '#pandemic', '#DougFord', '#onpoli', '#cdnpoli', '#Toronto', '#Ontario', '#Canada', 'https://t.co/zdldo7f2TS'], ['Moderna', 'to', 'supply', '160', 'million', 'doses', 'of', 'its', 'Covid-19', 'vaccine', 'to', 'EU', '—', 'RT', 'World', 'News', 'https://t.co/5A1ahfMqKN'], ['Honourable', 'Prime', 'Minister', 'Shri', '@narendramodi', 'ji', 'visits', 'Zydus', 'Biotech', 'Park', 'in', 'Ahmedabad', 'to', 'review', 'the', 'development', 'of', '#COVID19', 'vaccine', 'candidate', 'ZyCOV-D.', '#NamoCares', 'https://t.co/H8VBrvYz5N'], ['What', 'happens', 'if', 'someone', 'refuses', 'vaccination?', 'Ethicists', 'urge', 'clarity', 'on', 'COVID-19', 'rollout', 'https://t.co/cdATZjpsJZ'], ['US', 'health', 'body', 'expects', '2', 'COVID-19', 'vaccines', 'by', 'Christmas', 'https://t.co/57m0sJ2PgR'], ['Covid-19', 'vaccine', 'trial', 'volunteer', 'alleges', 'side', 'effects;', 'DCGI', 'and', 'ethics', 'committee', 'probing', 'matter;', 'Serum', 'Institute', 'rejects', 'charge', '|', 'India', 'News', '-', 'Times', 'of', 'India', 'https://t.co/kLdwjHrfNq'], ['Pfizer,', 'BioNTech', 'apply', 'for', 'coronavirus', 'vaccine', 'approval', 'in', 'Europe', 'https://t.co/aa5aXddXmz', 'https://t.co/hkczFjorjc'], ['Obama,', 'Bush', 'and', 'Clinton', 'will', 'take', 'coronavirus', 'vaccine', 'and', 'might', 'film', 'it', 'to', 'build', 'confidence', 'https://t.co/fEWfcCoQw0'], ['Wall', 'street', 'still', 'out', 'of', 'touch', 'with', 'the', 'average', 'person.', 'Many', 'people', 'still', 'affected', 'by', 'COVID.', 'But', 'markets', 'mostly', 'looking', 'at', 'future', 'good', 'news', 'including', 'the', 'vaccine', 'and', 'the', 'end', 'of', 'an', 'insane', 'presidency...', 'https://t.co/9EIzOkPwLh'], ['The', 'U.S.', '#airline', 'industry', 'and', 'its', 'pilots', 'are', 'essential', 'to', 'the', 'distribution', 'of', 'a', 'COVID-19', 'vaccine.', 'Congress', 'and', 'government', 'leaders', 'must', '#ExtendPSP', 'now', 'to', 'ensure', 'critical', 'infrastructure', 'is', 'in', 'place', 'to', 'distribute', 'a', 'vaccine—American', 'lives', 'depend', 'on', 'it', '@SenRickScott.'], ['Trump’s', 'Operation', 'Warp', 'Speed', 'promised', 'a', 'flood', 'of', 'covid', 'vaccines.', 'Instead,', 'states', 'are', 'expecting', 'a', 'trickle.', 'https://t.co/FJ2FrbCYcM'], ['@bllyrush', '@BanashKelly', '@mhdksafa', 'Trump’s', 'Operation', 'Warp', 'Speed', 'promised', 'a', 'flood', 'of', 'covid', 'vaccines.', 'Instead,', 'states', 'are', 'expecting', 'a', 'trickle.', 'The', 'administration', 'pledged', 'several', 'hundred', 'million', 'doses', 'in', '2020.', 'Companies', 'will', 'actually', 'ship', 'about', '10%', 'of', 'that.'], ['This', 'is', 'your', 'chance', 'to', 'get', 'involved', 'with', '@stjohnambulance', 'and', 'support', 'the', '@NHSuk', 'mass', '#vaccination', 'programme!', 'If', 'you', 'want', 'to', 'play', 'a', 'vital', 'role', 'in', 'getting', 'the', 'country', 'through', '#COVID19,', 'then', 'this', 'is', 'an', 'ideal', 'opportunity', 'for', 'you!', 'https://t.co/3BNMJuzHr6'], ['World', 'GDP', 'recovery', 'to', 'strengthen', 'from', 'mid-2021', 'on', 'vaccine', 'rollout:', 'Dec', '08,', '2020', '(LBO)', '–', 'The', 'global', 'economic', 'recovery', 'will', 'strengthen', 'and', 'become', 'more', 'sure-footed', 'from', 'the', 'middle', 'of', 'next', 'year', 'as', 'coronavirus', 'vaccines', 'are…', 'https://t.co/zW6Y9d1sWC', '#FinancialChronicle', '#Srilanka', '#LK'], ['Dude', 'you', 'have', 'had', 'NOTHING', 'to', 'do', 'with', 'the', 'vaccine!', 'Stop', 'trying', 'to', 'take', 'credit!!!', '#BidenCheated2020', 'AND', 'EVERYONE', 'KNOWS', 'IT', 'https://t.co/cpJlCnrh9l'], [\"Wasn't\", 'there', 'a', 'vaccine', 'promised', 'before', 'the', 'election', 'by', 'the', 'guy', 'Texans', 'just', 'voted', 'to', 'reelect...?', '#ElPasoStrong', '#covid19', '#coronavirus', '#Texas', '#pandemic', '#WearAMask', 'https://t.co/ykKKsi1zMt'], ['No', 'coronavirus', 'vaccine', 'for', 'common', 'people', 'till', '2022,', 'Covid', \"won't\", 'vanish,', 'says', 'AIIMS', 'Director', 'Randeep', 'Guleria', '-', 'Coronavirus', 'Outbreak', 'News', 'https://t.co/Rlx0Tr0evi'], ['This', 'new', 'strain', 'is', 'already', 'spreading', 'person', 'to', 'person', 'and', 'has', 'multiple', 'spike', 'protein', 'mutations.', 'If', 'this', 'spreads', 'further', \"there's\", 'a', 'chance', 'that', 'current', 'covid', 'vaccines', 'may', 'not', 'work', 'and', 'also,', 'those', 'who', 'have', 'been', 'previously', 'infected', 'may', 'also', 'be', 'succeptible', 'to', 'the', 'new', 'strain.', 'https://t.co/eyH9YIRPFq'], ['@ProfKarolSikora', 'People', 'questioning', 'vaccines', 'can', 'do', 'so', 'from', 'a', '\"Pro', 'Safety\"', 'perspective.', 'Demonising', 'people', 'with', 'terms', 'like', '\"Anti', 'vaxxers\"', 'is', 'lowering', 'discussion', 'to', 'the', 'gutter', 'level,', \"you're\", 'better', 'than', 'that!', '@Iromg', '@talkRADIO', 'https://t.co/37O03LT69k'], ['Pfizer,', 'BioNTech', 'say', 'their', 'COVID-19', 'vaccine', 'is', 'more', 'than', '90%', 'effective', '|', 'Article', '[AMP]', '|', 'Reuters', 'https://t.co/GTh8EqNqcF'], ['#BREAKING:', 'Pfizer', 'says', 'its', 'COVID-19', 'vaccine', 'candidate', 'is', '90%', 'effective', 'https://t.co/pQJh1hbQcb', 'https://t.co/yFO6gx8SOo'], ['Pfizer', 'says', 'early', 'data', 'shows', 'COVID-19', 'vaccine', 'is', 'effective', 'https://t.co/9OQ6XRp2cc'], ['The', 'Dow', 'is', 'set', 'to', 'surge', '5%', 'to', 'a', 'record', 'as', 'Pfizer', 'says', 'Covid-19', 'vaccine', 'is', 'more', 'than', '90%', 'effective', 'https://t.co/L6Lt8464SQ'], ['Pfizer', 'says', 'COVID-19', 'vaccine', 'is', 'looking', '90', 'percent', 'effective', 'https://t.co/m27zEV0GoN'], ['@TomFole17064919', '@SP_Duckworth', '@Cam_E_Stewart', 'I', 'think', 'a', 'mandatory', 'vaccine', 'can', 'be', 'justifiable,', 'given', 'a', 'certain', 'risk', 'level', '-', 'so,', 'bubonic', 'plague,', 'definitely', 'yes,', 'common', 'colds,', 'definitely', 'no.', 'Obviously', 'people', 'take', 'different', 'views', 'on', 'where', 'covid-19', 'sits', '(not', 'i'], ['Coronavirus:', 'The', 'married', 'couple', 'behind', 'the', 'successful', 'Pfizer', 'COVID', 'vaccine', '|', 'Came', 'to', 'Germany', 'as', 'Turkish', 'Migrant', 'worker', 'kids', '—-', 'inspiring', 'couple', 'https://t.co/iR4UHRUXFH'], ['Vaccine', 'hesitancy', 'may', 'undermine', 'fight', 'against', 'COVID-19,', 'UK', 'report', 'says', '#UK', '#coronmavirus', '#vaccine', 'https://t.co/0PH7GddSwr'], ['NHS', 'told', 'to', 'be', 'ready', 'to', 'give', 'coronavirus', 'vaccine', 'from', 'December', '-', 'with', 'Army', 'help', 'https://t.co/5pF0jkO7FD'], ['Upbeat', 'news', 'on', 'a', 'coronavirus', 'vaccine', 'and', 'a', 'win', 'for', 'President-elect', 'Biden', 'drive', 'stocks', 'significantly', 'higher.', 'How', 'should', 'investors', 'trade', 'a', 'potentially', 'earlier', 're-opening?', 'https://t.co/iFaW3OlA5C'], ['Details', 'about', \"China's\", 'phase', '3', 'coronavirus', 'vaccine', 'trials', 'revealed,', 'participants', 'say', 'it', 'gives', 'them', 'hope', 'https://t.co/4zx2yvnPVx'], ['Microsoft', 'says', 'hackers', 'backed', 'by', 'Russia', 'and', 'North', 'Korea', 'targeted', 'COVID-19', 'vaccine', 'makers', 'https://t.co/qaEjPnRwUb', 'https://t.co/bypWkxHXwR'], ['Just', 'got', 'an', 'email', 'from', 'the', 'department', 'asking', 'for', 'volunteers', 'to', 'be', 'part', 'of', 'studies', 'for', 'Covid-19', 'vaccines.', 'Pays', '$1,200.', 'Is', 'it', 'ethical', 'to', 'ask', 'students', 'to', 'do', 'this?', 'As', 'most', 'could/need', 'the', 'money.', 'Would', 'you', 'do', 'it', 'if', 'it', 'was', 'free?'], ['Pfizer', 'covid-19', 'vaccine', 'may', 'not', 'need', 'to', 'be', 'kept', 'at', '-70°C', 'after', 'all', 'https://t.co/bfQ3ykxv0k', 'https://t.co/F7azvNsUFi'], ['Coronavirus', 'vaccine:', 'Labour', 'calls', 'for', 'emergency', 'censorship', 'laws', 'for', 'anti-vax', 'content', '-', 'The', 'Independent', 'https://t.co/F3qfRgHN9d'], ['Great', 'thread', 'by', '@nataliexdean', 'about', \"today's\", 'Moderna', 'vaccine', 'news', 'https://t.co/IVqszNrFxm'], ['How', 'election,', 'vaccine', 'news', 'could', 'influence', 'a', 'coronavirus', 'stimulus', 'deal...', '(https://t.co/Ld3maScly6)'], ['Thread', 'on', 'the', 'vaccine!', 'https://t.co/hFCUWEsrii'], ['Covid-19', 'vaccine', 'research', 'is', 'also', 'going', 'to', 'improve', 'your', 'yearly', 'flu', 'shot', 'https://t.co/0YFe17lVbJ'], ['@News5PH', 'Mungkahi', 'Lang', 'Kay', 'Leni,', 'Kay', 'PRRD', 'pledge.', '10', 'step', 'ahead🤣😂🤣', 'Philippine', 'president', 'pledges', 'free', 'coronavirus', 'vaccines', 'for', 'poorest', '20', 'million', 'citizens', '|', 'Arab', 'News', 'https://t.co/4jIwX6yMSr'], ['Meet', 'the', 'Nigerian', 'doctor', 'who', 'helped', 'Pfizer', 'develop', 'COVID-19', 'vaccine', 'https://t.co/WX1VUJgsxR'], ['\"People', \"shouldn't\", 'be', 'worried', 'that', \"we're\", 'going', 'too', 'quickly.\"', 'Scientists', 'leading', 'the', 'development', 'of', 'a', '#COVID19', 'vaccine', 'at', 'the', '@UniofOxford', 'explain', 'how', 'they', 'assess', 'safety', 'at', 'each', 'stage', 'of', 'the', 'process', '👇', 'Watch', 'in', 'full:', 'https://t.co/82RDrH0VDM', '@OxfordVacGroup', '|', '@JennerInstitute'], ['Ultra-cold', 'freezers', 'are', 'in', 'demand.', 'Cold', 'storage,', 'cold', 'enough', 'to', 'handle', 'Pfizer’s', 'new', 'COVID-19', 'vaccine', 'as', 'soon', 'as', 'it', 'is', 'approved', 'by', 'the', 'FDA', 'for', 'emergency', 'use.', 'https://t.co/4aAJG3TlCc'], ['First', 'COVID-19', 'vaccines', 'should', 'go', 'to', 'healthcare', 'workers', 'and', 'nursing', 'homes,', 'panel', 'says', 'https://t.co/BApiRpXXv6'], ['Live', 'updates:', 'Nearly', '100,000', 'patients', 'hospitalized', 'nationwide;', 'vaccine', 'panel', 'urges', 'prioritizing', 'health', 'workers', 'By', 'Antonia', 'Noori', 'Farzan', 'https://t.co/gs7Cn9Lv7N'], ['Seven', 'questions', 'HR', 'is', 'asking', 'about', 'COVID-19', 'vaccinations', 'https://t.co/ZiJrRI8X9t', 'https://t.co/eKTu3GVygV'], ['@DevorguillaScot', '“The', 'MHRA', 'urgently', 'seeks', 'an', 'Artificial', 'Intelligence', '(AI)', 'software', 'tool', 'to', 'process', 'the', 'expected', 'high', 'volume', 'of', 'Covid-19', 'vaccine', 'Adverse', 'Drug', 'Reaction', '(ADRs)', 'and', 'ensure', 'that', 'no', 'details', 'from', 'the', 'ADRs’', 'reaction', 'text', 'are', 'missed.”', 'https:'], ['Trump', 'wants', 'all', 'the', 'credit', 'for', 'coronavirus', 'vaccines', '–', 'and', 'to', 'have', 'them', 'named', 'after', 'him', '-', 'https://t.co/6yZrQsfiZt'], ['trib_al:', \"'The\", 'UK', 'was', 'the', 'first', 'country', 'in', 'the', 'world', 'to', 'approve', 'the', 'Pfizer-BioNTech', 'Covid-19', 'vaccine', \"'\", 'https://t.co/g5lEX7E55C'], ['Russia', 'begins', 'mass', 'COVID-19', 'vaccinations', 'https://t.co/ucZ8U0viy9'], ['90-year-old', 'woman', 'in', 'the', 'UK', 'becomes', 'first', 'person', 'to', 'receive', 'the', 'Pfizer', 'COVID-19', 'vaccine', 'outside', 'clinical', 'trial', '#vaccine', '#hope'], ['How', 'are', 'shipping', 'companies', 'preparing', 'for', 'coronavirus', 'vaccine', 'distribution?', '@FrankCNBC', 'reports.', 'https://t.co/Ebvsc20SCK', 'https://t.co/jjppdhzgSL'], ['Galvez:', 'Bulk', 'of', 'vaccines', 'vs.', 'COVID-19', 'to', 'arrive', 'end', 'of', '2021,', 'early', '2022', 'https://t.co/9G8HwRj3lA', 'via', '@gmanews'], ['The', 'latest', 'The', 'Coronavirus', 'AND', 'CoVID', 'Daily!', 'https://t.co/gzOu5vgyId', 'Thanks', 'to', '@JeffWiegner', '@funtoretire', '#coronavirus', '#vaccine'], ['Australia', 'begins', 'production', 'of', 'Oxford-developed', 'COVID-19', 'vaccine', '#Australia', '#COVID19', '#Vaccine', '#Coronavirus', '#Virus', '#AustraliaCoronavirus', 'https://t.co/qAmAGJKePu'], ['No', 'coronavirus', 'vaccine', 'for', 'common', 'people', 'till', '2022,', 'Covid', \"won't\", 'vanish,', 'says', 'AIIMS', 'Director', 'Randeep', 'Guleria', '-', 'Coronavirus', 'Outbreak', 'News', 'https://t.co/jyrGYOTu4t'], ['And', 'this', 'will', 'be', 'what', 'saves', 'American', '...', '90%', 'effective', 'vaccine', '...', 'https://t.co/J7g9slS89V'], ['Pfizer', 'says', 'COVID-19', 'vaccine', 'data', 'suggests', 'shots', 'may', 'be', '90', 'per', 'cent', 'effective', 'https://t.co/vZgcBCHlxb'], ['The', 'latest', 'on', \"@pfizer's\", '#Covid19', 'vaccine', 'at', '5:54A...State', 'Epidemiologist', 'Dr.', 'Rachel', 'Herlihy', 'at', '8:24A...', 'https://t.co/XodkmrMwqq'], ['EU', 'finalizing', 'deal', 'for', 'Pfizer-BioNTech’s', 'COVID-19', 'vaccine,', 'according', 'to', 'German', 'health', 'minister', 'https://t.co/5xzeb61W3e'], ['Stocks', 'head', 'for', 'mixed', 'opening', 'amid', 'COVID-19', 'vaccine', 'rally', 'https://t.co/pXMVcpsyUV'], ['How', 'optimistic', 'should', 'we', 'be', 'about', 'the', 'Pfizer', 'COVID-19', 'vaccine', 'announcement?', 'We', 'spoke', 'with', \"@mcgillu's\", 'founder', 'and', 'director', 'of', 'the', 'McGill', 'Interdisciplinary', 'Initiative', 'in', 'Infection', 'and', 'Immunity.', 'https://t.co/2TpnWBsAAB'], ['no', 'vaccine', 'for', 'children', 'it', 'will', 'be', 'for', 'adults', 'only', '#COVID19', 'https://t.co/nRADuX1tTB'], ['Putin', 'says', 'Russia', 'is', 'about', 'to', 'register', 'its', 'third', 'coronavirus', 'vaccine', '@CNBC', 'https://t.co/MX2K9nOCsV'], ['How', 'do', 'each', 'of', 'the', 'leading', 'COVID-19', 'vaccines', 'differ?', 'https://t.co/71vEcJ1Mij'], ['Donald', 'Trump', 'has', 'completely', 'whacked', 'out', 'meltdown', 'about', 'coronavirus', 'vaccine', 'https://t.co/BeroPYhZ5L', 'via', '@PalmerReport'], ['CDC', 'to', 'track', 'coronavirus', 'vaccine', 'recipients', 'through', 'smartphone', 'app,', 'daily', 'text', 'messages', '|', 'News', '|', 'LifeSite', 'https://t.co/FIOFnAV7lG'], ['Malaysia', 'is', 'to', 'make', 'upfront', 'payment', 'of', 'about', 'RM94mil', 'soon', 'for', 'access', 'to', 'Covid-19', 'vaccine,', 'says', 'Science,', 'Technology', 'and', 'Innovation', 'Minister', 'Khairy', 'Jamaluddin.', 'https://t.co/PvAKo6gU4d', '#kwikNews', '#Nation', 'https://t.co/Xwkf5LIeNB'], ['Pfizer', 'and', 'BioNTech', 'apply', 'for', 'regulatory', 'clearance', 'of', 'their', 'coronavirus', 'vaccine', 'https://t.co/iUfmwNHDgv'], ['Brent', 'hits', 'highest', 'since', 'March,', 'spurred', 'by', 'coronavirus', 'vaccine', 'hopes', 'https://t.co/YAyJFdcSVc'], ['Regarding', 'the', '#COVID19', 'vaccine,', 'President', '@realDonaldTrump', 'said', 'on', '@MariaBartiromo:', '“#MarkLevin', 'said', 'it', 'very', 'well', 'last', 'night.”', '#TheGreatOne', 'Cc:', '@marklevinshow'], ['@KTLA', 'Before', 'the', 'vaccine', 'is', 'ready,', 'avoid', 'direct', 'contact', 'that', 'spreads', 'coronavirus,', 'use', 'BostApp', 'instead', 'to', 'communicate', 'safely', 'with', 'people', 'nearby', 'while', 'keeping', '#SocialDistance,', 'download', 'for', 'free', 'at', 'Apple', 'https://t.co/GP34Pgg4UP', '&amp;', 'Google', 'https://t.'], ['@HWLeeds', 'wants', 'to', 'hear', 'the', 'views', 'of', 'people', 'in', '#Leeds', 'about', 'the', 'roll', 'out', 'of', 'coronavirus', 'vaccine?', 'Please', 'Complete', 'our', 'really', 'quick', 'survey', 'here', 'https://t.co/WJc58BfEH2', '#WeeklyCheckIn', '#RT', 'https://t.co/netyaXOl6g'], ['UK,', 'Russia', 'announce', 'mass', 'Covid-19', 'vaccinations', 'starting', 'next', 'week', 'https://t.co/8ilIlKeLvh'], ['Red', 'Cross', 'leader', 'urged', 'countries', 'to', 'combat', 'COVID-19', 'vaccine', 'misinformation,', 'which', 'he', 'called', 'a', \"'parallel\", \"pandemic'\", 'to', 'the', 'disease', 'https://t.co/w5bCsCxyF3', 'https://t.co/lYzQTYVcs2'], ['COVID', 'news', 'live', '–', 'latest', 'UK', 'updates:', '‘The', 'UK', 'did', 'not', 'do', 'it', 'as', 'carefully’', '-', 'Dr', 'Anthony', 'Fauci', 'criticises', 'Pfizer', 'vaccine', 'approval', '|', 'UK', 'News', '|', 'Sky', 'News', 'https://t.co/3u92M2pEJQ'], ['Here’s', 'the', 'card', 'you’ll', 'get', 'when', 'you', 'eventually', 'get', 'the', 'Covid-19', 'vaccine.', 'Everyone', 'will', 'get', 'a', 'card', '\"they', 'can', 'put', 'in', 'their', 'wallet', 'that', 'will', 'tell', 'them', 'what', 'they', 'had', 'and', 'when', 'their', 'next', 'dose', 'is', 'due,\"', 'says', 'Dr.', 'Kelly', 'Moore', 'of', 'the', 'Immunization', 'Action', 'Coalition.', 'https://t.co/WpWBBCl4FR', 'https://t.co/QT4qs0VHBt'], ['The', 'UK’s', '@MHRAgovuk', 'has', 'become', 'the', 'first', 'regulator', 'in', 'the', 'world', 'to', 'approve', 'the', '@pfizer/@BioNTech_Group', 'COVID-19', 'vaccine.', 'What', 'will', 'the', 'decision', 'mean', 'for', 'the', 'British', 'public?', 'Find', 'more', 'here:', 'https://t.co/jIe7oconYN.'], ['Study:', 'Americans', 'increasingly', 'say', 'they', 'would', 'get', 'vaccinated', 'for', '#COVID19.', 'By', 'the', 'numbers:', '60%', 'of', 'Americans', 'said', 'in', 'November', 'they', 'would', '\"definitely\"', 'or', '\"probably\"', 'get', 'a', 'vaccine,', 'compared', 'to', 'just', '51%', 'in', 'September,', 'per', 'Pew.', 'https://t.co/QIwCcuki1W'], ['Pfizer’s', 'coronavirus', 'vaccine', 'is', 'more', 'than', '90', 'percent', 'effective', 'in', 'first', 'analysis,', 'company', 'reports', 'https://t.co/floWGVTreo'], ['Pfizer’s', 'coronavirus', 'vaccine', 'is', 'more', 'than', '90', 'percent', 'effective', 'in', 'first', 'analysis,', 'company', 'reports', 'https://t.co/5KB0TcjgiH'], ['\"There\\'s', 'never', 'been', 'a', 'coronavirus', 'vaccine!\"', 'Yes', 'because', 'most', 'previous', 'coronaviruses', 'have', 'either', 'been', 'rare', '(SARS,', 'MERS)', 'or', 'are', 'very', 'mild', '(a', 'few', 'common', 'colds,', 'but', 'not', 'the', 'most', 'common', 'forms)', 'so', \"there's\", 'never', 'been', 'a', 'major', 'need', 'for', 'vaccine', 'before'], ['Gold', 'futures', 'on', 'MCX', '(Multi', 'Commodity', 'Exchange', 'of', 'India)', 'fell', 'by', 'as', 'much', 'as', 'Rs', '2,566', 'per', '10', 'grams,', 'within', 'minutes', 'of', 'the', 'news', 'that', 'COVID-19', 'vaccine', 'trials', 'of', 'Pfizer', 'were', 'successful.', '#TheAssamTribune', '#GoldPriceDrop', '#CoronaVirusUpdates', '@pfizer', '@nsitharaman', 'https://t.co/AWk6P3taSL'], ['Testing', 'timeline:', 'What’s', 'ahead', 'for', 'COVID-19', 'vaccines', 'https://t.co/ltBVKqQGNL'], ['Canada', 'made', '$1', 'billion', 'upfront', 'payments', 'to', 'Pfizer,', 'GSK,', 'J&amp;J', 'and', 'others', 'for', 'Cov-19', 'vaccine', 'to', 'get', 'early', 'access', 'and', 'hedge', 'her', 'bet.', 'What', 'did', 'your', 'govt', 'do?', 'Yet', 'you', 'want', 'early', 'access', 'and', 'equitable', 'distribution?', 'Is', 'opening', 'border', 'to', 'Dangote', 'alone', 'a', 'definition', 'of', 'fairness', 'and', 'equity?', 'https://t.co/tqPFAChrv2'], ['Moderna', 'expects', 'to', 'know', 'by', 'the', 'end', 'of', 'the', 'month', 'whether', 'its', 'Covid-19', 'vaccine', 'works', 'https://t.co/dzmgDSQT8R'], ['via', '@PerilofAfrica', 'WHO', 'chief', 'urges', 'vigilance', 'as', 'world', 'waits', 'for', 'coronavirus', 'vaccine:', 'Ethiopian', 'biologist', 'Tedros', 'Adhanom', 'Ghebreyesus,', 'who', 'leads', 'the', 'World', 'Health', 'Organization,', 'warned', 'citizens', 'to', 'keep', 'adhering', 'to', 'social', 'distancing', 'and', 'mask-wearing', 'rules', 'in…', 'https://t.co/InaMGp3bZS', 'https://t.co/PHGwBB04sB'], ['President', '@realDonaldTrump', 'says', 'America’s', 'general', 'public', 'will', 'have', 'access', 'to', 'a', 'COVID-19', 'vaccine', 'as', 'early', 'as', 'April', 'but', 'was', 'pained', 'New', 'York', 'state', 'would', 'not', 'be', 'receiving', 'delivery', 'because', 'the', 'governor', 'doesn’t', '“trust”', 'his', 'administration.', 'https://t.co/z1H5BC1KLK'], [\"'Covaxin',\", \"India's\", 'indigenous', 'COVID-19', 'vaccine,', 'enters', 'Phase-III', 'trials', '#vaccine', '#vaccines', '#COVID__19', '#coronavirus', '#COVAXIN', '#BharatBiotech', 'https://t.co/gN9FkaBfZM'], ['Lonza', 'ramps', 'up', 'Moderna', 'COVID-19', 'vaccine', 'production', 'in', 'Portsmouth', 'https://t.co/ZErfJiSGGL', 'via', '@seacoastonline'], ['53%', 'of', 'SquareOff', 'users', 'would', 'support', 'a', 'statewide', '#curfew', 'to', 'help', 'prevent', 'the', 'spread', 'of', '#coronavirus.', 'Do', 'you', 'agree?', 'See', 'what', 'people', 'are', 'saying,', 'and', 'express', 'your', 'opinion', 'at', 'https://t.co/qH6ixEL2Hv', '#Covid19', '#Quarantine', '#vaccine', 'https://t.co/ALUa2F8Pad'], ['Coronavirus', 'live', 'news:', 'Pfizer', 'vaccine', '‘has', '95%', 'efficacy', 'and', 'passed', 'safety', 'checks’', '|', 'World', 'news', 'https://t.co/hz1B1wbh1m'], ['Dolly', 'Parton', 'learned', 'she', 'funded', 'the', 'Moderna', 'Covid-19', 'vaccine', 'when', 'the', 'rest', 'of', 'us', 'did', 'https://t.co/4BvRd8Yn8g'], ['A', 'vaccine', 'for', 'COVID-19', 'is', 'months', 'away', 'for', 'the', 'general', 'population', 'in', 'South', 'Carolina', 'but', 'will', 'be', 'provided', 'at', 'no', 'cost,', 'state', 'officials', 'announced', 'on', 'Wednesday.', \"Here's\", 'how', 'distribution', 'will', 'work.', 'https://t.co/ehhUH2ffnW'], ['Trump', 'is', 'probably', 'refusing', 'because', 'he', 'has', 'no', 'plan', 'and', 'if', 'he', 'does', 'then', 'this', 'just', 'shows', 'everyone', 'how', 'much', 'he', 'thinks', 'of', 'only', 'himself.', 'I', 'wouldn’t', 'be', 'surprised', 'if', 'he', 'tries', 'to', 'sell', 'the', 'vaccine', 'too', 'the', 'highest', 'bidder', 'https://t.co/fTilKjvdQR'], ['Pfizer', 'COVID-19', 'vaccine', 'could', 'get', 'UK', 'approval', 'this', 'week', '-', 'Telegraph', 'https://t.co/LVnpTdXGRQ', 'https://t.co/QcMu0P8LPP'], [\"AstraZeneca's\", 'Oxford', 'coronavirus', 'vaccine', 'is', '70%', 'effective', 'on', 'average,', 'data', 'shows', 'https://t.co/bDoe79KRUd'], ['A', 'panel', 'of', 'U.S.', 'advisers', 'will', 'meet', 'Tuesday', 'to', 'vote', 'on', 'how', 'scarce,', 'initial', 'supplies', 'of', 'a', 'COVID-19', 'vaccine', 'will', 'be', 'given', 'out', 'once', 'one', 'has', 'been', 'approved.', 'https://t.co/YIG0EG0QQ6'], [\"India's\", 'Modi', 'visits', 'key', 'vaccine', 'facilities', 'as', 'COVID-19', 'cases', 'surge', 'https://t.co/ULzlFze8CC'], ['Moderna', 'to', 'apply', 'today', 'for', 'FDA', 'authorization', 'for', 'its', 'Covid-19', 'vaccine', 'https://t.co/VwnkpqfAIc'], ['Coronavirus', 'Update:', 'CDC', 'committee', 'votes', 'on', 'U.S.', 'vaccine-distribution', 'plan', 'https://t.co/kRUb7sO2wF'], ['US', 'approves', 'Roche', 'covid-19', 'test', 'that', 'measures', 'vaccines', 'antibody', 'response', 'https://t.co/VLcYpjYE9v'], ['When', 'will', 'the', '#Covid19vaccine', 'be', 'in', '#Zambia', '?', '-', '#africa', '#covid19', '#coronavirus', '#vaccine', '#health', 'https://t.co/u2k5tj226K'], ['Jammu', 'and', 'Kashmir', 'Chief', 'Secretary,', 'B', 'V', 'R', 'Subrahmanyam', 'on', 'Friday', 'discussed', 'kick', 'off', 'preparatory', 'planning', 'for', 'the', 'roll-out', 'of', 'COVID-19', 'vaccination', 'for', 'hassle-free', 'and', 'time-bound', 'delivery', 'of', 'the', 'vaccine', 'across', 'the', 'Union', 'Territory', 'https://t.co/PS00JVu70l', 'https://t.co/JyFmUT6a6A'], ['More', 'than', 'half', 'of', 'FDNY', 'say', \"they'll\", 'refuse', 'COVID-19', 'vaccine', 'https://t.co/eU7UTOJZl0', 'via', '@nypmetro'], ['Joe', 'Biden', 'says', 'he', \"won't\", 'mandate', 'getting', 'COVID-19', 'vaccine,', 'wearing', 'masks', 'https://t.co/Qj1UkgXOwo', 'via', '@nypost'], ['#RDIF', 'and', '@heteroofficial,', 'to', 'produce', 'in', '#India', 'over', '100', 'million', 'doses', 'per', 'year', 'of', 'the', 'world’s', 'first', 'registered', 'vaccine', 'against', 'the', 'novel', '#coronavirus', 'infection', '#COVID19', '@sputnikvaccine', '@rdif_press', 'https://t.co/igZ98ubmWu'], ['7)', 'Although', 'certain', 'scientific', 'words', 'may', 'be', 'used', 'frequently', 'in', 'reporting', 'on', 'COVID-19', 'and', 'vaccines,', 'it', 'is', 'important', 'to', 'define', 'scientific', 'terms', 'in', 'every', 'article,', 'or', 'link', 'to', 'a', 'glossary', 'of', 'terms', 'that', 'will', 'allow', 'the', 'reader', 'to', 'educate', 'themselves.'], ['#ICYMI:', 'We', 'hosted', 'a', 'research', 'call', 'with', '#fairleadstrategies’', '@StocktonKatie', 'on', 'the', '#market’s', 'reaction', 'to', 'the', '#2020election', 'and', '#COVID19', 'vaccine', 'news,', 'while', 'looking', 'at', '$SPX', '&amp;', 'more.', 'If', 'you', 'were', 'unable', 'to', 'attend,', 'read', 'the', 'recap', 'here:', 'https://t.co/xXP88aGzbE'], ['First', 'batch', 'of', 'COVID-19', 'vaccine', 'coming', 'to', 'Canada', 'next', 'week', '|', 'https://t.co/RlMn3PKmWx', '#cityofPG', '#northernbc', '#cdnpoli', '#bcpoli', 'https://t.co/zn3AhBVMLy'], ['Trump', 'to', 'sign', 'coronavirus', 'vaccine', 'executive', 'order', 'prioritizing', 'Americans', 'over', 'foreign', 'nations'], ['Alberta', 'to', 'receive', '3,900', 'doses', 'of', \"Pfizer's\", '#COVID19', 'vaccine', 'next', 'week', '#cdnpoli', '#Coronavirus', '#ableg', '#abpoli', '@UCPcaucus', '@shandro', '@CMOH_Alberta', '#YEG', '2', 'rounds', 'of', 'immunizations', 'needed,', 'so', 'shipment', 'would', 'vaccinate', 'about', '1,950', 'people', 'https://t.co/r8kKxu2cA0'], ['How', 'about', 'the', 'volunteers', 'you', 'tested', 'the', 'vaccine', 'on?', 'https://t.co/Fs3VRjoN58'], ['Has', 'the', '#greed', 'of', 'the', '#mink', 'industry', 'in', '#Denmark', 'sabotaged', 'the', 'search', 'for', 'a', '#vaccine', 'against', '#COVID19', '?', 'The', 'Danes', 'might', 'have', 'ignored', 'what', 'happened', 'in', 'Spain.', 'https://t.co/04pw9U6m93'], ['Porcentajes', 'Pfizer', 'says', 'early', 'analysis', 'shows', 'its', 'Covid-19', 'vaccine', 'is', '90%', 'effective', 'https://t.co/HMmuJPBp26'], ['Pfizer', 'says', 'an', 'experimental', 'vaccine', 'is', 'more', 'than', '90%', 'effective', 'in', 'preventing', 'COVID-19', 'based', 'on', 'initial', 'data', 'from', 'a', 'large', 'study.', 'Could', 'be', 'available', 'by', 'the', 'end', 'of', 'the', 'year.'], ['@IvankaTrump', 'Thanks', 'Turkish', 'immigrant', 'couple', 'who', 'immigrated', 'to', 'Europe', 'and', 'developed', 'the', 'vaccine!', 'https://t.co/IvCtiV8EA8'], ['Pfizer', 'said', '3', 'weeks', 'ago', 'that', 'they', 'will', 'know', 'by', 'mid', 'November', 'if', 'the', 'vaccine', 'works', 'because', 'will', 'be', 'enough', 'cases', 'along', 'control', 'subjects', 'to', 'know', 'if', 'the', 'vaccine', 'prevented', 'infection', 'in', 'the', 'treated', 'subjects.', 'https://t.co/e61yWBQJh6'], ['The', 'EU', 'has', 'already', 'requested', '1', 'Million', 'Doses', 'of', 'this', 'new', 'Pfizer', 'vaccine!', 'https://t.co/PnR3QnSg3A'], ['Coronavirus:', 'Matt', 'Hancock', 'asks', 'NHS', 'to', 'be', 'ready', 'to', 'deploy', 'COVID-19', 'vaccine', 'from', 'start', 'of', 'December', 'https://t.co/ZVSZsAaAcZ', '🤞'], ['Me,', 'at', 'your', \"child's\", '1st', 'birthday', 'party,', 'off', 'three', 'shots', 'of', 'the', 'coronavirus', 'vaccine', 'https://t.co/Lo29BI0wus'], ['Behind', \"Pfizer's\", 'vaccine,', 'an', 'understated', 'husband-and-wife', '\"dream', 'team\"', 'https://t.co/YIcyFf6HvU'], ['Pfizer,', 'BioNTech', 'COVID-19', 'vaccine', 'trials', 'raise', 'hopes', 'for', '‘early’', '2021', 'delivery', '#COVID19', '#vaccine', 'https://t.co/eva1le0YJ4', 'via', '@globeandmail'], ['Dr.', 'Fauci', 'reacts', 'to', \"Pfizer's\", 'vaccine', 'announcement', 'https://t.co/BmL2ZZCW8L'], ['Scientists', 'around', 'the', 'world', 'were', 'diligently', 'working', 'on', 'a', 'vaccine', 'long', 'before', 'trump', 'uttered', 'the', 'words', '“next', 'dem', 'hoax”', 'and', '“gone', 'by', 'Easter”,', 'among', 'other', 'ridiculous', 'denials.', '#COVID19', '#COVIDIOT', 'https://t.co/IzIbUv7Nzb'], ['Air', 'France', 'KLM', 'Martinair', 'Cargo', 'ready', 'to', 'transport', 'COVID-19', 'vaccines', 'https://t.co/wEggJdtqVl'], ['https://t.co/2tFslOHX7j', 'Cumo.publiy', 'said', 'he', 'wont', 'accept', 'this', 'vaccine', 'e', 'until', 'his', 'ppl', 'approve', 'it', 'Stop', 'the', 'bullshit', 'lying', 'Cuomo', 'is', 'on', 'video', 'multiple', 'times', 'saying', \"it's\", 'not', 'welcome', 'in', 'NY', 'https://t.co/acviuC9N0a'], ['Here', 'are', 'the', 'major', 'hurdles', 'ahead', 'for', '#COVID19', 'vaccine', 'distribution', 'in', 'the', 'US', 'https://t.co/N11PBH098L'], ['Just', 'curious....', 'If', 'a', 'COVID', 'vaccine', 'was', 'available', 'today,', 'would', 'you', 'get', 'a', 'shot?', '(answers', 'are', 'totally', 'anonymous)', '#COVID19', '#vaccines'], ['We', 'will', 'have', 'more', 'then', '4', 'vaccines', 'soon.', 'Pfizer,', 'Moderna,', 'Astrazenica', '&amp;', 'Covaxin.', 'https://t.co/dSDudA4vtz'], ['VA', 'is', 'offering', 'clinical', 'trials', 'to', 'test', 'vaccines', 'and', 'treatments', 'for', 'COVID-19.', 'Anyone', 'over', 'the', 'age', 'of', '18', 'can', 'volunteer:', 'Veterans,', 'family', 'members', 'and', 'friends.', 'Sign', 'up', 'online', 'at', 'https://t.co/4lNTydY4YZ.', 'VIDEO:', 'https://t.co/W2EL1dpphC', 'https://t.co/bDvNWijPaO'], ['A', 'quick', 'reminder', 'that', 'Cambridge,', 'not', 'known', 'for', 'its', 'one-upmanship', 'with', 'Oxford,', 'is', 'apparently', 'working', 'on', 'a', 'vaccine', 'for', 'all', 'coronaviruses.', 'https://t.co/AWNMxgJFOO', 'https://t.co/3grcsRFa2a'], ['From', '#Syria', 'to', 'COVID-19', 'frontline,', 'stateless', 'scientist', 'sets', 'sights', 'on', 'vaccine', 'Nowras', 'Rahhal', 'spent', 'years', 'studying', 'to', 'the', 'sound', 'of', 'bombings', '&amp;', 'artillery', 'fire,', 'using', 'his', 'phone', 'torch', 'to', 'read', 'when', 'the', 'electricity', 'cut', 'out', 'at', 'his', '#Damascus', 'home.', '#Darayya', '#Germany', 'https://t.co/MYh8Au4Xwn'], ['Thousands', 'of', 'Pakistani', 'volunteers', 'are', 'flocking', 'to', 'research', 'hospitals', 'across', 'the', 'country', 'to', 'join', 'final-stage', 'clinical', 'trials', 'of', 'a', 'Chinese-made', 'vaccine', 'for', 'the', 'coronavirus', 'https://t.co/zDqr7ukQTt'], ['Do', 'you', 'work', 'in', '#socialcare?', 'Can', 'you', 'help', 'Researchers', 'at', 'the', 'University', 'of', 'East', 'Anglia', 'investigating', 'flu', 'jab', 'uptake', 'to', 'learn', 'lessons', 'for', 'a', '#COVID19', 'vaccine?', 'Find', 'out', 'more:', 'https://t.co/bF9oqql9Wn', 'https://t.co/7d8u0nVdYu'], ['\"Rich', 'countries', 'grab', 'half', 'of', 'projected', 'covid-19', 'vaccine', 'supply\"', 'by', 'Graphic', 'detail', 'https://t.co/x8VIv1YbnD', '#dataviz', 'See', 'more', 'posts', 'at', 'https://t.co/lo9TyPYSl4'], ['Fact', 'check:', 'Lipid', 'nanoparticles', 'in', 'a', 'COVID-19', 'vaccine', 'are', 'there', 'to', 'transport', 'RNA', 'molecules', '-', 'Reuters', 'https://t.co/Km1PU3KqSm'], ['When', 'do', 'we', 'get', 'to', 'see', 'the', 'vaccine', 'in', 'Kenya', '?', 'https://t.co/Nd2diUYEJP'], ['Covid', 'updates:', 'Trump', 'to', 'sign', '‘America', 'First’', 'vaccines', 'policy', 'as', 'first', 'U.S.', 'approval', 'could', 'be', 'days', 'away', 'https://t.co/DdreibZRv8'], ['Concerned', 'about', 'global', 'equitable', 'access', 'to', 'potential', '#covid19', 'vaccines,', 'some', 'UK', 'politicians', 'support', 'the', 'IP', 'waiver', 'proposal', 'currently', 'on', 'the', 'table', 'at', 'the', '@WTO,', 'writes', '@willrworley', 'https://t.co/FLJ6q608Am'], ['Pfizer', 'says', 'early', 'analysis', 'shows', 'its', 'Covid-19', 'vaccine', 'is', '90%', 'effective', 'https://t.co/MMcg0715v9', '-', 'beginning', 'of', 'the', 'end', '...'], ['The', 'only', 'vaccine', 'this', 'administration', 'was', 'partnered', 'with', 'was', 'a', 'combination', 'of', 'Clorox', 'and', 'demon', 'sperm.', 'Shut', 'the', 'fuck', 'up', 'and', 'start', 'packing', 'your', 'shit.', 'https://t.co/2SAlUsCQFA'], ['I', 'know', 'so', 'many', 'people', 'who', 'think', 'there', 'was', 'some', 'conspiracy', 'to', 'not', 'announce', 'vaccine', 'until', 'after', 'the', 'election.', 'They', 'will', 'believe', 'that', 'forever.', 'Maddening.', 'cc', '@Neoavatara', '@MDaware', '@ashishkjha', '@choo_ek', '@ScottGottliebMD', '@AgnesSolberg', '@jeremyfaust', '@VinGuptaMD', '#covid19'], [\"I've\", 'seen', 'no', 'less', 'than', 'a', 'dozen', 'companies', 'claim', 'to', 'have', 'a', 'vaccine', 'since', 'March.', '#COVID19', '#vaccine'], ['vaccine', 'comes', 'out', 'right', 'after', 'election', 'is', 'over', 'what', 'the', 'fuck', 'did', 'i', 'say', 'https://t.co/VW1oAy8LL0'], ['Very', 'important', 'information', 'about', 'how', 'scientists', 'work', 'with', 'vaccines', 'without', 'using', 'the', 'virus', 'itself', 'is', 'encoded.', 'https://t.co/p4HeYclkkW'], ['“The', 'mRNA', 'vaccine', 'approach', 'uses', 'genetic', 'material', 'called', 'mRNA', 'to', 'trick', 'cells', 'into', 'producing', 'bits', 'of', 'protein', 'that', 'look', 'like', 'pieces', 'of', 'the', 'virus.', 'The', 'immune', 'system', 'learns', 'to', 'recognize', 'and', 'attack', 'those', 'bits', 'and,', 'in', 'theory,', 'would', 'react', 'fast', 'to', 'any', 'actual', 'infection.”', '#COVID19'], ['Don’t', 'let', 'trump', 'take', 'credit', 'for', 'the', 'vaccine.', 'Trump', 'had', 'NOTHING', 'to', 'do', 'with', 'the', 'vaccine.', 'https://t.co/hO9uJ0reZv'], ['Only', 'a', 'true', 'narcissist/cunt', 'would', 'take', 'credit', 'for', 'a', 'fucking', 'vaccine', 'after', 'asking', 'if', 'disinfectant', 'could', 'be', 'injected', 'into', 'the', 'body', 'to', 'kill', 'coronavirus', '🐀', 'https://t.co/TOLYJ3XxXi'], ['Even', 'after', 'the', 'vaccine', 'for', 'COVID-19', 'is', 'available,', 'and', 'assuming', \"it's\", 'at', 'least', '90%', 'effective,', 'what', 'about', 'the', 'anti-vaxxers', \"who'll\", 'simply', 'refuse', 'the', 'vaccine?'], ['10/11/2020', 'Oil', 'falls', 'as', 'renewed', 'lockdowns', 'counter', 'COVID-19', 'vaccine', 'hopes', '[ESTA]', 'https://t.co/cyZkTFfAgM'], ['Brazil', 'halts', 'trials', 'of', 'Chinese', 'COVID-19', 'vaccine', 'https://t.co/QvHLEP7CGq'], ['Who', 'will', 'get', 'the', 'Covid-19', 'vaccine', 'first', 'and', 'when', 'will', 'I', 'receive', 'it?', 'https://t.co/9Sz3PLyLJg'], ['in', 'case', 'any', 'tr*mp', 'supporters', 'still', 'follow', 'me,', 'this', 'vaccine', 'had', 'nothing', 'to', 'do', 'with', 'this', 'administration.', 'this', 'is', 'a', 'blatant', 'lie,', 'and', 'you', 'are', 'all', 'so', 'foolish', 'to', 'idolize', 'and', 'believe', 'these', 'people', 'for', 'the', 'last', 'four', 'years.', 'https://t.co/MAHWdtlxyv'], ['$HLT', 'Argus', 'upgrades', 'Hilton', 'Worldwide', '(NYSE:HLT)', 'to', 'a', 'Buy', 'rating', 'after', 'having', 'it', 'set', 'at', 'Neutral.Analyst', 'John', 'Staszak:', '\"\"We', 'believe', 'that', 'the', 'development', 'of', 'an', 'effective', 'coronavirus', 'vaccine,', 'which', 'now', 'seems', 'more', 'likely', 'in', 'the', 'near', '...', 'https://t.co/NzH1LsDG4C'], ['I', \"don't\", 'care', 'if', \"you're\", 'looking', 'forward', 'to', 'the', 'vaccine,', 'or', \"you've\", 'had', 'COVID19,', 'the', 'single', 'most', 'important', 'thing', 'that', 'you', 'can', 'do', 'is', 'boost', 'your', 'immune', 'system.', 'Stop', 'the', 'junk', 'food,', 'ditch', 'the', 'cans', '&amp;', 'jars', '&amp;', 'eat', 'fresh,', 'organic', 'fruits', '&amp;', 'vegetables.', 'Sunrider', 'offers', 'dozens', 'of', 'solutions.', 'DM', 'https://t.co/sJKiZLEwEn'], ['Apparently,', 'the', 'solution', 'to', '#coronavirus', 'is', 'to', 'simultaneously', 'lock', 'down', 'America,', 'open', 'the', 'border,', 'and', 'prioritize', 'vaccinations', 'for', '3rd', 'world', 'countries', 'in', 'the', 'name', 'of', 'social', 'justice.', 'Don’t', 'blame', 'me,', 'I', 'warned', 'you.'], ['The', 'government', 'is', 'not', 'proposing', 'to', 'make', 'a', 'Covid-19', 'vaccine', 'mandatory', 'https://t.co/RAqaOYWcsA', 'via', '@FullFact'], ['@Pfizer', 'was', 'not', 'part', 'of', 'any', '@WhiteHouse', 'efforts', 'to', 'develop', 'a', '#coronavirus', 'vaccine.', '“We', 'have', 'never', 'taken', 'any', 'money', 'from', 'the', '@usgov”', '#Pfizer', 'only', 'connection', 'to', '#OperationWarpSpeed', 'was', 'agreement', 'to', 'give', 'the', 'gov', '100', 'million', 'doses', 'of', 'the', '#vaccine.', '@POTUS'], ['SNEWZ', 'UPDATE:', 'Moderna', 'says', 'its', 'coronavirus', 'vaccine', 'works', 'https://t.co/rE7IJZtwnp'], ['Sharing', 'an', 'update', 'on', 'the', 'progress', 'of', 'our', '#COVID19', 'vaccine', 'candidate.', '#PFEColleague', 'https://t.co/MYqDQ8tHg7'], ['Moderna', 'reports', '94.5%', 'efficacy', 'for', 'COVID-19', 'vaccine', 'https://t.co/1ZbjMly9x5'], ['https://t.co/DYufZa6ikw', '-', 'good', 'question:', 'Covid-19', 'vaccines', '-', 'will', 'any', 'country', 'get', 'left', 'out?..@DGHisham', '@DrAdhamBaba', '@Khairykj', '@HishammuddinH2O', '@IsmailSabri60', '@my_malaysia', '@KKMPutrajaya', '@officialmosti', '@MalaysiaMFA'], ['COVID-19', 'vaccine', '|', 'Trudeau', 'stays', 'on', 'course', 'for', 'early', '2021...', 'https://t.co/QFTWkNMXAY'], ['Most', 'Canadians', 'will', 'get', 'COVID-19', 'vaccine', 'by', 'September:', 'Trudeau', '|', 'US', '&amp;', 'Canada', '|', 'Al', 'Jazeera', 'https://t.co/KTuY29zZoA'], ['#Live', 'Health', 'officials', 'update', 'Americans', 'on', 'coronavirus', 'vaccine', 'distribution.', 'https://t.co/tuWWgZRp3K'], ['Trump’s', 'Operation', 'Warp', 'Speed', 'promised', 'a', 'flood', 'of', 'covid', 'vaccines.', 'Instead,', 'states', 'are', 'expecting', 'a', 'trickle.', 'https://t.co/Wq3p9D5ROs'], ['San', 'Diego', 'COVID-19', 'vaccine', 'trial', 'participant', 'speaks', 'out', 'about', 'experience', '#SmartNews', 'https://t.co/jQz9ZodhU6'], ['At', '4:37:', 'What', 'does', '#EmergencyUseAuthorization', 'for', 'a', '#COVID19', 'vaccine', 'really', 'mean', 'to', 'Canadians?', '@DrGorfinkel', 'explains.', 'https://t.co/QKN33TrxZ0'], ['Covid-19', 'vaccine:', 'First', 'person', 'receives', '#Pfizer', '#COVID19', 'vaccine', 'in', 'UK', '-', 'BBC', 'News', 'https://t.co/3KyEZykqgj'], ['Pfizer', 'says', 'early', 'analysis', 'shows', 'its', 'Covid-19', 'vaccine', 'is', '90%', 'effective', 'https://t.co/P26TaHqFR3'], ['Covid-19', 'vaccine', 'candidate', 'is', '90%', 'effective,', 'says', 'manufacturer', 'https://t.co/olu42WCtTR'], ['@Reuters', 'Covid-19', 'vaccine', 'from', 'Pfizer', 'and', 'BioNTech', 'is', 'strongly', 'effective,', 'early', 'data', 'from', 'large', 'trial', 'indicate', ':', 'https://t.co/kpB1hOXOLZ'], ['This', 'morning,', 'news', 'that', 'a', 'trial', 'COVID-19', 'vaccine', 'candidate', 'had', 'an', 'effective', 'rate', 'of', 'more', 'than', '90%', 'shook', 'the', 'financial', 'world.', 'According', 'to', 'the', 'New', 'York', 'Times,', 'appears', 'to', 'have', 'given', 'investors', 'the', 'green', 'light', 'to', 'pile', 'back', 'into', 'companies', 'harmed', 'by', 'the', 'pandemic.', 'https://t.co/7VsfHPm1LN'], ['Chinese', 'pharmaceutical', 'firm', 'Sinovac', 'Biotech', 'on', 'Tuesday', 'stood', 'by', 'the', 'safety', 'of', 'its', 'Covid-19', 'vaccine', 'after', 'Brazilian', 'regulators', 'halted', 'trials', 'in', 'the', 'South', 'American', 'country', 'citing', 'an', '\"adverse', 'incident\"', 'involving', 'a', 'volunteer', 'recipient.', 'Here', 'is', 'China’s', 'response.', 'https://t.co/5VtXwQXY3b'], ['We', 'work', 'tirelessly', 'to', 'secure', 'doses', 'of', 'potential', 'coronavirus', 'vaccines.', 'Tomorrow,', '@EU_Commission', 'will', 'authorize', 'a', 'contract', 'for', 'up', 'to', '300', 'million', 'doses', 'of', 'the', 'BioNTech', '&amp;', 'Pfizer', 'vaccine,', 'the', 'most', 'promising', 'so', 'far.', 'This', 'is', 'the', '4th', 'contract.', 'More', 'will', 'follow.', 'https://t.co/uCJV6Xccz7'], ['Banks:', 'A', 'cancer', 'survivor,', 'he', 'joined', 'a', 'coronavirus', 'vaccine', 'trial.', 'He', 'was', 'part', 'of', 'Pfizer', 'breakthrough', 'https://t.co/8ePV4trP1W'], ['literally,', '@realDonaldTrump', 'shut', 'the', 'fuck', 'up.', 'a', 'coronavirus', 'vaccine', 'is', 'for', 'covid-19,', 'not', 'about', 'your', 'fucking', 'votes,', 'shut', 'up'], ['Ticketmaster', 'to', 'require', 'negative', 'COVID-19', 'test', 'or', 'vaccination', 'to', 'attend', 'concerts', 'https://t.co/8w3mUo1Ep2'], ['Moderna', 'says', 'it', 'has', 'completed', 'its', 'Phase', '3', 'trial', 'for', 'COVID-19', 'vaccine', '-', 'WCVB', 'Boston', 'https://t.co/xLPKofaTOP'], ['Dr.', 'Fauci', 'says', 'it', 'appears', 'Covid', 'strain', 'from', 'Danish', 'mink', 'farms', 'won’t', 'be', 'a', 'problem', 'for', 'vaccines', '#IPAC', '#COVID19', '#Vaccine', 'https://t.co/nLfU1vET29'], ['The', 'Trump', 'Admin', 'has', 'moved', 'to', 'hoard', 'future', 'COVID-19', 'vaccines.', 'Medical', 'nationalism', 'has', 'happened', 'before.', '70', 'yrs', 'ago,', 'the', 'discovery', 'and,', 'development', 'of', '#antibiotics', 'saw', 'the', 'United', 'States', 'weaponizing', 'control', 'of', 'pharmaceutical', 'pipelines.', '#science', '#AMR', 'https://t.co/1qWQLL6p8r', 'https://t.co/Dd8dHN4KuZ'], ['Coronavirus:', 'China', 'takes', 'risk', 'in', 'rushing', 'to', 'use', 'unproven', 'vaccines', 'https://t.co/2h9LGUOjxy'], ['“The', 'standard', 'coronavirus', 'tests', 'are', 'throwing', 'up', 'a', 'huge', 'number', 'of', 'positive', 'cases', 'daily.', 'These', 'tests', 'are', 'done', 'based', 'on', 'faulty', 'WHO', 'protocols', 'which', 'are', 'designed', 'to', 'include', 'false', 'positives', 'cases', 'as', 'well.”', '#COVID19', '@SadetKarabulut', '#ikvaccineerniet', 'https://t.co/OloHKfC4St'], ['#TrumpVirusDeathToll252K', 'Ivanka', 'said', 'on', 'January', '13,', '2020', 'trump', 'made', 'a', 'deal', 'for', 'vaccine...he', 'didn’t', 'alert', 'the', 'country', 'to', '#COVID19', 'until', 'March', '2020...💰💰💰before', 'lives.....🤯', 'https://t.co/Pl8jjsuicg'], ['My', 'op-ed', 'on', 'the', 'vital', 'role', 'for', 'social', 'scientists', 'in', 'pandemic', 'response', 'ran', 'in', '@thehill', 'today,', 'pointing', 'in', 'particular', 'to', 'our', 'colleagues', 'who', 'study', 'vaccine', 'hesitancy.', 'https://t.co/CJDUxWQ23H'], ['Why', 'the', 'MSM', 'silence', 'on', 'Sputnik', 'V?', 'It', 'may', 'be', 'the', 'best', 'Covid-19', 'vaccine,', 'but', 'anti-Russian', 'agendas', 'could', 'stop', 'millions', 'getting', 'it', '—', 'RT', 'Op-ed', 'https://t.co/3R5dPoxuN4'], ['EU', 'to', 'sign', 'supply', 'contract', 'for', 'Moderna', '#COVID-19', 'vaccine', 'on', 'Wednesday', 'https://t.co/Z5YX28UM8f'], ['#coronavirus', '#COVID__19', '#antibodytest', '#facemasks', '#vaccines', '#nanotechnology', '#FLIGHT', 'Follow', '&amp;', 'RT,', 'please.', 'https://t.co/TxvCHG1B9E'], ['Dr.', 'Marc', 'Siegel', 'on', 'report', 'that', 'Astrazeneca', 'is', 'likely', 'to', 'run', 'a', 'new', 'coronavirus', 'vaccine', 'trial', 'https://t.co/2kVNSJB79X', '@JulieBanderas', '@AmericaNewsroom', 'great', 'host', 'stable', '#camera', '#vaccine', '#VaccinesWork', '#AstraZeneca', '#OxfordVaccine', '#jenner', '#OperationWarpSpeed', '#COVID19'], [\".@CDC's\", 'ACIP', 'panel', 'has', 'entered', 'the', 'final', 'stages', 'of', 'its', 'meeting', 'about', 'who', 'gets', 'the', '#COVID19', 'vaccine', 'first', 'and', 'is', 'preparing', 'to', 'vote.', 'https://t.co/DxqryIXNeu', 'See', 'below', 'for', 'the', 'current', 'order', 'up', 'for', 'the', 'vote.', 'HCP', '=', 'health-care', 'personnel;', 'LTCF', '=', 'long-term', 'care', 'facility.', 'https://t.co/tUCcXpIMti'], ['Health', 'care', 'workers', 'and', 'nursing', 'home', 'residents', 'should', 'be', 'at', 'the', 'front', 'of', 'the', 'line', 'when', 'the', 'first', 'coronavirus', 'vaccine', 'shots', 'become', 'available,', 'a', 'government', 'advisory', 'panel', 'said', 'Tuesday.', \"Here's\", 'the', 'latest', 'virus', 'news.', 'https://t.co/B0QAWqWxgU'], ['Trump’s', 'Operation', 'Warp', 'Speed', 'promised', 'a', 'flood', 'of', 'covid', 'vaccines.', 'Instead,', 'states', 'are', 'expecting', 'a', 'trickle.', 'https://t.co/Vfo7ohZdj6'], ['Although', 'COVID-19', 'treatments', 'have', 'improved', 'and', 'a', 'vaccine', 'is', 'on', 'the', 'way,', 'even', 'a', 'mild', 'case', 'of', 'the', 'virus', 'can', 'cause', 'long-term', 'complications', '—', 'including', 'the', 'possibility', 'of', 'erectile', 'dysfunction.', 'https://t.co/3aZ3XRitZA'], ['@TS_SinghDeo', \",,what's\", 'CG', 'Government', 'master', 'plan', '#vaccine_to_everyone', 'or,,,', 'to', 'few', 'people,,', '!!', '#kyabathaii', '#coronavirus', '#COVID19'], ['90-year', 'grandmother', 'first', 'to', 'receive', 'Pfizer', 'COVID-19', 'vaccine', 'in', 'Britain', 'https://t.co/aXmNKb5tqT'], ['Budapest', '&amp;', 'Brussels', 'on', 'potential', 'collision', 'course', 'as', 'Hungary', 'says', 'it', 'will', 'import', 'Russian', 'Covid-19', 'vaccine', 'despite', 'EU', 'https://t.co/nrT5pJ6NZG'], ['#AstraZeneca', 'Covid-19', 'vaccine', 'production', 'begins', 'in', 'Australia', '#CovidVaccine'], ['Scientists', 'are', 'in', 'a', 'race', 'to', 'get', 'a', 'Covid', 'vaccine', 'ready', 'before', 'Christmas,', 'with', 'Ministers', 'believing', 'it', 'is', 'the', 'only', 'way', 'to', 'get', 'Britain', 'out', 'of', 'its', 'current', 'cycle', 'of', 'lockdown', 'and', 'other', 'restrictions', 'on', 'personal', 'freedoms.', 'https://t.co/74uAPLomUj'], ['Wagga', 'health', 'authorities', 'planning', 'for', 'COVID-19', 'vaccine', 'rollout', 'https://t.co/xfdOamD6LC'], ['@AndrewSurreyUni', 'The', 'UK', 'has', 'secured', 'early', 'access', 'to', '90', 'million', 'doses', 'of', 'promising', 'coronavirus', 'vaccine', 'candidates.'], ['https://t.co/qK0k0zsFTl', '09/11/2020', '06.46', 'PM', 'As', 'all', 'my', 'students', 'know', 'that', 'in', 'my', 'lectures,', 'I', 'predicted', 'that', 'Coronavirus', 'vaccine', 'will', 'come', 'around', 'Mid', 'Nov', '2020.', 'That', 'also', 'come', 'true.', 'Due', 'to', 'that', 'Dow', 'Jones', 'Future', 'shoot', 'up'], ['You', 'literally', 'encouraged', 'the', 'nation', 'to', 'not', 'take', 'a', 'vaccine', 'if', 'it', 'came', 'out', 'under', 'the', 'Trump', 'administration', 'and', 'you', 'two', 'helped', 'enable', '“systemic', 'racism.”', 'Wtf', 'https://t.co/ns2mEa4odR'], ['Coronavirus:', 'Sir', 'Keir', 'Starmer', 'criticises', \"'unjustified'\", '£670k', 'spend', 'on', 'PR', 'team', 'for', 'UK', 'vaccines', 'chief', 'Kate', 'Bingham', 'https://t.co/azcs32PRUn', 'https://t.co/7h2YPDIpG8'], ['In', 'light', 'of', 'good', 'news', 'on', 'the', 'COVID-19', 'vaccine,', 'I', 'wanted', 'to', 'take', 'a', 'moment', 'to', 'recognize', 'the', 'immigrants', 'behind', 'this', 'effort.', 'You', 'can', 'read', 'about', 'the', 'stories', 'of', 'Özlem', 'Türeci', 'and', 'Uğur', 'Şahin', 'of', '@BioNTech_Group', 'here:', 'https://t.co/XbUpk0e1Nq'], ['Every', 'nursing', 'home', 'in', 'Ireland', 'could', 'have', 'access', 'to', 'a', 'coronavirus', 'vaccine', 'by', 'Christmas', 'or', 'early', 'in…', '#News', 'https://t.co/Tgd9MvyX9Y'], ['@realDonaldTrump', '@MariaBartiromo', '@WhiteHouse', '@POTUS', 'Pfizer', 'was', 'not', 'part', 'of', 'this', 'administrations', '\"Warp', 'Speed\"', 'program.', 'They', 'were', 'independently', 'working', 'on', 'a', 'coronavirus', 'vaccine', 'thank', 'god', 'for', 'them', 'and', 'the', 'fact', 'we', 'Americans', 'will', 'benefit.', 'NO', 'THANKS', 'TO', 'TRUM'], ['Moderna', 'said', 'its', 'vaccine', 'appears', 'to', 'be', '94.5%', 'effective,', 'according', 'to', 'preliminary', 'data', 'from', 'Moderna’s', 'ongoing', 'study.', 'https://t.co/3sm1odUd8q'], ['Pfizer', 'CEO', 'says', 'COVID-19', 'vaccine', 'candidate', 'has', 'passed', 'FDA', 'safety', 'milestone', 'https://t.co/EStctM6MQ5'], ['Coronavirus', 'vaccine', 'could', 'be', 'available', 'in', 'San', 'Bernardino', 'County', 'as', 'early', 'as', 'next', 'month,', 'official', 'says', 'https://t.co/3t71bOsA3a', 'via', '@VVDailyPress'], ['How', 'might', 'a', 'covid-19', 'vaccine', 'travel', 'from', 'the', 'manufacturer', 'all', 'the', 'way', 'to', 'your', 'arm?', 'Listen', 'up!', 'https://t.co/r44Jd8fp8D'], ['What', 'happend', 'to', 'the', 'other', 'Covid-19', 'vaccine', 'test', 'candidates', 'after', 'they', 'died', '?', 'https://t.co/i5GDouTVFP'], ['COVID-19', 'vaccine', 'tracking:', 'Phase', 'III', 'clinical', 'trials', 'commence', 'for', 'Bharat', 'Biotech’s', 'COVAXIN', 'Read', 'More', 'https://t.co/nzz2mIVt91', '#IndiaObservers', '#Covid_19'], ['Mynvax’s', '“warm', 'COVID-19', 'vaccine”', 'is', 'ready', 'for', 'safety', 'tests', 'and', 'human', 'clinical', 'trials', 'https://t.co/qx57RXUuST'], ['Our', 'wipe', 'clean', 'partition', 'panels', 'for', 'COVID-19', 'vaccination', 'centres', 'are', 'available', 'for', 'hire', 'across', 'the', 'UK.', 'We', 'have', 'been', 'supporting', 'many', 'Universities', 'across', 'the', 'country', 'with', 'their', 'student', 'testing', 'programmes', 'and', 'are', 'now', 'working', 'with', 'health', 'authorities', 'in', 'their', 'planning', 'for', 'vaccinations', 'https://t.co/FkazhrYYty'], ['Serum', 'Institute', 'of', \"India's\", 'CEO', 'said', 'the', 'Oxford', '#COVID19', 'vaccine', 'should', 'be', 'available', 'for', 'healthcare', 'workers', 'and', 'elderly', 'people', 'by', 'around', 'February', '2021', 'and', 'by', 'April', 'for', 'the', 'general', 'public', 'https://t.co/9IM8OlIY2z'], ['Distribution,', 'lack', 'of', 'national', 'registry', 'top', 'hurdles', 'for', 'Canada’s', 'COVID-19', 'vaccine', 'rollout', 'https://t.co/ijdhHkwrjw'], ['How', 'a', 'handful', 'of', 'scientists', 'developed', 'Oxford', 'vaccine', 'at', 'breakneck', 'speed', 'https://t.co/ZueIC0LY0J'], ['The', 'ins', 'and', 'outs', 'of', '#vaccine', 'trials', \"@ChemistryWorld's\", '-', 'Derek', 'Lowe,', 'lays', 'out', 'how', 'the', 'trials', 'work,', 'and', 'why', 'they', 'get', 'paused', 'and', 'restarted', '➡️', 'https://t.co/7Bi4JW401k', '#COVID19', 'https://t.co/3POOK9lQo7'], ['AstraZeneca', 'is', 'the', '3rd', 'major', 'drug', 'company', 'to', 'report', 'late-stage', 'data', 'for', 'a', 'potential', 'COVID-19', 'vaccine.', 'Unlike', 'others,', 'the', 'AstraZeneca', 'vaccine', 'doesn’t', 'need', 'to', 'be', 'stored', 'at', 'cold', 'temperatures,', 'making', 'it', 'easy', 'to', 'distribute', 'especially', 'in', 'developing', 'countries:', 'https://t.co/HEmYRD4PwZ'], ['COVID-19', 'vaccines', 'are', 'coming', 'to', 'Miami.', 'Hospitals', 'want', 'to', 'figure', 'out', 'who', 'will', 'get', 'them', 'https://t.co/yAxbhd9jzx', 'via', '@MiamiHerald', '@conarck'], ['The', 'specter', 'of', 'Britain', 'beating', 'the', 'United', 'States', 'to', 'approval', '—', 'on', 'a', 'vaccine', 'co-developed', 'by', 'an', 'American', 'company,', 'at', 'that', '—', 'may', 'intensify', 'pressure', 'on', 'U.S.', 'regulators', '@benjmueller', 'https://t.co/WK5KaCVlgN'], ['Who,', 'when', 'and', 'how?', 'The', \"#UK's\", 'plan', 'for', '#Covid19', '#vaccination.', 'https://t.co/lz5NUqI0Px'], ['Oklahoma', 'could', 'receive', 'approximately', '40,000', 'COVID-19', 'vaccines', 'this', 'month.', 'The', 'first', 'vaccines', 'will', 'got', 'to', 'frontline', 'health', 'care', 'workers', 'and', 'workers', 'in', 'nursing', 'homes', 'and', 'long-term', 'care', 'facilities.', 'Timeline', 'for', 'vaccines', 'for', 'the', 'general', 'public', 'is', 'still', 'TBD', 'https://t.co/MnUwsf3CeY'], ['Study:', 'Americans', 'increasingly', 'say', 'they', 'would', 'get', 'vaccinated', 'for', 'COVID-19', 'https://t.co/YzOdy9OFQd'], ['LSHTM', 'has', 'long', 'been', 'a', 'world', 'leader', 'in', 'researching', 'and', 'fighting', 'infectious', 'disease', 'and', 'today', 'is', 'a', 'top', '5', 'global', 'source', 'of', 'info', 'for', '#COVID19', 'and', 'thinking', 'on', 'vaccine', 'confidence'], ['No', 'coronavirus', 'vaccine', 'for', 'common', 'people', 'till', '2022,', 'Covid', \"won't\", 'vanish,', 'says', 'AIIMS', 'Director', 'Randeep', 'Guleria', '-', 'Coronavirus', 'Outbreak', 'News', 'https://t.co/5s7HlEsvdx'], ['AIIMS', 'Director', 'Randeep', 'Guleria', 'has', 'said', 'that', 'common', 'people', 'in', 'India', 'will', 'have', 'to', 'wait', 'for', 'another', 'year', 'to', 'get', 'vaccinated,', 'while', 'reminding', 'that', 'the', 'coronavirus', 'infection', '\"will', 'not', 'Vanish\"', 'with', 'vaccination.', 'No', 'conoravirus', 'vaccine', 'for', 'common', 'people', 'till', '2022.'], ['How', 'they’ll', 'know', 'if', 'the', 'COVID-19', 'vaccines', 'work', 'is', 'a', 'matter', 'of', 'math,', 'biology', '—', 'and', 'a', 'little', 'luck', '-', 'The', 'Philadelphia', 'Inquirer', 'https://t.co/GQf5VjSWnR'], ['BioNTech,', 'Pfizer', 'COVID-19', 'vaccine', 'candidate', 'was', 'more', 'than', '90%', 'effective', 'in', 'prevention', '-', 'https://t.co/uH7ZvBxrja', 'https://t.co/BxNGX7gJ0B'], ['Pfizer’s', 'coronavirus', 'vaccine', 'is', 'more', 'than', '90', 'percent', 'effective', 'in', 'first', 'analysis,', 'company', 'reports', '-', 'The', 'Washington', 'Post', 'https://t.co/rlYKsEccCh'], ['How', 'scientists', 'and', 'health', 'officials', 'can', 'address', 'mistrust', 'of', 'a', 'COVID-19', 'vaccine', '—', 'and', 'why', 'it', 'matters', 'https://t.co/Q0FvxEDS5z', 'via', '@businessinsider'], [\"'Thank\", 'you,', 'President', \"Trump!!':\", 'Stock', 'futures', 'soar', 'on', 'positive', 'news', 'from', 'Pfizer', 'and', 'a', 'Covid-19', 'vaccine', 'https://t.co/ojdJjqFlw7', '@TwitchyTeam', '#AAG', '#AAG2020'], ['As', 'Donald', 'Trump', 'said,', 'he', 'was', 'going', 'to', 'have', 'a', 'vaccine', 'before', 'the', 'end', 'of', 'this', 'year', '2020👇🏻👇🏻👇🏻👇🏻👇🏻👇🏻👇🏻👇🏻👇🏻', 'https://t.co/zrVGVuCvyB'], ['A', '90%', 'effective', 'COVID-19', 'vaccine', 'is', 'coming', 'maybe', 'beginning', 'of', 'next', 'year???', 'Man', 'Trump', 'conspiracy', 'theorist', 'are', 'gonna', 'have', 'a', 'fucking', 'field', 'day.'], ['Covid-19', 'vaccine', 'from', 'Pfizer', 'and', 'BioNTech', 'is', 'strongly', 'effective,', 'early', 'data', 'from', 'large', 'trial', 'indicate', 'https://t.co/Me3nzbxId1', 'via', '@statnews'], ['Is', 'this', 'vaccine', 'a', 'miracle', 'cure', 'for', 'the', 'coronavirus?', 'I', 'don’t', 'understand'], ['Pfizer', 'says', 'its', 'coronavirus', 'vaccine', 'is', '90%', 'effective.', \"Here's\", 'how', 'that', 'compares', 'to', 'shots', 'for', 'the', 'flu,', 'measles,', 'and', 'more.', 'https://t.co/2AN7kShFLR'], ['$Covid19', 'vaccine', 'https://t.co/Dp0ZKnLZYi'], ['The', 'only', 'vaccine', 'he', 'should', 'get', 'comes', 'from', 'a', 'vet', 'to', 'put', 'him', 'to', 'sleep', 'https://t.co/Ao6qVFuRVO'], ['6', 'key', 'questions', 'about', 'the', 'Pfizer/BioNTech', 'Covid-19', 'vaccine', '-', '[Child', 'Health,', 'Coronavirus],', 'Source:', 'The', 'Guardian', '-', 'https://t.co/lO9OcE5Cvg', 'https://t.co/NwoLpD5TzZ'], ['@poconnell2', '@robreiner', 'My', 'brother,', 'a', 'magat,', 'is', 'impressed', 'with', 'Trump’s', 'handling', 'of', 'COVID19.', 'This', 'includes', 'the', 'vaccine.', 'My', 'brother!'], ['“If', 'the', 'plan', 'is', 'approved,', 'concertgoers', 'can', 'purchase', 'a', 'ticket', 'but', 'will', 'be', 'required', 'to', 'provide', 'either', 'proof', 'of', 'vaccination', 'or', 'a', 'negative', 'Coronavirus', 'test', 'result', 'produced', '24-72', 'hours', 'before', 'the', 'event”', 'idk', 'still', 'seems', 'risky.', 'https://t.co/x7hjJAvCI6'], ['Hancock', 'says', \"there's\", 'a', 'committee', 'that', 'advises', 'the', 'government', 'on', 'vaccine', 'distribution', 'In', 'Sept', 'another', 'committee', 'advised', 'the', 'government', 'to', 'lockdown', 'on', 'Sept', '21st,', 'Johnson', 'locked', 'down', 'in', 'Nov,', 'we', 'now', 'have', 'over', '50,000', 'dead', 'from', 'coronavirus', 'Committees', 'are', 'useless', 'to', 'Tories'], ['Remember,', '@realDonaldTrump', 'and', 'his', 'admin', \"didn't\", 'make', 'this', '#vaccine.', 'Pfizer', 'did.', '#COVID19', '#warpspeed'], ['Literacy', 'programmes,', 'vaccine', 'funder,', 'Dolly', 'Parton', 'WonderWoman!', 'https://t.co/ObTULlG14P'], ['Free', 'flu', 'vaccines', 'and', 'COVID-19', 'tests!', 'https://t.co/zXiJYnBofq'], ['Moderna', 'and', 'other', 'COVID-19', 'vaccines', 'candidates', 'like', 'the', 'Pfizer', '-', 'BioNTech', 'SE,', 'AstraZeneca', 'and', 'NOVAVAX', 'INC.', 'are', 'changing', 'the', 'way', 'vaccines', 'are', 'made', 'with', 'revolutionary', 'and', 'technological', 'breakthroughs.', 'Moderna', 'at', 'the', 'start', 'of', 'the', 'week…https://t.co/XzHJNTEBRy', 'https://t.co/ifdcIwZvvt'], ['Reading', '@beckershr', 'Pfizer', 'says', 'its', 'COVID-19', 'vaccine', 'is', '95%', 'effective', 'https://t.co/9Bepd02idP'], ['Pfizer', 'to', 'seek', 'Covid-19', 'vaccine', 'approval', \"'within\", \"days'\", 'as', 'trial', 'shows', '95', 'percent', 'efficacy', 'https://t.co/7alGkKsMzA', 'via', '@nbcnews'], ['The', 'United', 'States', 'surpasses', '250,000', 'COVID-19', 'deaths', 'as', 'vaccine', 'makers', 'race', 'the', 'clock', 'for', 'federal', 'approval', 'https://t.co/r7s7NmWboL'], ['CSC', 'news:', 'Cuba', 'leads', 'race', 'for', 'Latin', 'American', 'coronavirus', 'vaccine', 'https://t.co/tI1fjYgBC5++'], [\"China's\", 'Xi', 'Jinping', 'pledged', 'to', 'work', 'with', 'other', 'countries', 'to', 'accelerate', 'COVID-19', 'vaccinations', 'https://t.co/alZOgelQSm'], ['@hitaskunk', '@charlesadler', 'Well,', 'it’ll', 'be', 'a', 'few', 'months', 'before', 'they', 'make', 'make', 'the', 'coronavirus', 'vaccine', 'available', 'to', 'regular', 'Canadians.', 'I', 'will', 'wait', 'and', 'see...'], ['Can', 'vaccine', 'protect', '100%', 'from', '#Covid19?', 'Vaccine', 'scientist', '@GKangInd', 'asserts', 'many', 'questions', 'are', 'unanswered', 'Watch', 'the', 'full', 'interview', '@bhupendrachaube', '#Coronavirus', '#Vaccine', 'Full', 'Video:', 'https://t.co/uOuI605mnv', 'https://t.co/WjXLfAeUrp'], ['Covid19', 'Corona', 'virus', 'vaccine', 'update:', '#COVIDー19', '#CoronaVaccine', '#FDA', 'https://t.co/xtVGfVchI3'], ['Goldman', 'Sachs', 'predicts', 'how', 'quickly', 'coronavirus', 'vaccines', 'will', 'be', 'rolled', 'out', 'worldwide', 'https://t.co/do7fgoU0oo', 'Goldman', 'Sachs', 'economists', 'expected', 'half', 'of', 'the', 'population', 'of', 'the', 'U.S.', 'and', 'Canada', 'likely', 'to', 'be', 'vaccinated', 'in', 'April.', 'They', 'then', 'forecasted', 'the', 'U.K.', 'would', 'vaccinate', 'half...'], ['Interpol', 'warns', 'that', 'Covid-19', 'vaccines', 'could', 'be', 'targeted', 'by', 'criminals', 'https://t.co/Mu1loKBqVJ'], ['News', 'updates', 'from', 'Hindustan', 'Times:', 'Indian', 'Air', 'Force', 'fully', 'prepared', 'to', 'transport', 'Covid-19', 'vaccines', 'and...', '-', 'Hindustan', 'Times', 'News', 'updates', 'from', 'Hindustan', 'Times:', 'Indian', 'Air', 'Force', 'fully', 'prepared', 'to', 'transport', 'Covid-19', 'vaccines', 'and...', 'Hindustan', 'Times', 'https://t.co/hHd3ChxQDk'], ['Justin', 'Trudeau', 'says', \"Pfizer's\", 'COVID-19', 'vaccine', 'is', 'coming', 'to', 'Canada', 'before', 'the', 'end', 'of', 'month', 'https://t.co/8zJ7nmCHRU'], ['Trump', 'officials', 'scramble', 'to', 'justify', 'decision', 'not', 'to', 'buy', 'extra', 'Pfizer', 'vaccine', 'doses', 'https://t.co/W9mi6NsFKH'], ['Medical', 'supplies', 'across', 'specialties', 'are', 'allocated', 'under', 'two', 'budget', 'items', 'totalling', 'RM4.29', 'billion', 'in', 'MOH’s', 'Specific', 'Programmes', 'in', 'operating', 'expenditure', 'of', 'Budget', '2021;', 'Covid-19', 'vaccines', 'are', 'also', 'not', 'listed', 'for', 'MOH', 'under', 'the', 'separate', 'Covid-19', 'Fund.', 'https://t.co/mEMn5C9qEa'], ['Dr.', 'Carrie', 'Madej', '-', 'about', 'coronavirus', 'vaccines', 'and', 'transhumanism', 'nanotech...', 'https://t.co/phD8mmK9Tm', 'via', '@YouTube'], ['When', 'asked', 'about', 'the', 'challenges', 'India', 'would', 'have', 'after', 'a', '#coronavirus', 'vaccine', 'is', 'available,', 'he', 'said', 'the', 'prime', 'focus', 'will', 'be', 'its', 'distribution', 'so', 'that', 'it', 'reaches', 'every', 'part', 'of', 'the', 'country.', 'https://t.co/HhAdBVZu8t'], ['Deploying', 'COVID-19', 'vaccines', 'will', 'be', 'an', 'unprecedented', 'administrative', 'and', 'logistical', 'challenge', 'once', 'it', 'is', 'available.', 'Researchers', 'at', '@TakshashilaInst', 'propose', 'a', 'plan', 'to', 'vaccinate', '80%', 'of', \"India's\", 'population', 'by', 'Dec', '2021.', 'https://t.co/y8xcjsq3jx', 'https://t.co/AVZJGkB9gf'], ['The', 'first', 'coronavirus', 'vaccine', 'can', 'prevent', 'more', 'than', '90%', 'of', 'people', 'from', 'getting', 'Covid-19,', 'a', 'preliminary', 'analysis', 'shows.', 'The', 'developers', '-', 'Pfizer', 'and', 'BioNTech', '-', 'described', 'it', 'as', 'a', '\"great', 'day', 'for', 'science', 'and', 'humanity', 'https://t.co/OhyTPpdP6M'], ['Pfizer', 'says', 'early', 'analysis', 'shows', 'its', 'Covid-19', 'vaccine', 'is', '90%', 'effective', 'https://t.co/zKiaA3Jb9J'], ['Breaking:', 'The', 'Covid-19', 'vaccine', 'being', 'developed', 'by', 'Pfizer', 'and', 'BioNTech', 'prevent', 'more', 'than', '90%', 'of', 'infections', 'in', 'a', 'study', 'of', 'tens', 'of', 'thousands', 'of', 'volunteers.', 'Stock', 'futures', 'jump', 'https://t.co/cnPhdW9G6X'], ['#COVID19', ':', 'Pfizer', 'and', 'BioNTech’s', 'Covid-19', 'vaccine', 'found', 'to', 'be', '90%', 'effective', '.', 'https://t.co/PhHJFD02nc'], ['Russia', 'says', 'THEIR', 'Covid-19', 'vaccine', 'is', 'also', '90%', 'effective', 'https://t.co/pNp4pGGqei', 'via', 'https://t.co/ls4bsqrHpY'], ['🚀🔥💸', 'Due', 'to', 'the', 'good', 'news', 'of', 'the', 'COVID19', 'vaccine,', 'European', 'stock', 'markets', 'surged', 'on', 'November', '9', 'About', '67%', 'stocks', 'rose', 'and', '30%', 'stocks', 'jumped', 'more', 'than', '5%.', '#LSE', '#FRA', '#London', '#Frankfurt', '#stockmarkets', '#stocks', '#Europe', 'https://t.co/Wml0DviJll'], ['\"Pfizer', 'and', 'BioNTech', 'announce', 'trial', 'data', 'showing', 'COVID-19', 'vaccine', 'is', 'more', 'than', '90%', 'effective\"', 'https://t.co/xBgqWp4tdE'], ['RNA', 'a', 'novel', 'technology', '2015', 'to', 'prevent', 'and', 'treat', 'disease', 'as', 'Coronavirus,', 'Cancer,', 'and', 'reinforce', 'the', 'immune', 'system.', 'Harvard', 'and', 'other', 'as', 'Pfizer', 'Laboratories', 'as', 'applying', 'RNA', 'ti', 'produce', 'a', 'new', 'generation', 'if', 'vaccines.', 'https://t.co/HZyoniWwBK', 'https://t.co/2XlqiUNPd5'], [\"Yesterday's\", 'interim', 'data', 'readout', 'from', 'the', 'trial', 'of', 'the', '#Pfizer/#BioNTech', '#COVID19', '#vaccine', 'BNT162b2', 'was', 'as', 'good', 'as', 'one', 'could', 'hope', 'for', '-', \"let's\", 'hope', 'the', 'final', 'data', 'are', 'as', 'good', '-', 'in', 'the', 'meantime', 'can', 'journalists', 'please', 'drop', 'the', 'gamechanger', 'trope?', 'It', 'raises', 'expectations', 'unnecessarily'], ['If', 'the', 'existing', 'common', 'cold', 'coronaviruses', 'give', 'some', 'form', 'of', 'protection', 'against', 'Covid-19,', 'does', 'that', 'mean', 'that', 'the', 'Covid-19', 'vaccine', 'will', 'give', 'some', 'form', 'of', 'protection', 'against', 'the', 'common', 'cold', 'coronaviruses?', 'Will', 'the', 'common', 'cold', 'become', 'slightly', 'less', 'common', 'once', 'we', 'vaccinate', 'everyone?'], ['Does', 'a', 'vaccine', 'against', 'Covid-19', 'herald', 'the', 'end', 'of', 'the', 'pandemic?', 'https://t.co/zHDuG9OlYm', 'via', '@financialtimes'], ['The', 'final', 'round', 'of', 'Eterna', 'OpenVaccine', 'has', 'begun!', 'Submit', 'solutions', 'by', 'Nov.', '15,', '2020,', 'before', 'we', 'announce', 'design', 'rules', 'to', 'stabilize', 'COVID-19', 'mRNA', 'vaccines.', 'https://t.co/zE8hryu5yc', 'https://t.co/dcMdhiVW9q'], ['Reuters:', 'Behind', \"Pfizer's\", 'vaccine,', 'an', 'understated', 'husband-and-wife', \"'dream\", \"team'.\", 'https://t.co/p5QTRt7dqA'], ['#BREAKING', 'Brazil', 'allows', 'trials', 'of', 'Chinese', 'Covid-19', 'vaccine', 'to', 'resume:', 'regulator', 'https://t.co/mBgzKR2Zar'], ['White', 'House', 'coronavirus', 'advisor', 'Scott', 'Atlas', 'slams', 'Fauci', 'as', 'a', \"'political\", \"animal'\", 'for', 'sounding', \"'upbeat'\", 'over', 'COVID-19', 'vaccine', 'results', 'https://t.co/4A2rwm8Jgb'], ['@Tester05611570', '@DHSCgovuk', 'Whats', 'the', \"manufacturer's\", 'past', 'form,', 'by', 'the', 'way', 'there', 'is', 'about', '5', 'Covid-19', 'vaccines', 'in', 'clinical', 'trials,', 'all', 'different', 'types', 'and', 'different', 'makers', 'and', 'research.', 'Pfizer', 'is', 'just', 'one.'], ['Five', 'key', 'ways', '#GIS', 'can', 'support', '#COVID19', 'vaccine', 'distribution', 'from', \"Esri's\", 'Chief', 'Medical', 'Officer', '@EsteGeraghty', 'https://t.co/WKs0OU8Mjw'], ['Pfizer', 'to', 'request', 'emergency', 'use', 'authorization', 'for', 'vaccine', '‘within', 'days’', 'https://t.co/VHuAfyve7K'], ['China’s', 'Sinovac', 'reports', 'mixed', 'findings', 'in', 'early', 'coronavirus', 'vaccine', 'trials', 'https://t.co/EkxB3cNoWf'], ['Investors', 'are', 'looking', 'past', 'the', 'presidential', 'election', 'and', 'toward', 'a', 'future', 'with', 'a', 'safe', 'and', 'effective', 'COVID-19', 'vaccine,', 'according', 'to', 'Ameriprise', 'Chief', 'Market', 'Strategist', 'David', 'Joy.', 'https://t.co/IC1hSBOJen'], ['Japan', 'health', 'ministry', 'to', 'monitor', 'health', 'of', 'early', 'COVID-19', 'vaccine', 'recipients', 'https://t.co/1nmfhrWzaE'], ['Flu', '#vaccine', 'rates', 'among', 'minorities', 'vs.whites', 'in', 'US', '(2019-2020)=rough', 'preview', 're', 'access/uptake', 'gaps', 'for', '#COVID19', 'vaccine:\"Black', 'people', 'had', 'a', 'lower', 'flu', 'vaccination', 'rate', 'compared', 'to', 'White', 'people', 'in', '36states..largest', 'gaps', 'inDC(44%vs.71%),Nevada(30%', 'vs.47%)..\"', 'https://t.co/Hqx5xbmwio'], ['Coronavirus', 'passports', 'with', 'vaccination', 'info', 'in', 'development:', 'report', 'https://t.co/hawnisWBJv'], ['Early', 'shipments', 'of', 'a', '#coronavirus', 'vaccine', 'are', 'expected', 'to', 'start', 'arriving', 'in', 'the', 'Bay', 'Area', 'in', 'the', 'coming', 'weeks.', 'UCSF’s', '@Bob_Wachter', 'joins', 'us', 'to', 'share', 'the', 'latest', 'plans', 'for', 'who', 'might', 'get', 'those', 'early', 'vaccines.', 'https://t.co/lUeMc09MkN'], ['The', 'first', 'doses', 'of', \"Pfizer's\", 'coronavirus', 'vaccine', 'could', 'be', 'available', 'to', 'American', 'patients', 'as', 'soon', 'as', 'December', '15.', 'Listen:', 'https://t.co/Dw0cHZqOf8'], ['New', 'post', '(North', 'Korean', 'hackers', 'target', 'COVID-19', 'vaccine', 'maker', 'AstraZeneca:', 'Report)', 'has', 'been', 'published', 'on', 'BuzzyBuzz', '-', 'https://t.co/0XmDTsZX5F', 'https://t.co/WVnh4ShqQZ'], ['@moolie61', \"It's\", 'the', 'discussion', 'in', 'response', 'to', 'a', 'petition', '\"Prevent', 'any', 'restrictions', 'on', 'those', 'who', 'refuse', 'a', 'covid-19', 'vaccination\".', \"That's\", 'all', 'it', 'is.'], ['Biden', 'urges', 'taking', 'coronavirus', 'vaccine,', 'wearing', 'masks', 'but', 'says', 'they', 'shouldn’t', 'be', 'mandatory', 'https://t.co/ITMywp1d3T', '#FoxNews'], ['#coronavirus', 'Pfeiffer', 'vaccine', 'should', 'be', 'kept', 'at', 'minus', '70', 'degrees,', 'S...', 'https://t.co/bKRsqH9z7E'], ['Countries', 'need', 'to', 'plan', 'for', 'fast', '&amp;', 'equitable', 'access', 'to', '#COVID19', 'vaccine.', 'This', 'policy', 'brief', 'prescribes', 'steps', '&amp;', 'actions', 'to', 'take', 'to', 'mobilize', 'finance;', 'facilitate', 'regulatory', 'approval;', 'acquire,', 'produce', '&amp;', 'deliver', 'vaccines;', '&amp;', 'allocate', 'fairly', 'across', 'populations.', 'https://t.co/pg7TU6goCM'], ['Unfortunately', 'I', 'believe', 'untill', 'there', 'is', 'a', 'vaccine', 'that', 'is', 'provided', 'and', 'proven', 'to', 'work', 'against', 'covid19', 'we', 'must', 'be', 'responsible', 'for', 'our', 'own', 'safety', 'or', 'the', 'effects', 'of', 'our', 'current', 'situation', 'will', 'continue', 'to', 'be', 'devastating.', '#StaySafe', 'https://t.co/O03VR8D1LU'], ['Mimicking', 'coronavirus', 'could', 'be', 'key', 'for', 'a', 'COVID-19', 'vaccine', 'https://t.co/5MuPhHSa3G', '#covid19', '#vaccine', 'https://t.co/16QaVTG5bH', 'RT', '@WEF'], ['Iran', 'preparing', 'to', 'unveil', 'human', 'coronavirus', 'vaccines', 'soon', 'https://t.co/byEvAJz8hJ', 'https://t.co/RjGBIQfXbV'], ['Things', 'have', 'gone', 'a', 'bit', 'quiet', 'on', 'the', 'forthcoming', 'vaccine.', 'Are', 'we', 'making', 'progress?', 'Will', 'it', 'happen?', '#COVID19', '#coronavirusuk', '#vaccines', 'Fingers', 'crossed.'], ['Covid-19', 'vaccine', 'candidate', 'is', '90%', 'effective,', 'says', 'manufacturer', 'https://t.co/sHh4QdIeHy'], ['😂', 'bruh.....he', 'isnt', 'the', 'President.', 'And', 'for', 'fucks', 'sake,', 'he', 'didnt', 'even', 'help', 'at', 'all', 'in', 'pushing', 'this', 'vaccine', 'through.', 'I', 'always', 'knew', 'you', 'were', 'dumb,', 'but', 'you', 'have', 'reached', 'a', 'new', 'level', 'of', 'stupidity.', 'Keep', 'going', 'and', 'you', 'might', 'end', 'up', 'in', 'Genius', 'Book', 'of', 'World', 'Records', 'for', 'tweeting', 'bull', 'shit.', 'https://t.co/20EbVzDSRo'], ['What', 'to', 'know', 'about', 'the', 'to', 'start', 'with', 'productive', 'coronavirus', 'vaccine', 'from', 'Pfizer'], ['Can', 'the', 'COVID-19', 'vaccine', 'do', 'it', 'on', 'a', 'cold', 'rainy', 'night', 'in', 'Stoke?'], ['never', 'mind', 'the', 'vaccine,', \"I'm\", 'more', 'shocked', 'at', 'Sarah', 'Montague', 'in', 'a', 'hoody!', 'on', 'radio', '4!', 'https://t.co/ZbvefV4WAT'], ['Stock', 'market', 'roars', 'higher', 'after', 'Pfizer', 'coronavirus', 'vaccine', 'news', 'https://t.co/RIL5ud4HHG', '#stockmarket', '#stocks', '#finance', '#news'], ['Full', 'list', 'of', 'who', 'the', 'priority', 'groups', 'for', 'the', 'new', 'coronavirus', 'vaccine', 'will', 'be', 'https://t.co/hBhrrfNNZo'], ['Markets', 'gone', '‘rogue’', 'on', 'coronavirus', 'vaccine', 'news', 'face', 'tough', 'questions', 'https://t.co/5U5eoZQolU'], ['Dr', 'Anthony', 'Fauci', 'says', 'he', 'will', 'take', 'new', 'Pfizer', 'coronavirus', 'vaccine', 'if', 'it', 'gets', 'approved', 'by', 'the', 'Food', 'and', 'Drug', 'Administration.', '\"I', 'trust', 'Pfizer.', 'I', 'trust', 'the', 'FDA.\"', '@mitchellreports'], ['Evidence', 'of', 'efficacy,', 'safety', '&amp;', 'consistent', 'manufacturing', 'are', '3', 'requirements', 'that', '@Pfizer', 'must', 'demonstrate', 'to', 'seek', 'Emergency', 'Use', 'Authorization', 'for', 'its', 'potential', '#COVID19', 'vaccine.', 'Learn', 'more', 'about', 'these', 'key', 'areas:', '#PFEColleague', 'https://t.co/uxUtrBseqa'], ['Matt', 'Hancock,', 'the', 'Death', 'Secretary', 'did', 'warn', 'about', 'this', 'before', 'the', 'pandemic!', '#DeathByBrexit', '#brexitbeforebreathing', '#BrexitReality', '#vaccination', '#NoDealBrexit', '#Dystopia', '#DailyBriefing', '#kent', 'https://t.co/nXyE8TK1yy', 'https://t.co/s0NFPukgYS'], ['People', 'who', 'got', 'Pfizer’s', 'coronavirus', 'vaccine', 'revealed', 'the', 'side', 'effects', 'you', 'can', 'expect', 'https://t.co/39ZZC6xf9m'], ['This', 'is', 'an', 'informative', 'article', 'about', 'the', 'truth', 'of', 'the', '#PfizerPressRelease', 'regarding', 'their', 'COVID-19', 'vaccine.', 'What', 'it', 'implies', 'vs', 'what', 'it', 'actually', 'said.', 'https://t.co/OKB1B7hTbO'], ['Narayana', 'Murthy', 'truly', 'believes', 'that', 'the', 'vaccine', 'is', 'a', 'public', 'good.', 'People', 'should', 'not', 'be', 'charged', 'for', 'the', 'coronavirus', 'vaccine', 'once', 'it', 'becomes', 'available', 'to', 'the', 'public.', 'https://t.co/Gbd4ItphOd', '#infosys', '#NarayanaMurthy', '#coronaviruspandemic', '#pmoindia', '#coronavirusvaccine', '#humanityfirst'], ['Serious', 'question,', 'when', 'the', 'vaccine', 'for', 'COVID-19', 'roles', 'out,', 'you', 'think', 'the', 'anti-vaxers', 'are', 'ganna', 'deny', 'it?', 'Genuine', 'curiosity'], ['@RahulGandhi', 'Who', 'is', 'guiding', '/', 'advising', 'this', 'leader?', 'Covid19', 'ia', 'in', 'the', 'hands', 'of', 'citizens', '(for', 'using', 'SMS)', 'and', 'district', 'level', 'administration.', 'Centre', 'can', 'do', 'very', 'little', 'now', '(till', 'vaccine', 'comes).', 'GDP', 'is', 'a', 'direct', 'reflection', 'of', 'pandemic', 'times', 'and', 'already', 'large', 'n'], ['COVID19', 'VACCINE:', 'Will', 'you', 'take', 'it?', '(Feat.', 'Bishop', 'Bullwinkle)', 'WATCH', 'HERE:', 'https://t.co/jCrWNbb35d', 'After', 'seeing', 'this,', 'will', 'you', 'be', 'taking', 'the', 'new', 'covid-19', 'vaccine', 'right', 'away?', 'Bishop', 'Bullwinkle', 'has', 'something', 'to', 'say', 'about', 'it.', '#COVID19Vaccine', '#Pfizer', '#Coronavirus', '#COVID19', '#Covid'], ['NEW:', '#Pfizer', 'will', 'request', 'emergency', 'use', 'approval', 'from', 'the', 'FDA', 'for', 'its', 'coronavirus', 'vaccine', 'today.', 'The', 'company', 'says', 'it', 'can', 'produce', 'up', 'to', '50', 'million', 'doses', 'by', 'years', 'end.', '$PFE', '@cheddar', '#CovidVaccine', '#pharmaceuticals', 'https://t.co/7vYXoXSFis'], ['Tweet', 'from', 'Reuters', '(@Reuters)', 'Reuters', '(@Reuters)', 'Tweeted:', 'Britain', 'asks', 'regulator', 'to', 'assess', 'Oxford/AstraZeneca', 'COVID-19', 'vaccine', 'https://t.co/rpOLAI9Ljy', 'https://t.co/LrBwezhsMt', 'https://t.co/oxH6IUernG'], ['Malaysia', 'secures', '12.8', 'million', 'Pfizer', '#coronavirus', 'vaccines', 'as', 'China', 'assures', 'PM', 'Muhyiddin', 'of', '‘priority', 'status’', 'https://t.co/BXUu7KATxY'], ['The', 'UK', 'approves', 'the', 'BioNTech/Pfizer', 'COVID-19', 'vaccine', 'for', 'emergency', 'use', 'https://t.co/3K9uL3vRfb'], ['Vaccination', 'cards', 'will', 'be', 'issued', 'to', 'everyone', 'getting', 'Covid-19', 'vaccine', 'https://t.co/q9UrdNcLRV'], ['Obama,', 'Bush', 'and', 'Clinton', 'say', 'they', 'will', 'take', 'the', 'COVID-19', 'vaccine', 'publicly', 'to', 'gain', 'public', 'trust', 'https://t.co/qGdG1sKRpE'], ['Private', 'or', 'public', 'health?', 'CVS', 'and', 'Walgreens', 'spearhead', 'effort', 'to', 'vaccinate', 'nursing', 'home', 'residents', 'against', 'coronavirus', 'https://t.co/gEwyXX7dL3'], ['COVID-19', 'vaccine', 'likely', \"won't\", 'be', 'mandated', 'in', 'Wisconsin', 'https://t.co/ayQze4KEea'], ['Will', 'COVID-19', 'vaccine', 'be', 'mandatory', 'for', 'Americans?', \"Here's\", 'what', 'US', 'President-elect', 'Joe', 'Biden', 'has', 'to', 'say', 'https://t.co/1KKJwbeZSV', 'Will', 'COVID-19', 'vaccine', 'be', 'mandatory', 'for', 'Americans?', \"Here's\", 'what', 'US', 'President-elect', 'Joe', 'Biden', 'has', 'to', 'say', 'https://t.co/0rzRYLYh4P', 'Zee', 'News', 'US', 'President-ele…', 'https://t.co/UZu2FLbxQj'], ['OPINION', 'BY', 'DAKUKU', 'PETERSIDE:', 'Africa', 'and', 'the', 'Covid-19', 'vaccine', '|', 'TheCable', 'https://t.co/pbo87NDWWd', '#COVID19', 'https://t.co/pB6g7MjbVs'], ['AS', 'YOU', 'LIKE', 'IT', 'Simple', 'advice', 'if', 'you', 'are', 'working', 'from', 'home.', 'SIT-STAND-STRETCH-MOVE-REPEAT.', 'Change', 'position', 'every', '30mins.', 'Prolonged', 'static', 'postures', 'cause', 'your', 'tissues', 'to', 'creep.', 'Check', 'out', 'https://t.co/w1wEzJotn5', '#Warwickshire', '#stevediamond', '#Apple', '#billgates', '#vaccine', '#COVID19', '#COVID', 'https://t.co/s1G3Emm3rk'], ['#NU', 'researcher', 'developing', \"'needle-free'\", 'COVID-19', 'vaccine', '-', 'Nov', '9', '@', '12:32', 'AM', 'ET', 'https://t.co/PLEeKJYBEF'], ['When', 'COVID-19', 'vaccines', 'are', 'ready', 'for', 'distribution,', 'our', 'global', 'network', 'will', 'use', 'its', 'decades', 'of', 'experience,', 'cold', 'chain', 'capabilities', 'and', 'sensor-based', 'logistics', 'to', 'deliver', 'these', 'critical', 'shipments', 'safely', 'and', 'quickly.', 'More:', 'https://t.co/uXPREZBQlq', '#TeamFedEx', 'https://t.co/kcBbEVixAP'], ['Australia', 'begins', 'production', 'of', 'Oxford-developed', 'Covid-19', 'vaccine', '-', '[All', 'Health', '&amp;amp;', 'Fitness', 'Tips,', 'Coronavirus],', 'Source:', 'The', 'Tribune', '-', 'https://t.co/g4HSZ7IEYw', 'https://t.co/kG4tzyEJoe'], ['Pfizer', 'says', 'early', 'data', 'signals', 'COVID-19', 'vaccine', 'is', 'effective', 'https://t.co/SOqAIGYrZ3', 'via', '@medical_xpress'], ['Pfizer', 'says', 'early', 'data', 'signals', 'COVID-19', 'vaccine', 'is', 'effective', 'https://t.co/KrEAVfrCdg'], ['When', 'will', 'a', 'coronavirus', 'vaccine', 'be', 'ready?', 'https://t.co/r0FEwv3eVQ'], ['Is', 'this', 'guy', 'for', 'fucking', 'real.', 'Trump', 'had', '4', 'years?', 'Then', 'also', 'blaming', 'Obama', 'for', 'not', 'developing', 'a', 'vaccine', 'for', 'a', 'novel', 'virus', 'that', 'didn’t', 'exist', 'until', 'last', 'year??!?!??!', 'Mooch', 'has', 'it', 'all', 'figured', 'out.', 'https://t.co/PabAJa30Ud'], ['Does', 'anyone', 'know', 'how', 'the', 'government', 'has', 'come', 'to', 'the', 'conclusion', 'that', 'Liverpool', 'will', 'be', 'the', 'the', 'first', 'City', 'to', 'trial', 'the', 'COVID', '19', 'vaccine', '?', '#NationalLockdown', '#Pfizervaccine', '#COVID19'], ['Messenger', 'RNA', '(mRNA)', 'vaccines', 'which', 'use', 'Covid-19', 'genetic', 'material', 'for', 'human', 'Immune', 'system', 'to', 'produce', 'specific', 'proteins', 'to', 'bind', 'to,', 'has', '2', 'Serious', 'Flaws:', '1)', '2', 'vaccine', 'shot', 'process', 'over', '1', 'month', 'with', '2', '-', '3', 'day', 'sickness', 'side', 'effects', '2)', 'Vaccine', 'MUST', 'be', 'STORED', 'at', 'CRYOGENIC', 'Temperatures'], ['Upbeat', 'news', 'on', 'a', 'coronavirus', 'vaccine', 'and', 'a', 'win', 'for', 'President-elect', 'Biden', 'drive', 'stocks', 'significantly', 'higher.', 'How', 'should', 'investors', 'trade', 'a', 'potentially', 'earlier', 're-opening?', 'https://t.co/DtwGCfQrnk'], ['Powell', 'says', 'economy', 'will', 'still', 'need', 'more', 'support', 'despite', 'progress', 'toward', 'COVID-19', 'vaccine', 'https://t.co/Iv3V1mah0G'], ['@ChelseaClinton', '@realDonaldTrump', 'Who', 'is', 'your', 'Dad,how', 'come', 'FBI', 'and', 'CIA', 'covered,then', 'led', 'to', 'stranger', 'in', 'WH', 'and', 'DNA', 'free', 'and', 'coronavirus', '19', 'vaccines', 'free', 'from', 'great', 'American', 'President', 'Trump', 'to', 'his', 'great', 'Americans,', 'you', 'were', '2', 'years', 'old', 'but', 'Hillary', 'spy', 'on', 'USA'], ['#Australia', 'to', 'spend', '$726', 'million', 'underwriting', \"country's\", 'biggest', 'vaccine', 'plant', '@reuters', 'https://t.co/YestqDmiNJ'], ['Good', 'morning', 'to', 'all!', 'We', 'are', 'administering', 'flu', 'vaccines', 'and', 'COVID-19', 'test', 'screenings', 'from', '9:00am', 'to', '12:00pm', 'at', 'Kennedy', 'Towers', 'on', '2021', 'Watson', 'St.', 'Camden,', 'NJ', '08105', '--', 'please', 'do', 'not', 'hesitate', 'to', 'come', 'down', 'and', 'get', 'tested!', '#CAMcareWeCare', '#FluShot', '#FIGHTCOVID19', 'https://t.co/5WWSuPB8s4'], ['Sharing', 'an', 'update', 'on', 'the', 'progress', 'of', 'our', '#COVID19', 'vaccine', 'candidate.', '#PFEColleague', 'https://t.co/vchmkfWhjJ'], ['Chinese', 'Covid-19', 'vaccine', 'also', 'found', 'safe,', 'induces', 'immune', 'response', '-', 'world', 'news', '-', 'Hindustan', 'Times', 'https://t.co/qJp1qI53g6'], ['FDA', 'said', 'to', 'plan', 'early', 'December', 'advisory', 'meetings', 'to', 'discuss', 'Covid-19', 'vaccines', 'ahead', 'of', 'potential', 'authorization', 'https://t.co/2H35eeLFzQ'], ['Moderna', 'to', 'charge', '$25-$37', 'for', 'COVID-19', 'vaccine:', 'CEO', 'tells', 'paper', '-', 'Reuters', 'https://t.co/RyXlnAsXdl'], ['AstraZeneca', 'Covid-19', 'vaccine', 'is', '70%', 'effective', 'on', 'average,', 'data', 'show', 'https://t.co/o4vfChxTv3'], ['mybargain', 'Morning', 'Digest:', 'Health', 'Ministry', 'to', 'track', 'COVID-19', 'vaccine', 'reactions;', 'T.N.,', 'Puducherry', 'on', 'edge', 'as', 'cyclone', 'Nivar', 'closes', 'in,', 'and', 'more', 'https://t.co/BsdRMBoQCM', 'https://t.co/G1GYj3jaOv'], ['Trying', 'to', 'make', 'sense', 'of', '@AstraZeneca', 'and', \"@UniofOxford's\", '#COVID19', '#vaccine', 'data?', 'We', 'talked', 'to', 'the', '#adenoviral', 'vector', 'vaccine', 'experts', 'to', 'get', 'some', 'theories', 'on', 'why', 'a', 'low', 'dose,', 'followed', 'by', 'a', 'high', 'dose,', 'would', 'be', 'better', 'than', 'two', 'high', 'doses.', '@cenmag', 'https://t.co/JJTHNj0GkM'], ['Q&amp;A:', 'Where', 'are', 'we', 'in', 'the', 'COVID-19', 'vaccine', 'race?', 'https://t.co/qJAsEgP5Gg', 'https://t.co/9e1GmnDEjq'], ['#BREAKING:', '@AP', 'EU', 'medicines', 'regulator', 'says', 'first', 'coronavirus', 'vaccine', 'could', 'be', 'approved', 'by', 'Dec.', '29.'], ['ICYMI:', 'Understanding', 'COVID-19', 'vaccine', 'efficacy', 'https://t.co/GJfTLC5rri'], ['@Northcountryboy', '@CBCNews', 'In', 'Liberal', 'speech!', 'This', 'from', 'the', 'guy', 'who', 'put', 'all', 'our', 'eggs', 'in', 'the', 'China', 'COVID-19', 'vaccine', 'gamble', 'and', 'look', 'how', '\"wonderful\"', 'that', 'worked', 'out', 'We', 'are', 'done!'], ['Coronavirus:', 'UK', 'approves', 'Pfizer-BioNTech', 'COVID-19', 'vaccine,', 'first', 'in', 'world', 'https://t.co/t03HYFpVCN'], ['Covid-19', 'vaccine', 'co-developed', 'by', 'small', 'German', 'biotech', 'firm', 'BioNTech,', 'started', 'by', 'a', 'husband', 'and', 'wife', 'team', 'with', 'Turkish', 'roots,', 'has', 'been', 'granted', 'approval', 'in', 'UK.', 'https://t.co/Ua5AoPWWby'], ['California', '#Dental', 'Association', '#CDA', '#professionals', '#phase1', '#COVIDー19', '#vaccine', '#distribution', '#plan', '#medical', '#health', '#healthcare', '🦷', 'https://t.co/nBJwu78Fle'], ['Why?', '\"', 'Important', 'While', 'the', 'vaccine', 'may', 'help', 'protect', 'you', 'from', 'coronavirus,', \"it's\", 'still', 'important', 'to', 'follow', 'social', 'distancing', 'guidance', 'and', 'other', 'restrictions', 'to', 'keep', 'each', 'other', 'safe.\"', 'https://t.co/ZgIWrRc8th', 'https://t.co/UJKyz94hO9'], ['Hailing', \"'turning\", \"point',\", 'Britain', 'begins', 'roll-out', 'of', \"Pfizer's\", 'COVID-19', 'vaccine', 'https://t.co/GRovzD9WFU'], ['COVID-19', 'vaccine:', 'Enniskillen', 'native', 'becomes', 'first', 'in', 'world', 'to', 'receive', 'Pfizer/BioNTech', 'coronavirus', 'jab', 'outside', 'a', 'clinical', 'trial:', 'https://t.co/qtkLvyVoxS'], ['@Sanityland', '@AbundantPedShed', '@aetiologic', 'The', 'news', 'about', 'the', 'virus', 'is', 'mostly', 'pessimistic', 'these', 'days.', \"It's\", 'magical', 'thinking', 'pinning', 'our', 'hopes', 'on', 'a', 'vaccine.', \"That's\", 'the', 'herd', 'immunity', 'mentality,', 'wing', 'it.', 'https://t.co/vZFcHT1oob'], ['Hydrate.', 'Stay', 'Well,', 'we', 'will', 'keep', 'the', 'sale', 'on', 'until', 'there', 'is', 'a', 'vaccine', 'for', 'coronavirus!!', 'Visit', 'https://t.co/ZhWKK0mfmO', 'https://t.co/8p3YB1RUxR'], ['The', 'bulk', 'of', 'vaccines', 'against', 'COVID-19', 'will', 'be', 'available', 'by', 'end', 'of', '2021', 'to', 'early', '2022,', 'vaccine', 'czar', 'and', 'National', 'Task', 'Force', 'Against', 'COVID-19', 'chief', 'implementer', 'Carlito', 'Galvez', 'Jr.', 'said', 'Monday.', 'https://t.co/ZeLaWs6xuQ'], ['Pfizer', 'and', 'BioNTech’s', 'Covid-19', 'vaccine', 'found', 'to', 'be', '90%', 'effective', '-', 'FT'], ['The', 'man', 'who', 'took', 'no', 'effort', 'to', 'eradicate', 'this', 'virus', 'will', 'now', 'take', '100%', 'credit', 'for', 'developing', 'a', 'vaccine.', '#Pfizer', '#COVID19'], ['Pfizer’s', 'coronavirus', 'vaccine', 'is', 'made', 'by', 'artificially', 'creating', 'a', 'messenger', 'RNA', 'sequence', 'in', 'the', 'lab', 'that', 'instructs', 'your', 'own', 'cells', 'to', 'put', 'together', 'the', 'right', 'amino', 'acids', 'in', 'the', 'right', 'order', 'to', 're-create', 'the', 'coronavirus’', 'spike', 'protein.', 'Your', 'immune', 'system', 'learns', 'to', 'fight', 'that', 'protein.'], ['@jilliancyork', 'AP:', \"'These\", '“mRNA', 'vaccines”', \"aren't\", 'made', 'with', 'the', 'coronavirus', 'itself,', 'meaning', \"there's\", 'no', 'chance', 'anyone', 'could', 'catch', 'it', 'from', 'the', 'shots.', 'Instead,', 'the', 'vaccine', 'contains', 'a', 'piece', 'of', 'genetic', 'code', 'that', 'trains', 'the', 'immune', 'system', 'to', 'recognize', 'the', 'spik'], ['Check', 'out', 'this', 'url', 'https://t.co/k0L2kMiCk0', 'Covid-19', 'vaccine', 'from', 'Pfizer', 'and', 'BioNTech', 'is', 'strongly', 'effective,', 'early', 'data', 'from', 'large', 'trial', 'indicate'], ['Covid-19', 'vaccine', 'from', 'Pfizer', 'and', 'BioNTech', 'is', 'strongly', 'effective,', 'data', 'show', '#thankYouTrump', '#MAGA2020', '\\u2066@realDonaldTrump\\u2069', 'https://t.co/WRtPoLFoK9'], ['Trump', 'blocking', 'new', 'vaccine', 'https://t.co/GqustnCTpO'], ['3/8', '-\"The', 'Moderna', 'and', 'Pfizer/BioNT', 'trials', 'combined', 'have', 'involved', '70,000', 'people.[...]', 'There', 'are', 'still', 'vital', 'unanswered', 'questions', 'about', 'the', '#COVID19', 'vaccines', 'under', 'dev,', 'such', 'as', 'how', 'long', 'protect', 'against', 'the', 'virus', 'lasts,', 'and', 'if', 'they', 'prevent', 'transmis', 'or', 'just', 'stop', 'developing', 'the', 'dis.\"'], ['According', 'to', 'reports,', 'wealthier', 'hospitals', 'in', 'the', 'United', 'States', 'have', 'started', 'buying', 'up', 'expensive', 'specialized', 'freezers', 'for', 'Pfizer’s', 'vaccine,', 'raising', 'concerns', 'that', 'hospitals', 'with', 'fewer', 'resources', 'or', 'in', 'rural', 'areas', 'even', 'the', 'world’s', 'richest', 'country..', 'https://t.co/SWq9zvsiXC'], ['Well', 'well', 'the', 'truth', 'about', 'why', 'this', 'vaccine', 'has', 'been', 'pushed', 'out', ',', 'with', 'no', 'vigourous', 'research', 'https://t.co/gypAaPvA98'], ['US', 'death', 'toll', 'reaches', '250,000', 'as', 'virus', 'overwhelms', 'hospitals;', 'Who', 'will', 'be', 'first', 'to', 'get', 'COVID-19', 'vaccines?', 'https://t.co/dUW6Oi6Fxz'], ['@thedailybeast', '@GeraldoRivera', 'Give', 'us', 'a', 'break.', '@realDonaldTrump', 'had', 'no', 'role', 'in', 'developing', 'the', 'vivid', 'vaccine.', 'No,', 'the', 'vaccines', 'should', 'absolutely', 'NOT', 'be', 'named', 'after', 'Trump.', 'Maybe', 'name', 'after', 'the', 'victims', 'of', '#COVID19', 'who', 'he', 'ignored.'], ['COVID-19', 'vaccine', 'that', 'it', 'is', 'entirely', 'in', 'the', 'hands', 'of', 'scientists', 'as', 'to', 'when', 'the', 'vaccine', 'would', 'be', 'ready.', 'Some', 'people', 'doing', 'politics', 'over', 'vaccine,', 'I', 'can’t', 'stop', 'them', 'from', 'doing', 'so.', 'PM', '@narendramodi', 'during', 'the', 'meeting', 'with', 'state', 'CMs...'], ['CDC:', 'Advisers', 'will', 'vote', 'next', 'week', 'on', 'which', 'groups', 'of', 'people', 'they', 'recommend', 'get', 'the', '#coronavirus', 'vaccine', 'first', 'once', 'one', 'is', 'authorized', 'to', 'use.', '@CBS46', '#Pandemic', 'https://t.co/VTsR3WkQ1S'], ['#UnitedAirlines', 'has', 'flown', 'first', 'doses', 'of', 'the', '@pfizer', '-', '#BioNTech', 'vaccine', 'on', 'a', 'chartered', 'plane', 'from', '#Belgium,', 'as', 'the', 'company', 'is', 'laying', 'the', 'ground', 'for', 'the', '#vaccine', 'distribution.', '#COVID19', '#vaccine', '#Publichealth', 'https://t.co/aIufH9u3k1'], ['Moderna', 'to', 'ask', 'health', 'regulators', 'to', 'authorize', 'its', 'COVID-19', 'vaccine', '-', 'The', 'Wall', 'Street', 'Journal', 'https://t.co/3wFuCNOOYv'], ['Secretary', 'of', 'health', 'says', 'Coronavirus', 'vaccine', 'could', 'be', 'in', 'Arkansas', 'in', '1-2', 'weeks', 'https://t.co/eOpo2UO7SS'], ['Hope', 'President', 'Elect', '@JoeBiden', 'will', 'award', '@DollyParton', 'the', 'Medal', 'of', 'Freedom.', 'Her', 'recent', 'contribution', 'to', 'the', 'Covid-19', 'vaccination', 'is', 'highly', 'commendable.', '\"Obama', 'says', 'not', 'giving', 'Dolly', 'Parton', 'a', 'Medal', 'of', 'Freedom', 'was', 'a', \"'mistake':\", \"'She\", 'deserves', \"one'\", '|', 'Fox', 'News\"', 'https://t.co/Kqc7xc0Yuh'], ['#UK', 'is', '1st', 'country', 'in', 'West', 'to', 'approve', '#COVID19', '#vaccine', 'for', 'public', 'use.', '#British', 'health', 'ministry', 'said', 'vaccine', 'developed', 'jointly', 'by', '@Pfizer', '&amp;', '@BioNTech_Group', 'wld', 'be', 'distributed', 'starting', 'next', 'wk.', '#Pfizer', 'was', '1st', '2', 'apply', 'in', 'both', '#US', '&amp;', '#Europe', '4', 'emergency', 'use.', 'https://t.co/wlglyP7Acb'], ['Nice', 'to', 'talk', 'with', '@ronchimelis', 'this', 'week', 'about', 'why', 'people', 'might', 'have', 'questions', 'about', 'COVID', 'vaccines', 'and', 'what', 'we', 'can', 'do', 'to', 'help', 'ease', 'those', 'fears.', 'https://t.co/gAxtOPP3Cc'], ['Covid-19', 'vaccine', 'rumours', 'debunked', 'https://t.co/dP6o9BWTNR'], ['Serum', 'Institute', 'seeks', 'emergency', 'use', 'authorisation', 'for', 'Oxford', 'COVID-19', 'vaccine', 'Covishield', 'in', 'India', 'https://t.co/lGBol1HZji'], ['Bahrain', 'becomes', 'second', 'nation', 'to', 'approve', 'Pfizer-BioTech', 'coronavirus', 'vaccine', '#BioTech', 'via', 'https://t.co/vBsHOsqluy', 'https://t.co/bsEsvep3S1'], ['Americans', 'could', 'begin', 'getting', 'COVID-19', 'vaccines', 'as', 'early', 'as', 'Friday,', 'an', 'FDA', 'advisor', 'says', 'https://t.co/XQcVAUTgHI', 'https://t.co/Re7WEvs9HX'], ['Doris', 'going', 'out', 'raving.', '\"A', '90-year-old', 'UK', 'woman', 'becomes', 'the', 'first', 'in', 'the', 'world', 'to', 'receive', 'a', 'COVID-19', 'vaccine', 'outside', 'of', 'trial\"', 'https://t.co/rGDrMauSW1'], ['Whenever', 'people', 'ask', 'about', 'Covid-19', 'vaccine', 'update,', 'Pharma', 'companies', ':', 'https://t.co/CIM9mCIqCj'], ['Head', 'of', 'GSA', 'refuses', 'to', 'start', 'the', 'transition', 'process.', '“The', 'delay', 'has', 'already', 'gummed', 'up', 'discussions', 'on', 'critical', 'issues,', 'including', 'plans', 'to', 'distribute', 'a', 'possible', 'coronavirus', 'vaccine,', 'this', 'official', 'said.“', 'https://t.co/dkm8qB8YHA'], ['Care', 'homes', 'to', 'be', 'FIRST', 'to', 'receive', 'coronavirus', 'vaccine', 'that', 'could', 'roll', 'out', 'before', 'Christmas', 'https://t.co/3NGJmad5LM'], ['Women', 'Scientists', 'lead', 'the', 'South', 'African', 'leg', 'of', 'the', 'Phase', '3', 'Janssen', 'Efficacy', 'COVID-19', 'vaccine', 'trial.', 'https://t.co/KicRo5lS2K', 'https://t.co/GklRZEAexc'], ['Argentina', 'to', 'get', '25', 'million', 'doses', 'of', 'Russia’s', 'pioneering', 'Sputnik', 'V', 'Covid-19', 'vaccine', '–', 'president', 'https://t.co/sAuGUb89XU'], ['The', 'New', 'York', 'State', 'Bar', 'Association', 'on', 'Saturday', 'passed', 'a', 'resolution', 'urging', 'the', 'state', 'to', 'consider', 'making', 'it', 'mandatory', 'for', 'all', 'New', 'Yorkers', 'to', 'undergo', 'COVID-19', 'vaccination', 'when', 'a', 'vaccine', 'becomes', 'available,', 'even', 'if', 'people', 'object', 'to', 'it', 'for', '“religious,', 'philosophical', 'or', 'personal', 'reasons.'], ['What’s', 'the', 'effectiveness', 'rate', 'of', 'a', 'regular', 'flu', 'vaccine', 'for', 'comparison?', 'https://t.co/31Hw2vCuOv'], ['Biden', 'cheers', 'vaccine', 'progress', 'but', 'says', 'masks', 'remain', 'a', 'must', 'https://t.co/1NuErd9FX6'], ['Trading', 'volumes', 'surge', 'as', 'COVID-19', 'vaccine', 'hopes', 'spark', 'rush', 'to', 'invest', '#Trading', 'https://t.co/Zjk44XQIan'], ['@Kalebreloaded', 'Argentina', 'to', 'get', '25', 'million', 'doses', 'of', 'Russia’s', 'pioneering', 'Sputnik', 'V', 'Covid-19', 'vaccine', '–', 'president'], ['@monochromegod', 'This', 'is', 'more', 'about', 'the', 'people', 'who', \"aren't\", 'anti-vaxxers', 'but', 'a', 'hesitant', 'about', 'a', 'rushed', 'COVID-19', 'vaccine.'], ['Trudeau', 'says', 'he', 'hopes', 'to', 'see', 'COVID-19', 'vaccines', 'roll', 'out', 'in', 'Canada', 'in', 'early', '2021', 'https://t.co/d9hWYcHieX', '#cdnpoli', '#COVID19', '#vaccine', '#nationalnews', 'https://t.co/hP0gWQhORF'], ['@alifarhat79', 'I', 'just', 'hope', 'people', 'know', 'that', 'we', \"won't\", 'see', 'any', 'vaccine', 'until', 'next', 'year.', 'They', 'still', 'need', 'to', 'wear', 'and', 'mask,', 'wash', 'their', 'hands', 'and', 'keep', 'a', 'distance.', 'https://t.co/maxgv1EqUj'], ['Pfizer', 'says', 'its', 'coronavirus', 'vaccine', 'is', 'more', 'than', '90%', 'effective', 'https://t.co/KTw0LJ1ZIv'], ['Brazil', 'suspends', 'trials', 'of', \"China's\", 'Sinovac', 'coronavirus', 'vaccine,', 'citing', \"'serious\", 'adverse', \"event'\", 'https://t.co/hE2nEC8fpj'], ['Rapist', 'Biden', 'developing', 'vaccines?', 'This', 'mother', 'fucker', 'is', 'phenomenal.', 'https://t.co/gI3bUyryo5'], ['How', 'would', 'a', 'COVID-19', 'vaccine', 'be', 'distributed', 'in', 'Massachusetts?', 'https://t.co/qHtcbsAEbp'], ['Bill', 'and', 'Melinda', 'Gates', 'give', 'another', '$70', 'million', 'to', '#COVID19', 'vaccine', 'development', 'https://t.co/ymwyBiMmyG', 'https://t.co/weebWhvuQV', '(via@thehill)'], ['@ABC', '*Trump', 'will', 'lie', 'about', 'development', 'of', 'a', 'COVID-19', 'vaccine', 'FTFY'], ['@AfshanKhan_', 'highlights', 'impact', 'of', '#Covid19', 'on', '#children:', '150', 'million', 'likely', 'affected', 'by', '#poverty,', '188', 'countries', 'imposed', 'school', 'closures', 'affecting', '1.6', 'billion', 'children,', 'children', 'missing', 'out', 'on', 'vaccines,', 'exposed', 'to', '#violence', '&amp;', 'potential', 'increase', 'in', '#c'], ['Biden', 'to', 'spotlight', 'economy,', 'welcomes', 'COVID-19', 'vaccine', 'progress', 'https://t.co/fXgVBDEwBF'], ['Stability', 'of', \"#Moderna's\", '#Covid19', 'vaccine', 'could', 'ease', 'distribution', 'challenges.', 'The', 'vaccine', 'is', 'stable', 'for', 'up', 'to', 'six', 'months', 'at', 'a', 'temperature', 'of', 'minus', '20', 'degrees', 'Celsius', '(-4', 'F),', 'about', 'home', 'freezer', 'levels,', 'when', 'shipped', 'and', 'stored.', 'https://t.co/2Bw1hDcQZG', '#coldchain', '#modernavaccine'], ['Coronavirus', 'vaccines:', 'Your', 'questions', 'answered', 'https://t.co/fHGwmc8HXu'], ['COVID-19:', 'Moderna', 'must', 'fulfil', 'its', 'promise', 'to', 'share', 'technology', 'to', 'ensure', 'COVID-19', 'vaccine', 'breakthrough', 'is', 'not', 'limited', 'to', 'rich', 'countries', '||', 'Via', 'Amnesty', 'International', 'https://t.co/M3L311MpYL'], ['@BourbonGhost', 'Here', 'is', 'Faucci', 'saying', 'a', 'month', 'ago', 'that', 'herd', 'immunity', 'without', 'a', 'vaccine', 'is', 'nonsense.', 'Please', 'show', 'me', 'where', 'he', 'said', 'it', 'was', 'inevitable', 'that', 'we’d', 'all', 'get', 'it', 'eventually.', 'https://t.co/RBUHKxMa7W'], ['Was', 'literally', 'thinking', 'this', 'the', 'other', 'day', 'that', 'Pfizer', 'will', 'try', 'and', 'say', 'no', 'our', 'vaccine', 'is', 'stronger', 'over', 'Moderna', 'https://t.co/k8BVzbZPA4'], ['The', 'Covid-19', 'vaccines', 'now', 'available', 'in', 'the', 'US', 'https://t.co/ZdOsFUqecZ'], ['If', 'a', 'coronavirus', 'vaccine', 'were', 'available', 'this', 'year,', 'would', 'you', 'get', 'it?', 'https://t.co/Ga6tBRVlcG', '#coronavirus', '#COVID19'], ['Investors', 'are', 'looking', 'past', 'the', 'presidential', 'election', 'and', 'toward', 'a', 'future', 'with', 'a', 'safe', 'and', 'effective', 'COVID-19', 'vaccine,', 'according', 'to', 'Ameriprise', 'Chief', 'Market', 'Strategist', 'David', 'Joy.', 'https://t.co/WHykh1YIsN'], ['#Hope', '#USA', '#Cybersecurity', 'Russia', 'stole', 'vaccine', 'technology', 'of', 'American', 'BigPharma', '#Putin:', 'Russia', 'ready', 'to', 'give', 'Sputnik', 'V', '#coronavirus', '#vaccine', 'to', 'other', 'countries', 'https://t.co/0pwb4he9aB'], ['Even', 'a', 'vaccine', 'won’t', 'be', 'enough', 'to', 'end', 'the', 'Covid-19', 'pandemic,', 'writes', '@NAChristakis.', 'Instead,', 'we', 'need', 'the', 'kind', 'of', 'multilayered', 'approach', 'experts', 'call', '“the', 'Swiss', 'cheese', 'model.”', 'https://t.co/WwXASUw6d4', 'via', '@WSJ'], ['Vaccine', 'is', 'on', 'the', \"horizon...what's\", 'next', 'for', 'Conference', 'Planners?', 'https://t.co/g27pgNeWuv', '#covid19', '#conferenceplanning', '#eventplanning', '#eventprof', '#tradeshow', '#vaccines', '#eventpro', '#mpi', 'https://t.co/JJXtW3okX1'], ['Not', '‘just', 'another’', 'vaccine', '–', 'we', 'look', 'at', 'the', 'pros', 'and', 'cons', 'of', 'AstraZeneca/Oxford’s', 'new', 'jab', 'in', 'this', 'week’s', 'Views', 'From', 'the', 'Floor:', 'https://t.co/lVviMhttRf', '#Covid19', '#ManInstitute', '#ViewsFromtheFloor', 'https://t.co/5ml8nGrFkw'], ['A', 'further', 'six', 'deaths', 'and', '449', 'cases', 'of', 'Covid-19', 'have', 'been', 'confirmed', 'in', 'Northern', 'Ireland', 'as', '25,000', 'doses', 'of', 'the', 'Pfizer/BioNTech', 'vaccine', 'arrive', 'ahead', 'of', 'vaccinations', 'next', 'week', 'https://t.co/QBGgXIfddW', '#END'], ['Adapted', 'yellow', 'fever', 'vaccine', 'may', 'protect', 'against', 'COVID-19', 'https://t.co/x6h0gbh0NM'], ['$MRNA', '155', 'LONG', 'The', 'Canadian', 'government', 'has', 'doubled', 'its', 'order', 'commitment', 'for', \"Moderna's\", 'COVID-19', 'vaccine', 'from', '20', 'million', 'to', '40', 'million', 'doses.', 'FDA', 'regulatory', 'approval', 'is', 'expected', 'to', 'be', 'granted', 'on', 'December', '17th.'], ['More', 'information', 'for', 'GP', 'practice', 'groups', 'sites', 'beginning', '#CovidVaccines', 'next', 'week', '–', 'information', 'to', 'support', 'you', 'to', 'stand', 'up', 'your', 'vaccination', 'service', 'https://t.co/i0UuxugTRV'], ['Pritzker', 'says', 'an', 'anti-vaccination', 'movement', 'existed', 'in', 'Illinois', 'before', 'the', 'coronavirus', 'and', 'the', 'state', 'is', 'trying', 'hard', 'to', 'put', 'the', 'facts', 'out', 'there', 'to', 'address', 'any', 'misinformation/rumors', 'people', 'read', 'on', 'social', 'media.'], ['@yesnicksearcy', 'Biden', 'will', '\"secure', 'funds', 'for', 'ramping', 'up', 'coronavirus', 'testing,', 'acquiring', 'additional', 'protective', 'equipment', 'such', 'as', 'masks', '&amp;', 'gowns,', '&amp;', 'investing', '$25', 'billion', 'in', 'vaccine', 'manufacturing', '&amp;', 'distribution.\"', 'You', 'know-things', 'that', 'are', 'already', 'bei'], [\"UK's\", 'coronavirus', 'vaccine', 'taskforce', 'chief', 'faces', 'questions', 'over', 'biotech', 'fund', 'https://t.co/MJZkM79FlN'], ['India', 'Today:', 'Coronavirus', 'vaccine', 'update:', 'Bharat', 'Biotech', 'plans', 'mid-2021', 'launch', 'for', 'Covaxin,', 'protests', 'in', 'Brazil', 'against', 'Chinese', 'vaccine.', 'https://t.co/obPqMyO5vs', 'via', '@GoogleNews'], ['The', 'latest', 'Disruptanomics:', '#Economics', 'in', 'the', 'Global', '#Economy!', 'https://t.co/TbVN1sBinS', '#covid19', '#vaccine'], ['rt', '@wef', '@mikequindazzi', '@antgrasso', '@fisher85m', 'How', 'to', 'distribute', 'a', 'COVID-19', 'vaccine', 'and', 'build', 'public', 'trust', 'https://t.co/kJPJtjDHW5', '#covid19', '#SDI2020', 'https://t.co/vjufe6Quug'], ['Coronavirus', 'vaccine', 'rolls', 'off', 'US', 'production', 'lines', 'ahead', 'of', 'FDA', 'approval', 'https://t.co/xIQCYXVCff'], ['Finance', 'Minister:', 'Budget', 'offers', 'room', 'to', 'procure', 'COVID-19', 'vaccines,', 'if', 'available', 'https://t.co/VLdKXat3NJ'], ['The', 'first', '#COVID19', '#vaccine', 'can', 'prevent', 'more', 'than', '90%', 'of', 'people', 'from', 'getting', 'coronavirus', 'https://t.co/eVcwNDbz5H'], ['The', 'uk', 'has', 'preordered', '30million', 'of', 'these', 'vaccines', 'https://t.co/A8RwnHbFk6'], ['Media', 'news:', 'Pfizer', 'gets', 'top', 'billing', 'in', 'vaccine', 'announcement.', 'Other', 'partners:', \"Germany's\", 'BioNTech', '&amp;', \"China's\", 'Fosun', 'https://t.co/iB3w92sN5S'], [\"Indonesia's\", 'Bio', 'Farma', 'says', \"China's\", 'Sinovac', 'Covid-19', 'vaccine', 'trials', \"'going\", \"smoothly'\", '-', 'Reuters', 'https://t.co/m5JrgRKawM'], ['More', 'from', '@wallein:', '\"As', 'with', 'everything', 'else', 'Trump', 'has', 'said', 'in', 'his', 'entire', 'life', 'he’s', 'lied....leading', 'to', 'a', 'very', 'real', 'understandable', 'wariness', 'concerning', 'any', 'announcement', 'by', 'Trump', 'Admin', 'about', 'a', '#vaccine”', '#HST440', '@NPR', 'story', 'here:', 'https://t.co/KrO5ISMTAO'], ['Covid-19', 'vaccines', 'trials', 'update', '😂😂', 'https://t.co/ZlO9BbYg4I'], ['My', 'conversation', 'with', '@chandrarsrikant', 'of', '@ETNOWlive', 'on', 'the', '@InfosysPrize,', 'the', '#COVID19', 'vaccination', 'plan', 'and', \"India's\", 'growth', 'prospects', '👇', 'https://t.co/MdBiDKjcgE'], ['Trump', 'emerges', 'from', 'White', 'House', 'to', 'take', 'credit', 'for', 'vaccine', 'and', 'leaves', 'open', 'door', 'for', 'second', 'term', 'https://t.co/2PN8GpwOGv'], ['Trump', 'says', 'coronavirus', 'vaccine', \"won't\", 'be', 'delivered', 'to', 'New', 'York', '“until', 'we', 'have', 'authorization', '[from', 'Cuomo]', 'to', 'do', 'so”.', 'Shameless', 'liars', 'here👇', 'https://t.co/Fin7CVzQWh'], ['@brianstelter', 'Science', 'deniers', 'not', 'willing', 'to', 'get', 'the', 'Trump', 'vaccine.', 'smh', 'https://t.co/kSXCZZVtZb'], ['#COVID19', 'vaccine', 'update', '💉', 'https://t.co/8dIKPxj3M3'], ['Pfizer:', 'Final', 'analysis', 'shows', 'virus', 'vaccine', 'is', '95%', 'effective,', 'will', 'seek', 'FDA', 'emergency', 'use', \"'within\", \"days'\", '::', 'https://t.co/0l6HHRLhvF', 'https://t.co/hIYP2JyaOr'], ['@KamalaHarris', '...There', 'is', 'virtual', 'silence', 'on', 'the', 'success', 'of', 'President', 'DJT’s', 'Operation', 'Warp', 'Speed', 'to', 'accelerate', 'the', 'testing', 'of', 'a', 'COVID-19', 'vaccine.', 'Interestingly,', 'Biden', 'and', 'the', 'media', 'have', 'no', 'explanation', 'as', 'to', 'why', 'is', 'there', 'an', 'uptick', 'in', 'coronavirus', 'cases', 'wh'], ['continued:', '\"it', 'is', 'not', 'possible', 'to', 'retrofit', 'the', 'MHRA’s', 'legacy', 'systems', 'to', 'handle', 'the', '#volume', 'of', 'ADRs', '[Adverse', 'Drug', 'Reactions]', 'that', 'will', 'be', 'generated', 'by', 'a', '#Covid19', '#vaccine.\"', 'Links:', '1.', 'https://t.co/TpLFy31V2T', '2.', 'https://t.co/IQmQVrmO8x'], ['NEW', 'TODAY:', 'A', 'third', 'drug', 'company,', 'AstraZeneca,', 'reports', 'its', 'COVID-19', 'vaccine', 'is', 'also', '\"highly', 'effective\"', 'in', 'late-stage', 'trials.', 'One', 'key', 'difference,', 'this', 'vaccine', \"doesn't\", 'need', 'to', 'be', 'stored', 'at', 'ultra-cold', 'temperatures', '--', 'unlike', 'vaccines', 'from', 'Pfizer', 'and', 'Moderna.', 'https://t.co/vAaIefdKAs', 'https://t.co/42VPwd0tj3'], ['Draft', 'statement:', '#G20', 'leaders', 'promise', 'to', 'pay', 'for', 'fair', 'distribution', 'of', '#coronavirus_vaccines', 'https://t.co/803ern8x1j'], ['💉Vaccine', 'confidence', '–', 'including', 'perceptions', 'of', 'safety,', 'effectiveness,', 'and', 'importance', '–', 'has', 'fallen', 'in', 'many', 'countries.', 'How', 'can', 'we', 'build', 'trust', 'to', 'support', 'routine', 'vaccination', '–', 'and', 'a', 'potential', '#COVID19', '#vaccine?', 'New', 'blog', 'from', '@exemplarshealth:', 'https://t.co/peGQLa9mU0', '@vaccine_trust', 'https://t.co/izBRtjHDIT'], [\"Pfizer's\", 'late-stage', 'coronavirus', 'vaccine', 'trial', 'is', 'near', 'complete', 'enrollment', 'with', '42,000', 'volunteers', 'https://t.co/6Q0y2JwDfq', '#business', '#news', 'https://t.co/8kvyepFALT'], ['$PFE', '11/27/2020', '|', '06:02am', 'EST', 'share', 'with', 'twitter', 'share', 'with', 'LinkedIn', 'share', 'with', 'facebook', 'By', 'Chester', 'Tay', 'Malaysia', 'has', 'signed', 'an', 'agreement', 'to', 'procure', 'a', 'Covid-19', 'vaccine', 'from', 'Pfizer', '(Malaysia)', 'Sdn.', 'Bhd.', 'to', 'immunize', '6.4', 'million', 'of...', 'https://t.co/7jvgewWwzB'], ['Coronavirus', 'Ireland:', 'Dublin', 'scientist', 'working', 'on', 'Oxford', 'vaccine', 'says', 'life', 'could', 'be', 'back', 'to', 'normal', 'by', 'late', 'spring', 'https://t.co/UPXW6se6ZR'], ['The', 'biotech', 'company', 'Moderna', 'is', 'submitting', 'its', 'promising', 'Covid-19', 'vaccine', 'to', 'the', 'FDA', 'for', 'emergency', 'use', 'authorization', 'https://t.co/Zxi0W4H5bP'], ['Moderna', 'files', 'for', 'approval', 'of', 'COVID-19', 'vaccine', 'in', 'the', 'US', 'and', 'EU', 'https://t.co/ShIp93e0d8'], ['What', 'she', 'says', '😉👇', '#WeAreNHSPeople', '#vaccination', 'https://t.co/YPfzw7sYj2', 'https://t.co/fWZVi8wakJ'], ['BBCBreakfast:', '“People', 'will', 'trust', 'this', 'more', 'as', 'time', 'goes', 'on”', 'Virologist', 'Dr', 'Chris', 'Smith', 'tells', '#BBCBreakfast', 'the', 'uptake', 'of', 'the', 'coronavirus', 'vaccine', '“will', 'take', 'care', 'of', 'itself”.', 'https://t.co/ZwWleLDkYn', 'https://t.co/9B8KiEFbgD'], ['As', 'a', 'vaccine', 'for', 'COVID-19', 'gets', 'closer', 'and', 'closer', 'to', 'approval,', 'there', 'is', 'a', 'concern', 'rural', 'counties', 'may', 'have', 'to', 'wait', 'longer', 'or', 'don’t', 'have', 'the', 'right', 'storage.', 'https://t.co/PHSEbcnrkg'], ['U.S.', 'FDA', 'staff', 'backs', \"Pfizer's\", 'coronavirus', 'vaccine', 'data', 'https://t.co/O8cd90JLE7'], ['Covid-19', 'vaccines', 'are', 'coming.', '@SharkawyMD', 'answers', '@ctvottawa', 'viewer', 'questions.', '#ottnews', '#COVID19', 'https://t.co/O6y85DS8mb'], ['Come', 'and', 'visit', 'Cobra', 'Biologics', 'at', 'the', 'virtual', '#bioProcessUK', 'Conference', 'on', '1-2', 'December.', 'The', 'UK', 'bioprocessing', 'community', 'have', 'made', 'such', 'an', 'impact', 'this', 'year,', 'supporting', 'the', 'development', 'of', '#COVID19', '#vaccines', '-', 'even', 'more', 'reason', 'to', 'celeb…https://t.co/ICI9fc8CS7', 'https://t.co/VNNTTnNGbR'], ['\\u2066@GCHQ\\u2069', 'had', 'begun', 'an', 'offensive', 'against', '#COVID19', '#antivaccine', 'propaganda', 'spread', 'by', 'hostile', 'states,', 'mostly', '🇷🇺,', 'but', 'excludes', '#5Eyes', 'https://t.co/rdEK1dFRdC'], ['Coronavirus', 'vaccine', 'just', 'WEEKS', 'away', 'as', 'UK', 'hospitals', 'told', 'to', 'prepare', 'for', 'mass', 'programme', 'https://t.co/9sLUqoBAL2', 'Say', 'No', 'to', 'any', 'forced', 'vaccination.', 'Protect', 'your', 'old', 'peoples.'], ['Covid-19', 'vaccine', 'more', 'than', '90%', 'effective', 'in', 'preventing', 'disease', 'in', 'preliminary', 'results,', 'says', 'drugs', 'firm', 'Pfizer'], ['Covid', 'vaccine:', 'First', 'vaccine', 'offers', '90%', 'protection', '#COVID19', 'https://t.co/i0rkqjKS5p'], ['NEW', 'THIS', 'MORNING:', 'Early', 'data', 'from', 'Pfizer', 'trial', 'shows', 'COVID-19', 'vaccine', 'candidate', 'is', '90%', 'effective,', 'company', 'says.', 'https://t.co/aRfwjAPPdk'], ['Also,', 'please', 'keep', 'in', 'mind', 'that', 'Pfizer', 'has', 'nothing', 'to', 'do', 'with', 'Operation', 'Warp', 'Speed.', 'They', 'received', 'no', 'federal', 'money', 'for', 'their', 'R&amp;D.', 'Trump', 'had', 'nothing', 'to', 'do', 'with', 'this', 'vaccine.', 'https://t.co/pGuX9XUlPi'], ['Stocks', 'surge', 'to', 'all-time', 'highs', 'amid', 'COVID-19', 'vaccine', 'hopes,', 'Joe', 'Biden', 'victory', 'https://t.co/pvhLXA0OE9'], ['Busted', 'in', 'another', 'lie.', '@pfizer', 'didn’t', 'want', 'the', 'Trump', 'stank', 'on', 'its', 'vaccine.', 'https://t.co/fDt0gXfbYy'], ['Pfizer', 'announces', 'a', 'vaccine', 'against', 'COVID', 'https://t.co/dM2WC3zA7t'], ['Why', 'Pfizer’s', 'ultra-cold', 'COVID-19', 'vaccine', 'will', 'not', 'be', 'at', 'the', 'local', 'pharmacy', 'any', 'time', 'soon', 'https://t.co/HMMdugPbxE'], ['A', 'coronavirus', 'expert', 'has', 'claimed', 'a', 'vaccine', \"'will\", 'not', 'end', 'the', \"pandemic'\", 'https://t.co/2ZsKu27NAN'], ['Fighting', 'Stigma', ':', 'Govt', 'has', 'a', 'plan', 'to', 'ensure', 'covid', 'vaccines', 'reaches', 'priority', 'population:', 'Health', 'secy:', 'According', 'to', 'the', 'India', 'Council', 'of', 'Medical', 'Research', '(ICMR)', 'data,', 'India', 'has', 'performed', 'about', '11,96,15,857', 'COVID-19', 'tests', 'which', 'ICMR', 'claimed', 'are', '...', 'https://t.co/VJCfBSNSow'], ['#3Novices', ':', 'Have', 'produced', '40', 'million', 'doses', 'of', 'AstraZeneca', 'Covid-19', 'vaccine,', 'says', 'Serum', 'Serum', 'Institute', 'of', 'India,', 'the', \"world's\", 'largest', 'vaccine', 'producer,', 'said', 'on', 'Thursday', 'it', 'has', 'made', '40', 'million', 'doses', 'of', \"AstraZeneca's\", 'potential', 'Covid-19', 'vaccine,', 'and', 'would', 'soon', 'begin', 'making', 'Novav…'], ['States', 'waiting', 'for', 'answers', 'from', 'feds', 'on', 'coronavirus', 'vaccine', 'distribution', '-', 'CNN', 'https://t.co/WXAGaub96I', 'https://t.co/xNnwWOpCQc'], ['@IvankaTrump', '@realDonaldTrump', 'Look', 'at', 'that!', 'President', 'Biden', 'has', 'only', 'been', 'on', 'the', 'job', 'one', 'week', 'and', 'he', 'already', 'has', 'two', 'vaccines!', 'https://t.co/YdM2PxmMVK'], ['@IvankaTrump', 'https://t.co/25EMkIpTDM', 'Jan', '10', 'Bennett', 'on', 'a', 'call', 'with', 'Graham,', 'China’s', 'viral', 'outbreak', 'came', 'up.', 'That', 'weekend', 'the', 'Chinese', 'govt', 'posted', 'the', 'viral', 'sequence.', 'Moderna’s', 'scientists', 'went', 'to', 'work', 'on', 'a', 'COVID-19', 'vaccine.', 'It', 'was', 'January', '13.', 'Donald', 'wa'], ['Sharing', 'an', 'update', 'on', 'the', 'progress', 'of', 'our', '#COVID19', 'vaccine', 'candidate.', '#PFEColleague', 'https://t.co/L6yVP0mnQV'], ['trials', 'conducted', 'by', 'Moderna,', '100%', 'of', 'human', 'subjects', 'in', 'the', 'high-speed', 'vaccine', 'trial', 'group', 'experienced', 'adverse', 'reactions.', 'M.', 'Adams.', 'VACCINE', 'DEATH', 'WAVE:', 'UK', 'gov', 'posts', 'bid', 'for', 'AI', 'system', 'to', 'process', 'the', 'expected', 'flood', 'of', 'COVID-19', 'vaccine', 'injuries', '&amp;', 'side', 'effects', 'described', 'as', 'a'], ['Pfizer', 'seeks', 'US', 'FDA', 'approval', 'for', 'COVID-19', 'vaccine’s', 'emergency', 'use', 'https://t.co/L2y4sTkTaM', 'https://t.co/yW3bPm0Mam'], ['Here', 'are', 'the', 'latest', 'updates', 'on', 'the', '#Covid19', '#vaccine', 'front:', 'https://t.co/LRciBPlJZy'], ['CYBER', 'WEEKEND', 'SALE.', 'Buy', 'Safe', 'At', 'Home', 'Rihanna,', 'Kim', 'Kardashian,', 'Taylor', 'Swift', 'T-Shirts', 'Xmax', 'Gifts.', 'Check', 'this', 'out', 'https://t.co/ofIGSS2Yk6', '#Grogu', '#Rihanna', '#KimKardashian', '#TaylorSwift', '#Madalorian', '#TheRock', '#Biden', '#BidenHarris', '#Xmas', '#Covid19', '#Covidiot', '#Coronavaccine'], ['Fact', 'check:', 'Can', 'a', 'cold,', 'flu', 'or', 'flu', 'vaccine', 'cause', 'a', 'positive', 'COVID-19', 'test?', '|', 'The', 'Times', 'of', 'India', 'https://t.co/5umJ06zSkn'], ['The', 'government', 'is', 'not', 'proposing', 'to', 'make', 'a', 'Covid-19', 'vaccine', 'mandatory', '-', 'Full', 'Fact', 'https://t.co/FA7XU7cS32', 'https://t.co/kjocW0Cp6m'], ['“We', 'have', 'to', 'have', 'a', 'system', 'that', 'is', 'truly', 'transparent,”', 'Dr.', 'Richard', 'Besser', 'to', '@yasminv', 'on', 'Covid-19', 'vaccine', 'distributions.', 'Watch', 'on', '@MSNBC', 'Live:', 'https://t.co/mlpb0iWNxE'], ['@AHirst01', '@MassGovernor', 'Literally', 'in', 'the', 'subheading', '“Other', 'scientists', 'are', 'disputing', 'the', 'calls,', 'claiming', 'herd', 'immunity', 'is', '\"very', 'unlikely\"', 'before', 'a', 'COVID-19', 'vaccine', 'is', 'found.”'], ['Hackers', 'are', 'going', 'after', 'COVID-19', \"vaccine's\", 'rollout', 'https://t.co/ubuD79yKq2'], ['Until', 'we', 'know', 'whether', 'the', 'vaccine', 'can', 'prevent', 'the', 'spread', 'of', 'the', 'disease', 'we', 'must', 'observe', 'hands,', 'space', ',face.', '[This', 'applies', 'to', 'all', 'the', 'vaccines]', 'https://t.co/UKLSCxcn0C'], ['Arizona', 'company', 'hopes', 'its', 'COVID-19', 'nasal', 'spray', 'can', 'help', 'people', 'as', 'they', 'wait', 'for', 'vaccine', 'https://t.co/1USDLKMCad'], ['COVID-19', 'vaccine', 'monitoring', 'program', 'may', 'be', 'at', 'risk', 'of', 'false', 'reports', 'https://t.co/TfdHmSAsIm'], ['Brexit', 'is', 'not', 'related', 'to', 'speed', 'of', 'Covid-19', 'vaccine', 'delivery', 'in', 'UK,', 'says', 'health', 'expert', 'https://t.co/KYfO5b3uZj'], ['BREAKING:', 'Pfizer', 'says', 'its', 'vaccine', 'is', 'up', 'to', '90%', 'effective', 'in', 'preventing', 'COVID-19,', 'according', 'to', 'early', 'data.', 'https://t.co/s51u6xmkHP'], [\"Here's\", 'how', 'a', 'coronavirus', 'vaccine', 'could', 'be', 'distributed', 'globally', 'https://t.co/YjSulTzaaL', 'via', '@YouTube'], ['‼Tune', 'in', 'now', 'to', 'the', 'Operation', 'Warp', 'Speed', 'Summit', 'to', 'learn', 'more', 'about', '#COVID19', 'vaccine', 'development', 'and', 'deployment', 'plans.💉', 'https://t.co/stF2uSQ87q'], ['5', 'things', 'to', 'know', 'about', 'the', 'coronavirus', 'today:', 'Staff', 'shortages,', 'antibody', 'testing,', 'vaccine', 'https://t.co/jeLp6kzWuB'], ['The', 'FDA', 'is', '\"going', 'to', 'meet', 'on', 'December', '10th', 'to', 'discuss', 'whether', 'to', 'approve', 'the', 'vaccine\".', 'Hmm...', 'Hey,', 'just', 'a', 'couple', 'thousand', 'people', 'dying', 'a', 'day.', 'Trump', 'admin', 'no', 'longer', 'interested', 'in', 'a', 'vaccine.', 'https://t.co/ygoA2YY37p'], ['\"Pfizer,', 'BioNTech', 'say', 'their', 'COVID-19', 'vaccine', 'is', 'more', 'than', '90%', 'effective\"', 'https://t.co/x56qZUHoxz'], ['Why', 'does', 'a', '#vaccine', 'need', 'a', 'PR', 'firm?', 'https://t.co/FfqBPzQL7E', '#COVID19', '#CovidVaccine', '#coronavirus'], ['PM', 'Suga', 'at', 'UN', 'General', 'Assembly', 'on', 'COVID-19:', 'Japan,', 'a', 'founding', 'donor', 'of', 'WHO', '\"Access', 'to', 'COVID-19', 'Tools', '(ACT)', 'Accelerator\",', 'will', 'lead', 'the', 'COVAX', 'facility', 'to', 'realize', 'an', 'equitable', 'access', 'to', 'COVID-19', 'vaccine', 'throughout', 'the', 'world.', 'https://t.co/hoRRBrY77d', 'https://t.co/E1kZA20ppb', 'https://t.co/1GSAd8bTCV'], ['Covid-19', 'vaccine:', 'First', 'person', 'receives', 'Pfizer', 'Covid-19', 'vaccine', 'in', 'UK', 'https://t.co/bjieVUgUhY'], ['Chinese', 'President', 'Xi', 'Jinping', 'offers', 'to', 'cooperate', 'with', 'India,', 'BRICS', 'countries', 'to', 'develop', 'COVID-19', 'vaccine', 'https://t.co/ZfyWeAeC9p'], ['Is', 'it', 'difficult', 'to', 'wear', 'a', '#mask', 'and', 'maintain', '#distance', 'to', 'avoid', '#China', \"'s\", '#COVID19?', \"It's\", 'such', 'a', 'horrible', '#virus', 'and', 'the', '#treatment', '#costs', 'can', 'be', 'unbearable.', 'If', 'you', 'wear', 'a', 'mask', 'and', 'maintain', 'distance,', 'you', 'already', 'have', 'a', '#vaccine!'], ['BREAKING:', 'New', 'York', 'state', 'is', 'expected', 'to', 'receive', 'its', 'first', 'shipment', 'of', '170,000', 'doses', 'of', 'a', 'COVID-19', 'vaccine', 'by', 'the', 'middle', 'of', 'the', 'month.', 'https://t.co/kbG3ThbjHL'], ['AstraZeneca', 'CEO', 'says', 'coronavirus', 'vaccine', 'could', 'be', 'ready', 'in', 'December', '2020!', 'The', 'Company', 'will', 'be', 'ready', 'to', 'supply', 'hundreds', 'of', 'millions', 'of', 'doses', 'of', 'vaccine', 'around', 'the', 'world', 'starting', 'January', '2021!', 'https://t.co/HYTwPTyzfM'], ['If', 'a', 'COVID-19', 'vaccine', 'is', 'effective', 'it', 'will', 'be', 'only', 'because', 'the', 'Lord', 'allowed', 'it', 'to', 'be', 'effective.'], ['Pfizer', 'claims', 'coronavirus', 'vaccine', 'success,', 'plans', 'for', 'emergency', 'OK', '-', 'Business', 'Insider', 'https://t.co/FGiw4slSfE']]\n"
          ],
          "name": "stdout"
        }
      ]
    },
    {
      "cell_type": "code",
      "metadata": {
        "id": "3ojFbxgRr6bZ"
      },
      "source": [
        "import pickle\n",
        "with open('neutral_list.pkl', 'wb') as f:\n",
        "  pickle.dump(a, f)"
      ],
      "execution_count": null,
      "outputs": []
    },
    {
      "cell_type": "code",
      "metadata": {
        "id": "jdI2xvKwGkN8"
      },
      "source": [
        "with open('neutral_list.pkl', 'rb') as f:\n",
        "  neutral_list = pickle.load(f)\n",
        "with open('antivax_list.pkl', 'rb') as f:\n",
        "  antivax_list = pickle.load(f)\n",
        "with open('provax_list.pkl', 'rb') as f:\n",
        "  provax_list = pickle.load(f)"
      ],
      "execution_count": null,
      "outputs": []
    },
    {
      "cell_type": "code",
      "metadata": {
        "colab": {
          "base_uri": "https://localhost:8080/"
        },
        "id": "2bKfC27QIO0b",
        "outputId": "d8edc319-2a7f-4a7e-cd61-770e812c6fe2"
      },
      "source": [
        "import nltk\n",
        "from nltk.tokenize import word_tokenize\n",
        "from nltk.tag import pos_tag\n",
        "nltk.download('averaged_perceptron_tagger')\n",
        "def preprocess(sent):\n",
        "    # sent = nltk.word_tokenize(sent)\n",
        "    sent = nltk.pos_tag(sent)\n",
        "    return sent\n",
        "sent = preprocess(provax_list[0])\n",
        "sent"
      ],
      "execution_count": null,
      "outputs": [
        {
          "output_type": "stream",
          "text": [
            "[nltk_data] Downloading package averaged_perceptron_tagger to\n",
            "[nltk_data]     /root/nltk_data...\n",
            "[nltk_data]   Unzipping taggers/averaged_perceptron_tagger.zip.\n"
          ],
          "name": "stdout"
        },
        {
          "output_type": "execute_result",
          "data": {
            "text/plain": [
              "[('More', 'RBR'),\n",
              " ('good', 'JJ'),\n",
              " ('news!!!', 'NN'),\n",
              " ('I', 'PRP'),\n",
              " ('could', 'MD'),\n",
              " ('get', 'VB'),\n",
              " ('used', 'VBN'),\n",
              " ('to', 'TO'),\n",
              " ('this', 'DT'),\n",
              " ('Covid-19', 'JJ'),\n",
              " ('vaccine', 'NN'),\n",
              " ('candidate', 'NN'),\n",
              " ('is', 'VBZ'),\n",
              " ('90%', 'CD'),\n",
              " ('effective,', 'NN'),\n",
              " ('says', 'VBZ'),\n",
              " ('manufacturer', 'NN'),\n",
              " ('https://t.co/wtpyAh71pU', 'NN')]"
            ]
          },
          "metadata": {
            "tags": []
          },
          "execution_count": 129
        }
      ]
    },
    {
      "cell_type": "markdown",
      "metadata": {
        "id": "DJ_Jy0msKKUh"
      },
      "source": [
        "# Word Frequency of AntiVax Tweets"
      ]
    },
    {
      "cell_type": "code",
      "metadata": {
        "id": "XCkTn7wAKP9M"
      },
      "source": [
        "df = Antivax_data"
      ],
      "execution_count": null,
      "outputs": []
    },
    {
      "cell_type": "code",
      "metadata": {
        "id": "mXI-AIE8z0Rz"
      },
      "source": [
        "list_user = []\n",
        "list_word = []\n",
        "import re\n",
        "for sentence in df['tweet']:\n",
        "  for word in sentence.split():\n",
        "    if '@' in word:\n",
        "      mention = re.findall('\\w*(@\\w+)',word.lower())\n",
        "      list_user += mention\n",
        "    else:\n",
        "      if word != '':\n",
        "        list_word.append(re.sub('[^A-Za-z0-9]+', '', word.lower()))"
      ],
      "execution_count": null,
      "outputs": []
    },
    {
      "cell_type": "code",
      "metadata": {
        "colab": {
          "base_uri": "https://localhost:8080/",
          "height": 458
        },
        "id": "28coIcUcz3dB",
        "outputId": "637a9929-92fe-401c-b6cb-2b18a9661d05"
      },
      "source": [
        "mention_data = pd.DataFrame({'username' : list_user})['username'].value_counts()\n",
        "mention_data.head(15).sort_values(ascending=True).plot(kind='barh',figsize=(15,7),title='Most Frequent Mention Account')\n",
        "plt.xlabel('frequency')\n",
        "plt.show()"
      ],
      "execution_count": null,
      "outputs": [
        {
          "output_type": "display_data",
          "data": {
            "image/png": "[encoded data removed]",
            "text/plain": [
              "<Figure size 1080x504 with 1 Axes>"
            ]
          },
          "metadata": {
            "tags": [],
            "needs_background": "light"
          }
        }
      ]
    },
    {
      "cell_type": "code",
      "metadata": {
        "id": "pcoPv8fy0aO8"
      },
      "source": [
        "#get stopword from file\n",
        "stp = open('twitter_stp.dic')\n",
        "stp_words = []\n",
        "items = stp.readline()\n",
        "while items != \"\":\n",
        "  stp_words.append(items[:-1]) #just read word without /n\n",
        "  items = stp.readline()\n",
        "stp_words.append('90')"
      ],
      "execution_count": null,
      "outputs": []
    },
    {
      "cell_type": "code",
      "metadata": {
        "colab": {
          "base_uri": "https://localhost:8080/",
          "height": 458
        },
        "id": "CWdgskeTz6ik",
        "outputId": "ddcd4dcb-80f5-4f32-9027-bf06ec131907"
      },
      "source": [
        "word_count = []\n",
        "for word in list_word:\n",
        "  if word not in stp_words and word != '':\n",
        "    word_count.append(word)\n",
        "word_data = pd.DataFrame({'word': word_count})['word'].value_counts()\n",
        "word_data.head(10).sort_values(ascending=True).plot(kind='barh',figsize=(15,7),title='Most Frequent Word')\n",
        "plt.xlabel('frequency')\n",
        "plt.show()"
      ],
      "execution_count": null,
      "outputs": [
        {
          "output_type": "display_data",
          "data": {
            "image/png": "[encoded data removed]",
            "text/plain": [
              "<Figure size 1080x504 with 1 Axes>"
            ]
          },
          "metadata": {
            "tags": [],
            "needs_background": "light"
          }
        }
      ]
    },
    {
      "cell_type": "markdown",
      "metadata": {
        "id": "RGngIdVwKybN"
      },
      "source": [
        "# Word Frequency of ProVax Tweets"
      ]
    },
    {
      "cell_type": "code",
      "metadata": {
        "id": "RG3Kk8OJKybP"
      },
      "source": [
        "df = Provax_data"
      ],
      "execution_count": null,
      "outputs": []
    },
    {
      "cell_type": "code",
      "metadata": {
        "id": "uahNqGpSKybQ"
      },
      "source": [
        "list_user = []\n",
        "list_word = []\n",
        "import re\n",
        "for sentence in df['tweet']:\n",
        "  for word in sentence.split():\n",
        "    if '@' in word:\n",
        "      mention = re.findall('\\w*(@\\w+)',word.lower())\n",
        "      list_user += mention\n",
        "    else:\n",
        "      if word != '':\n",
        "        list_word.append(re.sub('[^A-Za-z0-9]+', '', word.lower()))"
      ],
      "execution_count": null,
      "outputs": []
    },
    {
      "cell_type": "code",
      "metadata": {
        "colab": {
          "base_uri": "https://localhost:8080/",
          "height": 458
        },
        "id": "BcH9ZlqvKybR",
        "outputId": "7cdc4af7-bd03-4bd8-e57c-52b875d69955"
      },
      "source": [
        "mention_data = pd.DataFrame({'username' : list_user})['username'].value_counts()\n",
        "mention_data.head(15).sort_values(ascending=True).plot(kind='barh',figsize=(15,7),title='Most Frequent Mention Account')\n",
        "plt.xlabel('frequency')\n",
        "plt.show()"
      ],
      "execution_count": null,
      "outputs": [
        {
          "output_type": "display_data",
          "data": {
            "image/png": "[encoded data removed]",
            "text/plain": [
              "<Figure size 1080x504 with 1 Axes>"
            ]
          },
          "metadata": {
            "tags": [],
            "needs_background": "light"
          }
        }
      ]
    },
    {
      "cell_type": "code",
      "metadata": {
        "id": "kALT8ANUKybT"
      },
      "source": [
        "#get stopword from file\n",
        "stp = open('twitter_stp.dic')\n",
        "stp_words = []\n",
        "items = stp.readline()\n",
        "while items != \"\":\n",
        "  stp_words.append(items[:-1]) #just read word without /n\n",
        "  items = stp.readline()\n",
        "stp_words.append('90')"
      ],
      "execution_count": null,
      "outputs": []
    },
    {
      "cell_type": "code",
      "metadata": {
        "colab": {
          "base_uri": "https://localhost:8080/",
          "height": 458
        },
        "id": "kDdsXq5rKybU",
        "outputId": "1b2c7385-c88b-447d-9361-b462288957b9"
      },
      "source": [
        "word_count = []\n",
        "for word in list_word:\n",
        "  if word not in stp_words and word != '':\n",
        "    word_count.append(word)\n",
        "word_data = pd.DataFrame({'word': word_count})['word'].value_counts()\n",
        "word_data.head(10).sort_values(ascending=True).plot(kind='barh',figsize=(15,7),title='Most Frequent Word')\n",
        "plt.xlabel('frequency')\n",
        "plt.show()"
      ],
      "execution_count": null,
      "outputs": [
        {
          "output_type": "display_data",
          "data": {
            "image/png": "[encoded data removed]",
            "text/plain": [
              "<Figure size 1080x504 with 1 Axes>"
            ]
          },
          "metadata": {
            "tags": [],
            "needs_background": "light"
          }
        }
      ]
    },
    {
      "cell_type": "markdown",
      "metadata": {
        "id": "Fj5VLMwBLBHJ"
      },
      "source": [
        "# Word Frequency of Neutral Tweets"
      ]
    },
    {
      "cell_type": "code",
      "metadata": {
        "id": "R2YjycJqLBHf"
      },
      "source": [
        "df = Neutral_data"
      ],
      "execution_count": null,
      "outputs": []
    },
    {
      "cell_type": "code",
      "metadata": {
        "id": "xDeuuFybLBHg"
      },
      "source": [
        "list_user = []\n",
        "list_word = []\n",
        "import re\n",
        "for sentence in df['tweet']:\n",
        "  for word in sentence.split():\n",
        "    if '@' in word:\n",
        "      mention = re.findall('\\w*(@\\w+)',word.lower())\n",
        "      list_user += mention\n",
        "    else:\n",
        "      if word != '':\n",
        "        list_word.append(re.sub('[^A-Za-z0-9]+', '', word.lower()))"
      ],
      "execution_count": null,
      "outputs": []
    },
    {
      "cell_type": "code",
      "metadata": {
        "colab": {
          "base_uri": "https://localhost:8080/",
          "height": 458
        },
        "id": "9tFMJJBhLBHh",
        "outputId": "f2b297aa-1627-4ac0-f127-d0444d320c78"
      },
      "source": [
        "mention_data = pd.DataFrame({'username' : list_user})['username'].value_counts()\n",
        "mention_data.head(15).sort_values(ascending=True).plot(kind='barh',figsize=(15,7),title='Most Frequent Mention Account')\n",
        "plt.xlabel('frequency')\n",
        "plt.show()"
      ],
      "execution_count": null,
      "outputs": [
        {
          "output_type": "display_data",
          "data": {
            "image/png": "[encoded data removed]",
            "text/plain": [
              "<Figure size 1080x504 with 1 Axes>"
            ]
          },
          "metadata": {
            "tags": [],
            "needs_background": "light"
          }
        }
      ]
    },
    {
      "cell_type": "code",
      "metadata": {
        "id": "TvZNpcraLBHi"
      },
      "source": [
        "#get stopword from file\n",
        "stp = open('twitter_stp.dic')\n",
        "stp_words = []\n",
        "items = stp.readline()\n",
        "while items != \"\":\n",
        "  stp_words.append(items[:-1]) #just read word without /n\n",
        "  items = stp.readline()\n",
        "stp_words.append('90')"
      ],
      "execution_count": null,
      "outputs": []
    },
    {
      "cell_type": "code",
      "metadata": {
        "colab": {
          "base_uri": "https://localhost:8080/",
          "height": 458
        },
        "id": "JnO50FgqLBHj",
        "outputId": "cb307068-bd07-49f5-a185-0663f448db33"
      },
      "source": [
        "word_count = []\n",
        "for word in list_word:\n",
        "  if word not in stp_words and word != '':\n",
        "    word_count.append(word)\n",
        "word_data = pd.DataFrame({'word': word_count})['word'].value_counts()\n",
        "word_data.head(10).sort_values(ascending=True).plot(kind='barh',figsize=(15,7),title='Most Frequent Word')\n",
        "plt.xlabel('frequency')\n",
        "plt.show()"
      ],
      "execution_count": null,
      "outputs": [
        {
          "output_type": "display_data",
          "data": {
            "image/png": "[encoded data removed]",
            "text/plain": [
              "<Figure size 1080x504 with 1 Axes>"
            ]
          },
          "metadata": {
            "tags": [],
            "needs_background": "light"
          }
        }
      ]
    },
    {
      "cell_type": "markdown",
      "metadata": {
        "id": "ff9jq_8ENg07"
      },
      "source": [
        "# NER Tagging ProVax"
      ]
    },
    {
      "cell_type": "code",
      "metadata": {
        "id": "SL7gcIfWNyWm"
      },
      "source": [
        "import nltk\n",
        "from nltk.tokenize import word_tokenize\n",
        "from nltk.tag import pos_tag\n",
        "nltk.download('averaged_perceptron_tagger')\n",
        "def preprocess(sent):\n",
        "    # sent = nltk.word_tokenize(sent)\n",
        "    sent = nltk.pos_tag(sent)\n",
        "    return sent\n",
        "Provax_NER = []\n",
        "for i in range(len(provax_list)):\n",
        "  sent = preprocess(provax_list[i])\n",
        "  Provax_NER.append(sent)\n",
        "Provax_NER[0]"
      ],
      "execution_count": null,
      "outputs": []
    },
    {
      "cell_type": "code",
      "metadata": {
        "id": "Q9eSYj7AOUGF"
      },
      "source": [
        "Provax_NER"
      ],
      "execution_count": null,
      "outputs": []
    },
    {
      "cell_type": "code",
      "metadata": {
        "colab": {
          "base_uri": "https://localhost:8080/",
          "height": 324
        },
        "id": "IwpjrWSfOd3H",
        "outputId": "f0a491d5-74da-421f-adea-3588e2355280"
      },
      "source": [
        "df = pd.DataFrame(Provax_NER)\n",
        "df.head(5)"
      ],
      "execution_count": null,
      "outputs": [
        {
          "output_type": "execute_result",
          "data": {
            "text/html": [
              "<div>\n",
              "<style scoped>\n",
              "    .dataframe tbody tr th:only-of-type {\n",
              "        vertical-align: middle;\n",
              "    }\n",
              "\n",
              "    .dataframe tbody tr th {\n",
              "        vertical-align: top;\n",
              "    }\n",
              "\n",
              "    .dataframe thead th {\n",
              "        text-align: right;\n",
              "    }\n",
              "</style>\n",
              "<table border=\"1\" class=\"dataframe\">\n",
              "  <thead>\n",
              "    <tr style=\"text-align: right;\">\n",
              "      <th></th>\n",
              "      <th>0</th>\n",
              "      <th>1</th>\n",
              "      <th>2</th>\n",
              "      <th>3</th>\n",
              "      <th>4</th>\n",
              "      <th>5</th>\n",
              "      <th>6</th>\n",
              "      <th>7</th>\n",
              "      <th>8</th>\n",
              "      <th>9</th>\n",
              "      <th>10</th>\n",
              "      <th>11</th>\n",
              "      <th>12</th>\n",
              "      <th>13</th>\n",
              "      <th>14</th>\n",
              "      <th>15</th>\n",
              "      <th>16</th>\n",
              "      <th>17</th>\n",
              "      <th>18</th>\n",
              "      <th>19</th>\n",
              "      <th>20</th>\n",
              "      <th>21</th>\n",
              "      <th>22</th>\n",
              "      <th>23</th>\n",
              "      <th>24</th>\n",
              "      <th>25</th>\n",
              "      <th>26</th>\n",
              "      <th>27</th>\n",
              "      <th>28</th>\n",
              "      <th>29</th>\n",
              "      <th>30</th>\n",
              "      <th>31</th>\n",
              "      <th>32</th>\n",
              "      <th>33</th>\n",
              "      <th>34</th>\n",
              "      <th>35</th>\n",
              "      <th>36</th>\n",
              "      <th>37</th>\n",
              "      <th>38</th>\n",
              "      <th>39</th>\n",
              "      <th>40</th>\n",
              "      <th>41</th>\n",
              "      <th>42</th>\n",
              "      <th>43</th>\n",
              "      <th>44</th>\n",
              "      <th>45</th>\n",
              "      <th>46</th>\n",
              "      <th>47</th>\n",
              "      <th>48</th>\n",
              "      <th>49</th>\n",
              "      <th>50</th>\n",
              "      <th>51</th>\n",
              "      <th>52</th>\n",
              "      <th>53</th>\n",
              "      <th>54</th>\n",
              "      <th>55</th>\n",
              "      <th>56</th>\n",
              "      <th>57</th>\n",
              "      <th>58</th>\n",
              "    </tr>\n",
              "  </thead>\n",
              "  <tbody>\n",
              "    <tr>\n",
              "      <th>0</th>\n",
              "      <td>(More, RBR)</td>\n",
              "      <td>(good, JJ)</td>\n",
              "      <td>(news!!!, NN)</td>\n",
              "      <td>(I, PRP)</td>\n",
              "      <td>(could, MD)</td>\n",
              "      <td>(get, VB)</td>\n",
              "      <td>(used, VBN)</td>\n",
              "      <td>(to, TO)</td>\n",
              "      <td>(this, DT)</td>\n",
              "      <td>(Covid-19, JJ)</td>\n",
              "      <td>(vaccine, NN)</td>\n",
              "      <td>(candidate, NN)</td>\n",
              "      <td>(is, VBZ)</td>\n",
              "      <td>(90%, CD)</td>\n",
              "      <td>(effective,, NN)</td>\n",
              "      <td>(says, VBZ)</td>\n",
              "      <td>(manufacturer, NN)</td>\n",
              "      <td>(https://t.co/wtpyAh71pU, NN)</td>\n",
              "      <td>None</td>\n",
              "      <td>None</td>\n",
              "      <td>None</td>\n",
              "      <td>None</td>\n",
              "      <td>None</td>\n",
              "      <td>None</td>\n",
              "      <td>None</td>\n",
              "      <td>None</td>\n",
              "      <td>None</td>\n",
              "      <td>None</td>\n",
              "      <td>None</td>\n",
              "      <td>None</td>\n",
              "      <td>None</td>\n",
              "      <td>None</td>\n",
              "      <td>None</td>\n",
              "      <td>None</td>\n",
              "      <td>None</td>\n",
              "      <td>None</td>\n",
              "      <td>None</td>\n",
              "      <td>None</td>\n",
              "      <td>None</td>\n",
              "      <td>None</td>\n",
              "      <td>None</td>\n",
              "      <td>None</td>\n",
              "      <td>None</td>\n",
              "      <td>None</td>\n",
              "      <td>None</td>\n",
              "      <td>None</td>\n",
              "      <td>None</td>\n",
              "      <td>None</td>\n",
              "      <td>None</td>\n",
              "      <td>None</td>\n",
              "      <td>None</td>\n",
              "      <td>None</td>\n",
              "      <td>None</td>\n",
              "      <td>None</td>\n",
              "      <td>None</td>\n",
              "      <td>None</td>\n",
              "      <td>None</td>\n",
              "      <td>None</td>\n",
              "      <td>None</td>\n",
              "    </tr>\n",
              "    <tr>\n",
              "      <th>1</th>\n",
              "      <td>(Great, JJ)</td>\n",
              "      <td>(job, NN)</td>\n",
              "      <td>(by, IN)</td>\n",
              "      <td>(the, DT)</td>\n",
              "      <td>(#Pfizer, NNP)</td>\n",
              "      <td>(#vaccine, JJ)</td>\n",
              "      <td>(scientists, NNS)</td>\n",
              "      <td>(who, WP)</td>\n",
              "      <td>(look, VBP)</td>\n",
              "      <td>(to, TO)</td>\n",
              "      <td>(have, VB)</td>\n",
              "      <td>(come, VBN)</td>\n",
              "      <td>(up, RP)</td>\n",
              "      <td>(with, IN)</td>\n",
              "      <td>(a, DT)</td>\n",
              "      <td>(viable, JJ)</td>\n",
              "      <td>(candidate., NN)</td>\n",
              "      <td>(Fingers, NNS)</td>\n",
              "      <td>(crossed, VBD)</td>\n",
              "      <td>(that, IN)</td>\n",
              "      <td>(they, PRP)</td>\n",
              "      <td>(hit, VBP)</td>\n",
              "      <td>(their, PRP$)</td>\n",
              "      <td>(long-term, JJ)</td>\n",
              "      <td>(efficacy, NN)</td>\n",
              "      <td>(endpoints(s), NN)</td>\n",
              "      <td>(and, CC)</td>\n",
              "      <td>(the, DT)</td>\n",
              "      <td>(safety, NN)</td>\n",
              "      <td>(outcomes, VBZ)</td>\n",
              "      <td>(don't, JJ)</td>\n",
              "      <td>(put, VBD)</td>\n",
              "      <td>(the, DT)</td>\n",
              "      <td>(kibosh, NN)</td>\n",
              "      <td>(on, IN)</td>\n",
              "      <td>(it., NN)</td>\n",
              "      <td>(#Pharma, NN)</td>\n",
              "      <td>(https://t.co/94b0EErqsp, NN)</td>\n",
              "      <td>None</td>\n",
              "      <td>None</td>\n",
              "      <td>None</td>\n",
              "      <td>None</td>\n",
              "      <td>None</td>\n",
              "      <td>None</td>\n",
              "      <td>None</td>\n",
              "      <td>None</td>\n",
              "      <td>None</td>\n",
              "      <td>None</td>\n",
              "      <td>None</td>\n",
              "      <td>None</td>\n",
              "      <td>None</td>\n",
              "      <td>None</td>\n",
              "      <td>None</td>\n",
              "      <td>None</td>\n",
              "      <td>None</td>\n",
              "      <td>None</td>\n",
              "      <td>None</td>\n",
              "      <td>None</td>\n",
              "      <td>None</td>\n",
              "    </tr>\n",
              "    <tr>\n",
              "      <th>2</th>\n",
              "      <td>(I’m, NNP)</td>\n",
              "      <td>(only, RB)</td>\n",
              "      <td>(gonna, VBD)</td>\n",
              "      <td>(take, VB)</td>\n",
              "      <td>(the, DT)</td>\n",
              "      <td>(vaccine, NN)</td>\n",
              "      <td>(because, IN)</td>\n",
              "      <td>(if, IN)</td>\n",
              "      <td>(my, PRP$)</td>\n",
              "      <td>(great, JJ)</td>\n",
              "      <td>(great, JJ)</td>\n",
              "      <td>(grandkids, NNS)</td>\n",
              "      <td>(die, NN)</td>\n",
              "      <td>(of, IN)</td>\n",
              "      <td>(COVID-19, NNP)</td>\n",
              "      <td>(it, PRP)</td>\n",
              "      <td>(will, MD)</td>\n",
              "      <td>(be, VB)</td>\n",
              "      <td>(100%, CD)</td>\n",
              "      <td>(my, PRP$)</td>\n",
              "      <td>(fault, NN)</td>\n",
              "      <td>None</td>\n",
              "      <td>None</td>\n",
              "      <td>None</td>\n",
              "      <td>None</td>\n",
              "      <td>None</td>\n",
              "      <td>None</td>\n",
              "      <td>None</td>\n",
              "      <td>None</td>\n",
              "      <td>None</td>\n",
              "      <td>None</td>\n",
              "      <td>None</td>\n",
              "      <td>None</td>\n",
              "      <td>None</td>\n",
              "      <td>None</td>\n",
              "      <td>None</td>\n",
              "      <td>None</td>\n",
              "      <td>None</td>\n",
              "      <td>None</td>\n",
              "      <td>None</td>\n",
              "      <td>None</td>\n",
              "      <td>None</td>\n",
              "      <td>None</td>\n",
              "      <td>None</td>\n",
              "      <td>None</td>\n",
              "      <td>None</td>\n",
              "      <td>None</td>\n",
              "      <td>None</td>\n",
              "      <td>None</td>\n",
              "      <td>None</td>\n",
              "      <td>None</td>\n",
              "      <td>None</td>\n",
              "      <td>None</td>\n",
              "      <td>None</td>\n",
              "      <td>None</td>\n",
              "      <td>None</td>\n",
              "      <td>None</td>\n",
              "      <td>None</td>\n",
              "      <td>None</td>\n",
              "    </tr>\n",
              "    <tr>\n",
              "      <th>3</th>\n",
              "      <td>(I, PRP)</td>\n",
              "      <td>(wonder, VBP)</td>\n",
              "      <td>(what, WP)</td>\n",
              "      <td>(the, DT)</td>\n",
              "      <td>(logistics, NNS)</td>\n",
              "      <td>(of, IN)</td>\n",
              "      <td>(a, DT)</td>\n",
              "      <td>(Covid-19, JJ)</td>\n",
              "      <td>(vaccine, NN)</td>\n",
              "      <td>(are., NN)</td>\n",
              "      <td>(Will, NNP)</td>\n",
              "      <td>(nations, NNS)</td>\n",
              "      <td>(share, NN)</td>\n",
              "      <td>(the, DT)</td>\n",
              "      <td>(vaccines, NNS)</td>\n",
              "      <td>(across, IN)</td>\n",
              "      <td>(borders, NNS)</td>\n",
              "      <td>(or, CC)</td>\n",
              "      <td>(will, MD)</td>\n",
              "      <td>(they, PRP)</td>\n",
              "      <td>(prioritise, VB)</td>\n",
              "      <td>(their, PRP$)</td>\n",
              "      <td>(citizens?, NN)</td>\n",
              "      <td>(Either, DT)</td>\n",
              "      <td>(way,, NN)</td>\n",
              "      <td>(this, DT)</td>\n",
              "      <td>(sounds, VBZ)</td>\n",
              "      <td>(like, IN)</td>\n",
              "      <td>(good, JJ)</td>\n",
              "      <td>(news!, NNS)</td>\n",
              "      <td>(https://t.co/tDGsA9Iryu, VBP)</td>\n",
              "      <td>None</td>\n",
              "      <td>None</td>\n",
              "      <td>None</td>\n",
              "      <td>None</td>\n",
              "      <td>None</td>\n",
              "      <td>None</td>\n",
              "      <td>None</td>\n",
              "      <td>None</td>\n",
              "      <td>None</td>\n",
              "      <td>None</td>\n",
              "      <td>None</td>\n",
              "      <td>None</td>\n",
              "      <td>None</td>\n",
              "      <td>None</td>\n",
              "      <td>None</td>\n",
              "      <td>None</td>\n",
              "      <td>None</td>\n",
              "      <td>None</td>\n",
              "      <td>None</td>\n",
              "      <td>None</td>\n",
              "      <td>None</td>\n",
              "      <td>None</td>\n",
              "      <td>None</td>\n",
              "      <td>None</td>\n",
              "      <td>None</td>\n",
              "      <td>None</td>\n",
              "      <td>None</td>\n",
              "      <td>None</td>\n",
              "    </tr>\n",
              "    <tr>\n",
              "      <th>4</th>\n",
              "      <td>(great, JJ)</td>\n",
              "      <td>(news!, NNS)</td>\n",
              "      <td>(but, CC)</td>\n",
              "      <td>(it's, VBZ)</td>\n",
              "      <td>(not, RB)</td>\n",
              "      <td>(going, VBG)</td>\n",
              "      <td>(to, TO)</td>\n",
              "      <td>(be, VB)</td>\n",
              "      <td>(available, JJ)</td>\n",
              "      <td>(for, IN)</td>\n",
              "      <td>(widespread, JJ)</td>\n",
              "      <td>(administration, NN)</td>\n",
              "      <td>(for, IN)</td>\n",
              "      <td>(several, JJ)</td>\n",
              "      <td>(months, NNS)</td>\n",
              "      <td>(likely, RB)</td>\n",
              "      <td>(so, RB)</td>\n",
              "      <td>(keep, VB)</td>\n",
              "      <td>(wearing, VBG)</td>\n",
              "      <td>(masks,, JJ)</td>\n",
              "      <td>(social, JJ)</td>\n",
              "      <td>(distancing,, NN)</td>\n",
              "      <td>(and, CC)</td>\n",
              "      <td>(avoiding, VBG)</td>\n",
              "      <td>(gatherings., NN)</td>\n",
              "      <td>(we, PRP)</td>\n",
              "      <td>(also, RB)</td>\n",
              "      <td>(are, VBP)</td>\n",
              "      <td>(going, VBG)</td>\n",
              "      <td>(to, TO)</td>\n",
              "      <td>(have, VB)</td>\n",
              "      <td>(to, TO)</td>\n",
              "      <td>(deal, VB)</td>\n",
              "      <td>(with, IN)</td>\n",
              "      <td>(the, DT)</td>\n",
              "      <td>(anti-vaxxers, NNS)</td>\n",
              "      <td>(who, WP)</td>\n",
              "      <td>(won't, VBP)</td>\n",
              "      <td>(even, RB)</td>\n",
              "      <td>(consider, VB)</td>\n",
              "      <td>(taking, VBG)</td>\n",
              "      <td>(this, DT)</td>\n",
              "      <td>(vaccine, NN)</td>\n",
              "      <td>(:/, VBZ)</td>\n",
              "      <td>(https://t.co/JRjxda0H8P, NN)</td>\n",
              "      <td>None</td>\n",
              "      <td>None</td>\n",
              "      <td>None</td>\n",
              "      <td>None</td>\n",
              "      <td>None</td>\n",
              "      <td>None</td>\n",
              "      <td>None</td>\n",
              "      <td>None</td>\n",
              "      <td>None</td>\n",
              "      <td>None</td>\n",
              "      <td>None</td>\n",
              "      <td>None</td>\n",
              "      <td>None</td>\n",
              "      <td>None</td>\n",
              "    </tr>\n",
              "  </tbody>\n",
              "</table>\n",
              "</div>"
            ],
            "text/plain": [
              "            0              1              2   ...    56    57    58\n",
              "0  (More, RBR)     (good, JJ)  (news!!!, NN)  ...  None  None  None\n",
              "1  (Great, JJ)      (job, NN)       (by, IN)  ...  None  None  None\n",
              "2   (I’m, NNP)     (only, RB)   (gonna, VBD)  ...  None  None  None\n",
              "3     (I, PRP)  (wonder, VBP)     (what, WP)  ...  None  None  None\n",
              "4  (great, JJ)   (news!, NNS)      (but, CC)  ...  None  None  None\n",
              "\n",
              "[5 rows x 59 columns]"
            ]
          },
          "metadata": {
            "tags": []
          },
          "execution_count": 148
        }
      ]
    }
  ]
}